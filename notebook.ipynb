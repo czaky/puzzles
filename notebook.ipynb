{
 "cells": [
  {
   "cell_type": "code",
   "execution_count": 84,
   "metadata": {},
   "outputs": [
    {
     "name": "stdout",
     "output_type": "stream",
     "text": [
      "\n"
     ]
    }
   ],
   "source": [
    "import math\n",
    "import sys\n",
    "from typing import List\n",
    "from functools import lru_cache, reduce, cmp_to_key\n",
    "from itertools import starmap, accumulate, chain, islice, product, tee, pairwise\n",
    "from collections import Counter\n",
    "from heapq import heapify, heappushpop, heappop, heappush\n",
    "from operator import add, neg\n",
    "from bisect import bisect_right\n",
    "import matplotlib.pyplot as plt\n",
    "\n",
    "import arrays\n",
    "import trees\n",
    "from importlib import reload\n",
    "reload(arrays)\n",
    "reload(trees)\n",
    "import arrays as ar\n",
    "import trees as tr\n",
    "from trees import Node\n",
    "print()"
   ]
  },
  {
   "cell_type": "code",
   "execution_count": 22,
   "metadata": {},
   "outputs": [],
   "source": [
    "def meta_artistic_photo_count(s: str, x: int, y: int) -> int:\n",
    "    n = len(s)\n",
    "    photos = 0\n",
    "    for i, c in enumerate(s):\n",
    "        if not c in ('P', 'B'): continue\n",
    "        d = 'P' if c == 'B' else 'B'\n",
    "        # print(i)\n",
    "        for a in range(i+x, min(i+y+1, n)):\n",
    "            if s[a] != 'A': continue\n",
    "            # print(f'  {a}')\n",
    "            for j in range(a+x, min(a+y+1, n)):\n",
    "                # print(f'    {j} -> {s[j]}')\n",
    "                photos += int(s[j] == d)\n",
    "    return photos\n"
   ]
  },
  {
   "cell_type": "code",
   "execution_count": 23,
   "metadata": {},
   "outputs": [
    {
     "data": {
      "text/plain": [
       "3"
      ]
     },
     "execution_count": 23,
     "metadata": {},
     "output_type": "execute_result"
    }
   ],
   "source": [
    "meta_artistic_photo_count('.PBAAP.B', 1, 3)"
   ]
  },
  {
   "cell_type": "code",
   "execution_count": 28,
   "metadata": {},
   "outputs": [
    {
     "data": {
      "text/plain": [
       "4"
      ]
     },
     "execution_count": 28,
     "metadata": {},
     "output_type": "execute_result"
    }
   ],
   "source": [
    "min((4-8)%10, (8-4) % 10)"
   ]
  },
  {
   "cell_type": "code",
   "execution_count": 43,
   "metadata": {},
   "outputs": [],
   "source": [
    "def uniform_integers(a: int, b: int) -> int:\n",
    "    \"Count number of integers between `[a, b]` with same digits.\"\n",
    "    la = math.floor(math.log(a, 10)) + 1\n",
    "    lb = math.floor(math.log(b, 10)) + 1\n",
    "    a1 = (10**la -1) // 9\n",
    "    b1 = (10**lb -1) // 9\n",
    "    ua = 9 * (la-1) + (a-1) // a1\n",
    "    ub = 9 * (lb-1) + b // b1\n",
    "    return ub - ua\n"
   ]
  },
  {
   "cell_type": "code",
   "execution_count": 48,
   "metadata": {},
   "outputs": [
    {
     "data": {
      "text/plain": [
       "10"
      ]
     },
     "execution_count": 48,
     "metadata": {},
     "output_type": "execute_result"
    }
   ],
   "source": [
    "uniform_integers(99, 999)"
   ]
  },
  {
   "cell_type": "code",
   "execution_count": 82,
   "metadata": {},
   "outputs": [],
   "source": [
    "def artistic_photo_count(s: str, x: int, y: int) -> int:\n",
    "    \"\"\"\n",
    "String `s` contains a photography cells including positions for:\n",
    "    P - the photographer,\n",
    "    A - the actor/model,\n",
    "    B - the backdrop.\n",
    "A valid photo can be made if the actor is placed between the\n",
    "photographer and the backdrop.\n",
    "An artistic photo keeps the (index) distance between each\n",
    "to the inclusive interval [x, y].\n",
    "\n",
    "Return number of artistic photos.\n",
    "\"\"\"\n",
    "    n = len(s)\n",
    "    photos = 0\n",
    "    @lru_cache(None)\n",
    "    def closes(a: int, d: str) -> int:\n",
    "        return sum(int(s[j] == d) for j in range(a+x, min(a+y+1, n)))\n",
    "    @lru_cache(None)\n",
    "    def mids(a: int, end: int, d: str) -> int:\n",
    "        if a >= end: return 0\n",
    "        m = mids(a+1, end, d)\n",
    "        c = int(s[a] == 'A' and closes(a, d))\n",
    "        #print(f'{\" \"*a}{d} {s[a]} {m} {c} => {m+c}')\n",
    "        return m + c\n",
    "    for i, c in enumerate(s):\n",
    "        if not c in ('P', 'B'):\n",
    "            continue\n",
    "        d = 'P' if c == 'B' else 'B'\n",
    "        photos += mids(i+x, min(i+y+1, n), d)\n",
    "    return photos"
   ]
  },
  {
   "cell_type": "code",
   "execution_count": 83,
   "metadata": {},
   "outputs": [
    {
     "data": {
      "text/plain": [
       "3"
      ]
     },
     "execution_count": 83,
     "metadata": {},
     "output_type": "execute_result"
    }
   ],
   "source": [
    "artistic_photo_count('.PBAAP.B', 1, 3)"
   ]
  },
  {
   "cell_type": "code",
   "execution_count": 90,
   "metadata": {},
   "outputs": [],
   "source": [
    "sys.setrecursionlimit(2**30)"
   ]
  },
  {
   "cell_type": "code",
   "execution_count": 177,
   "metadata": {},
   "outputs": [],
   "source": [
    "def artistic_photo_count(s: str, x: int, y: int) -> int:\n",
    "    \"\"\"\n",
    "String `s` contains a photography cells including positions for:\n",
    "    P - the photographer,\n",
    "    A - the actor/model,\n",
    "    B - the backdrop.\n",
    "A valid photo can be made if the actor is placed between the\n",
    "photographer and the backdrop.\n",
    "An artistic photo keeps the (index) distance between each\n",
    "to the inclusive interval [x, y].\n",
    "\n",
    "Return number of artistic photos.\n",
    "\"\"\"\n",
    "    w = y + 1\n",
    "    ps = [0]*w + list(accumulate(map(lambda c: int(c=='P'), s)))\n",
    "    ps.extend([ps[-1]]*w)\n",
    "    bs = [0]*w + list(accumulate(map(lambda c: int(c=='B'), s)))\n",
    "    bs.extend([bs[-1]]*w)\n",
    "    actors = [i for i, c in enumerate(s, w) if c == 'A']\n",
    "\n",
    "    pab = sum((ps[a-x] - ps[a-y-1]) * (bs[a+y] - bs[a+x-1]) for a in actors)\n",
    "    bap = sum((bs[a-x] - bs[a-y-1]) * (ps[a+y] - ps[a+x-1]) for a in actors)\n",
    "\n",
    "    return pab + bap"
   ]
  },
  {
   "cell_type": "code",
   "execution_count": 190,
   "metadata": {},
   "outputs": [],
   "source": [
    "def artistic_photo_count(s: str, x: int, y: int) -> int:\n",
    "    \"\"\"\n",
    "String `s` contains a photography cells including positions for:\n",
    "    P - the photographer,\n",
    "    A - the actor/model,\n",
    "    B - the backdrop.\n",
    "A valid photo can be made if the actor is placed between the\n",
    "photographer and the backdrop.\n",
    "An artistic photo keeps the (index) distance between each\n",
    "to the inclusive interval [x, y].\n",
    "\n",
    "Return number of artistic photos.\n",
    "\"\"\"\n",
    "    l = len(s)-1\n",
    "    ps = list(accumulate(map(lambda c: int(c=='P'), s)))\n",
    "    bs = list(accumulate(map(lambda c: int(c=='B'), s)))\n",
    "    p = lambda i: int(i>=0 and ps[min(i, l)])\n",
    "    b = lambda i: int(i>=0 and bs[min(i, l)])\n",
    "    actors = [i for i, c in enumerate(s) if c == 'A']\n",
    "\n",
    "    pab = sum((p(a-x) - p(a-y-1)) * (b(a+y) - b(a+x-1)) for a in actors)\n",
    "    bap = sum((b(a-x) - b(a-y-1)) * (p(a+y) - p(a+x-1)) for a in actors)\n",
    "\n",
    "    return pab + bap\n"
   ]
  },
  {
   "cell_type": "code",
   "execution_count": 191,
   "metadata": {},
   "outputs": [
    {
     "data": {
      "text/plain": [
       "3"
      ]
     },
     "execution_count": 191,
     "metadata": {},
     "output_type": "execute_result"
    }
   ],
   "source": [
    "artistic_photo_count('PBAAP.B', 1, 3)"
   ]
  },
  {
   "cell_type": "code",
   "execution_count": null,
   "metadata": {},
   "outputs": [],
   "source": []
  }
 ],
 "metadata": {
  "kernelspec": {
   "display_name": "Python 3",
   "language": "python",
   "name": "python3"
  },
  "language_info": {
   "codemirror_mode": {
    "name": "ipython",
    "version": 3
   },
   "file_extension": ".py",
   "mimetype": "text/x-python",
   "name": "python",
   "nbconvert_exporter": "python",
   "pygments_lexer": "ipython3",
   "version": "3.10.12"
  }
 },
 "nbformat": 4,
 "nbformat_minor": 2
}
