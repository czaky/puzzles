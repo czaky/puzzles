{
 "cells": [
  {
   "cell_type": "code",
   "execution_count": 25,
   "metadata": {},
   "outputs": [
    {
     "name": "stdout",
     "output_type": "stream",
     "text": [
      "\n"
     ]
    }
   ],
   "source": [
    "import math\n",
    "import numpy as np\n",
    "import sys\n",
    "from typing import List, Tuple\n",
    "from functools import lru_cache, reduce, cmp_to_key\n",
    "from itertools import starmap, accumulate, chain, islice, product, tee, pairwise, combinations\n",
    "from collections import Counter, deque\n",
    "from heapq import heapify, heappushpop, heappop, heappush\n",
    "from operator import add, neg\n",
    "from bisect import bisect_right\n",
    "import matplotlib.pyplot as plt\n",
    "\n",
    "import arrays\n",
    "import trees\n",
    "import lists\n",
    "import graphs\n",
    "import search\n",
    "from importlib import reload\n",
    "\n",
    "reload(arrays)\n",
    "reload(trees)\n",
    "reload(lists)\n",
    "reload(graphs)\n",
    "reload(search)\n",
    "import arrays as ar\n",
    "import trees as tr\n",
    "import lists as ll\n",
    "import graphs as g\n",
    "from lists import Node\n",
    "\n",
    "print()"
   ]
  },
  {
   "cell_type": "code",
   "execution_count": 28,
   "metadata": {},
   "outputs": [
    {
     "name": "stdout",
     "output_type": "stream",
     "text": [
      "0 1 2 -> 1\n"
     ]
    }
   ],
   "source": [
    "n = ll.make([0, 1, 2], 1)\n",
    "\n",
    "ll.pprint(n)"
   ]
  },
  {
   "cell_type": "code",
   "execution_count": 6,
   "metadata": {},
   "outputs": [
    {
     "data": {
      "text/plain": [
       "'9220209912090088784406784991707358837'"
      ]
     },
     "execution_count": 6,
     "metadata": {},
     "output_type": "execute_result"
    }
   ],
   "source": [
    "''.join(map(str,ll.subtract_lists(\n",
    "                    ll.make(list(map(int, \"020055383525634518999521060086463321841\"))),\n",
    "                    ll.make(list(map(int, \"10835173613544430215114275094755963004\"))),\n",
    "                )))"
   ]
  },
  {
   "cell_type": "code",
   "execution_count": 346,
   "metadata": {},
   "outputs": [],
   "source": [
    "def longest_substring(s: str) -> str:\n",
    "    @lru_cache(None)\n",
    "    def f(i: int, j: int) -> int:\n",
    "        i, j = i - 1, j - 1\n",
    "        return int(i >= 0 and s[i] == s[j] and f(i, j) < (j - i) and f(i, j) + 1)\n",
    "\n",
    "    acc = lambda a, ij: a if f(*ij) <= a[0] else (f(*ij), ij[0])\n",
    "    mxl, mxi = reduce(acc, combinations(range(1, len(s) + 1), 2), (0, 0))\n",
    "    return s[mxi - mxl : mxi]"
   ]
  },
  {
   "cell_type": "code",
   "execution_count": 347,
   "metadata": {},
   "outputs": [],
   "source": [
    "def longest_substring(s: str) -> str:\n",
    "    n = len(s)\n",
    "    mx = ''\n",
    "    for i in range(n-1):\n",
    "        sj = j = i + len(mx) + 1\n",
    "        while (sj := s.find(s[i:j], max(j, sj))) > 0:\n",
    "            mx = s[i:j]\n",
    "            j += 1\n",
    "\n",
    "    return mx if mx != '' else '-1'"
   ]
  },
  {
   "cell_type": "code",
   "execution_count": 351,
   "metadata": {},
   "outputs": [],
   "source": [
    "def longest_substring(s: str) -> str:\n",
    "    n = len(s)\n",
    "    mx = ''\n",
    "    for i in range(n-1):\n",
    "        j = i + len(mx) + 1\n",
    "        while s[i:j] in s[j:]:\n",
    "            mx = s[i:j]\n",
    "            j += 1\n",
    "\n",
    "    return mx if mx != '' else '-1'"
   ]
  },
  {
   "cell_type": "code",
   "execution_count": 352,
   "metadata": {},
   "outputs": [
    {
     "data": {
      "text/plain": [
       "'a'"
      ]
     },
     "execution_count": 352,
     "metadata": {},
     "output_type": "execute_result"
    }
   ],
   "source": [
    "longest_substring(\"ab12acb\")"
   ]
  },
  {
   "cell_type": "code",
   "execution_count": 353,
   "metadata": {},
   "outputs": [
    {
     "data": {
      "text/plain": [
       "'d'"
      ]
     },
     "execution_count": 353,
     "metadata": {},
     "output_type": "execute_result"
    }
   ],
   "source": [
    "longest_substring(\"dedbb12aaacead\")"
   ]
  },
  {
   "cell_type": "code",
   "execution_count": 354,
   "metadata": {},
   "outputs": [
    {
     "data": {
      "text/plain": [
       "'geeks'"
      ]
     },
     "execution_count": 354,
     "metadata": {},
     "output_type": "execute_result"
    }
   ],
   "source": [
    "longest_substring(\"teeth_for_teeth\")"
   ]
  },
  {
   "cell_type": "code",
   "execution_count": 261,
   "metadata": {},
   "outputs": [
    {
     "data": {
      "text/plain": [
       "1"
      ]
     },
     "execution_count": 261,
     "metadata": {},
     "output_type": "execute_result"
    }
   ],
   "source": [
    "\"abc\".find(\"b\", 1, 3)"
   ]
  },
  {
   "cell_type": "code",
   "execution_count": 225,
   "metadata": {},
   "outputs": [],
   "source": [
    "def longest_substring(s: str) -> str:\n",
    "    n = len(s)\n",
    "    max = ''\n",
    "    for j in range(1, n):\n",
    "        i = j - len(max) - 1\n",
    "        while i >= 0 and s[i:j] in s[j:n]:\n",
    "            max = s[i:j]\n",
    "            i -= 1\n",
    "\n",
    "    return max if max != '' else '-1'"
   ]
  },
  {
   "cell_type": "code",
   "execution_count": 134,
   "metadata": {},
   "outputs": [],
   "source": [
    "def longest_substring(s: str) -> str:\n",
    "    n = len(s)\n",
    "    dp = [[0]*(n+1) for _ in range(n+1)]\n",
    "    mxl = mxi = 0\n",
    "    for i, j in combinations(range(n), 2):\n",
    "        if s[i] == s[j] and dp[i][j] < j - i:\n",
    "            l = dp[i+1][j+1] = dp[i][j] + 1\n",
    "            if l > mxl:\n",
    "                mxl, mxi = l, i + 1\n",
    "    return s[mxi - mxl : mxi]"
   ]
  },
  {
   "cell_type": "code",
   "execution_count": 137,
   "metadata": {},
   "outputs": [
    {
     "data": {
      "text/plain": [
       "''"
      ]
     },
     "execution_count": 137,
     "metadata": {},
     "output_type": "execute_result"
    }
   ],
   "source": [
    "\"\" and 1"
   ]
  },
  {
   "cell_type": "code",
   "execution_count": 161,
   "metadata": {},
   "outputs": [
    {
     "data": {
      "text/plain": [
       "<range_iterator at 0x7f79242f70>"
      ]
     },
     "execution_count": 161,
     "metadata": {},
     "output_type": "execute_result"
    }
   ],
   "source": [
    "reversed(range(3))"
   ]
  },
  {
   "cell_type": "code",
   "execution_count": 183,
   "metadata": {},
   "outputs": [
    {
     "data": {
      "text/plain": [
       "<reversed at 0x7f79241d80>"
      ]
     },
     "execution_count": 183,
     "metadata": {},
     "output_type": "execute_result"
    }
   ],
   "source": [
    "reversed(\"abc\")"
   ]
  },
  {
   "cell_type": "code",
   "execution_count": null,
   "metadata": {},
   "outputs": [],
   "source": []
  }
 ],
 "metadata": {
  "kernelspec": {
   "display_name": "Python 3",
   "language": "python",
   "name": "python3"
  },
  "language_info": {
   "codemirror_mode": {
    "name": "ipython",
    "version": 3
   },
   "file_extension": ".py",
   "mimetype": "text/x-python",
   "name": "python",
   "nbconvert_exporter": "python",
   "pygments_lexer": "ipython3",
   "version": "3.10.12"
  }
 },
 "nbformat": 4,
 "nbformat_minor": 2
}
