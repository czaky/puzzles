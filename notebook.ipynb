{
 "cells": [
  {
   "cell_type": "code",
   "execution_count": 9,
   "metadata": {},
   "outputs": [
    {
     "name": "stdout",
     "output_type": "stream",
     "text": [
      "\n"
     ]
    }
   ],
   "source": [
    "import math\n",
    "from pprint import pprint\n",
    "from math import log\n",
    "import numpy as np\n",
    "import sys\n",
    "from typing import List, Tuple, Callable, Iterable\n",
    "from functools import lru_cache, reduce, cmp_to_key\n",
    "from itertools import (\n",
    "    starmap,\n",
    "    accumulate,\n",
    "    chain,\n",
    "    islice,\n",
    "    product,\n",
    "    tee,\n",
    "    pairwise,\n",
    "    combinations,\n",
    ")\n",
    "from collections import Counter, deque\n",
    "from heapq import heapify, heappushpop, heappop, heappush\n",
    "from operator import add, neg, itemgetter\n",
    "from bisect import bisect_right\n",
    "import matplotlib.pyplot as plt\n",
    "\n",
    "import arrays\n",
    "import trees\n",
    "import lists\n",
    "import graphs\n",
    "import search\n",
    "import strings\n",
    "from importlib import reload\n",
    "\n",
    "reload(arrays)\n",
    "reload(trees)\n",
    "reload(lists)\n",
    "reload(graphs)\n",
    "reload(search)\n",
    "import arrays as ar\n",
    "import trees as tr\n",
    "import lists as ll\n",
    "import graphs as g\n",
    "import strings as s\n",
    "\n",
    "print()"
   ]
  },
  {
   "cell_type": "code",
   "execution_count": 72,
   "metadata": {},
   "outputs": [],
   "source": [
    "def max_zero_sum_subarray(a: List[int]) -> int:\n",
    "    n = len(a)\n",
    "    acc = list(accumulate(a, initial=0))\n",
    "    occ = dict((a, n - i) for i, a in enumerate(reversed(acc)))\n",
    "    return max(starmap(lambda i, e: i - occ[e], enumerate(acc)))"
   ]
  },
  {
   "cell_type": "code",
   "execution_count": 80,
   "metadata": {},
   "outputs": [],
   "source": [
    "def max_zero_sum_subarray(a: List[int]) -> int:\n",
    "    occ = {0: -1}\n",
    "    for i, e in enumerate(accumulate(a)):\n",
    "        occ.setdefault(e, i)\n",
    "    return max(starmap(lambda i, e: i - occ[e], enumerate(accumulate(a))))"
   ]
  },
  {
   "cell_type": "code",
   "execution_count": 83,
   "metadata": {},
   "outputs": [
    {
     "data": {
      "text/plain": [
       "5"
      ]
     },
     "execution_count": 83,
     "metadata": {},
     "output_type": "execute_result"
    }
   ],
   "source": [
    "max_zero_sum_subarray([15, -2, 2, -8, 1, 7, 10, 23])"
   ]
  },
  {
   "cell_type": "code",
   "execution_count": 183,
   "metadata": {},
   "outputs": [],
   "source": [
    "def max_sum_rectangle(m: List[List[int]]) -> int:\n",
    "    r, c = len(m), len(m[0])\n",
    "    mx = min(map(min, m))\n",
    "    for i in range(c):\n",
    "        a = [0] * r\n",
    "        for j in range(i, c):\n",
    "            for k in range(r):\n",
    "                a[k] += m[k][j]\n",
    "            mx = max(mx, max(accumulate(a, lambda x, y: max(0, x + y), initial=0)))\n",
    "    return mx if mx > 0 else max(map(max, m))"
   ]
  },
  {
   "cell_type": "code",
   "execution_count": 210,
   "metadata": {},
   "outputs": [],
   "source": [
    "def max_sum_rectangle(m: List[List[int]]) -> int:\n",
    "    r, c = len(m), len(m[0])\n",
    "    mx = min(map(min, m))\n",
    "    for i in range(r):\n",
    "        a = [0] * c\n",
    "        for j in range(i, r):\n",
    "            mj = m[j]\n",
    "            for k in range(c):\n",
    "                a[k] += mj[k]\n",
    "            mx = max(mx, max(accumulate(a, lambda x, y: max(0, x + y), initial=0)))\n",
    "    return mx if mx > 0 else max(map(max, m))"
   ]
  },
  {
   "cell_type": "code",
   "execution_count": 206,
   "metadata": {},
   "outputs": [],
   "source": [
    "def max_sum_rectangle(m: List[List[int]]) -> int:\n",
    "    m = np.array(m)\n",
    "    r, c = m.shape\n",
    "    a = np.add.accumulate(m)\n",
    "    k = lambda a: max(accumulate(a, lambda x, y: max(0, x + y), initial=0))\n",
    "    mx = max(k(a[i]) for i in range(r))\n",
    "    for i, j in combinations(range(r), 2):\n",
    "        mx = max(mx, k(a[j] - a[i]))\n",
    "    return mx if mx > 0 else np.max(m)"
   ]
  },
  {
   "cell_type": "code",
   "execution_count": 211,
   "metadata": {},
   "outputs": [
    {
     "data": {
      "text/plain": [
       "16"
      ]
     },
     "execution_count": 211,
     "metadata": {},
     "output_type": "execute_result"
    }
   ],
   "source": [
    "max_sum_rectangle(\n",
    "    [[9, -9, 1, -4, -1, 9, -10], [3, -3, -4, -2, -5, 3, -6], [-7, 2, -5, 1, -10, 4, -4]]\n",
    ")"
   ]
  },
  {
   "cell_type": "code",
   "execution_count": 207,
   "metadata": {},
   "outputs": [
    {
     "data": {
      "text/plain": [
       "-1"
      ]
     },
     "execution_count": 207,
     "metadata": {},
     "output_type": "execute_result"
    }
   ],
   "source": [
    "max_sum_rectangle([[-1, -2], [-3, -4]])"
   ]
  },
  {
   "cell_type": "code",
   "execution_count": 208,
   "metadata": {},
   "outputs": [
    {
     "data": {
      "text/plain": [
       "29"
      ]
     },
     "execution_count": 208,
     "metadata": {},
     "output_type": "execute_result"
    }
   ],
   "source": [
    "max_sum_rectangle(\n",
    "    [[1, 2, -1, -4, -20], [-8, -3, 4, 2, 1], [3, 8, 10, 1, 3], [-4, -1, 1, 7, -6]]\n",
    ")"
   ]
  },
  {
   "cell_type": "code",
   "execution_count": 162,
   "metadata": {},
   "outputs": [
    {
     "data": {
      "text/plain": [
       "[(0, 1), (0, 2), (1, 2)]"
      ]
     },
     "execution_count": 162,
     "metadata": {},
     "output_type": "execute_result"
    }
   ],
   "source": [
    "list(combinations(range(3), 2))"
   ]
  },
  {
   "cell_type": "code",
   "execution_count": 209,
   "metadata": {},
   "outputs": [
    {
     "name": "stdout",
     "output_type": "stream",
     "text": [
      "-20\n"
     ]
    }
   ],
   "source": [
    "m = np.array(\n",
    "    [[1, 2, -1, -4, -20], [-8, -3, 4, 2, 1], [3, 8, 10, 1, 3], [-4, -1, 1, 7, -6]]\n",
    ")\n",
    "print(np.min(m))\n",
    "ac = np.add.accumulate(m, 1)"
   ]
  },
  {
   "cell_type": "code",
   "execution_count": 147,
   "metadata": {},
   "outputs": [
    {
     "data": {
      "text/plain": [
       "array([  9,  14,   9,   3, -18])"
      ]
     },
     "execution_count": 147,
     "metadata": {},
     "output_type": "execute_result"
    }
   ],
   "source": [
    "ac[0] - ac[1]"
   ]
  },
  {
   "cell_type": "code",
   "execution_count": 149,
   "metadata": {},
   "outputs": [
    {
     "data": {
      "text/plain": [
       "[array([  1,   2,  -1,  -4, -20]),\n",
       " array([ -7,  -1,   3,  -2, -19]),\n",
       " array([ -4,   7,  13,  -1, -16]),\n",
       " array([ -8,   6,  14,   6, -22])]"
      ]
     },
     "execution_count": 149,
     "metadata": {},
     "output_type": "execute_result"
    }
   ],
   "source": [
    "list(accumulate(m))"
   ]
  },
  {
   "cell_type": "code",
   "execution_count": null,
   "metadata": {},
   "outputs": [],
   "source": []
  }
 ],
 "metadata": {
  "kernelspec": {
   "display_name": "Python 3",
   "language": "python",
   "name": "python3"
  },
  "language_info": {
   "codemirror_mode": {
    "name": "ipython",
    "version": 3
   },
   "file_extension": ".py",
   "mimetype": "text/x-python",
   "name": "python",
   "nbconvert_exporter": "python",
   "pygments_lexer": "ipython3",
   "version": "3.10.12"
  }
 },
 "nbformat": 4,
 "nbformat_minor": 2
}
