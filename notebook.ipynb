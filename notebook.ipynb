{
 "cells": [
  {
   "cell_type": "code",
   "execution_count": 1,
   "metadata": {},
   "outputs": [
    {
     "name": "stdout",
     "output_type": "stream",
     "text": [
      "\n"
     ]
    }
   ],
   "source": [
    "import math\n",
    "from math import log\n",
    "import numpy as np\n",
    "import sys\n",
    "from typing import List, Tuple\n",
    "from functools import lru_cache, reduce, cmp_to_key\n",
    "from itertools import (\n",
    "    starmap,\n",
    "    accumulate,\n",
    "    chain,\n",
    "    islice,\n",
    "    product,\n",
    "    tee,\n",
    "    pairwise,\n",
    "    combinations,\n",
    ")\n",
    "from collections import Counter, deque\n",
    "from heapq import heapify, heappushpop, heappop, heappush\n",
    "from operator import add, neg\n",
    "from bisect import bisect_right\n",
    "import matplotlib.pyplot as plt\n",
    "\n",
    "import arrays\n",
    "import trees\n",
    "import lists\n",
    "import graphs\n",
    "import search\n",
    "import strings\n",
    "from importlib import reload\n",
    "\n",
    "reload(arrays)\n",
    "reload(trees)\n",
    "reload(lists)\n",
    "reload(graphs)\n",
    "reload(search)\n",
    "import arrays as ar\n",
    "import trees as tr\n",
    "import lists as ll\n",
    "import graphs as g\n",
    "import strings as s\n",
    "\n",
    "print()"
   ]
  },
  {
   "cell_type": "code",
   "execution_count": 17,
   "metadata": {},
   "outputs": [],
   "source": [
    "def max_subs(s1: str, s2: str) -> str:\n",
    "    subs = lambda s, d: reduce(\n",
    "        lambda a, c: (2 * a - d.get(c, 0), d.update({c: a}))[0], s, 1\n",
    "    )\n",
    "    return s1 if subs(s1, {}) >= subs(s2, {}) else s2"
   ]
  },
  {
   "cell_type": "code",
   "execution_count": 16,
   "metadata": {},
   "outputs": [
    {
     "data": {
      "text/plain": [
       "'abc'"
      ]
     },
     "execution_count": 16,
     "metadata": {},
     "output_type": "execute_result"
    }
   ],
   "source": [
    "max_subs(\"abc\", \"aaa\")"
   ]
  },
  {
   "cell_type": "code",
   "execution_count": 74,
   "metadata": {},
   "outputs": [],
   "source": [
    "def word_wrap(words: List[int], k: int) -> int:\n",
    "    \"Return min sum(extra_spaces**2) for a wrapped text.\"\n",
    "    last = len(words) - 1\n",
    "\n",
    "    @lru_cache(None)\n",
    "    def cost(i: int, width: int):\n",
    "        # Add this word to current line.\n",
    "        nw = width + 1 + words[i]\n",
    "        if i == last:\n",
    "            return (k - width) ** 2 if nw > k else 0\n",
    "        # Put it on the next line.\n",
    "        nl = (k - width) ** 2 + cost(i + 1, words[i])\n",
    "        # Or compute the same cost for keeping it on this line.\n",
    "        return nl if nw > k else min(cost(i + 1, nw), nl)\n",
    "\n",
    "    return cost(0, -1) if last >= 0 else 0"
   ]
  },
  {
   "cell_type": "code",
   "execution_count": 75,
   "metadata": {},
   "outputs": [
    {
     "data": {
      "text/plain": [
       "9"
      ]
     },
     "execution_count": 75,
     "metadata": {},
     "output_type": "execute_result"
    }
   ],
   "source": [
    "word_wrap([3, 4], 6)"
   ]
  },
  {
   "cell_type": "code",
   "execution_count": 110,
   "metadata": {},
   "outputs": [],
   "source": [
    "def word_wrap(words: List[int], k: int) -> int:\n",
    "    \"Return min sum(extra_spaces**2) for a wrapped text.\"\n",
    "    n: int = len(words)\n",
    "    mx: int = n * k**2\n",
    "\n",
    "    @lru_cache(None)\n",
    "    def cost(i: int) -> int:\n",
    "        e, c = k + 1, mx\n",
    "        for j in range(i, n):\n",
    "            e -= words[j] + 1\n",
    "            if e < 0:\n",
    "                break\n",
    "            c = min(c, e**2 + cost(j + 1))\n",
    "        else:\n",
    "            return 0\n",
    "        return c\n",
    "\n",
    "    return cost(0)"
   ]
  },
  {
   "cell_type": "code",
   "execution_count": 120,
   "metadata": {},
   "outputs": [],
   "source": [
    "def word_wrap(words: List[int], k: int) -> int:\n",
    "    \"Return min sum(extra_spaces**2) for a wrapped text.\"\n",
    "    n: int = len(words)\n",
    "    mx: int = n * k**2\n",
    "    dp = [0] * (n + 1)\n",
    "\n",
    "    for i in reversed(range(n)):\n",
    "        e, c = k + 1, mx\n",
    "        for j in range(i, n):\n",
    "            e -= words[j] + 1\n",
    "            if e < 0:\n",
    "                break\n",
    "            c = min(c, e**2 + dp[j + 1])\n",
    "        else:\n",
    "            continue\n",
    "        dp[i] = c\n",
    "\n",
    "    print(dp)\n",
    "    return dp[0]"
   ]
  },
  {
   "cell_type": "code",
   "execution_count": 121,
   "metadata": {},
   "outputs": [
    {
     "name": "stdout",
     "output_type": "stream",
     "text": [
      "[10, 1, 16, 0, 0]\n"
     ]
    },
    {
     "data": {
      "text/plain": [
       "10"
      ]
     },
     "execution_count": 121,
     "metadata": {},
     "output_type": "execute_result"
    }
   ],
   "source": [
    "word_wrap([3, 2, 2, 5], 6)"
   ]
  },
  {
   "cell_type": "code",
   "execution_count": null,
   "metadata": {},
   "outputs": [],
   "source": []
  }
 ],
 "metadata": {
  "kernelspec": {
   "display_name": "Python 3",
   "language": "python",
   "name": "python3"
  },
  "language_info": {
   "codemirror_mode": {
    "name": "ipython",
    "version": 3
   },
   "file_extension": ".py",
   "mimetype": "text/x-python",
   "name": "python",
   "nbconvert_exporter": "python",
   "pygments_lexer": "ipython3",
   "version": "3.10.12"
  }
 },
 "nbformat": 4,
 "nbformat_minor": 2
}
