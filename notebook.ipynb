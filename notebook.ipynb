{
 "cells": [
  {
   "cell_type": "code",
   "execution_count": 3,
   "metadata": {},
   "outputs": [
    {
     "name": "stdout",
     "output_type": "stream",
     "text": [
      "\n"
     ]
    }
   ],
   "source": [
    "# ruff: noqa: F401\n",
    "import math\n",
    "import sys\n",
    "from bisect import bisect_left, bisect_right\n",
    "from collections import Counter, deque\n",
    "from functools import cmp_to_key, lru_cache, reduce\n",
    "from heapq import heapify, heappop, heappush, heappushpop\n",
    "from importlib import reload\n",
    "from itertools import (\n",
    "    accumulate,\n",
    "    chain,\n",
    "    combinations,\n",
    "    islice,\n",
    "    pairwise,\n",
    "    permutations,\n",
    "    product,\n",
    "    starmap,\n",
    "    tee,\n",
    ")\n",
    "from math import comb, factorial, log, sqrt\n",
    "from operator import add, and_, contains, indexOf, itemgetter, neg, or_, xor\n",
    "from pprint import pprint\n",
    "from typing import Callable, Iterable, List, Tuple\n",
    "\n",
    "import matplotlib.pyplot as plt\n",
    "import numpy as np\n",
    "\n",
    "import arrays\n",
    "import graphs\n",
    "import lists\n",
    "import mathematics\n",
    "import matrix\n",
    "import parsing\n",
    "import search\n",
    "import sequences\n",
    "import sets\n",
    "import strings\n",
    "import trees\n",
    "from parsing import parse_arithmetic_expression\n",
    "from sequences import find_if\n",
    "\n",
    "for m in (\n",
    "    arrays,\n",
    "    trees,\n",
    "    lists,\n",
    "    graphs,\n",
    "    parsing,\n",
    "    search,\n",
    "    strings,\n",
    "    sets,\n",
    "    sequences,\n",
    "    matrix,\n",
    "    mathematics,\n",
    "):\n",
    "    reload(m)\n",
    "\n",
    "print()\n"
   ]
  },
  {
   "cell_type": "code",
   "execution_count": 21,
   "metadata": {},
   "outputs": [],
   "source": [
    "def format_binop_expression(e: str | tuple) -> str:\n",
    "    \"Format expressions consisting of (<operator>, <arg1>, <arg2>).\"\n",
    "    if isinstance(e, str):\n",
    "        return e\n",
    "    # This is a depth first, iterative algorithm using two stacks.\n",
    "    s: List[tuple] = []\n",
    "    v: List[str | tuple] = []\n",
    "    n: tuple | str = e\n",
    "    # Flatten an expression.\n",
    "    f = lambda v: v if isinstance(v, str) else v[1]\n",
    "\n",
    "    def fop(op : str, a : str | tuple, b : str | tuple) -> tuple:\n",
    "        \"Format an operation adding parantheses to the arguments if needed.\"\n",
    "        def p(v):\n",
    "            if isinstance(v, str) or op == \"+\" or op in \"*-\" and v[0] in \"*/\":\n",
    "                return f(v)\n",
    "            return \"(\" + f(v) + \")\"\n",
    "        # Returns the operator and the string representation.\n",
    "        # We keep the operator so it is easier to know the type of the expression later.\n",
    "        return op, f(a) + op + p(b)\n",
    "\n",
    "    while s or n:\n",
    "        # Repeatedly, descend left from node.\n",
    "        while isinstance(n, tuple):\n",
    "            # If this is on the stack, we consume the node.\n",
    "            s.append(n)\n",
    "            # If this is on the stack, we descend right.\n",
    "            s.append(n)\n",
    "            n = n[1]\n",
    "        if n is not None:\n",
    "            v.append(n)\n",
    "        n = s.pop()\n",
    "        if s and s[-1] == n:\n",
    "            # Descend right from node.\n",
    "            n = n[2]\n",
    "        else:\n",
    "            # Consume this node and\n",
    "            # generate intermediate values.\n",
    "            rv, lv = v.pop(), v.pop()\n",
    "            v.append(fop(n[0], lv, rv))\n",
    "            n = None\n",
    "    return f(v[0])\n"
   ]
  },
  {
   "cell_type": "code",
   "execution_count": 22,
   "metadata": {},
   "outputs": [
    {
     "name": "stdout",
     "output_type": "stream",
     "text": [
      "('-', ('-', 'a', 'b'), 'c')\n"
     ]
    },
    {
     "data": {
      "text/plain": [
       "'a-b-c'"
      ]
     },
     "execution_count": 22,
     "metadata": {},
     "output_type": "execute_result"
    }
   ],
   "source": [
    "e = parse_arithmetic_expression(\"a-b-c\")\n",
    "print(e)\n",
    "format_binop_expression(e)\n"
   ]
  },
  {
   "cell_type": "code",
   "execution_count": 23,
   "metadata": {},
   "outputs": [
    {
     "name": "stdout",
     "output_type": "stream",
     "text": [
      "('-', 'A', ('-', 'B', 'C'))\n"
     ]
    },
    {
     "data": {
      "text/plain": [
       "'A-(B-C)'"
      ]
     },
     "execution_count": 23,
     "metadata": {},
     "output_type": "execute_result"
    }
   ],
   "source": [
    "e = parse_arithmetic_expression(\"A-(B-C)\")\n",
    "print(e)\n",
    "format_binop_expression(e)\n"
   ]
  },
  {
   "cell_type": "code",
   "execution_count": 32,
   "metadata": {},
   "outputs": [
    {
     "name": "stdout",
     "output_type": "stream",
     "text": [
      "('+', 'A', ('+', 'B', 'C'))\n"
     ]
    },
    {
     "data": {
      "text/plain": [
       "'A+B+C'"
      ]
     },
     "execution_count": 32,
     "metadata": {},
     "output_type": "execute_result"
    }
   ],
   "source": [
    "e = parse_arithmetic_expression(\"A+(B+C)\")\n",
    "print(e)\n",
    "format_binop_expression(e)\n"
   ]
  },
  {
   "cell_type": "code",
   "execution_count": 24,
   "metadata": {},
   "outputs": [
    {
     "name": "stdout",
     "output_type": "stream",
     "text": [
      "('+', 'A', ('*', 'B', 'C'))\n"
     ]
    },
    {
     "data": {
      "text/plain": [
       "'A+B*C'"
      ]
     },
     "execution_count": 24,
     "metadata": {},
     "output_type": "execute_result"
    }
   ],
   "source": [
    "e = parse_arithmetic_expression(\"A+B*C\")\n",
    "print(e)\n",
    "format_binop_expression(e)\n"
   ]
  },
  {
   "cell_type": "code",
   "execution_count": 25,
   "metadata": {},
   "outputs": [
    {
     "name": "stdout",
     "output_type": "stream",
     "text": [
      "('/', 'A', ('*', 'B', 'C'))\n"
     ]
    },
    {
     "data": {
      "text/plain": [
       "'A/(B*C)'"
      ]
     },
     "execution_count": 25,
     "metadata": {},
     "output_type": "execute_result"
    }
   ],
   "source": [
    "e = parse_arithmetic_expression(\"(A/(B*C))\")\n",
    "print(e)\n",
    "format_binop_expression(e)\n"
   ]
  },
  {
   "cell_type": "code",
   "execution_count": 26,
   "metadata": {},
   "outputs": [
    {
     "name": "stdout",
     "output_type": "stream",
     "text": [
      "('/', 'A', ('/', 'B', 'C'))\n"
     ]
    },
    {
     "data": {
      "text/plain": [
       "'A/(B/C)'"
      ]
     },
     "execution_count": 26,
     "metadata": {},
     "output_type": "execute_result"
    }
   ],
   "source": [
    "e = parse_arithmetic_expression(\"A/(B/C)\")\n",
    "print(e)\n",
    "format_binop_expression(e)\n"
   ]
  },
  {
   "cell_type": "code",
   "execution_count": 27,
   "metadata": {},
   "outputs": [
    {
     "name": "stdout",
     "output_type": "stream",
     "text": [
      "('/', ('/', ('/', 'X', 'Y'), 'Z'), ('+', 'A', 'B'))\n"
     ]
    },
    {
     "data": {
      "text/plain": [
       "'X/Y/Z/(A+B)'"
      ]
     },
     "execution_count": 27,
     "metadata": {},
     "output_type": "execute_result"
    }
   ],
   "source": [
    "e = parse_arithmetic_expression(\"X/Y/Z/(A+B)\")\n",
    "print(e)\n",
    "format_binop_expression(e)\n"
   ]
  },
  {
   "cell_type": "code",
   "execution_count": 28,
   "metadata": {},
   "outputs": [
    {
     "name": "stdout",
     "output_type": "stream",
     "text": [
      "('/', ('/', 'X', 'Y'), ('/', 'Z', ('+', 'A', 'B')))\n"
     ]
    },
    {
     "data": {
      "text/plain": [
       "'X/Y/(Z/(A+B))'"
      ]
     },
     "execution_count": 28,
     "metadata": {},
     "output_type": "execute_result"
    }
   ],
   "source": [
    "e = parse_arithmetic_expression(\"X/Y/(Z/(A+B))\")\n",
    "print(e)\n",
    "format_binop_expression(e)\n"
   ]
  },
  {
   "cell_type": "code",
   "execution_count": 31,
   "metadata": {},
   "outputs": [
    {
     "name": "stdout",
     "output_type": "stream",
     "text": [
      "('*', ('*', 'X', 'Y'), ('*', 'Z', ('+', 'A', 'B')))\n"
     ]
    },
    {
     "data": {
      "text/plain": [
       "'X*Y*Z*(A+B)'"
      ]
     },
     "execution_count": 31,
     "metadata": {},
     "output_type": "execute_result"
    }
   ],
   "source": [
    "e = parse_arithmetic_expression(\"X*Y*(Z*(A+B))\")\n",
    "print(e)\n",
    "format_binop_expression(e)\n"
   ]
  },
  {
   "cell_type": "code",
   "execution_count": 29,
   "metadata": {},
   "outputs": [
    {
     "name": "stdout",
     "output_type": "stream",
     "text": [
      "('-', 'A', ('-', 'B', 'C'))\n"
     ]
    },
    {
     "data": {
      "text/plain": [
       "'A-(B-C)'"
      ]
     },
     "execution_count": 29,
     "metadata": {},
     "output_type": "execute_result"
    }
   ],
   "source": [
    "e = parse_arithmetic_expression(\"A-(B-C)\")\n",
    "print(e)\n",
    "format_binop_expression(e)\n"
   ]
  },
  {
   "cell_type": "code",
   "execution_count": 30,
   "metadata": {},
   "outputs": [
    {
     "name": "stdout",
     "output_type": "stream",
     "text": [
      "('+', 'A', ('-', 'B', 'C'))\n"
     ]
    },
    {
     "data": {
      "text/plain": [
       "'A+B-C'"
      ]
     },
     "execution_count": 30,
     "metadata": {},
     "output_type": "execute_result"
    }
   ],
   "source": [
    "e = parse_arithmetic_expression(\"A+(B-C)\")\n",
    "print(e)\n",
    "format_binop_expression(e)\n"
   ]
  }
 ],
 "metadata": {
  "kernelspec": {
   "display_name": "Python 3",
   "language": "python",
   "name": "python3"
  },
  "language_info": {
   "codemirror_mode": {
    "name": "ipython",
    "version": 3
   },
   "file_extension": ".py",
   "mimetype": "text/x-python",
   "name": "python",
   "nbconvert_exporter": "python",
   "pygments_lexer": "ipython3",
   "version": "3.10.12"
  }
 },
 "nbformat": 4,
 "nbformat_minor": 2
}
