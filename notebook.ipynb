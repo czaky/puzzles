{
 "cells": [
  {
   "cell_type": "code",
   "execution_count": 10,
   "metadata": {},
   "outputs": [
    {
     "name": "stdout",
     "output_type": "stream",
     "text": [
      "\n"
     ]
    }
   ],
   "source": [
    "import math\n",
    "import sys\n",
    "from typing import List\n",
    "from functools import lru_cache, reduce, cmp_to_key\n",
    "from itertools import starmap, accumulate, chain, islice, product, tee, pairwise\n",
    "from collections import Counter, deque\n",
    "from heapq import heapify, heappushpop, heappop, heappush\n",
    "from operator import add, neg\n",
    "from bisect import bisect_right\n",
    "import matplotlib.pyplot as plt\n",
    "\n",
    "import arrays\n",
    "import trees\n",
    "from importlib import reload\n",
    "reload(arrays)\n",
    "reload(trees)\n",
    "import arrays as ar\n",
    "import trees as tr\n",
    "import lists as ls\n",
    "from lists import Node\n",
    "print()"
   ]
  },
  {
   "cell_type": "code",
   "execution_count": 29,
   "metadata": {},
   "outputs": [],
   "source": [
    "def queens_count(n: int) -> int:\n",
    "    if n <= 0:\n",
    "        return 0\n",
    "    solutions = 0\n",
    "    n4 = n * 4\n",
    "    def rec(r: int, invalid: int):\n",
    "        nonlocal solutions\n",
    "        for c in range(n):\n",
    "            place = (1 << c) + + (1 << (n + c + r)) + (1 << (n4 + c - r))\n",
    "            if invalid & place:\n",
    "                continue\n",
    "            if r == 0:\n",
    "                solutions += 1\n",
    "                return\n",
    "            rec(r-1, invalid | place)\n",
    "    rec(n-1, 0)\n",
    "    return solutions\n"
   ]
  },
  {
   "cell_type": "code",
   "execution_count": 32,
   "metadata": {},
   "outputs": [
    {
     "data": {
      "text/plain": [
       "[0, 1, 0, 0, 2, 10, 4, 40, 92, 352, 724, 2680, 14200, 73712]"
      ]
     },
     "execution_count": 32,
     "metadata": {},
     "output_type": "execute_result"
    }
   ],
   "source": [
    "list(map(queens_count, range(0, 14)))"
   ]
  },
  {
   "cell_type": "code",
   "execution_count": 14,
   "metadata": {},
   "outputs": [
    {
     "data": {
      "text/plain": [
       "40"
      ]
     },
     "execution_count": 14,
     "metadata": {},
     "output_type": "execute_result"
    }
   ],
   "source": [
    "import board as b\n",
    "len(b.queens(7))"
   ]
  },
  {
   "cell_type": "code",
   "execution_count": null,
   "metadata": {},
   "outputs": [],
   "source": []
  }
 ],
 "metadata": {
  "kernelspec": {
   "display_name": "Python 3",
   "language": "python",
   "name": "python3"
  },
  "language_info": {
   "codemirror_mode": {
    "name": "ipython",
    "version": 3
   },
   "file_extension": ".py",
   "mimetype": "text/x-python",
   "name": "python",
   "nbconvert_exporter": "python",
   "pygments_lexer": "ipython3",
   "version": "3.10.12"
  }
 },
 "nbformat": 4,
 "nbformat_minor": 2
}
