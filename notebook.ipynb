{
 "cells": [
  {
   "cell_type": "code",
   "execution_count": 3,
   "metadata": {},
   "outputs": [
    {
     "name": "stdout",
     "output_type": "stream",
     "text": [
      "\n"
     ]
    }
   ],
   "source": [
    "import math\n",
    "from pprint import pprint\n",
    "from math import log\n",
    "import numpy as np\n",
    "import sys\n",
    "from typing import List, Tuple, Callable, Iterable\n",
    "from functools import lru_cache, reduce, cmp_to_key\n",
    "from itertools import (\n",
    "    starmap,\n",
    "    accumulate,\n",
    "    chain,\n",
    "    islice,\n",
    "    product,\n",
    "    tee,\n",
    "    pairwise,\n",
    "    combinations,\n",
    ")\n",
    "from collections import Counter, deque\n",
    "from heapq import heapify, heappushpop, heappop, heappush\n",
    "from operator import add, neg, itemgetter\n",
    "from bisect import bisect_right\n",
    "import matplotlib.pyplot as plt\n",
    "\n",
    "import arrays\n",
    "import trees\n",
    "import lists\n",
    "import graphs\n",
    "import search\n",
    "import strings\n",
    "import matrix\n",
    "from importlib import reload\n",
    "\n",
    "reload(arrays)\n",
    "reload(trees)\n",
    "reload(lists)\n",
    "reload(graphs)\n",
    "reload(search)\n",
    "import arrays as ar\n",
    "import trees as tr\n",
    "import lists as ll\n",
    "import graphs as g\n",
    "import strings as s\n",
    "\n",
    "print()"
   ]
  },
  {
   "cell_type": "code",
   "execution_count": 152,
   "metadata": {},
   "outputs": [],
   "source": [
    "def max_profit(p: List[int], k: int) -> int:\n",
    "    \"Return a max-profit to be made for k transactions at `price` for each day.\"\n",
    "    days = len(p)\n",
    "    profit = [[0] * (k + 1) for _ in range(days)]\n",
    "\n",
    "    for d in range(1, days):\n",
    "        for t in range(1, k + 1):\n",
    "            sell = max(p[d] - p[i] + profit[i][t - 1] for i in range(d))\n",
    "            profit[d][t] = max(sell, profit[d - 1][t])\n",
    "\n",
    "    return profit[-1][k]"
   ]
  },
  {
   "cell_type": "code",
   "execution_count": 4,
   "metadata": {},
   "outputs": [],
   "source": [
    "def max_profit(prices: List[int], k: int) -> int:\n",
    "    \"Return a max-profit to be made for at most `k` transactions using `prices` for each day.\"\n",
    "    k = min(k, len(prices) // 2)\n",
    "    profit = [0] * k\n",
    "    diff = [-max(prices)] * k\n",
    "\n",
    "    for d, p in enumerate(prices):\n",
    "        for i in range(min(1 + d // 2, k)):\n",
    "            diff[i] = max(diff[i], (i and profit[i - 1]) - p)\n",
    "            profit[i] = max(profit[i], p + diff[i])\n",
    "\n",
    "    return profit and profit[-1] or 0"
   ]
  },
  {
   "cell_type": "code",
   "execution_count": 12,
   "metadata": {},
   "outputs": [
    {
     "ename": "IndexError",
     "evalue": "list index out of range",
     "output_type": "error",
     "traceback": [
      "\u001b[0;31m---------------------------------------------------------------------------\u001b[0m",
      "\u001b[0;31mIndexError\u001b[0m                                Traceback (most recent call last)",
      "\u001b[1;32m/config/workspace/puzzles/notebook.ipynb Cell 4\u001b[0m line \u001b[0;36m1\n\u001b[0;32m----> <a href='vscode-notebook-cell://localhost:9444/config/workspace/puzzles/notebook.ipynb#X44sdnNjb2RlLXJlbW90ZQ%3D%3D?line=0'>1</a>\u001b[0m max_profit([\u001b[39m10\u001b[39;49m, \u001b[39m22\u001b[39;49m, \u001b[39m5\u001b[39;49m, \u001b[39m75\u001b[39;49m, \u001b[39m65\u001b[39;49m, \u001b[39m80\u001b[39;49m, \u001b[39m90\u001b[39;49m, \u001b[39m100\u001b[39;49m], \u001b[39m0\u001b[39;49m)\n",
      "\u001b[1;32m/config/workspace/puzzles/notebook.ipynb Cell 4\u001b[0m line \u001b[0;36m1\n\u001b[1;32m      <a href='vscode-notebook-cell://localhost:9444/config/workspace/puzzles/notebook.ipynb#X44sdnNjb2RlLXJlbW90ZQ%3D%3D?line=8'>9</a>\u001b[0m         diff[i] \u001b[39m=\u001b[39m \u001b[39mmax\u001b[39m(diff[i], (i \u001b[39mand\u001b[39;00m profit[i \u001b[39m-\u001b[39m \u001b[39m1\u001b[39m]) \u001b[39m-\u001b[39m p)\n\u001b[1;32m     <a href='vscode-notebook-cell://localhost:9444/config/workspace/puzzles/notebook.ipynb#X44sdnNjb2RlLXJlbW90ZQ%3D%3D?line=9'>10</a>\u001b[0m         profit[i] \u001b[39m=\u001b[39m \u001b[39mmax\u001b[39m(profit[i], p \u001b[39m+\u001b[39m diff[i])\n\u001b[0;32m---> <a href='vscode-notebook-cell://localhost:9444/config/workspace/puzzles/notebook.ipynb#X44sdnNjb2RlLXJlbW90ZQ%3D%3D?line=11'>12</a>\u001b[0m \u001b[39mreturn\u001b[39;00m profit[\u001b[39m-\u001b[39;49m\u001b[39m1\u001b[39;49m]\n",
      "\u001b[0;31mIndexError\u001b[0m: list index out of range"
     ]
    }
   ],
   "source": [
    "max_profit([10, 22, 5, 75, 65, 80, 90, 100], 0)"
   ]
  },
  {
   "cell_type": "code",
   "execution_count": null,
   "metadata": {},
   "outputs": [],
   "source": []
  }
 ],
 "metadata": {
  "kernelspec": {
   "display_name": "Python 3",
   "language": "python",
   "name": "python3"
  },
  "language_info": {
   "codemirror_mode": {
    "name": "ipython",
    "version": 3
   },
   "file_extension": ".py",
   "mimetype": "text/x-python",
   "name": "python",
   "nbconvert_exporter": "python",
   "pygments_lexer": "ipython3",
   "version": "3.10.12"
  }
 },
 "nbformat": 4,
 "nbformat_minor": 2
}
