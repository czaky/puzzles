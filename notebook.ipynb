{
 "cells": [
  {
   "cell_type": "code",
   "execution_count": 31,
   "metadata": {},
   "outputs": [
    {
     "name": "stdout",
     "output_type": "stream",
     "text": [
      "\n"
     ]
    }
   ],
   "source": [
    "import math\n",
    "import sys\n",
    "from typing import List\n",
    "from functools import lru_cache, reduce, cmp_to_key\n",
    "from itertools import starmap, accumulate, chain, islice, product, tee, pairwise\n",
    "from collections import Counter, deque\n",
    "from heapq import heapify, heappushpop, heappop, heappush\n",
    "from operator import add, neg\n",
    "from bisect import bisect_right\n",
    "import matplotlib.pyplot as plt\n",
    "\n",
    "import arrays\n",
    "import trees\n",
    "from importlib import reload\n",
    "reload(arrays)\n",
    "reload(trees)\n",
    "import arrays as ar\n",
    "import trees as tr\n",
    "from trees import Node\n",
    "print()"
   ]
  },
  {
   "cell_type": "code",
   "execution_count": 32,
   "metadata": {},
   "outputs": [],
   "source": [
    "# Function to Build Tree\n",
    "def buildTree(s):\n",
    "    # Corner Case\n",
    "    if (len(s) == 0 or s[0] == \"N\"):\n",
    "        return None\n",
    "\n",
    "    # Creating list of strings from input\n",
    "    # string after splitting by space\n",
    "    ip = list(map(str, s.split()))\n",
    "\n",
    "    # Create the root of the tree\n",
    "    root = Node(int(ip[0]))\n",
    "    size = 0\n",
    "    q = deque()\n",
    "\n",
    "    # Push the root to the queue\n",
    "    q.append(root)\n",
    "    size = size + 1\n",
    "\n",
    "    # Starting from the second element\n",
    "    i = 1\n",
    "    while (size > 0 and i < len(ip)):\n",
    "        # Get and remove the front of the queue\n",
    "        currNode = q[0]\n",
    "        q.popleft()\n",
    "        size = size - 1\n",
    "\n",
    "        # Get the current node's value from the string\n",
    "        currVal = ip[i]\n",
    "\n",
    "        # If the left child is not null\n",
    "        if (currVal != \"N\"):\n",
    "            # Create the left child for the current node\n",
    "            currNode.left = Node(int(currVal))\n",
    "\n",
    "            # Push it to the queue\n",
    "            q.append(currNode.left)\n",
    "            size = size + 1\n",
    "        # For the right child\n",
    "        i = i + 1\n",
    "        if (i >= len(ip)):\n",
    "            break\n",
    "        currVal = ip[i]\n",
    "\n",
    "        # If the right child is not null\n",
    "        if (currVal != \"N\"):\n",
    "            # Create the right child for the current node\n",
    "            currNode.right = Node(int(currVal))\n",
    "\n",
    "            # Push it to the queue\n",
    "            q.append(currNode.right)\n",
    "            size = size + 1\n",
    "        i = i + 1\n",
    "    return root\n"
   ]
  },
  {
   "cell_type": "code",
   "execution_count": 40,
   "metadata": {},
   "outputs": [],
   "source": [
    "def nodes_at_distance(root: Node, target: int, k: int) -> List[int]:\n",
    "    \"Return nodes from tree `root` at distance `k` from `target` node.\"\n",
    "    result = []\n",
    "    def descend(r: Node, kn: int):\n",
    "        if not r or kn < 0: return\n",
    "        #print(f'd {r.data} @ {kn}')\n",
    "        if kn == 0:\n",
    "            result.append(r.data)\n",
    "            return\n",
    "        descend(r.left, kn -1)\n",
    "        descend(r.right, kn -1)\n",
    "\n",
    "    def search(r: Node):\n",
    "        if not r: return None\n",
    "        #print(f'd {r.data}')\n",
    "        if r.data == target:\n",
    "            descend(r, k)\n",
    "            return 1\n",
    "        d = search(r.left)\n",
    "        if d:\n",
    "            descend(r.right, k-d-1)\n",
    "        else:\n",
    "            d = search(r.right)\n",
    "            if d:\n",
    "                descend(r.left, k-d-1)\n",
    "        if k == d:\n",
    "            result.append(r.data)\n",
    "            return None\n",
    "        return d + 1 if d else None\n",
    "    search(root)\n",
    "    return sorted(result)\n"
   ]
  },
  {
   "cell_type": "code",
   "execution_count": 41,
   "metadata": {},
   "outputs": [
    {
     "name": "stdout",
     "output_type": "stream",
     "text": [
      "d 12\n",
      "d 9\n",
      "d 13\n",
      "d 6\n",
      "d 2\n",
      "d 7\n",
      "d 3\n",
      "d 5\n",
      "d 11\n",
      "d 4\n",
      "d 4 @ 1\n"
     ]
    },
    {
     "data": {
      "text/plain": [
       "[7]"
      ]
     },
     "execution_count": 41,
     "metadata": {},
     "output_type": "execute_result"
    }
   ],
   "source": [
    "tree = buildTree('12 9 7 13 2 3 4 6 N N N 5 11 N N N N N N N N')\n",
    "nodes_at_distance(tree, 4, 1)"
   ]
  },
  {
   "cell_type": "code",
   "execution_count": 20,
   "metadata": {},
   "outputs": [
    {
     "data": {
      "text/plain": [
       "<trees.Node at 0x7f976b2770>"
      ]
     },
     "execution_count": 20,
     "metadata": {},
     "output_type": "execute_result"
    }
   ],
   "source": [
    "tree"
   ]
  },
  {
   "cell_type": "code",
   "execution_count": null,
   "metadata": {},
   "outputs": [],
   "source": []
  }
 ],
 "metadata": {
  "kernelspec": {
   "display_name": "Python 3",
   "language": "python",
   "name": "python3"
  },
  "language_info": {
   "codemirror_mode": {
    "name": "ipython",
    "version": 3
   },
   "file_extension": ".py",
   "mimetype": "text/x-python",
   "name": "python",
   "nbconvert_exporter": "python",
   "pygments_lexer": "ipython3",
   "version": "3.10.12"
  }
 },
 "nbformat": 4,
 "nbformat_minor": 2
}
