{
 "cells": [
  {
   "cell_type": "code",
   "execution_count": 16,
   "metadata": {},
   "outputs": [
    {
     "name": "stdout",
     "output_type": "stream",
     "text": [
      "\n"
     ]
    }
   ],
   "source": [
    "import math\n",
    "import sys\n",
    "from typing import List\n",
    "from functools import lru_cache, reduce, cmp_to_key\n",
    "from itertools import starmap, accumulate, chain, islice, product, tee, pairwise\n",
    "from collections import Counter, deque\n",
    "from heapq import heapify, heappushpop, heappop, heappush\n",
    "from operator import add, neg\n",
    "from bisect import bisect_right\n",
    "import matplotlib.pyplot as plt\n",
    "\n",
    "import arrays\n",
    "import trees\n",
    "from importlib import reload\n",
    "reload(arrays)\n",
    "reload(trees)\n",
    "import arrays as ar\n",
    "import trees as tr\n",
    "import lists as ls\n",
    "import graphs as g\n",
    "from lists import Node\n",
    "print()"
   ]
  },
  {
   "cell_type": "code",
   "execution_count": 67,
   "metadata": {},
   "outputs": [],
   "source": [
    "def pattern_match(pattern: str, string: str) -> bool:\n",
    "    \"Match `pattern` containing `*` and `?` to `string`.\"\n",
    "    pl = len(pattern)\n",
    "    sl = len(string)\n",
    "\n",
    "    p = s = bp = bs = 0\n",
    "\n",
    "    skip_stars = lambda: next((i for i in range(p, pl) if pattern[i] != \"*\"), pl)\n",
    "\n",
    "    while s < sl:\n",
    "        if p < pl and pattern[p] in (\"?\", string[s]):\n",
    "            p += 1\n",
    "            s += 1\n",
    "        elif p < pl and pattern[p] == \"*\":\n",
    "            bp = p = skip_stars()\n",
    "            bs = s\n",
    "        elif bp:\n",
    "            # backtrack\n",
    "            p = bp\n",
    "            s = bs = bs + 1\n",
    "        else:\n",
    "            return False\n",
    "\n",
    "    return skip_stars() == pl\n"
   ]
  },
  {
   "cell_type": "code",
   "execution_count": 68,
   "metadata": {},
   "outputs": [
    {
     "data": {
      "text/plain": [
       "True"
      ]
     },
     "execution_count": 68,
     "metadata": {},
     "output_type": "execute_result"
    }
   ],
   "source": [
    "pattern_match(\"?*a*\", \"cab\")"
   ]
  },
  {
   "cell_type": "code",
   "execution_count": null,
   "metadata": {},
   "outputs": [],
   "source": []
  }
 ],
 "metadata": {
  "kernelspec": {
   "display_name": "Python 3",
   "language": "python",
   "name": "python3"
  },
  "language_info": {
   "codemirror_mode": {
    "name": "ipython",
    "version": 3
   },
   "file_extension": ".py",
   "mimetype": "text/x-python",
   "name": "python",
   "nbconvert_exporter": "python",
   "pygments_lexer": "ipython3",
   "version": "3.10.12"
  }
 },
 "nbformat": 4,
 "nbformat_minor": 2
}
