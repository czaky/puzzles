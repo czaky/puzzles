{
 "cells": [
  {
   "cell_type": "code",
   "execution_count": 1,
   "metadata": {},
   "outputs": [
    {
     "name": "stdout",
     "output_type": "stream",
     "text": [
      "\n"
     ]
    }
   ],
   "source": [
    "# ruff: noqa: F401, E402, T201, T203, D103\n",
    "\n",
    "from __future__ import annotations\n",
    "\n",
    "import math\n",
    "import sys\n",
    "import time\n",
    "from bisect import bisect_left, bisect_right\n",
    "from collections import Counter, deque\n",
    "from functools import cmp_to_key, lru_cache, reduce\n",
    "from heapq import heapify, heappop, heappush, heappushpop, nsmallest\n",
    "from importlib import reload\n",
    "from itertools import (\n",
    "    accumulate,\n",
    "    chain,\n",
    "    combinations,\n",
    "    islice,\n",
    "    pairwise,\n",
    "    permutations,\n",
    "    product,\n",
    "    repeat,\n",
    "    starmap,\n",
    "    tee,\n",
    ")\n",
    "from math import comb, exp, factorial, inf, log, prod, sqrt\n",
    "from operator import add, and_, contains, indexOf, itemgetter, mul, neg, or_, xor\n",
    "from pprint import pprint\n",
    "from typing import Callable, Iterable, List, Tuple\n",
    "\n",
    "import matplotlib.pyplot as plt\n",
    "import networkx as nx\n",
    "import numpy as np\n",
    "from multiprocess import Process\n",
    "\n",
    "import arrays\n",
    "import combinatorics\n",
    "import graphs\n",
    "import lists\n",
    "import mathematics\n",
    "import matrix\n",
    "import parsing\n",
    "import search\n",
    "import sequences\n",
    "import sets\n",
    "import stack\n",
    "import strings\n",
    "import trees\n",
    "\n",
    "for m in (\n",
    "    arrays,\n",
    "    combinatorics,\n",
    "    graphs,\n",
    "    lists,\n",
    "    mathematics,\n",
    "    matrix,\n",
    "    parsing,\n",
    "    search,\n",
    "    sequences,\n",
    "    sets,\n",
    "    stack,\n",
    "    strings,\n",
    "    trees,\n",
    "):\n",
    "    reload(m)\n",
    "\n",
    "\n",
    "from combinatorics import fib\n",
    "from search import lower_index, upper_index\n",
    "from sequences import find_if\n",
    "from strings import splint\n",
    "\n",
    "print()\n"
   ]
  },
  {
   "cell_type": "code",
   "execution_count": 83,
   "metadata": {},
   "outputs": [],
   "source": [
    "def all_longest_common_subsequences(a: str, b: str) -> list:\n",
    "    # determine the length of the lcs.\n",
    "    ll = [[0, 0] for _ in range(len(a) + 1)]\n",
    "    for j, i in product(range(len(b)), range(len(a))):\n",
    "        ll[i + 1][1 - j & 1] = (\n",
    "            1 + ll[i][j & 1]\n",
    "            if a[i] == b[j]\n",
    "            else max(ll[i + 1][j & 1], ll[i][1 - j & 1])\n",
    "        )\n",
    "\n",
    "    results = set()\n",
    "\n",
    "    def bt(si: int, sj: int, s: list, l: int) -> None:\n",
    "        if l == 0:\n",
    "            results.add(\"\".join(a[i] for i in s))\n",
    "            return\n",
    "        for i in range(si, len(a)):\n",
    "            # find the next char in b that matches.\n",
    "            j = b.find(a[i], sj)\n",
    "            if j >= 0:\n",
    "                s.append(i)\n",
    "                bt(i + 1, j + 1, s, l - 1)\n",
    "                s.pop()\n",
    "\n",
    "    bt(0, 0, [], max(ll[-1]))\n",
    "    return sorted(results)\n"
   ]
  },
  {
   "cell_type": "code",
   "execution_count": 84,
   "metadata": {},
   "outputs": [
    {
     "name": "stdout",
     "output_type": "stream",
     "text": [
      "[[0, 0], [1, 1], [1, 1], [2, 2]]\n"
     ]
    },
    {
     "data": {
      "text/plain": [
       "['cb']"
      ]
     },
     "execution_count": 84,
     "metadata": {},
     "output_type": "execute_result"
    }
   ],
   "source": [
    "all_longest_common_subsequences(\"cfb\", \"aceba\")\n"
   ]
  },
  {
   "cell_type": "code",
   "execution_count": 85,
   "metadata": {},
   "outputs": [
    {
     "name": "stdout",
     "output_type": "stream",
     "text": [
      "[[0, 0], [1, 1], [2, 2], [3, 3], [3, 3], [3, 4], [3, 4], [4, 4]]\n"
     ]
    },
    {
     "data": {
      "text/plain": [
       "['aaaa', 'abaa', 'baaa']"
      ]
     },
     "execution_count": 85,
     "metadata": {},
     "output_type": "execute_result"
    }
   ],
   "source": [
    "all_longest_common_subsequences(\"baabaca\", \"abaaa\")\n"
   ]
  },
  {
   "cell_type": "code",
   "execution_count": 86,
   "metadata": {},
   "outputs": [
    {
     "name": "stdout",
     "output_type": "stream",
     "text": [
      "[[0, 0], [1, 1], [2, 2], [3, 3], [3, 4], [4, 4]]\n"
     ]
    },
    {
     "data": {
      "text/plain": [
       "['aaaa', 'abaa', 'baaa']"
      ]
     },
     "execution_count": 86,
     "metadata": {},
     "output_type": "execute_result"
    }
   ],
   "source": [
    "all_longest_common_subsequences(\"abaaa\", \"baabaca\")\n"
   ]
  },
  {
   "cell_type": "code",
   "execution_count": 87,
   "metadata": {},
   "outputs": [
    {
     "name": "stdout",
     "output_type": "stream",
     "text": [
      "[[0, 0], [1, 1], [2, 2], [3, 3], [4, 4], [4, 5]]\n"
     ]
    },
    {
     "data": {
      "text/plain": [
       "['abaaa']"
      ]
     },
     "execution_count": 87,
     "metadata": {},
     "output_type": "execute_result"
    }
   ],
   "source": [
    "all_longest_common_subsequences(\"abaaa\", \"abaaa\")\n"
   ]
  },
  {
   "cell_type": "code",
   "execution_count": null,
   "metadata": {},
   "outputs": [],
   "source": []
  }
 ],
 "metadata": {
  "kernelspec": {
   "display_name": "Python 3",
   "language": "python",
   "name": "python3"
  },
  "language_info": {
   "codemirror_mode": {
    "name": "ipython",
    "version": 3
   },
   "file_extension": ".py",
   "mimetype": "text/x-python",
   "name": "python",
   "nbconvert_exporter": "python",
   "pygments_lexer": "ipython3",
   "version": "3.10.12"
  }
 },
 "nbformat": 4,
 "nbformat_minor": 2
}
