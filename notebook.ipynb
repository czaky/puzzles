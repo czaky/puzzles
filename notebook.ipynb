{
 "cells": [
  {
   "cell_type": "code",
   "execution_count": 4,
   "metadata": {
    "metadata": {}
   },
   "outputs": [],
   "source": [
    "# ruff: noqa: F401, E402, T201, T203, D103\n",
    "\n",
    "from __future__ import annotations\n",
    "\n",
    "import math\n",
    "import sys\n",
    "import time\n",
    "from bisect import bisect_left, bisect_right\n",
    "from collections import Counter, deque\n",
    "from functools import cmp_to_key, lru_cache, reduce\n",
    "from heapq import heapify, heappop, heappush, heappushpop, nsmallest\n",
    "from importlib import reload\n",
    "from itertools import (\n",
    "    accumulate,\n",
    "    chain,\n",
    "    combinations,\n",
    "    islice,\n",
    "    pairwise,\n",
    "    permutations,\n",
    "    product,\n",
    "    repeat,\n",
    "    starmap,\n",
    "    tee,\n",
    ")\n",
    "from math import comb, exp, factorial, inf, log, prod, sqrt\n",
    "from operator import add, and_, contains, indexOf, itemgetter, mul, neg, or_, xor\n",
    "from pprint import pformat, pprint\n",
    "from typing import Callable, Iterable, Iterator, List, Tuple\n",
    "\n",
    "import matplotlib.pyplot as plt\n",
    "import networkx as nx\n",
    "import numpy as np\n",
    "from IPython.display import HTML, clear_output, display\n",
    "\n",
    "import arrays\n",
    "import bits\n",
    "import combinatorics\n",
    "import graphs\n",
    "import grid\n",
    "import lists\n",
    "import mathematics\n",
    "import matrix\n",
    "import parsing\n",
    "import search\n",
    "import sequences\n",
    "import sets\n",
    "import sorting\n",
    "import stack\n",
    "import strings\n",
    "import trees\n",
    "\n",
    "for m in (\n",
    "    arrays,\n",
    "    bits,\n",
    "    combinatorics,\n",
    "    graphs,\n",
    "    grid,\n",
    "    lists,\n",
    "    mathematics,\n",
    "    matrix,\n",
    "    parsing,\n",
    "    search,\n",
    "    sequences,\n",
    "    sets,\n",
    "    sorting,\n",
    "    stack,\n",
    "    strings,\n",
    "    trees,\n",
    "):\n",
    "    reload(m)\n",
    "\n",
    "\n",
    "from combinatorics import fib\n",
    "from mathematics import prime_numbers as primes\n",
    "from search import lower_index, upper_index\n",
    "from sequences import find_if\n",
    "from strings import splint\n",
    "\n",
    "np.set_printoptions(edgeitems=5, precision=3, linewidth=300)"
   ]
  },
  {
   "cell_type": "code",
   "execution_count": 45,
   "metadata": {},
   "outputs": [],
   "source": [
    "def crazy_chemist_mix(mixes: list, explosive: list) -> list:\n",
    "    \"\"\"Mix compounds from the `mixes` list. Avoid mixing `explosive` combinations.\n",
    "\n",
    "    Mixed ingredients build a joint set. Adding an ingredient to another,\n",
    "    adds it to the mix that the ingredient is already in. Ultimately,\n",
    "    this is a disjoint set problem resulting in sets that don't combine\n",
    "    any ingredients from the `explosive` list.\n",
    "\n",
    "    Parameters\n",
    "    ----------\n",
    "    mixes : list\n",
    "        pairs of ingredients to mix\n",
    "    explosive : list\n",
    "        pairs of ingredients to avoid\n",
    "\n",
    "    Returns\n",
    "    -------\n",
    "    list\n",
    "        a list of 0s and 1s, indicating when it is safe to mix ingredients\n",
    "        for each entry in the `mixes` list.\n",
    "\n",
    "    \"\"\"\n",
    "    n = max(max(a, b) for a, b in chain(mixes, explosive)) + 1\n",
    "    parents = list(range(n))\n",
    "    size = [1] * n\n",
    "\n",
    "    def parent(x: int) -> int:\n",
    "        \"\"\"Find the parent of `x`. Compress the path.\"\"\"\n",
    "        while x != parents[x]:\n",
    "            # Compress the set by halving.\n",
    "            x, parents[x] = parents[x], parents[parents[x]]\n",
    "        return x\n",
    "\n",
    "    emap = [set() for _ in range(n)]\n",
    "    for x, y in explosive:\n",
    "        emap[x].add(y)\n",
    "        emap[y].add(x)\n",
    "    safety = []\n",
    "    for a, b in mixes:\n",
    "        a, b = parent(a), parent(b)  # noqa: PLW2901\n",
    "        if a == b:\n",
    "            safety.append(1)\n",
    "            continue\n",
    "        if a in emap[b] or b in emap[a]:\n",
    "            # mixing a and b would produce an explosive mix\n",
    "            safety.append(0)\n",
    "            continue\n",
    "        safety.append(1)\n",
    "        if size[a] < size[b]:\n",
    "            a, b = b, a  # noqa: PLW2901\n",
    "        parents[b] = a\n",
    "        size[a] += size[b]\n",
    "        if emap[a] or emap[b]:\n",
    "            emap[a] = emap[b] = set(map(parent, emap[a] | emap[b]))\n",
    "    return safety"
   ]
  },
  {
   "cell_type": "code",
   "execution_count": 46,
   "metadata": {},
   "outputs": [
    {
     "data": {
      "text/plain": [
       "[1, 0, 1, 1, 0]"
      ]
     },
     "execution_count": 46,
     "metadata": {},
     "output_type": "execute_result"
    }
   ],
   "source": [
    "crazy_chemist_mix([[1, 2], [2, 3], [4, 5], [3, 5], [2, 4]], [[1, 3], [4, 2]])"
   ]
  },
  {
   "cell_type": "code",
   "execution_count": 47,
   "metadata": {},
   "outputs": [
    {
     "data": {
      "text/plain": [
       "[0, 1, 0]"
      ]
     },
     "execution_count": 47,
     "metadata": {},
     "output_type": "execute_result"
    }
   ],
   "source": [
    "crazy_chemist_mix([[1, 2], [2, 3], [1, 3]], [[1, 2], [1, 3]])"
   ]
  },
  {
   "cell_type": "code",
   "execution_count": 48,
   "metadata": {},
   "outputs": [
    {
     "data": {
      "text/plain": [
       "[1, 1, 1, 1, 0, 0, 1, 0, 1, 1, 1, 1, 1, 0, 0, 0, 1, 1, 1, 1]"
      ]
     },
     "execution_count": 48,
     "metadata": {},
     "output_type": "execute_result"
    }
   ],
   "source": [
    "crazy_chemist_mix(\n",
    "    [\n",
    "        [11, 8],\n",
    "        [16, 3],\n",
    "        [1, 10],\n",
    "        [13, 7],\n",
    "        [20, 1],\n",
    "        [11, 1],\n",
    "        [11, 9],\n",
    "        [20, 10],\n",
    "        [12, 17],\n",
    "        [20, 2],\n",
    "        [17, 7],\n",
    "        [15, 3],\n",
    "        [14, 18],\n",
    "        [11, 17],\n",
    "        [2, 1],\n",
    "        [10, 16],\n",
    "        [5, 15],\n",
    "        [15, 3],\n",
    "        [14, 13],\n",
    "        [11, 9],\n",
    "    ],\n",
    "    [\n",
    "        [2, 15],\n",
    "        [9, 16],\n",
    "        [17, 8],\n",
    "        [10, 9],\n",
    "        [13, 5],\n",
    "        [1, 18],\n",
    "        [12, 19],\n",
    "        [18, 11],\n",
    "        [14, 19],\n",
    "        [3, 1],\n",
    "        [19, 17],\n",
    "        [8, 5],\n",
    "        [20, 1],\n",
    "        [10, 6],\n",
    "        [8, 16],\n",
    "        [11, 2],\n",
    "        [16, 10],\n",
    "        [1, 8],\n",
    "        [2, 12],\n",
    "        [12, 9],\n",
    "    ],\n",
    ")"
   ]
  }
 ],
 "metadata": {
  "kernelspec": {
   "display_name": "Python 3",
   "language": "python",
   "name": "python3"
  },
  "language_info": {
   "codemirror_mode": {
    "name": "ipython",
    "version": 3
   },
   "file_extension": ".py",
   "mimetype": "text/x-python",
   "name": "python",
   "nbconvert_exporter": "python",
   "pygments_lexer": "ipython3",
   "version": "3.10.12"
  }
 },
 "nbformat": 4,
 "nbformat_minor": 2
}
