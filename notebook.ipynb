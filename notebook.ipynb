{
 "cells": [
  {
   "cell_type": "code",
   "execution_count": 18,
   "metadata": {},
   "outputs": [
    {
     "name": "stdout",
     "output_type": "stream",
     "text": [
      "\n"
     ]
    }
   ],
   "source": [
    "import math\n",
    "import numpy as np\n",
    "import sys\n",
    "from typing import List\n",
    "from functools import lru_cache, reduce, cmp_to_key\n",
    "from itertools import starmap, accumulate, chain, islice, product, tee, pairwise\n",
    "from collections import Counter, deque\n",
    "from heapq import heapify, heappushpop, heappop, heappush\n",
    "from operator import add, neg\n",
    "from bisect import bisect_right\n",
    "import matplotlib.pyplot as plt\n",
    "\n",
    "import arrays\n",
    "import trees\n",
    "import lists\n",
    "import graphs\n",
    "import search\n",
    "from importlib import reload\n",
    "reload(arrays)\n",
    "reload(trees)\n",
    "reload(lists)\n",
    "reload(graphs)\n",
    "reload(search)\n",
    "import arrays as ar\n",
    "import trees as tr\n",
    "import lists as ls\n",
    "import graphs as g\n",
    "from lists import Node\n",
    "print()"
   ]
  },
  {
   "cell_type": "code",
   "execution_count": 27,
   "metadata": {},
   "outputs": [
    {
     "data": {
      "text/plain": [
       "array([[10947479686243,   543329128100,              0],\n",
       "       [ 1629987384300,    80897124243,              0],\n",
       "       [ 2286812194644,   113495682244,              1]])"
      ]
     },
     "execution_count": 27,
     "metadata": {},
     "output_type": "execute_result"
    }
   ],
   "source": [
    "matrix_power = np.linalg.matrix_power\n",
    "\n",
    "matrix_power([[20, 1, 0], [3, 0, 0], [4, 0, 1]], 10)"
   ]
  },
  {
   "cell_type": "code",
   "execution_count": 31,
   "metadata": {},
   "outputs": [
    {
     "data": {
      "text/plain": [
       "array([[20,  4,  0],\n",
       "       [16,  4,  0],\n",
       "       [20,  4,  1]])"
      ]
     },
     "execution_count": 31,
     "metadata": {},
     "output_type": "execute_result"
    }
   ],
   "source": [
    "a = np.array([[4, 1, 0], [4, 0, 0], [4, 0, 1]])\n",
    "\n",
    "np.matmul(a, a)"
   ]
  },
  {
   "cell_type": "code",
   "execution_count": 137,
   "metadata": {},
   "outputs": [],
   "source": [
    "def fib(n, m):\n",
    "    if n < 3:\n",
    "        return 1\n",
    "    mat = np.array([[1, 1], [1, 0]])\n",
    "    res = np.array([1, 0])\n",
    "    n -= 2\n",
    "    while n > 0:\n",
    "        n, r = divmod(n, 2)\n",
    "        if r:\n",
    "            res = (res @ mat) % m\n",
    "        mat = (mat @ mat) % m\n",
    "    return sum(res) % m"
   ]
  },
  {
   "cell_type": "code",
   "execution_count": 138,
   "metadata": {},
   "outputs": [
    {
     "data": {
      "text/plain": [
       "89"
      ]
     },
     "execution_count": 138,
     "metadata": {},
     "output_type": "execute_result"
    }
   ],
   "source": [
    "fib(11, 1000000007)"
   ]
  },
  {
   "cell_type": "code",
   "execution_count": 144,
   "metadata": {},
   "outputs": [],
   "source": [
    "def generic_fib(a, b, c, n, m):\n",
    "    \"Return `n`th Fibonacci number of the form: `(a*f(n-1) + b*f(n-2) + c)%m`.\"\n",
    "    # Runs in O(log N)\n",
    "    if n < 3:\n",
    "        return 1\n",
    "    mat = np.array([[a, b, c], [1, 0, 0], [0, 0, 1]])\n",
    "    res = np.array([1, 0, 0])\n",
    "    n -= 2\n",
    "    while n > 0:\n",
    "        n, r = divmod(n, 2)\n",
    "        if r:\n",
    "            res = (res @ mat) % m\n",
    "        mat = (mat @ mat) % m\n",
    "    return sum(res) % m"
   ]
  },
  {
   "cell_type": "code",
   "execution_count": 145,
   "metadata": {},
   "outputs": [
    {
     "data": {
      "text/plain": [
       "14"
      ]
     },
     "execution_count": 145,
     "metadata": {},
     "output_type": "execute_result"
    }
   ],
   "source": [
    "generic_fib(2, 2, 2, 4, 100)"
   ]
  },
  {
   "cell_type": "code",
   "execution_count": null,
   "metadata": {},
   "outputs": [],
   "source": []
  }
 ],
 "metadata": {
  "kernelspec": {
   "display_name": "Python 3",
   "language": "python",
   "name": "python3"
  },
  "language_info": {
   "codemirror_mode": {
    "name": "ipython",
    "version": 3
   },
   "file_extension": ".py",
   "mimetype": "text/x-python",
   "name": "python",
   "nbconvert_exporter": "python",
   "pygments_lexer": "ipython3",
   "version": "3.10.12"
  }
 },
 "nbformat": 4,
 "nbformat_minor": 2
}
