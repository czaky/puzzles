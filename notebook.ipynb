{
 "cells": [
  {
   "cell_type": "code",
   "execution_count": 131,
   "metadata": {},
   "outputs": [
    {
     "name": "stdout",
     "output_type": "stream",
     "text": [
      "\n"
     ]
    }
   ],
   "source": [
    "import math\n",
    "from pprint import pprint\n",
    "from math import log\n",
    "import numpy as np\n",
    "import sys\n",
    "from typing import List, Tuple, Callable, Iterable\n",
    "from functools import lru_cache, reduce, cmp_to_key\n",
    "from itertools import (\n",
    "    starmap,\n",
    "    accumulate,\n",
    "    chain,\n",
    "    islice,\n",
    "    product,\n",
    "    tee,\n",
    "    pairwise,\n",
    "    combinations,\n",
    ")\n",
    "from collections import Counter, deque\n",
    "from heapq import heapify, heappushpop, heappop, heappush\n",
    "from operator import add, neg, itemgetter\n",
    "from bisect import bisect_right\n",
    "import matplotlib.pyplot as plt\n",
    "\n",
    "import arrays\n",
    "import trees\n",
    "import lists\n",
    "import graphs\n",
    "import search\n",
    "import strings\n",
    "import matrix\n",
    "from importlib import reload\n",
    "\n",
    "for m in (arrays, trees, lists, graphs, search, strings, matrix):\n",
    "    reload(m)\n",
    "\n",
    "import arrays as ar\n",
    "import trees as tr\n",
    "import lists as ll\n",
    "import graphs as g\n",
    "import strings as s\n",
    "import matrix as mt\n",
    "\n",
    "print()"
   ]
  },
  {
   "cell_type": "code",
   "execution_count": 84,
   "metadata": {},
   "outputs": [],
   "source": [
    "def optimum_multiplications(a: List[int]) -> int:\n",
    "    \"\"\"\n",
    "    Given a list of matrix sizes (a[i] x a[i+1])\n",
    "    return minimum number of operations.\n",
    "    \"\"\"\n",
    "\n",
    "    @lru_cache(None)\n",
    "    def sub(i, j):\n",
    "        # Multiplying (i, k) x (k, j) matrices gives: (i, j) matrix.\n",
    "        # The number of multiplications necessary is: i * k * j\n",
    "        # For each K we multiply two matrices resulting from recursive calls:\n",
    "        #   sub(i, k)     => (a[i - 1], a[k])\n",
    "        #   sub(k + 1, j) => (    a[k], a[j])\n",
    "        m = lambda k: sub(i, k) + a[i - 1] * a[k] * a[j] + sub(k + 1, j)\n",
    "        # Determine the optimal split for this range.\n",
    "        return min(map(m, range(i, j))) if i < j else 0\n",
    "\n",
    "    return sub(1, len(a) - 1)"
   ]
  },
  {
   "cell_type": "code",
   "execution_count": 124,
   "metadata": {},
   "outputs": [],
   "source": [
    "A = ord(\"A\")\n",
    "\n",
    "\n",
    "def optimum_brackets(a: List[int]) -> str:\n",
    "    \"\"\"\n",
    "    Given a list of matrix sizes (a[i] x a[i+1])\n",
    "    return optimal bracketed multiplication expression\n",
    "    in the form:  `A(BC)D`\n",
    "    \"\"\"\n",
    "\n",
    "    @lru_cache(None)\n",
    "    def sub(i, j):\n",
    "        # Multiplying (i, k) x (k, j) matrices gives: (i, j) matrix.\n",
    "        # The number of multiplications necessary is: i * k * j\n",
    "        # For each K we multiply two matrices resulting from recursive calls:\n",
    "        #   sub(i, k)     => (a[i - 1], a[k])\n",
    "        #   sub(k + 1, j) => (    a[k], a[j])\n",
    "        def split(k):\n",
    "            return sub(i, k)[0] + a[i - 1] * a[k] * a[j] + sub(k + 1, j)[0], k\n",
    "\n",
    "        # Determine the optimal split for this range.\n",
    "        return min(map(split, range(i, j))) if i < j else (0, i)\n",
    "\n",
    "    def par(i, j):\n",
    "        if i == j:\n",
    "            return chr(A + i - 1)\n",
    "        k = sub(i, j)[1]\n",
    "        return \"(\" + par(i, k) + par(k + 1, j) + \")\"\n",
    "\n",
    "    return par(1, len(a) - 1)"
   ]
  },
  {
   "cell_type": "code",
   "execution_count": 134,
   "metadata": {},
   "outputs": [
    {
     "data": {
      "text/plain": [
       "'A(B(CD))'"
      ]
     },
     "execution_count": 134,
     "metadata": {},
     "output_type": "execute_result"
    }
   ],
   "source": [
    "mt.optimum_brackets([5, 4, 3, 2, 1])"
   ]
  },
  {
   "cell_type": "code",
   "execution_count": 133,
   "metadata": {},
   "outputs": [
    {
     "data": {
      "text/plain": [
       "'A(BC)D'"
      ]
     },
     "execution_count": 133,
     "metadata": {},
     "output_type": "execute_result"
    }
   ],
   "source": [
    "mt.optimum_brackets([40, 20, 30, 10, 30])"
   ]
  },
  {
   "cell_type": "code",
   "execution_count": 86,
   "metadata": {},
   "outputs": [],
   "source": [
    "def get(p):\n",
    "    n = len(p)\n",
    "    m = [[0] * n for _ in range(n)]\n",
    "    for L in range(2, n):\n",
    "        for i in range(1, n - L + 1):\n",
    "            m[i][i + L - 1] = float(\"inf\")\n",
    "            for k in range(i, i + L - 1):\n",
    "                q = m[i][k] + m[k + 1][i + L - 1] + p[i - 1] * p[k] * p[i + L - 1]\n",
    "                if q < m[i][i + L - 1]:\n",
    "                    m[i][i + L - 1] = q\n",
    "    return m[1][n - 1]"
   ]
  },
  {
   "cell_type": "code",
   "execution_count": 88,
   "metadata": {},
   "outputs": [],
   "source": [
    "def find(s, p):\n",
    "    arr = []\n",
    "    ans = 0\n",
    "    for t in s:\n",
    "        if t == \"(\":\n",
    "            arr.append((-1, -1))\n",
    "        elif t == \")\":\n",
    "            b = arr.pop()\n",
    "            a = arr.pop()\n",
    "            arr.pop()\n",
    "            arr.append((a[0], b[1]))\n",
    "            ans += a[0] * a[1] * b[1]\n",
    "        else:\n",
    "            arr.append((p[ord(t) - ord(\"A\")], p[ord(t) - ord(\"A\") + 1]))\n",
    "    return ans"
   ]
  },
  {
   "cell_type": "code",
   "execution_count": 94,
   "metadata": {},
   "outputs": [
    {
     "data": {
      "text/plain": [
       "64"
      ]
     },
     "execution_count": 94,
     "metadata": {},
     "output_type": "execute_result"
    }
   ],
   "source": [
    "find(\"((ABC)D)\", [1, 2, 3, 4, 5])"
   ]
  },
  {
   "cell_type": "code",
   "execution_count": 87,
   "metadata": {},
   "outputs": [
    {
     "data": {
      "text/plain": [
       "38"
      ]
     },
     "execution_count": 87,
     "metadata": {},
     "output_type": "execute_result"
    }
   ],
   "source": [
    "get([1, 2, 3, 4, 5])"
   ]
  },
  {
   "cell_type": "code",
   "execution_count": 85,
   "metadata": {},
   "outputs": [
    {
     "data": {
      "text/plain": [
       "38"
      ]
     },
     "execution_count": 85,
     "metadata": {},
     "output_type": "execute_result"
    }
   ],
   "source": [
    "optimum_multiplications([1, 2, 3, 4, 5])"
   ]
  },
  {
   "cell_type": "code",
   "execution_count": null,
   "metadata": {},
   "outputs": [],
   "source": []
  }
 ],
 "metadata": {
  "kernelspec": {
   "display_name": "Python 3",
   "language": "python",
   "name": "python3"
  },
  "language_info": {
   "codemirror_mode": {
    "name": "ipython",
    "version": 3
   },
   "file_extension": ".py",
   "mimetype": "text/x-python",
   "name": "python",
   "nbconvert_exporter": "python",
   "pygments_lexer": "ipython3",
   "version": "3.10.12"
  }
 },
 "nbformat": 4,
 "nbformat_minor": 2
}
