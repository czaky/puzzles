{
 "cells": [
  {
   "cell_type": "code",
   "execution_count": 4,
   "metadata": {},
   "outputs": [
    {
     "name": "stdout",
     "output_type": "stream",
     "text": [
      "\n"
     ]
    }
   ],
   "source": [
    "# ruff: noqa: F401, E402\n",
    "import math\n",
    "import sys\n",
    "import time\n",
    "from bisect import bisect_left, bisect_right\n",
    "from collections import Counter, deque\n",
    "from functools import cmp_to_key, lru_cache, reduce\n",
    "from heapq import heapify, heappop, heappush, heappushpop, nsmallest\n",
    "from importlib import reload\n",
    "from itertools import (\n",
    "    accumulate,\n",
    "    chain,\n",
    "    combinations,\n",
    "    islice,\n",
    "    pairwise,\n",
    "    permutations,\n",
    "    product,\n",
    "    repeat,\n",
    "    starmap,\n",
    "    tee,\n",
    ")\n",
    "from math import comb, exp, factorial, log, prod, sqrt\n",
    "from operator import add, and_, contains, indexOf, itemgetter, mul, neg, or_, xor\n",
    "from pprint import pprint\n",
    "from typing import Callable, Iterable, List, Tuple\n",
    "\n",
    "import matplotlib.pyplot as plt\n",
    "import networkx as nx\n",
    "import numpy as np\n",
    "from multiprocess import Process\n",
    "\n",
    "import arrays\n",
    "import combinatorics\n",
    "import graphs\n",
    "import lists\n",
    "import mathematics\n",
    "import matrix\n",
    "import parsing\n",
    "import search\n",
    "import sequences\n",
    "import sets\n",
    "import stack\n",
    "import strings\n",
    "import trees\n",
    "\n",
    "for m in (\n",
    "    arrays,\n",
    "    combinatorics,\n",
    "    graphs,\n",
    "    lists,\n",
    "    mathematics,\n",
    "    matrix,\n",
    "    parsing,\n",
    "    search,\n",
    "    sequences,\n",
    "    sets,\n",
    "    stack,\n",
    "    strings,\n",
    "    trees,\n",
    "):\n",
    "    reload(m)\n",
    "\n",
    "\n",
    "from binary_index_tree import BinIndexTree\n",
    "from combinatorics import fib\n",
    "from parsing import format_binop_expression, parse_binop_expression\n",
    "from sequences import find_if\n",
    "from strings import StringView, splint\n",
    "\n",
    "print()\n"
   ]
  },
  {
   "cell_type": "code",
   "execution_count": 150,
   "metadata": {},
   "outputs": [],
   "source": [
    "from trees import Node, TreeNode\n",
    "\n",
    "INF: int = 10**10\n",
    "\n",
    "\n",
    "def min_bst_with_a_sum(r: Node, target: int) -> int:\n",
    "    def dfs(n: Node):\n",
    "        if not n:\n",
    "            # Return INF min node count and generous interval.\n",
    "            # mnc, nc, sum, mn, mx\n",
    "            return INF, 0, 0, INF, -INF\n",
    "        lmc, lc, ls, lmn, lmx = dfs(n.left)\n",
    "        rmc, rc, rs, rmn, rmx = dfs(n.right)\n",
    "        mc = min(lmc, rmc)\n",
    "        nc = lc + rc + 1\n",
    "        if mc < INF:\n",
    "            # We found the min count under this node.\n",
    "            # mn, nc, sum, mx, mnc\n",
    "            return mc, 0, 0, 0, 0\n",
    "        if not lmx < n.data < rmn:\n",
    "            # This is not a BST.\n",
    "            # Return INF min node count and prohibitive interval.\n",
    "            # mnc, nc, sum, mn, mx\n",
    "            return INF, 0, 0, -INF, INF\n",
    "        s = ls + rs + n.data\n",
    "        if s == target:\n",
    "            # This node is a BST with fitting target sum.\n",
    "            # mn, nc, sum, mx, mnc\n",
    "            return nc, 0, 0, 0, 0\n",
    "        # Propagate INFo upwards.\n",
    "        # Handle interval brackets for missing children.\n",
    "        return INF, nc, s, min(lmn, n.data), max(rmx, n.data)\n",
    "\n",
    "    mc = dfs(r)[0]\n",
    "    return int(mc) if mc < INF else -1\n"
   ]
  },
  {
   "cell_type": "code",
   "execution_count": 149,
   "metadata": {},
   "outputs": [
    {
     "data": {
      "text/plain": [
       "False"
      ]
     },
     "execution_count": 149,
     "metadata": {},
     "output_type": "execute_result"
    }
   ],
   "source": [
    "inf < inf + inf + 1\n"
   ]
  },
  {
   "cell_type": "code",
   "execution_count": 134,
   "metadata": {},
   "outputs": [
    {
     "name": "stdout",
     "output_type": "stream",
     "text": [
      "1_  \n",
      "  \\ \n",
      "  3 \n",
      " / \\\n",
      " 2 4\n"
     ]
    },
    {
     "data": {
      "text/plain": [
       "4"
      ]
     },
     "execution_count": 134,
     "metadata": {},
     "output_type": "execute_result"
    }
   ],
   "source": [
    "r = trees.make(\"1 N 3 2 4\")\n",
    "r.display()\n",
    "min_bst_with_a_sum(r, 10)\n"
   ]
  },
  {
   "cell_type": "code",
   "execution_count": 135,
   "metadata": {},
   "outputs": [
    {
     "name": "stdout",
     "output_type": "stream",
     "text": [
      "1_  \n",
      "  \\ \n",
      "  3 \n",
      " / \\\n",
      " 1 5\n"
     ]
    },
    {
     "data": {
      "text/plain": [
       "-1"
      ]
     },
     "execution_count": 135,
     "metadata": {},
     "output_type": "execute_result"
    }
   ],
   "source": [
    "r = trees.make(\"1 N 3 1 5\")\n",
    "r.display()\n",
    "min_bst_with_a_sum(r, 10)\n"
   ]
  },
  {
   "cell_type": "code",
   "execution_count": 137,
   "metadata": {},
   "outputs": [
    {
     "name": "stdout",
     "output_type": "stream",
     "text": [
      "            __27\n",
      "           /    \n",
      "          24_   \n",
      "         /   \\  \n",
      "  ______17  26  \n",
      " /              \n",
      "10___           \n",
      "     \\          \n",
      "    12_         \n",
      "   /   \\        \n",
      "  10  14        \n"
     ]
    },
    {
     "data": {
      "text/plain": [
       "-1"
      ]
     },
     "execution_count": 137,
     "metadata": {},
     "output_type": "execute_result"
    }
   ],
   "source": [
    "r = trees.make(\"27 24 N 17 26 10 N N N N 12 10 14\")\n",
    "r.display()\n",
    "min_bst_with_a_sum(r, 113)\n"
   ]
  },
  {
   "cell_type": "code",
   "execution_count": 138,
   "metadata": {},
   "outputs": [
    {
     "name": "stdout",
     "output_type": "stream",
     "text": [
      " 1 \n",
      "/ \\\n",
      "2 3\n"
     ]
    },
    {
     "data": {
      "text/plain": [
       "1"
      ]
     },
     "execution_count": 138,
     "metadata": {},
     "output_type": "execute_result"
    }
   ],
   "source": [
    "r = trees.make(\"1 2 3\")\n",
    "r.display()\n",
    "min_bst_with_a_sum(r, 2)\n"
   ]
  },
  {
   "cell_type": "code",
   "execution_count": 139,
   "metadata": {},
   "outputs": [
    {
     "name": "stdout",
     "output_type": "stream",
     "text": [
      " 2 \n",
      "/ \\\n",
      "1 3\n"
     ]
    },
    {
     "data": {
      "text/plain": [
       "-1"
      ]
     },
     "execution_count": 139,
     "metadata": {},
     "output_type": "execute_result"
    }
   ],
   "source": [
    "r = trees.make(\"2 1 3\")\n",
    "r.display()\n",
    "min_bst_with_a_sum(r, 2)\n"
   ]
  },
  {
   "cell_type": "code",
   "execution_count": 140,
   "metadata": {},
   "outputs": [
    {
     "name": "stdout",
     "output_type": "stream",
     "text": [
      " 2 \n",
      "/ \\\n",
      "1 3\n"
     ]
    },
    {
     "data": {
      "text/plain": [
       "3"
      ]
     },
     "execution_count": 140,
     "metadata": {},
     "output_type": "execute_result"
    }
   ],
   "source": [
    "r = trees.make(\"2 1 3\")\n",
    "r.display()\n",
    "min_bst_with_a_sum(r, 6)\n"
   ]
  },
  {
   "cell_type": "code",
   "execution_count": 141,
   "metadata": {},
   "outputs": [
    {
     "name": "stdout",
     "output_type": "stream",
     "text": [
      "1\n"
     ]
    },
    {
     "data": {
      "text/plain": [
       "1"
      ]
     },
     "execution_count": 141,
     "metadata": {},
     "output_type": "execute_result"
    }
   ],
   "source": [
    "r = trees.make(\"1\")\n",
    "r.display()\n",
    "min_bst_with_a_sum(r, 1)\n"
   ]
  },
  {
   "cell_type": "code",
   "execution_count": 142,
   "metadata": {},
   "outputs": [
    {
     "name": "stdout",
     "output_type": "stream",
     "text": [
      " 2 \n",
      "/ \\\n",
      "1 3\n"
     ]
    },
    {
     "data": {
      "text/plain": [
       "1"
      ]
     },
     "execution_count": 142,
     "metadata": {},
     "output_type": "execute_result"
    }
   ],
   "source": [
    "r = trees.make(\"2 1 3\")\n",
    "r.display()\n",
    "min_bst_with_a_sum(r, 1)\n"
   ]
  },
  {
   "cell_type": "code",
   "execution_count": 143,
   "metadata": {},
   "outputs": [
    {
     "name": "stdout",
     "output_type": "stream",
     "text": [
      " 1 \n",
      "/ \\\n",
      "2 3\n"
     ]
    },
    {
     "data": {
      "text/plain": [
       "1"
      ]
     },
     "execution_count": 143,
     "metadata": {},
     "output_type": "execute_result"
    }
   ],
   "source": [
    "r = trees.make(\"1 2 3\")\n",
    "r.display()\n",
    "min_bst_with_a_sum(r, 3)\n"
   ]
  },
  {
   "cell_type": "code",
   "execution_count": 145,
   "metadata": {},
   "outputs": [
    {
     "name": "stdout",
     "output_type": "stream",
     "text": [
      " ____13_ \n",
      "/       \\\n",
      "5___   23\n",
      "    \\    \n",
      "   17    \n",
      "  /      \n",
      " 16      \n"
     ]
    },
    {
     "data": {
      "text/plain": [
       "3"
      ]
     },
     "execution_count": 145,
     "metadata": {},
     "output_type": "execute_result"
    }
   ],
   "source": [
    "r = trees.make(\"13 5 23 N 17  N N 16\")\n",
    "r.display()\n",
    "min_bst_with_a_sum(r, 38)\n"
   ]
  },
  {
   "cell_type": "code",
   "execution_count": 146,
   "metadata": {},
   "outputs": [
    {
     "name": "stdout",
     "output_type": "stream",
     "text": [
      "                               ___________________________5146______________________________                              \n",
      "                              /                                                             \\                             \n",
      "               _____________8127____________                                 _____________4333______________              \n",
      "              /                             \\                               /                               \\             \n",
      "       _____7177______                _____370______                 _____3598______                 _____4005______      \n",
      "      /               \\              /              \\               /               \\               /               \\     \n",
      "   _2737__         _8147__         _918__        _2423__         _4418__         _3658__         _3965__         _3609__  \n",
      "  /       \\       /       \\       /      \\      /       \\       /       \\       /       \\       /       \\       /       \\ \n",
      "4506    7905    3531    5786    7069   5986   4125    3109    5378    3898    6654    2270    2614    8579    7243    8788\n"
     ]
    },
    {
     "data": {
      "text/plain": [
       "1"
      ]
     },
     "execution_count": 146,
     "metadata": {},
     "output_type": "execute_result"
    }
   ],
   "source": [
    "r = trees.make(\n",
    "    \"5146 8127 4333 7177 370 3598 4005 2737 8147 918 2423 4418 3658 \"\n",
    "    \"3965 3609 4506 7905 3531 5786 7069 5986 4125 3109 5378 3898 6654 \"\n",
    "    \"2270 2614 8579 7243 8788\"\n",
    ")\n",
    "r.display()\n",
    "min_bst_with_a_sum(r, 4125)\n"
   ]
  },
  {
   "cell_type": "code",
   "execution_count": null,
   "metadata": {},
   "outputs": [],
   "source": []
  }
 ],
 "metadata": {
  "kernelspec": {
   "display_name": "Python 3",
   "language": "python",
   "name": "python3"
  },
  "language_info": {
   "codemirror_mode": {
    "name": "ipython",
    "version": 3
   },
   "file_extension": ".py",
   "mimetype": "text/x-python",
   "name": "python",
   "nbconvert_exporter": "python",
   "pygments_lexer": "ipython3",
   "version": "3.10.12"
  }
 },
 "nbformat": 4,
 "nbformat_minor": 2
}
