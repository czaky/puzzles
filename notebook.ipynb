{
 "cells": [
  {
   "cell_type": "code",
   "execution_count": 45,
   "metadata": {
    "metadata": {}
   },
   "outputs": [],
   "source": [
    "# ruff: noqa: F401, E402, T201, T203, D103\n",
    "\n",
    "from __future__ import annotations\n",
    "\n",
    "import math\n",
    "import sys\n",
    "import time\n",
    "from bisect import bisect_left, bisect_right\n",
    "from collections import Counter, deque\n",
    "from functools import cmp_to_key, lru_cache, reduce\n",
    "from heapq import heapify, heappop, heappush, heappushpop, nsmallest\n",
    "from importlib import reload\n",
    "from itertools import (\n",
    "    accumulate,\n",
    "    chain,\n",
    "    combinations,\n",
    "    islice,\n",
    "    pairwise,\n",
    "    permutations,\n",
    "    product,\n",
    "    repeat,\n",
    "    starmap,\n",
    "    tee,\n",
    ")\n",
    "from math import comb, exp, factorial, inf, log, prod, sqrt\n",
    "from operator import add, and_, contains, indexOf, itemgetter, mul, neg, or_, xor\n",
    "from pprint import pformat, pprint\n",
    "from typing import Callable, Iterable, Iterator, List, Tuple\n",
    "\n",
    "import matplotlib.pyplot as plt\n",
    "import networkx as nx\n",
    "import numpy as np\n",
    "from IPython.display import HTML, clear_output, display\n",
    "\n",
    "import arrays\n",
    "import bits\n",
    "import combinatorics\n",
    "import graphs\n",
    "import grid\n",
    "import lists\n",
    "import mathematics\n",
    "import matrix\n",
    "import parsing\n",
    "import search\n",
    "import sequences\n",
    "import sets\n",
    "import sorting\n",
    "import stack\n",
    "import strings\n",
    "import trees\n",
    "\n",
    "for m in (\n",
    "    arrays,\n",
    "    bits,\n",
    "    combinatorics,\n",
    "    graphs,\n",
    "    grid,\n",
    "    lists,\n",
    "    mathematics,\n",
    "    matrix,\n",
    "    parsing,\n",
    "    search,\n",
    "    sequences,\n",
    "    sets,\n",
    "    sorting,\n",
    "    stack,\n",
    "    strings,\n",
    "    trees,\n",
    "):\n",
    "    reload(m)\n",
    "\n",
    "\n",
    "from combinatorics import fib\n",
    "from mathematics import prime_numbers as primes\n",
    "from search import lower_index, upper_index\n",
    "from sequences import find_if\n",
    "from strings import splint\n",
    "\n",
    "np.set_printoptions(edgeitems=5, precision=3, linewidth=300)"
   ]
  },
  {
   "cell_type": "code",
   "execution_count": 142,
   "metadata": {},
   "outputs": [],
   "source": [
    "def merge_email_accounts(accounts: list) -> list:\n",
    "    n = len(accounts)\n",
    "    parents = list(range(n))\n",
    "\n",
    "    def parent(n: int) -> int:\n",
    "        \"\"\"Find the parent of n. Compress the path.\"\"\"\n",
    "        while n != parents[n]:\n",
    "            # Compress the set by halving.\n",
    "            n, parents[n] = parents[n], parents[parents[n]]\n",
    "        return n\n",
    "\n",
    "    emails = {}\n",
    "    for i, a in enumerate(accounts):\n",
    "        for e in a[1:]:\n",
    "            parents[i] = i = parent(emails.setdefault(e, i))  # noqa: PLW2901\n",
    "\n",
    "    merged = [[] for _ in range(n)]\n",
    "    for e, i in emails.items():\n",
    "        merged[parent(i)].append(e)\n",
    "    any(map(list.sort, merged))\n",
    "    return sorted([accounts[i][0], *m] for i, m in enumerate(merged) if m)"
   ]
  },
  {
   "cell_type": "code",
   "execution_count": 143,
   "metadata": {},
   "outputs": [
    {
     "data": {
      "text/plain": [
       "[['John', 'john00@mail.com', 'john_newyork@mail.com', 'johnsmith@mail.com'],\n",
       " ['John', 'johnnybravo@mail.com'],\n",
       " ['Mary', 'mary@mail.com']]"
      ]
     },
     "execution_count": 143,
     "metadata": {},
     "output_type": "execute_result"
    }
   ],
   "source": [
    "merge_email_accounts(\n",
    "    [\n",
    "        [\"John\", \"johnsmith@mail.com\", \"john_newyork@mail.com\"],\n",
    "        [\"John\", \"johnsmith@mail.com\", \"john00@mail.com\"],\n",
    "        [\"Mary\", \"mary@mail.com\"],\n",
    "        [\"John\", \"johnnybravo@mail.com\"],\n",
    "    ]\n",
    ")"
   ]
  },
  {
   "cell_type": "code",
   "execution_count": 139,
   "metadata": {},
   "outputs": [
    {
     "data": {
      "text/plain": [
       "[['Ethan', 'Ethan0@m.co', 'Ethan4@m.co', 'Ethan5@m.co'],\n",
       " ['Fern', 'Fern0@m.co', 'Fern1@m.co', 'Fern5@m.co'],\n",
       " ['Gabe', 'Gabe00@m.co', 'Gabe1@m.co', 'Gabe3@m.co'],\n",
       " ['Hanzo', 'Hanzo0@m.co', 'Hanzo1@m.co', 'Hanzo3@m.co'],\n",
       " ['Kevin', 'Kevin0@m.co', 'Kevin3@m.co', 'Kevin5@m.co']]"
      ]
     },
     "execution_count": 139,
     "metadata": {},
     "output_type": "execute_result"
    }
   ],
   "source": [
    "merge_email_accounts(\n",
    "    [\n",
    "        [\"Gabe\", \"Gabe00@m.co\", \"Gabe3@m.co\", \"Gabe1@m.co\"],\n",
    "        [\"Kevin\", \"Kevin3@m.co\", \"Kevin5@m.co\", \"Kevin0@m.co\"],\n",
    "        [\"Ethan\", \"Ethan5@m.co\", \"Ethan4@m.co\", \"Ethan0@m.co\"],\n",
    "        [\"Hanzo\", \"Hanzo3@m.co\", \"Hanzo1@m.co\", \"Hanzo0@m.co\"],\n",
    "        [\"Fern\", \"Fern5@m.co\", \"Fern1@m.co\", \"Fern0@m.co\"],\n",
    "    ]\n",
    ")"
   ]
  },
  {
   "cell_type": "code",
   "execution_count": null,
   "metadata": {},
   "outputs": [],
   "source": []
  }
 ],
 "metadata": {
  "kernelspec": {
   "display_name": "Python 3",
   "language": "python",
   "name": "python3"
  },
  "language_info": {
   "codemirror_mode": {
    "name": "ipython",
    "version": 3
   },
   "file_extension": ".py",
   "mimetype": "text/x-python",
   "name": "python",
   "nbconvert_exporter": "python",
   "pygments_lexer": "ipython3",
   "version": "3.10.12"
  }
 },
 "nbformat": 4,
 "nbformat_minor": 2
}
