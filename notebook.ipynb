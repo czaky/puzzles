{
 "cells": [
  {
   "cell_type": "code",
   "execution_count": 3,
   "metadata": {
    "metadata": {}
   },
   "outputs": [
    {
     "name": "stdout",
     "output_type": "stream",
     "text": [
      "\n"
     ]
    }
   ],
   "source": [
    "# ruff: noqa: F401, E402, T201, T203, D103\n",
    "\n",
    "from __future__ import annotations\n",
    "\n",
    "import math\n",
    "import sys\n",
    "import time\n",
    "from bisect import bisect_left, bisect_right\n",
    "from collections import Counter, deque\n",
    "from functools import cmp_to_key, lru_cache, reduce\n",
    "from heapq import heapify, heappop, heappush, heappushpop, nsmallest\n",
    "from importlib import reload\n",
    "from itertools import (\n",
    "    accumulate,\n",
    "    chain,\n",
    "    combinations,\n",
    "    islice,\n",
    "    pairwise,\n",
    "    permutations,\n",
    "    product,\n",
    "    repeat,\n",
    "    starmap,\n",
    "    tee,\n",
    ")\n",
    "from math import comb, exp, factorial, inf, log, prod, sqrt\n",
    "from operator import add, and_, contains, indexOf, itemgetter, mul, neg, or_, xor\n",
    "from pprint import pformat, pprint\n",
    "from typing import Callable, Iterable, Iterator, List, Tuple\n",
    "\n",
    "import matplotlib.pyplot as plt\n",
    "import networkx as nx\n",
    "import numpy as np\n",
    "from IPython.display import HTML, clear_output, display\n",
    "\n",
    "import arrays\n",
    "import bits\n",
    "import combinatorics\n",
    "import graphs\n",
    "import grid\n",
    "import lists\n",
    "import mathematics\n",
    "import matrix\n",
    "import parsing\n",
    "import search\n",
    "import sequences\n",
    "import sets\n",
    "import sorting\n",
    "import stack\n",
    "import strings\n",
    "import trees\n",
    "\n",
    "for m in (\n",
    "    arrays,\n",
    "    bits,\n",
    "    combinatorics,\n",
    "    graphs,\n",
    "    grid,\n",
    "    lists,\n",
    "    mathematics,\n",
    "    matrix,\n",
    "    parsing,\n",
    "    search,\n",
    "    sequences,\n",
    "    sets,\n",
    "    sorting,\n",
    "    stack,\n",
    "    strings,\n",
    "    trees,\n",
    "):\n",
    "    reload(m)\n",
    "\n",
    "\n",
    "from combinatorics import fib\n",
    "from mathematics import prime_numbers as primes\n",
    "from search import lower_index, upper_index\n",
    "from sequences import find_if\n",
    "from strings import splint\n",
    "\n",
    "np.set_printoptions(linewidth=110)\n",
    "print()"
   ]
  },
  {
   "cell_type": "code",
   "execution_count": 81,
   "metadata": {},
   "outputs": [],
   "source": [
    "def quick(a: list[int], start: int = 0, stop: int | None = None) -> None:\n",
    "    \"\"\"Sort array `a` using quick sort on interval [start, stop.\"\"\"\n",
    "\n",
    "    def partition(i: int, j: int) -> None:\n",
    "        # `i` and `j` are inclusive.\n",
    "        # Divide the array a into two.\n",
    "        m = i + (j - i) // 2\n",
    "        # Sort a[i] <= a[m] <= a[j] and choose median.\n",
    "        # a[m] - will be the 3-point median.\n",
    "        if a[m] < a[i]:\n",
    "            a[m], a[i] = a[i], a[m]\n",
    "        if a[j] < a[i]:\n",
    "            a[j], a[i] = a[i], a[j]\n",
    "        if a[j] < a[m]:\n",
    "            a[j], a[m] = a[m], a[j]\n",
    "        # Select median as pivot.\n",
    "        p = a[m]\n",
    "        i -= 1\n",
    "        j += 1\n",
    "        while True:\n",
    "            i += 1\n",
    "            while a[i] < p:\n",
    "                i += 1\n",
    "            j -= 1\n",
    "            while p < a[j]:\n",
    "                j -= 1\n",
    "            if i >= j:\n",
    "                return j\n",
    "            a[i], a[j] = a[j], a[i]\n",
    "\n",
    "    if stop is None:\n",
    "        stop = len(a)\n",
    "    if start < stop - 1:\n",
    "        pi = partition(start, stop - 1) + 1\n",
    "        quick(a, start, pi)\n",
    "        quick(a, pi, stop)"
   ]
  },
  {
   "cell_type": "code",
   "execution_count": 82,
   "metadata": {},
   "outputs": [
    {
     "data": {
      "text/plain": [
       "[0, 2, 3, 3, 4, 4, 4, 5, 8, 9]"
      ]
     },
     "execution_count": 82,
     "metadata": {},
     "output_type": "execute_result"
    }
   ],
   "source": [
    "a = [9, 4, 8, 4, 5, 3, 3, 2, 4, 0]\n",
    "quick(a)\n",
    "a"
   ]
  },
  {
   "cell_type": "code",
   "execution_count": null,
   "metadata": {},
   "outputs": [],
   "source": []
  }
 ],
 "metadata": {
  "kernelspec": {
   "display_name": "Python 3",
   "language": "python",
   "name": "python3"
  },
  "language_info": {
   "codemirror_mode": {
    "name": "ipython",
    "version": 3
   },
   "file_extension": ".py",
   "mimetype": "text/x-python",
   "name": "python",
   "nbconvert_exporter": "python",
   "pygments_lexer": "ipython3",
   "version": "3.10.12"
  }
 },
 "nbformat": 4,
 "nbformat_minor": 2
}
