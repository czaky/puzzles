{
 "cells": [
  {
   "cell_type": "code",
   "execution_count": 205,
   "metadata": {},
   "outputs": [
    {
     "name": "stdout",
     "output_type": "stream",
     "text": [
      "\n"
     ]
    }
   ],
   "source": [
    "import math\n",
    "from pprint import pprint\n",
    "from math import log, factorial, sqrt\n",
    "import numpy as np\n",
    "import sys\n",
    "from typing import List, Tuple, Callable, Iterable\n",
    "from functools import lru_cache, reduce, cmp_to_key\n",
    "from itertools import (\n",
    "    starmap,\n",
    "    accumulate,\n",
    "    chain,\n",
    "    islice,\n",
    "    product,\n",
    "    tee,\n",
    "    pairwise,\n",
    "    combinations,\n",
    "    permutations,\n",
    ")\n",
    "from collections import Counter, deque\n",
    "from heapq import heapify, heappushpop, heappop, heappush\n",
    "from operator import add, neg, itemgetter, xor, and_, or_, indexOf\n",
    "from bisect import bisect_right, bisect_left\n",
    "import matplotlib.pyplot as plt\n",
    "\n",
    "import arrays\n",
    "import trees\n",
    "import lists\n",
    "import graphs\n",
    "import search\n",
    "import strings\n",
    "import sets\n",
    "import matrix\n",
    "import mathematics\n",
    "import sequences\n",
    "from importlib import reload\n",
    "\n",
    "for m in (\n",
    "    arrays,\n",
    "    trees,\n",
    "    lists,\n",
    "    graphs,\n",
    "    search,\n",
    "    strings,\n",
    "    sets,\n",
    "    sequences,\n",
    "    matrix,\n",
    "    mathematics,\n",
    "):\n",
    "    reload(m)\n",
    "\n",
    "import arrays as ar\n",
    "import trees as tr\n",
    "import lists as ll\n",
    "import graphs as g\n",
    "import strings as s\n",
    "import sets\n",
    "import matrix as mt\n",
    "import mathematics as m\n",
    "from sequences import find_if\n",
    "\n",
    "print()"
   ]
  },
  {
   "cell_type": "code",
   "execution_count": 208,
   "metadata": {},
   "outputs": [],
   "source": [
    "def rindex(a: list, v) -> int:\n",
    "    \"Return the rear index of `v` in `a`.\"\n",
    "    return len(a) - indexOf(reversed(a), v) - 1\n",
    "\n",
    "\n",
    "def two_repeated_numbers(a: List[int]) -> Tuple[int, int]:\n",
    "    \"Return two numbers that repeat in `a`.\"\n",
    "    n = len(a) - 2\n",
    "    s = -n * (n + 1) // 2\n",
    "    p = -n * (n + 1) * (2 * n + 1) // 6\n",
    "    for e in a:\n",
    "        s += e\n",
    "        p += e * e\n",
    "\n",
    "    b = -s\n",
    "    c = (s * s - p) // 2\n",
    "\n",
    "    r = int(sqrt(b * b - 4 * c))\n",
    "    x = max(-b + r, -b - r) // 2\n",
    "    y = s - x\n",
    "\n",
    "    xi, yi = rindex(a, x), rindex(a, y)\n",
    "\n",
    "    if yi < xi:\n",
    "        x, y = y, x\n",
    "\n",
    "    return x, y"
   ]
  },
  {
   "cell_type": "code",
   "execution_count": 246,
   "metadata": {},
   "outputs": [
    {
     "data": {
      "text/plain": [
       "[1, 2]"
      ]
     },
     "execution_count": 246,
     "metadata": {},
     "output_type": "execute_result"
    }
   ],
   "source": [
    "list(islice([1, 2, 3], 3 - 1))"
   ]
  },
  {
   "cell_type": "code",
   "execution_count": 251,
   "metadata": {},
   "outputs": [],
   "source": [
    "def assign(s, v, i):\n",
    "    f = s[i] = v\n",
    "    return f\n",
    "\n",
    "\n",
    "def two_repeated_numbers(a: List[int]) -> Tuple[int, int]:\n",
    "    \"Return repeated numbers in `a`.\"\n",
    "\n",
    "    def repeated(e):\n",
    "        f = a[abs(e)] = -a[abs(e)]\n",
    "        return f > 0 and abs(e)\n",
    "\n",
    "    return tuple(filter(None, map(repeated, a)))"
   ]
  },
  {
   "cell_type": "code",
   "execution_count": 252,
   "metadata": {},
   "outputs": [
    {
     "data": {
      "text/plain": [
       "(2, 3)"
      ]
     },
     "execution_count": 252,
     "metadata": {},
     "output_type": "execute_result"
    }
   ],
   "source": [
    "two_repeated_numbers([1, 2, 3, 2, 3, 4, 5])"
   ]
  },
  {
   "cell_type": "code",
   "execution_count": 211,
   "metadata": {},
   "outputs": [
    {
     "data": {
      "text/plain": [
       "6"
      ]
     },
     "execution_count": 211,
     "metadata": {},
     "output_type": "execute_result"
    }
   ],
   "source": [
    "4 * 3 // 2"
   ]
  },
  {
   "cell_type": "code",
   "execution_count": 253,
   "metadata": {},
   "outputs": [
    {
     "data": {
      "text/plain": [
       "()"
      ]
     },
     "execution_count": 253,
     "metadata": {},
     "output_type": "execute_result"
    }
   ],
   "source": [
    "tuple([])"
   ]
  },
  {
   "cell_type": "code",
   "execution_count": null,
   "metadata": {},
   "outputs": [],
   "source": []
  }
 ],
 "metadata": {
  "kernelspec": {
   "display_name": "Python 3",
   "language": "python",
   "name": "python3"
  },
  "language_info": {
   "codemirror_mode": {
    "name": "ipython",
    "version": 3
   },
   "file_extension": ".py",
   "mimetype": "text/x-python",
   "name": "python",
   "nbconvert_exporter": "python",
   "pygments_lexer": "ipython3",
   "version": "3.10.12"
  }
 },
 "nbformat": 4,
 "nbformat_minor": 2
}
