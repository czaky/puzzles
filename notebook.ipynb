{
 "cells": [
  {
   "cell_type": "code",
   "execution_count": 39,
   "metadata": {},
   "outputs": [
    {
     "name": "stdout",
     "output_type": "stream",
     "text": [
      "\n"
     ]
    }
   ],
   "source": [
    "# ruff: noqa: F401, E402\n",
    "import math\n",
    "import sys\n",
    "import time\n",
    "from bisect import bisect_left, bisect_right\n",
    "from collections import Counter, deque\n",
    "from functools import cmp_to_key, lru_cache, reduce\n",
    "from heapq import heapify, heappop, heappush, heappushpop, nsmallest\n",
    "from importlib import reload\n",
    "from itertools import (\n",
    "    accumulate,\n",
    "    chain,\n",
    "    combinations,\n",
    "    islice,\n",
    "    pairwise,\n",
    "    permutations,\n",
    "    product,\n",
    "    repeat,\n",
    "    starmap,\n",
    "    tee,\n",
    ")\n",
    "from math import comb, exp, factorial, log, prod, sqrt\n",
    "from operator import add, and_, contains, indexOf, itemgetter, mul, neg, or_, xor\n",
    "from pprint import pprint\n",
    "from typing import Callable, Iterable, List, Tuple\n",
    "\n",
    "import matplotlib.pyplot as plt\n",
    "import networkx as nx\n",
    "import numpy as np\n",
    "from multiprocess import Process\n",
    "\n",
    "import arrays\n",
    "import combinatorics\n",
    "import graphs\n",
    "import lists\n",
    "import mathematics\n",
    "import matrix\n",
    "import parsing\n",
    "import search\n",
    "import sequences\n",
    "import sets\n",
    "import stack\n",
    "import strings\n",
    "import trees\n",
    "\n",
    "for m in (\n",
    "    arrays,\n",
    "    combinatorics,\n",
    "    graphs,\n",
    "    lists,\n",
    "    mathematics,\n",
    "    matrix,\n",
    "    parsing,\n",
    "    search,\n",
    "    sequences,\n",
    "    sets,\n",
    "    stack,\n",
    "    strings,\n",
    "    trees,\n",
    "):\n",
    "    reload(m)\n",
    "\n",
    "\n",
    "from binary_index_tree import BinIndexTree\n",
    "from combinatorics import fib\n",
    "from parsing import format_binop_expression, parse_binop_expression\n",
    "from sequences import find_if\n",
    "from strings import StringView, splint\n",
    "\n",
    "print()\n"
   ]
  },
  {
   "cell_type": "code",
   "execution_count": 197,
   "metadata": {},
   "outputs": [],
   "source": [
    "from trees import TreeNode, Node\n",
    "\n",
    "\n",
    "def inorder_postorder_tangle(ino: list, post: list) -> Node:\n",
    "    def r(i: int, j: int):\n",
    "        if i < j:\n",
    "            n = TreeNode(next(it))\n",
    "            n.right, n.left = r(idx[n.data] + 1, j), r(i, idx[n.data])\n",
    "            return n\n",
    "        return None\n",
    "\n",
    "    idx = [0] * (max(ino) + 1)\n",
    "    for i, v in enumerate(ino):\n",
    "        idx[v] = i\n",
    "    it = reversed(post)\n",
    "    return r(0, len(ino))\n"
   ]
  },
  {
   "cell_type": "code",
   "execution_count": 200,
   "metadata": {},
   "outputs": [
    {
     "name": "stdout",
     "output_type": "stream",
     "text": [
      "   _1_  \n",
      "  /   \\ \n",
      " _2   3 \n",
      "/  \\ / \\\n",
      "4  5 6 7\n",
      " \\      \n",
      " 8      \n",
      "(((() 4 8) 2 5) 1 (6 3 7))\n"
     ]
    }
   ],
   "source": [
    "r = inorder_postorder_tangle([4, 8, 2, 5, 1, 6, 3, 7], [8, 4, 5, 2, 6, 7, 3, 1])\n",
    "r.display()\n",
    "print(r.serialize(\"in\"))\n"
   ]
  },
  {
   "cell_type": "code",
   "execution_count": 164,
   "metadata": {},
   "outputs": [
    {
     "name": "stdout",
     "output_type": "stream",
     "text": [
      " 1 \n",
      "/ \\\n",
      "2 3\n",
      "[2, 1, 3]\n",
      "[2, 3, 1]\n"
     ]
    }
   ],
   "source": [
    "t = trees.make(\"1 2 3\")\n",
    "t.display()\n",
    "print(list(t.inorder()))\n",
    "print(list(t.postorder()))\n"
   ]
  },
  {
   "cell_type": "code",
   "execution_count": 165,
   "metadata": {},
   "outputs": [
    {
     "name": "stdout",
     "output_type": "stream",
     "text": [
      "2  \n",
      " \\ \n",
      " 1 \n",
      "  \\\n",
      "  3\n",
      "[2, 1, 3]\n",
      "[3, 1, 2]\n"
     ]
    }
   ],
   "source": [
    "t = trees.make(\"2 N 1 N 3\")\n",
    "t.display()\n",
    "print(list(t.inorder()))\n",
    "print(list(t.postorder()))\n"
   ]
  },
  {
   "cell_type": "code",
   "execution_count": 166,
   "metadata": {},
   "outputs": [
    {
     "name": "stdout",
     "output_type": "stream",
     "text": [
      "2_ \n",
      "  \\\n",
      "  3\n",
      " / \n",
      " 1 \n",
      "[2, 1, 3]\n",
      "[1, 3, 2]\n"
     ]
    }
   ],
   "source": [
    "t = trees.make(\"2 N 3 1\")\n",
    "t.display()\n",
    "print(list(t.inorder()))\n",
    "print(list(t.postorder()))\n"
   ]
  },
  {
   "cell_type": "code",
   "execution_count": 169,
   "metadata": {},
   "outputs": [
    {
     "name": "stdout",
     "output_type": "stream",
     "text": [
      "1  \n",
      " \\ \n",
      " 3 \n",
      "  \\\n",
      "  2\n",
      "[1, 3, 2]\n",
      "[2, 3, 1]\n"
     ]
    }
   ],
   "source": [
    "t = trees.make(\"1 N 3 N 2\")\n",
    "t.display()\n",
    "print(list(t.inorder()))\n",
    "print(list(t.postorder()))\n"
   ]
  },
  {
   "cell_type": "code",
   "execution_count": 170,
   "metadata": {},
   "outputs": [
    {
     "name": "stdout",
     "output_type": "stream",
     "text": [
      "1_ \n",
      "  \\\n",
      "  3\n",
      " / \n",
      " 2 \n",
      "[1, 2, 3]\n",
      "[2, 3, 1]\n"
     ]
    }
   ],
   "source": [
    "t = trees.make(\"1 N 3 2\")\n",
    "t.display()\n",
    "print(list(t.inorder()))\n",
    "print(list(t.postorder()))\n"
   ]
  },
  {
   "cell_type": "code",
   "execution_count": null,
   "metadata": {},
   "outputs": [],
   "source": []
  }
 ],
 "metadata": {
  "kernelspec": {
   "display_name": "Python 3",
   "language": "python",
   "name": "python3"
  },
  "language_info": {
   "codemirror_mode": {
    "name": "ipython",
    "version": 3
   },
   "file_extension": ".py",
   "mimetype": "text/x-python",
   "name": "python",
   "nbconvert_exporter": "python",
   "pygments_lexer": "ipython3",
   "version": "3.10.12"
  }
 },
 "nbformat": 4,
 "nbformat_minor": 2
}
