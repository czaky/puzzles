{
 "cells": [
  {
   "cell_type": "code",
   "execution_count": 89,
   "metadata": {},
   "outputs": [
    {
     "name": "stdout",
     "output_type": "stream",
     "text": [
      "\n"
     ]
    }
   ],
   "source": [
    "import math\n",
    "import sys\n",
    "from typing import List\n",
    "from functools import lru_cache, reduce, cmp_to_key\n",
    "from itertools import starmap, accumulate, chain, islice, product, tee, pairwise\n",
    "from collections import Counter, deque\n",
    "from heapq import heapify, heappushpop, heappop, heappush\n",
    "from operator import add, neg\n",
    "from bisect import bisect_right\n",
    "import matplotlib.pyplot as plt\n",
    "\n",
    "import arrays\n",
    "import trees\n",
    "import lists\n",
    "import graphs\n",
    "from importlib import reload\n",
    "reload(arrays)\n",
    "reload(trees)\n",
    "reload(lists)\n",
    "reload(graphs)\n",
    "import arrays as ar\n",
    "import trees as tr\n",
    "import lists as ls\n",
    "import graphs as g\n",
    "from lists import Node\n",
    "print()"
   ]
  },
  {
   "cell_type": "code",
   "execution_count": 82,
   "metadata": {},
   "outputs": [],
   "source": [
    "def tree_distance(root, target):\n",
    "    def search(r):\n",
    "        if not r:\n",
    "            return 0, 0\n",
    "\n",
    "        fl, dl = search(r.left)\n",
    "        fr, dr = search(r.right)\n",
    "        return (\n",
    "            fl\n",
    "            and (fl + 1, max(fl + 1 + dr, dl))\n",
    "            or fr\n",
    "            and (fr + 1, max(fr + 1 + dl, dr))\n",
    "            or (int(r.data == target), max(dl, dr) + 1)\n",
    "        )\n",
    "\n",
    "    return search(root)[1] - 1"
   ]
  },
  {
   "cell_type": "code",
   "execution_count": 62,
   "metadata": {},
   "outputs": [
    {
     "data": {
      "text/plain": [
       "3"
      ]
     },
     "execution_count": 62,
     "metadata": {},
     "output_type": "execute_result"
    }
   ],
   "source": [
    "tree_distance(t, 4)"
   ]
  },
  {
   "cell_type": "code",
   "execution_count": 90,
   "metadata": {},
   "outputs": [
    {
     "name": "stdout",
     "output_type": "stream",
     "text": [
      "1     \n",
      " \\    \n",
      " 2    \n",
      "  \\   \n",
      "  3   \n",
      "   \\  \n",
      "   4  \n",
      "    \\ \n",
      "    5 \n",
      "     \\\n",
      "     6\n"
     ]
    }
   ],
   "source": [
    "t = tr.make_bfo('1 N 2 N 3 N 4 N 5 N 6')\n",
    "t.display()"
   ]
  },
  {
   "cell_type": "code",
   "execution_count": null,
   "metadata": {},
   "outputs": [],
   "source": []
  }
 ],
 "metadata": {
  "kernelspec": {
   "display_name": "Python 3",
   "language": "python",
   "name": "python3"
  },
  "language_info": {
   "codemirror_mode": {
    "name": "ipython",
    "version": 3
   },
   "file_extension": ".py",
   "mimetype": "text/x-python",
   "name": "python",
   "nbconvert_exporter": "python",
   "pygments_lexer": "ipython3",
   "version": "3.10.12"
  }
 },
 "nbformat": 4,
 "nbformat_minor": 2
}
