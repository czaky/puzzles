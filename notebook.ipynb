{
 "cells": [
  {
   "cell_type": "code",
   "execution_count": 1,
   "metadata": {
    "metadata": {}
   },
   "outputs": [
    {
     "name": "stdout",
     "output_type": "stream",
     "text": [
      "\n"
     ]
    }
   ],
   "source": [
    "# ruff: noqa: F401, E402, T201, T203, D103\n",
    "\n",
    "from __future__ import annotations\n",
    "\n",
    "import math\n",
    "import sys\n",
    "import time\n",
    "from bisect import bisect_left, bisect_right\n",
    "from collections import Counter, deque\n",
    "from functools import cmp_to_key, lru_cache, reduce\n",
    "from heapq import heapify, heappop, heappush, heappushpop, nsmallest\n",
    "from importlib import reload\n",
    "from itertools import (\n",
    "    accumulate,\n",
    "    chain,\n",
    "    combinations,\n",
    "    islice,\n",
    "    pairwise,\n",
    "    permutations,\n",
    "    product,\n",
    "    repeat,\n",
    "    starmap,\n",
    "    tee,\n",
    ")\n",
    "from math import comb, exp, factorial, inf, log, prod, sqrt\n",
    "from operator import add, and_, contains, indexOf, itemgetter, mul, neg, or_, xor\n",
    "from pprint import pformat, pprint\n",
    "from typing import Callable, Iterable, Iterator, List, Tuple\n",
    "\n",
    "import matplotlib.pyplot as plt\n",
    "import networkx as nx\n",
    "import numpy as np\n",
    "from IPython.display import HTML, clear_output, display\n",
    "\n",
    "import arrays\n",
    "import bits\n",
    "import combinatorics\n",
    "import graphs\n",
    "import grid\n",
    "import lists\n",
    "import mathematics\n",
    "import matrix\n",
    "import parsing\n",
    "import search\n",
    "import sequences\n",
    "import sets\n",
    "import stack\n",
    "import strings\n",
    "import trees\n",
    "\n",
    "for m in (\n",
    "    arrays,\n",
    "    bits,\n",
    "    combinatorics,\n",
    "    graphs,\n",
    "    grid,\n",
    "    lists,\n",
    "    mathematics,\n",
    "    matrix,\n",
    "    parsing,\n",
    "    search,\n",
    "    sequences,\n",
    "    sets,\n",
    "    stack,\n",
    "    strings,\n",
    "    trees,\n",
    "):\n",
    "    reload(m)\n",
    "\n",
    "\n",
    "from combinatorics import fib\n",
    "from mathematics import prime_numbers as primes\n",
    "from search import lower_index, upper_index\n",
    "from sequences import find_if\n",
    "from strings import splint\n",
    "\n",
    "np.set_printoptions(linewidth=110)\n",
    "print()"
   ]
  },
  {
   "cell_type": "code",
   "execution_count": 16,
   "metadata": {},
   "outputs": [
    {
     "name": "stdout",
     "output_type": "stream",
     "text": [
      "0: \t [0 1 0 1 0 1 0 1 0 1 0 1] \t [0 1 2 0 1 2 0 1 2 0 1 2] \t [0 1 2 3 0 1 2 3 0 1 2 3] \t [0 1 2 3 4 5 0 1 2 3 4 5]\n",
      "2: \t [0 1 0 1 0 1 0 1 0 1 0 1] \t [0 1 0 0 1 0 0 1 0 0 1 0] \t [0 1 0 1 0 1 0 1 0 1 0 1] \t [0 1 0 1 0 1 0 1 0 1 0 1]\n",
      "3: \t [0 1 0 1 0 1 0 1 0 1 0 1] \t [0 1 2 0 1 2 0 1 2 0 1 2] \t [0 1 2 0 0 1 2 0 0 1 2 0] \t [0 1 2 0 1 2 0 1 2 0 1 2]\n",
      "5: \t [0 1 0 1 0 1 0 1 0 1 0 1] \t [0 1 2 0 1 2 0 1 2 0 1 2] \t [0 1 2 3 0 1 2 3 0 1 2 3] \t [0 1 2 3 4 0 0 1 2 3 4 0]\n",
      "7: \t [0 1 0 1 0 1 0 1 0 1 0 1] \t [0 1 2 0 1 2 0 1 2 0 1 2] \t [0 1 2 3 0 1 2 3 0 1 2 3] \t [0 1 2 3 4 5 0 1 2 3 4 5]\n",
      "11: \t [0 1 0 1 0 1 0 1 0 1 0 1] \t [0 1 2 0 1 2 0 1 2 0 1 2] \t [0 1 2 3 0 1 2 3 0 1 2 3] \t [0 1 2 3 4 5 0 1 2 3 4 5]\n",
      "13: \t [0 1 0 1 0 1 0 1 0 1 0 1] \t [0 1 2 0 1 2 0 1 2 0 1 2] \t [0 1 2 3 0 1 2 3 0 1 2 3] \t [0 1 2 3 4 5 0 1 2 3 4 5]\n",
      "17: \t [0 1 0 1 0 1 0 1 0 1 0 1] \t [0 1 2 0 1 2 0 1 2 0 1 2] \t [0 1 2 3 0 1 2 3 0 1 2 3] \t [0 1 2 3 4 5 0 1 2 3 4 5]\n",
      "19: \t [0 1 0 1 0 1 0 1 0 1 0 1] \t [0 1 2 0 1 2 0 1 2 0 1 2] \t [0 1 2 3 0 1 2 3 0 1 2 3] \t [0 1 2 3 4 5 0 1 2 3 4 5]\n"
     ]
    }
   ],
   "source": [
    "a = np.tile(np.arange(2), 6)\n",
    "b = np.tile(np.arange(3), 4)\n",
    "c = np.tile(np.arange(4), 3)\n",
    "d = np.tile(np.arange(6), 2)\n",
    "print(f\"{0}: \\t {a} \\t {b} \\t {c} \\t {d}\")\n",
    "for i in primes(20):\n",
    "    print(f\"{i}: \\t {a % i} \\t {b % i} \\t {c % i} \\t {d % i}\")"
   ]
  },
  {
   "cell_type": "code",
   "execution_count": 46,
   "metadata": {},
   "outputs": [
    {
     "name": "stdout",
     "output_type": "stream",
     "text": [
      "1: \t [1 0 1 0 1 0 1 0 1 0 1 0 1 0 1 0 1 0 1 0 1 0 1 0] \t [1 2 0 1 2 0 1 2 0 1 2 0 1 2 0 1 2 0 1 2 0 1 2 0] \t [1 2 3 4 5 6 0 1 2 3 4 5 6 0 1 2 3 4 5 6 0 1 2 3]\n",
      "2: \t [0 0 0 0 0 0 0 0 0 0 0 0 0 0 0 0 0 0 0 0 0 0 0 0] \t [2 1 0 2 1 0 2 1 0 2 1 0 2 1 0 2 1 0 2 1 0 2 1 0] \t [2 4 6 1 3 5 0 2 4 6 1 3 5 0 2 4 6 1 3 5 0 2 4 6]\n",
      "3: \t [1 0 1 0 1 0 1 0 1 0 1 0 1 0 1 0 1 0 1 0 1 0 1 0] \t [0 0 0 0 0 0 0 0 0 0 0 0 0 0 0 0 0 0 0 0 0 0 0 0] \t [3 6 2 5 1 4 0 3 6 2 5 1 4 0 3 6 2 5 1 4 0 3 6 2]\n",
      "4: \t [0 0 0 0 0 0 0 0 0 0 0 0 0 0 0 0 0 0 0 0 0 0 0 0] \t [1 2 0 1 2 0 1 2 0 1 2 0 1 2 0 1 2 0 1 2 0 1 2 0] \t [4 1 5 2 6 3 0 4 1 5 2 6 3 0 4 1 5 2 6 3 0 4 1 5]\n",
      "5: \t [1 0 1 0 1 0 1 0 1 0 1 0 1 0 1 0 1 0 1 0 1 0 1 0] \t [2 1 0 2 1 0 2 1 0 2 1 0 2 1 0 2 1 0 2 1 0 2 1 0] \t [5 3 1 6 4 2 0 5 3 1 6 4 2 0 5 3 1 6 4 2 0 5 3 1]\n",
      "6: \t [0 0 0 0 0 0 0 0 0 0 0 0 0 0 0 0 0 0 0 0 0 0 0 0] \t [0 0 0 0 0 0 0 0 0 0 0 0 0 0 0 0 0 0 0 0 0 0 0 0] \t [6 5 4 3 2 1 0 6 5 4 3 2 1 0 6 5 4 3 2 1 0 6 5 4]\n",
      "7: \t [1 0 1 0 1 0 1 0 1 0 1 0 1 0 1 0 1 0 1 0 1 0 1 0] \t [1 2 0 1 2 0 1 2 0 1 2 0 1 2 0 1 2 0 1 2 0 1 2 0] \t [0 0 0 0 0 0 0 0 0 0 0 0 0 0 0 0 0 0 0 0 0 0 0 0]\n",
      "8: \t [0 0 0 0 0 0 0 0 0 0 0 0 0 0 0 0 0 0 0 0 0 0 0 0] \t [2 1 0 2 1 0 2 1 0 2 1 0 2 1 0 2 1 0 2 1 0 2 1 0] \t [1 2 3 4 5 6 0 1 2 3 4 5 6 0 1 2 3 4 5 6 0 1 2 3]\n",
      "9: \t [1 0 1 0 1 0 1 0 1 0 1 0 1 0 1 0 1 0 1 0 1 0 1 0] \t [0 0 0 0 0 0 0 0 0 0 0 0 0 0 0 0 0 0 0 0 0 0 0 0] \t [2 4 6 1 3 5 0 2 4 6 1 3 5 0 2 4 6 1 3 5 0 2 4 6]\n",
      "10: \t [0 0 0 0 0 0 0 0 0 0 0 0 0 0 0 0 0 0 0 0 0 0 0 0] \t [1 2 0 1 2 0 1 2 0 1 2 0 1 2 0 1 2 0 1 2 0 1 2 0] \t [3 6 2 5 1 4 0 3 6 2 5 1 4 0 3 6 2 5 1 4 0 3 6 2]\n",
      "11: \t [1 0 1 0 1 0 1 0 1 0 1 0 1 0 1 0 1 0 1 0 1 0 1 0] \t [2 1 0 2 1 0 2 1 0 2 1 0 2 1 0 2 1 0 2 1 0 2 1 0] \t [4 1 5 2 6 3 0 4 1 5 2 6 3 0 4 1 5 2 6 3 0 4 1 5]\n",
      "12: \t [0 0 0 0 0 0 0 0 0 0 0 0 0 0 0 0 0 0 0 0 0 0 0 0] \t [0 0 0 0 0 0 0 0 0 0 0 0 0 0 0 0 0 0 0 0 0 0 0 0] \t [5 3 1 6 4 2 0 5 3 1 6 4 2 0 5 3 1 6 4 2 0 5 3 1]\n",
      "13: \t [1 0 1 0 1 0 1 0 1 0 1 0 1 0 1 0 1 0 1 0 1 0 1 0] \t [1 2 0 1 2 0 1 2 0 1 2 0 1 2 0 1 2 0 1 2 0 1 2 0] \t [6 5 4 3 2 1 0 6 5 4 3 2 1 0 6 5 4 3 2 1 0 6 5 4]\n",
      "14: \t [0 0 0 0 0 0 0 0 0 0 0 0 0 0 0 0 0 0 0 0 0 0 0 0] \t [2 1 0 2 1 0 2 1 0 2 1 0 2 1 0 2 1 0 2 1 0 2 1 0] \t [0 0 0 0 0 0 0 0 0 0 0 0 0 0 0 0 0 0 0 0 0 0 0 0]\n",
      "15: \t [1 0 1 0 1 0 1 0 1 0 1 0 1 0 1 0 1 0 1 0 1 0 1 0] \t [0 0 0 0 0 0 0 0 0 0 0 0 0 0 0 0 0 0 0 0 0 0 0 0] \t [1 2 3 4 5 6 0 1 2 3 4 5 6 0 1 2 3 4 5 6 0 1 2 3]\n",
      "16: \t [0 0 0 0 0 0 0 0 0 0 0 0 0 0 0 0 0 0 0 0 0 0 0 0] \t [1 2 0 1 2 0 1 2 0 1 2 0 1 2 0 1 2 0 1 2 0 1 2 0] \t [2 4 6 1 3 5 0 2 4 6 1 3 5 0 2 4 6 1 3 5 0 2 4 6]\n",
      "17: \t [1 0 1 0 1 0 1 0 1 0 1 0 1 0 1 0 1 0 1 0 1 0 1 0] \t [2 1 0 2 1 0 2 1 0 2 1 0 2 1 0 2 1 0 2 1 0 2 1 0] \t [3 6 2 5 1 4 0 3 6 2 5 1 4 0 3 6 2 5 1 4 0 3 6 2]\n",
      "18: \t [0 0 0 0 0 0 0 0 0 0 0 0 0 0 0 0 0 0 0 0 0 0 0 0] \t [0 0 0 0 0 0 0 0 0 0 0 0 0 0 0 0 0 0 0 0 0 0 0 0] \t [4 1 5 2 6 3 0 4 1 5 2 6 3 0 4 1 5 2 6 3 0 4 1 5]\n",
      "19: \t [1 0 1 0 1 0 1 0 1 0 1 0 1 0 1 0 1 0 1 0 1 0 1 0] \t [1 2 0 1 2 0 1 2 0 1 2 0 1 2 0 1 2 0 1 2 0 1 2 0] \t [5 3 1 6 4 2 0 5 3 1 6 4 2 0 5 3 1 6 4 2 0 5 3 1]\n"
     ]
    }
   ],
   "source": [
    "a = np.arange(1, 25)\n",
    "for i in range(1, 20):\n",
    "    print(f\"{i}: \\t {(a * i) % 2} \\t {(a * i) % 3} \\t {(a * i) % 7}\")"
   ]
  },
  {
   "cell_type": "code",
   "execution_count": null,
   "metadata": {},
   "outputs": [],
   "source": []
  }
 ],
 "metadata": {
  "kernelspec": {
   "display_name": "Python 3",
   "language": "python",
   "name": "python3"
  },
  "language_info": {
   "codemirror_mode": {
    "name": "ipython",
    "version": 3
   },
   "file_extension": ".py",
   "mimetype": "text/x-python",
   "name": "python",
   "nbconvert_exporter": "python",
   "pygments_lexer": "ipython3",
   "version": "3.10.12"
  }
 },
 "nbformat": 4,
 "nbformat_minor": 2
}
