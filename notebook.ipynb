{
 "cells": [
  {
   "cell_type": "code",
   "execution_count": 60,
   "metadata": {},
   "outputs": [
    {
     "name": "stdout",
     "output_type": "stream",
     "text": [
      "\n"
     ]
    }
   ],
   "source": [
    "# ruff: noqa: F401, E402\n",
    "import math\n",
    "import sys\n",
    "import time\n",
    "from bisect import bisect_left, bisect_right\n",
    "from collections import Counter, deque\n",
    "from functools import cmp_to_key, lru_cache, reduce\n",
    "from heapq import heapify, heappop, heappush, heappushpop, nsmallest\n",
    "from importlib import reload\n",
    "from itertools import (\n",
    "    accumulate,\n",
    "    chain,\n",
    "    combinations,\n",
    "    islice,\n",
    "    pairwise,\n",
    "    permutations,\n",
    "    product,\n",
    "    repeat,\n",
    "    starmap,\n",
    "    tee,\n",
    ")\n",
    "from math import comb, exp, factorial, log, sqrt\n",
    "from operator import add, and_, contains, indexOf, itemgetter, neg, or_, xor\n",
    "from pprint import pprint\n",
    "from typing import Callable, Iterable, List, Tuple\n",
    "\n",
    "import matplotlib.pyplot as plt\n",
    "import networkx as nx\n",
    "import numpy as np\n",
    "from multiprocess import Process\n",
    "\n",
    "import arrays\n",
    "import combinatorics\n",
    "import graphs\n",
    "import lists\n",
    "import mathematics\n",
    "import matrix\n",
    "import parsing\n",
    "import search\n",
    "import sequences\n",
    "import sets\n",
    "import stack\n",
    "import strings\n",
    "import trees\n",
    "\n",
    "for m in (\n",
    "    arrays,\n",
    "    combinatorics,\n",
    "    graphs,\n",
    "    lists,\n",
    "    mathematics,\n",
    "    matrix,\n",
    "    parsing,\n",
    "    search,\n",
    "    sequences,\n",
    "    sets,\n",
    "    stack,\n",
    "    strings,\n",
    "    trees,\n",
    "):\n",
    "    reload(m)\n",
    "\n",
    "\n",
    "from combinatorics import fib\n",
    "from parsing import format_binop_expression, parse_binop_expression\n",
    "from sequences import find_if\n",
    "from strings import StringView, splint\n",
    "\n",
    "print()\n"
   ]
  },
  {
   "cell_type": "code",
   "execution_count": 62,
   "metadata": {},
   "outputs": [
    {
     "data": {
      "text/plain": [
       "-0.6180339887498949"
      ]
     },
     "execution_count": 62,
     "metadata": {},
     "output_type": "execute_result"
    }
   ],
   "source": [
    "(1.0 - 5.0**0.5) / 2.0\n"
   ]
  },
  {
   "cell_type": "code",
   "execution_count": 100,
   "metadata": {},
   "outputs": [],
   "source": [
    "LOG_GOLDEN_RATIO = log((1.0 + 5.0**0.5) / 2.0, 2)\n",
    "LOG_SQRT5 = log(5.0**0.5, 2)\n",
    "\n",
    "\n",
    "def fibc(n: int, m: int = 10**9 + 7) -> int:\n",
    "    \"Fibonacci number: `(fib(n-1) + fib(n-2)) % m`.\"\n",
    "    # Closed form.\n",
    "    return round(pow(2, LOG_GOLDEN_RATIO * n - LOG_SQRT5)) % m\n"
   ]
  },
  {
   "cell_type": "code",
   "execution_count": 102,
   "metadata": {},
   "outputs": [
    {
     "name": "stdout",
     "output_type": "stream",
     "text": [
      "0: 1 != 0  \t -1 \n",
      "73: 527403788 != 527403790  \t 2 \n",
      "75: 63197655 != 63197658  \t 3 \n",
      "76: 598991529 != 598991540  \t 11 \n",
      "77: 662189184 != 662189186  \t 2 \n",
      "78: 261180706 != 261180725  \t 19 \n",
      "79: 923369890 != 923369947  \t 57 \n",
      "80: 184550589 != 184550608  \t 19 \n",
      "81: 107920472 != 107920574  \t 102 \n",
      "82: 292471061 != 292471334  \t 273 \n",
      "83: 400391533 != 400391668  \t 135 \n",
      "84: 692862594 != 692863122  \t 528 \n",
      "85: 93254120 != 93254159  \t 39 \n",
      "86: 786116714 != 786117537  \t 823 \n",
      "87: 879370834 != 879373360  \t 2526 \n",
      "88: 665487541 != 665488266  \t 725 \n",
      "89: 544858368 != 544862771  \t 4403 \n",
      "90: 210345902 != 210358582  \t 12680 \n",
      "91: 755204270 != 755209577  \t 5307 \n",
      "92: 965550172 != 965572767  \t 22595 \n",
      "93: 720754435 != 720754689  \t 254 \n",
      "94: 686304600 != 686339737  \t 35137 \n",
      "95: 407059028 != 407174291  \t 115263 \n",
      "96: 93363621 != 93645093  \t 281472 \n",
      "97: 500422649 != 501032376  \t 609727 \n",
      "98: 593786270 != 593686237  \t -100033 \n",
      "99: 94208912 != 94440078  \t 231166 \n",
      "100: 687995182 != 688994667  \t 999485 \n",
      "101: 782204094 != 784876537  \t 2672443 \n",
      "102: 470199269 != 476296029  \t 6096760 \n",
      "103: 252403356 != 250228047  \t -2175309 \n",
      "104: 722602625 != 723509420  \t 906795 \n",
      "105: 975005981 != 983436795  \t 8430814 \n",
      "106: 697608599 != 723199136  \t 25590537 \n",
      "107: 672614573 != 731801748  \t 59187175 \n",
      "108: 370223165 != 495895341  \t 125672176 \n",
      "109: 42837731 != 32661946  \t -10175785 \n",
      "110: 413060896 != 476128487  \t 63067591 \n",
      "111: 455898627 != 680756897  \t 224858270 \n",
      "112: 868959523 != 442098049  \t -426861474 \n",
      "113: 324858143 != 584228379  \t 259370236 \n",
      "114: 193817659 != 798078357  \t 604260698 \n",
      "115: 518675802 != 859091397  \t 340415595 \n",
      "116: 712493461 != 717645658  \t 5152197 \n",
      "117: 231169256 != 730853635  \t 499684379 \n",
      "118: 943662717 != 548772915  \t -394889802 \n",
      "119: 174831966 != 601125623  \t 426293657 \n"
     ]
    }
   ],
   "source": [
    "for i in range(120):\n",
    "    if fib(i) != fibc(i):\n",
    "        print(f\"{i}: {fib(i)} != {fibc(i)}  \\t {fibc(i) - fib(i)} \")\n"
   ]
  },
  {
   "cell_type": "code",
   "execution_count": null,
   "metadata": {},
   "outputs": [],
   "source": []
  }
 ],
 "metadata": {
  "kernelspec": {
   "display_name": "Python 3",
   "language": "python",
   "name": "python3"
  },
  "language_info": {
   "codemirror_mode": {
    "name": "ipython",
    "version": 3
   },
   "file_extension": ".py",
   "mimetype": "text/x-python",
   "name": "python",
   "nbconvert_exporter": "python",
   "pygments_lexer": "ipython3",
   "version": "3.10.12"
  }
 },
 "nbformat": 4,
 "nbformat_minor": 2
}
