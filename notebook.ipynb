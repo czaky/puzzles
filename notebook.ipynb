{
 "cells": [
  {
   "cell_type": "code",
   "execution_count": 3,
   "metadata": {},
   "outputs": [
    {
     "name": "stdout",
     "output_type": "stream",
     "text": [
      "\n"
     ]
    }
   ],
   "source": [
    "import math\n",
    "from pprint import pprint\n",
    "from math import log, factorial\n",
    "import numpy as np\n",
    "import sys\n",
    "from typing import List, Tuple, Callable, Iterable\n",
    "from functools import lru_cache, reduce, cmp_to_key\n",
    "from itertools import (\n",
    "    starmap,\n",
    "    accumulate,\n",
    "    chain,\n",
    "    islice,\n",
    "    product,\n",
    "    tee,\n",
    "    pairwise,\n",
    "    combinations,\n",
    "    permutations,\n",
    ")\n",
    "from collections import Counter, deque\n",
    "from heapq import heapify, heappushpop, heappop, heappush\n",
    "from operator import add, neg, itemgetter, xor, and_, or_\n",
    "from bisect import bisect_right, bisect_left\n",
    "import matplotlib.pyplot as plt\n",
    "\n",
    "import arrays\n",
    "import trees\n",
    "import lists\n",
    "import graphs\n",
    "import search\n",
    "import strings\n",
    "import sets\n",
    "import matrix\n",
    "import mathematics\n",
    "import sequences\n",
    "from importlib import reload\n",
    "\n",
    "for m in (\n",
    "    arrays,\n",
    "    trees,\n",
    "    lists,\n",
    "    graphs,\n",
    "    search,\n",
    "    strings,\n",
    "    sets,\n",
    "    sequences,\n",
    "    matrix,\n",
    "    mathematics,\n",
    "):\n",
    "    reload(m)\n",
    "\n",
    "import arrays as ar\n",
    "import trees as tr\n",
    "import lists as ll\n",
    "import graphs as g\n",
    "import strings as s\n",
    "import sets\n",
    "import matrix as mt\n",
    "import mathematics as m\n",
    "from sequences import find_if\n",
    "\n",
    "print()"
   ]
  },
  {
   "cell_type": "code",
   "execution_count": 179,
   "metadata": {},
   "outputs": [],
   "source": [
    "def stack_boxes(dims: List[Tuple[int, int, int]]) -> int:\n",
    "    \"Stack boxes of dimensions `dims` and return max-height. Box dimensions may repeat and rotate.\"\n",
    "    s = set()\n",
    "    for x, y, z in dims:\n",
    "        x >= y and s.add((x, y, z))\n",
    "        y > x and s.add((y, x, z))\n",
    "\n",
    "        x >= z and s.add((x, z, y))\n",
    "        z > x and s.add((z, x, y))\n",
    "\n",
    "        y >= z and s.add((y, z, x))\n",
    "        z > y and s.add((z, y, x))\n",
    "\n",
    "    d = sorted(s, reverse=True)\n",
    "\n",
    "    @lru_cache(None)\n",
    "    def h(i: int) -> int:\n",
    "        f = lambda j: d[j][0] < d[i][0] and d[j][1] < d[i][1]\n",
    "        return d[i][2] + max(map(h, filter(f, range(i + 1, len(d)))), default=0)\n",
    "\n",
    "    return max(map(h, range(len(d))))"
   ]
  },
  {
   "cell_type": "code",
   "execution_count": 187,
   "metadata": {},
   "outputs": [],
   "source": [
    "def stack_boxes(dims: List[Tuple[int, int, int]]) -> int:\n",
    "    \"Stack boxes of dimensions `dims` and return max-height. Box dimensions may repeat and rotate.\"\n",
    "    s = set()\n",
    "    for x, y, z in dims:\n",
    "        s.add((max(y, z), min(y, z), x))\n",
    "        s.add((max(x, z), min(x, z), y))\n",
    "        s.add((max(x, y), min(x, y), z))\n",
    "    d = sorted(s, reverse=True)\n",
    "\n",
    "    @lru_cache(None)\n",
    "    def h(i: int) -> int:\n",
    "        fit = lambda j: d[j][0] < d[i][0] and d[j][1] < d[i][1]\n",
    "        return d[i][2] + max(map(h, filter(fit, range(i + 1, len(d)))), default=0)\n",
    "\n",
    "    return max(map(h, range(len(d))))"
   ]
  },
  {
   "cell_type": "code",
   "execution_count": 188,
   "metadata": {},
   "outputs": [
    {
     "data": {
      "text/plain": [
       "5"
      ]
     },
     "execution_count": 188,
     "metadata": {},
     "output_type": "execute_result"
    }
   ],
   "source": [
    "stack_boxes([(1, 5, 5)])"
   ]
  },
  {
   "cell_type": "code",
   "execution_count": 182,
   "metadata": {},
   "outputs": [
    {
     "data": {
      "text/plain": [
       "60"
      ]
     },
     "execution_count": 182,
     "metadata": {},
     "output_type": "execute_result"
    }
   ],
   "source": [
    "stack_boxes([(4, 6, 7), (1, 2, 3), (4, 5, 6), (10, 12, 32)])"
   ]
  },
  {
   "cell_type": "code",
   "execution_count": 183,
   "metadata": {},
   "outputs": [
    {
     "data": {
      "text/plain": [
       "15"
      ]
     },
     "execution_count": 183,
     "metadata": {},
     "output_type": "execute_result"
    }
   ],
   "source": [
    "stack_boxes([(1, 2, 3), (4, 5, 6), (3, 4, 1)])"
   ]
  },
  {
   "cell_type": "code",
   "execution_count": 184,
   "metadata": {},
   "outputs": [
    {
     "data": {
      "text/plain": [
       "10"
      ]
     },
     "execution_count": 184,
     "metadata": {},
     "output_type": "execute_result"
    }
   ],
   "source": [
    "stack_boxes([(1, 2, 9), (8, 6, 1)])"
   ]
  },
  {
   "cell_type": "code",
   "execution_count": null,
   "metadata": {},
   "outputs": [],
   "source": []
  }
 ],
 "metadata": {
  "kernelspec": {
   "display_name": "Python 3",
   "language": "python",
   "name": "python3"
  },
  "language_info": {
   "codemirror_mode": {
    "name": "ipython",
    "version": 3
   },
   "file_extension": ".py",
   "mimetype": "text/x-python",
   "name": "python",
   "nbconvert_exporter": "python",
   "pygments_lexer": "ipython3",
   "version": "3.10.12"
  }
 },
 "nbformat": 4,
 "nbformat_minor": 2
}
