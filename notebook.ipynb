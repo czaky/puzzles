{
 "cells": [
  {
   "cell_type": "code",
   "execution_count": 41,
   "metadata": {},
   "outputs": [
    {
     "name": "stdout",
     "output_type": "stream",
     "text": [
      "\n"
     ]
    }
   ],
   "source": [
    "# ruff: noqa: F401, E402, T201, T203, D103\n",
    "\n",
    "from __future__ import annotations\n",
    "\n",
    "import math\n",
    "import sys\n",
    "import time\n",
    "from bisect import bisect_left, bisect_right\n",
    "from collections import Counter, deque\n",
    "from functools import cmp_to_key, lru_cache, reduce\n",
    "from heapq import heapify, heappop, heappush, heappushpop, nsmallest\n",
    "from importlib import reload\n",
    "from itertools import (\n",
    "    accumulate,\n",
    "    chain,\n",
    "    combinations,\n",
    "    islice,\n",
    "    pairwise,\n",
    "    permutations,\n",
    "    product,\n",
    "    repeat,\n",
    "    starmap,\n",
    "    tee,\n",
    ")\n",
    "from math import comb, exp, factorial, inf, log, prod, sqrt\n",
    "from operator import add, and_, contains, indexOf, itemgetter, mul, neg, or_, xor\n",
    "from pprint import pformat, pprint\n",
    "from typing import Callable, Iterable, List, Tuple\n",
    "\n",
    "import matplotlib.pyplot as plt\n",
    "import networkx as nx\n",
    "import numpy as np\n",
    "from IPython.display import HTML, clear_output, display\n",
    "\n",
    "import arrays\n",
    "import combinatorics\n",
    "import graphs\n",
    "import grid\n",
    "import lists\n",
    "import mathematics\n",
    "import matrix\n",
    "import parsing\n",
    "import search\n",
    "import sequences\n",
    "import sets\n",
    "import stack\n",
    "import strings\n",
    "import trees\n",
    "\n",
    "for m in (\n",
    "    arrays,\n",
    "    combinatorics,\n",
    "    graphs,\n",
    "    grid,\n",
    "    lists,\n",
    "    mathematics,\n",
    "    matrix,\n",
    "    parsing,\n",
    "    search,\n",
    "    sequences,\n",
    "    sets,\n",
    "    stack,\n",
    "    strings,\n",
    "    trees,\n",
    "):\n",
    "    reload(m)\n",
    "\n",
    "\n",
    "from combinatorics import fib\n",
    "from search import lower_index, upper_index\n",
    "from sequences import find_if\n",
    "from strings import splint\n",
    "\n",
    "np.set_printoptions(linewidth=110)\n",
    "print()\n"
   ]
  },
  {
   "cell_type": "code",
   "execution_count": 279,
   "metadata": {},
   "outputs": [
    {
     "data": {
      "text/plain": [
       "True"
      ]
     },
     "execution_count": 279,
     "metadata": {},
     "output_type": "execute_result"
    }
   ],
   "source": [
    "(1, 2, 3, 4) > (1, 0)\n"
   ]
  },
  {
   "cell_type": "code",
   "execution_count": 123,
   "metadata": {},
   "outputs": [],
   "source": [
    "def shortest_path_with_walls(grid: list, k: int) -> int:\n",
    "    n, m = len(grid), len(grid[0])\n",
    "    v = [[None] * m for _ in grid]\n",
    "\n",
    "    i = 0\n",
    "    q = [(1, 0, 0, 0)]\n",
    "    while q:\n",
    "        i += 1\n",
    "        if i % 2 == 1:\n",
    "            display(v, clear=True)\n",
    "            display(len(q))\n",
    "        ln, walls, x, y = heappop(q)\n",
    "        if x == n - 1 and y == m - 1:\n",
    "            return ln - 1\n",
    "        if v[x][y] and v[x][y] < (ln, walls):\n",
    "            continue\n",
    "        v[x][y] = (ln, walls)\n",
    "        for dx, dy in ((-1, 0), (1, 0), (0, -1), (0, 1)):\n",
    "            cx, cy = x + dx, y + dy\n",
    "            if not (0 <= cx < n and 0 <= cy < m):\n",
    "                continue\n",
    "            cwalls = walls + grid[cx][cy]\n",
    "            if v[cx][cy] and v[cx][cy] < (ln + 1, cwalls):\n",
    "                continue\n",
    "            if cwalls > k:\n",
    "                continue\n",
    "            v[cx][cy] = (ln + 1, cwalls)\n",
    "            heappush(q, (ln + 1, cwalls, cx, cy))\n",
    "    return -1\n"
   ]
  },
  {
   "cell_type": "code",
   "execution_count": 139,
   "metadata": {},
   "outputs": [],
   "source": [
    "def shortest_path_with_walls(grid: list, k: int) -> int:\n",
    "    n, m = len(grid), len(grid[0])\n",
    "    v = [[None] * m for _ in grid]\n",
    "\n",
    "    i = 0\n",
    "    q = [(1, 0, 0, 0)]\n",
    "    while q:\n",
    "        i += 1\n",
    "        if i % 2 == 1:\n",
    "            display(v, clear=True)\n",
    "            display(len(q))\n",
    "        ln, walls, x, y = heappop(q)\n",
    "        if x == n - 1 and y == m - 1:\n",
    "            return ln - 1\n",
    "        if v[x][y] and v[x][y] < (ln, walls):\n",
    "            continue\n",
    "        v[x][y] = (ln, walls)\n",
    "        for dx, dy in ((-1, 0), (1, 0), (0, -1), (0, 1)):\n",
    "            cx, cy = x + dx, y + dy\n",
    "            if not (0 <= cx < n and 0 <= cy < m):\n",
    "                continue\n",
    "            cwalls = walls + grid[cx][cy]\n",
    "            if v[cx][cy]:  # and v[cx][cy] < (ln + 1, cwalls):\n",
    "                continue\n",
    "            if cwalls > k:\n",
    "                continue\n",
    "            v[cx][cy] = (ln + 1, cwalls)\n",
    "            heappush(q, (ln + 1, cwalls, cx, cy))\n",
    "    return -1\n"
   ]
  },
  {
   "cell_type": "code",
   "execution_count": 253,
   "metadata": {},
   "outputs": [],
   "source": [
    "def shortest_path_with_walls(g: list, k: int) -> int:\n",
    "    n, m = len(g), len(g[0])\n",
    "    mn = m * n\n",
    "    v = [[mn] * m for _ in g]\n",
    "    q = [(0, g[0][0], 0, 0)]\n",
    "    i = 0\n",
    "    while q:\n",
    "        i += 1\n",
    "        if i % 2 == 1:\n",
    "            display(v, clear=True)\n",
    "            display(len(q))\n",
    "        ln, w, x, y = heappop(q)\n",
    "        if x == n - 1 and y == m - 1:\n",
    "            display(v, clear=True)\n",
    "            display(len(q))\n",
    "            return ln\n",
    "        if v[x][y] < ln:\n",
    "            continue\n",
    "        v[x][y] = ln\n",
    "        ln += 1\n",
    "        for cx, cy in ((x - 1, y), (x + 1, y), (x, y - 1), (x, y + 1)):\n",
    "            if 0 <= cx < n and 0 <= cy < m and v[cx][cy] > ln and w + g[cx][cy] <= k:\n",
    "                v[cx][cy] = ln\n",
    "                heappush(q, (ln, w + g[cx][cy], cx, cy))\n",
    "    return -1\n"
   ]
  },
  {
   "cell_type": "code",
   "execution_count": 273,
   "metadata": {},
   "outputs": [],
   "source": [
    "def shortest_path_with_walls(g: list, k: int) -> int:\n",
    "    n, m = len(g), len(g[0])\n",
    "    mn = m * n\n",
    "    v = [[(mn, 0, 0, 0)] * m for _ in g]\n",
    "    q = deque([(0, g[0][0], 0, 0)])\n",
    "    i = 0\n",
    "    while q:\n",
    "        i += 1\n",
    "        if i % 10 == 1:\n",
    "            display(v, clear=True)\n",
    "            display(len(q))\n",
    "        pv = ln, w, px, py = q.popleft()\n",
    "        if px == n - 1 and py == m - 1:\n",
    "            display(v, clear=True)\n",
    "            display(len(q))\n",
    "            return ln\n",
    "        if pv > v[px][py]:\n",
    "            continue\n",
    "        v[px][py] = pv\n",
    "        for x, y in ((px - 1, py), (px + 1, py), (px, py - 1), (px, py + 1)):\n",
    "            if 0 <= x < n and 0 <= y < m:\n",
    "                nv = (ln + 1, w + g[x][y], x, y)\n",
    "                if v[x][y] > nv and nv[1] <= k:\n",
    "                    v[x][y] = nv\n",
    "                    q.append(nv)\n",
    "    return -1\n"
   ]
  },
  {
   "cell_type": "code",
   "execution_count": 341,
   "metadata": {},
   "outputs": [],
   "source": [
    "def shortest_path_with_walls(g: list, k: int) -> int:\n",
    "    n, m = len(g), len(g[0])\n",
    "    v = [[k + 1] * m for _ in g]\n",
    "    q = deque([(0, 0, 0, 0)])\n",
    "    i = 0\n",
    "    while q:\n",
    "        i += 1\n",
    "        if i % 10 == 1:\n",
    "            display(v, clear=True)\n",
    "            display(len(q))\n",
    "        ln, w, x, y = q.popleft()\n",
    "        if v[x][y] <= w:\n",
    "            continue\n",
    "        v[x][y] = w\n",
    "        if x == n - 1 and y == m - 1:\n",
    "            display(v, clear=True)\n",
    "            display(len(q))\n",
    "            return ln\n",
    "        ln += 1\n",
    "\n",
    "        def push(x: int, y: int) -> None:\n",
    "            if 0 <= x < n and 0 <= y < m and v[x][y] > w + g[x][y] <= k:\n",
    "                q.append((ln, w + g[x][y], x, y))\n",
    "\n",
    "        push(x + 1, y)\n",
    "        push(x - 1, y)\n",
    "        push(x, y + 1)\n",
    "        push(x, y - 1)\n",
    "    return -1\n"
   ]
  },
  {
   "cell_type": "code",
   "execution_count": 342,
   "metadata": {},
   "outputs": [
    {
     "data": {
      "text/plain": [
       "[[0, 1, 2, 3, 3],\n",
       " [0, 1, 1, 2, 2],\n",
       " [0, 1, 1, 2, 2],\n",
       " [0, 1, 1, 2, 2],\n",
       " [1, 2, 2, 3, 3]]"
      ]
     },
     "metadata": {},
     "output_type": "display_data"
    },
    {
     "data": {
      "text/plain": [
       "1"
      ]
     },
     "metadata": {},
     "output_type": "display_data"
    },
    {
     "data": {
      "text/plain": [
       "8"
      ]
     },
     "execution_count": 342,
     "metadata": {},
     "output_type": "execute_result"
    }
   ],
   "source": [
    "g = [\n",
    "    [1, 1, 1, 1, 1],\n",
    "    [0, 1, 0, 1, 0],\n",
    "    [0, 1, 0, 1, 0],\n",
    "    [0, 1, 0, 1, 0],\n",
    "    [1, 1, 1, 1, 0],\n",
    "]\n",
    "shortest_path_with_walls(g, 3)\n"
   ]
  },
  {
   "cell_type": "code",
   "execution_count": 343,
   "metadata": {},
   "outputs": [
    {
     "data": {
      "text/plain": [
       "[[0, 0, 1],\n",
       " [1, 0, 0],\n",
       " [0, 0, 0],\n",
       " [0, 0, 0],\n",
       " [1, 1, 0],\n",
       " [0, 0, 0],\n",
       " [0, 0, 0],\n",
       " [0, 1, 0],\n",
       " [0, 0, 0],\n",
       " [0, 0, 1],\n",
       " [0, 0, 0],\n",
       " [0, 0, 0],\n",
       " [1, 0, 0],\n",
       " [0, 0, 0],\n",
       " [0, 0, 0],\n",
       " [0, 0, 0],\n",
       " [0, 0, 1],\n",
       " [1, 0, 0],\n",
       " [0, 0, 0],\n",
       " [0, 0, 0],\n",
       " [0, 0, 0],\n",
       " [0, 0, 0],\n",
       " [0, 0, 0],\n",
       " [0, 0, 0],\n",
       " [1, 0, 0],\n",
       " [0, 0, 1],\n",
       " [0, 0, 0],\n",
       " [0, 0, 0],\n",
       " [0, 0, 1],\n",
       " [0, 1, 1],\n",
       " [3, 1, 3],\n",
       " [3, 3, 3],\n",
       " [5, 3, 4]]"
      ]
     },
     "metadata": {},
     "output_type": "display_data"
    },
    {
     "data": {
      "text/plain": [
       "16"
      ]
     },
     "metadata": {},
     "output_type": "display_data"
    },
    {
     "data": {
      "text/plain": [
       "34"
      ]
     },
     "execution_count": 343,
     "metadata": {},
     "output_type": "execute_result"
    }
   ],
   "source": [
    "g = grid.parse(\n",
    "    \"\"\"\\\n",
    "    0 0 1\n",
    "    1 0 0\n",
    "    0 0 0\n",
    "    0 0 0\n",
    "    1 1 0\n",
    "    0 0 0\n",
    "    0 0 0\n",
    "    0 1 0\n",
    "    0 0 0\n",
    "    0 0 1\n",
    "    0 0 0\n",
    "    0 0 0\n",
    "    1 0 0\n",
    "    0 0 0\n",
    "    0 0 0\n",
    "    0 0 0\n",
    "    0 0 1\n",
    "    1 0 0\n",
    "    0 0 0\n",
    "    0 0 0\n",
    "    0 0 0\n",
    "    0 0 0\n",
    "    0 0 0\n",
    "    0 0 0\n",
    "    1 0 0\n",
    "    0 0 1\n",
    "    0 0 0\n",
    "    0 0 0\n",
    "    0 0 1\n",
    "    0 1 0\n",
    "    1 0 0\n",
    "    0 0 0\n",
    "    0 0 0\"\"\",\n",
    ")\n",
    "\n",
    "shortest_path_with_walls(g, 4)\n"
   ]
  },
  {
   "cell_type": "code",
   "execution_count": 344,
   "metadata": {},
   "outputs": [],
   "source": [
    "g = grid.parse(\n",
    "    \"\"\"\n",
    "0 0 0 0 0 0 0 0 0 0 0 1 1 0 1 0 0\n",
    "0 0 0 0 0 0 0 0 0 0 0 0 1 0 0 0 1\n",
    "0 0 1 0 1 0 0 1 0 0 0 0 0 0 1 0 1\n",
    "0 0 1 0 0 0 0 1 0 0 0 0 0 0 0 0 0\n",
    "0 0 0 0 0 0 0 0 0 0 0 1 0 0 1 0 0\n",
    "0 0 0 0 1 0 0 0 0 0 0 0 0 0 0 0 1\n",
    "0 0 0 1 0 0 0 0 0 0 0 0 0 0 0 0 0\n",
    "1 0 0 0 0 0 0 0 0 0 1 0 0 0 0 0 0\n",
    "0 0 0 0 1 0 0 0 0 0 1 0 0 0 0 1 0\n",
    "0 0 0 0 1 1 0 0 0 0 0 0 1 0 0 0 0\n",
    "0 0 0 0 0 1 0 0 0 1 0 0 1 1 0 0 0\n",
    "0 0 0 0 0 0 0 0 0 0 0 0 0 0 0 0 0\n",
    "0 0 0 0 1 0 0 0 0 0 0 1 0 0 0 0 0\n",
    "0 0 1 0 0 0 0 0 0 0 0 0 0 0 0 0 0\n",
    "0 0 1 0 0 0 0 0 1 1 0 0 0 1 1 1 0\n",
    "0 0 0 0 0 0 0 0 0 0 0 0 0 0 0 0 1\n",
    "0 0 0 0 0 0 0 0 0 1 0 0 0 0 0 0 0\n",
    "0 0 0 0 0 0 0 0 1 0 0 0 0 0 0 1 0\n",
    "0 0 0 0 0 0 0 1 0 0 0 1 0 1 1 1 0\n",
    "0 0 0 0 0 0 0 0 0 0 1 0 0 1 0 0 0\n",
    "0 0 1 0 0 0 0 0 0 0 0 0 0 0 0 0 0\n",
    "0 0 1 0 1 1 0 0 0 0 0 0 0 0 0 0 0\n",
    "0 0 0 0 0 0 1 0 0 0 0 0 0 0 0 0 0\n",
    "1 0 1 0 0 0 0 0 0 0 0 0 0 0 0 0 0\n",
    "0 0 0 1 0 0 0 0 0 0 1 0 0 0 0 0 0\n",
    "0 0 0 0 0 0 0 0 0 0 0 1 1 1 0 0 0\n",
    "0 0 0 1 0 0 1 0 0 1 0 0 0 0 0 0 0\n",
    "0 0 0 0 0 0 0 0 1 0 0 0 0 0 0 0 1\n",
    "0 1 1 0 0 1 0 1 0 0 1 1 0 0 0 0 0\n",
    "0 0 0 0 0 0 0 0 1 0 0 1 1 0 0 0 0\"\"\",\n",
    ")\n"
   ]
  },
  {
   "cell_type": "code",
   "execution_count": 345,
   "metadata": {},
   "outputs": [
    {
     "data": {
      "text/plain": [
       "[[0, 0, 0, 0, 0, 0, 0, 0, 0, 0, 0, 1, 1, 0, 1, 0, 0],\n",
       " [0, 0, 0, 0, 0, 0, 0, 0, 0, 0, 0, 0, 1, 0, 0, 0, 1],\n",
       " [0, 0, 1, 0, 1, 0, 0, 1, 0, 0, 0, 0, 0, 0, 1, 0, 1],\n",
       " [0, 0, 1, 0, 0, 0, 0, 1, 0, 0, 0, 0, 0, 0, 0, 0, 0],\n",
       " [0, 0, 0, 0, 0, 0, 0, 0, 0, 0, 0, 1, 0, 0, 1, 0, 0],\n",
       " [0, 0, 0, 0, 1, 0, 0, 0, 0, 0, 0, 0, 0, 0, 0, 0, 1],\n",
       " [0, 0, 0, 1, 0, 0, 0, 0, 0, 0, 0, 0, 0, 0, 0, 0, 0],\n",
       " [1, 0, 0, 0, 0, 0, 0, 0, 0, 0, 1, 0, 0, 0, 0, 0, 0],\n",
       " [0, 0, 0, 0, 1, 0, 0, 0, 0, 0, 1, 0, 0, 0, 0, 1, 0],\n",
       " [0, 0, 0, 0, 1, 1, 0, 0, 0, 0, 0, 0, 1, 0, 0, 0, 0],\n",
       " [0, 0, 0, 0, 0, 1, 0, 0, 0, 1, 0, 0, 1, 1, 0, 0, 0],\n",
       " [0, 0, 0, 0, 0, 0, 0, 0, 0, 0, 0, 0, 0, 0, 0, 0, 0],\n",
       " [0, 0, 0, 0, 1, 0, 0, 0, 0, 0, 0, 1, 0, 0, 0, 0, 0],\n",
       " [0, 0, 1, 0, 0, 0, 0, 0, 0, 0, 0, 0, 0, 0, 0, 0, 0],\n",
       " [0, 0, 1, 0, 0, 0, 0, 0, 1, 1, 0, 0, 0, 1, 1, 1, 0],\n",
       " [0, 0, 0, 0, 0, 0, 0, 0, 0, 0, 0, 0, 0, 0, 0, 0, 1],\n",
       " [0, 0, 0, 0, 0, 0, 0, 0, 0, 1, 0, 0, 0, 0, 0, 0, 0],\n",
       " [0, 0, 0, 0, 0, 0, 0, 0, 1, 0, 0, 0, 0, 0, 0, 1, 0],\n",
       " [0, 0, 0, 0, 0, 0, 0, 1, 0, 0, 0, 1, 0, 1, 1, 1, 0],\n",
       " [0, 0, 0, 0, 0, 0, 0, 0, 0, 0, 1, 0, 0, 1, 0, 0, 0],\n",
       " [0, 0, 1, 0, 0, 0, 0, 0, 0, 0, 0, 0, 0, 0, 0, 0, 0],\n",
       " [0, 0, 1, 0, 1, 1, 0, 0, 0, 0, 0, 0, 0, 0, 0, 0, 0],\n",
       " [0, 0, 0, 0, 0, 0, 1, 0, 0, 0, 0, 0, 0, 0, 0, 0, 0],\n",
       " [1, 0, 1, 0, 0, 0, 0, 0, 0, 0, 0, 0, 0, 0, 0, 0, 0],\n",
       " [0, 0, 0, 1, 0, 0, 0, 0, 0, 0, 1, 0, 0, 0, 0, 0, 0],\n",
       " [0, 0, 0, 0, 0, 0, 0, 0, 0, 0, 0, 1, 1, 1, 0, 0, 0],\n",
       " [0, 0, 0, 1, 0, 0, 1, 0, 0, 1, 0, 0, 0, 0, 0, 0, 0],\n",
       " [0, 0, 0, 0, 0, 0, 0, 0, 1, 0, 0, 0, 0, 0, 0, 0, 1],\n",
       " [0, 1, 1, 0, 0, 1, 0, 1, 0, 0, 1, 1, 0, 0, 0, 0, 0],\n",
       " [0, 0, 0, 0, 0, 0, 0, 0, 1, 0, 0, 1, 1, 0, 0, 0, 0]]"
      ]
     },
     "metadata": {},
     "output_type": "display_data"
    },
    {
     "data": {
      "text/plain": [
       "1"
      ]
     },
     "metadata": {},
     "output_type": "display_data"
    },
    {
     "data": {
      "text/plain": [
       "45"
      ]
     },
     "execution_count": 345,
     "metadata": {},
     "output_type": "execute_result"
    }
   ],
   "source": [
    "shortest_path_with_walls(g, 0)\n"
   ]
  },
  {
   "cell_type": "code",
   "execution_count": null,
   "metadata": {},
   "outputs": [],
   "source": []
  }
 ],
 "metadata": {
  "kernelspec": {
   "display_name": "Python 3",
   "language": "python",
   "name": "python3"
  },
  "language_info": {
   "codemirror_mode": {
    "name": "ipython",
    "version": 3
   },
   "file_extension": ".py",
   "mimetype": "text/x-python",
   "name": "python",
   "nbconvert_exporter": "python",
   "pygments_lexer": "ipython3",
   "version": "3.10.12"
  }
 },
 "nbformat": 4,
 "nbformat_minor": 2
}
