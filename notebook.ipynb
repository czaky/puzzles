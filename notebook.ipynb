{
 "cells": [
  {
   "cell_type": "code",
   "execution_count": 45,
   "metadata": {
    "metadata": {}
   },
   "outputs": [],
   "source": [
    "# ruff: noqa: F401, E402, T201, T203, D103\n",
    "\n",
    "from __future__ import annotations\n",
    "\n",
    "import math\n",
    "import sys\n",
    "import time\n",
    "from bisect import bisect_left, bisect_right\n",
    "from collections import Counter, deque\n",
    "from functools import cmp_to_key, lru_cache, reduce\n",
    "from heapq import heapify, heappop, heappush, heappushpop, nsmallest\n",
    "from importlib import reload\n",
    "from itertools import (\n",
    "    accumulate,\n",
    "    chain,\n",
    "    combinations,\n",
    "    islice,\n",
    "    pairwise,\n",
    "    permutations,\n",
    "    product,\n",
    "    repeat,\n",
    "    starmap,\n",
    "    tee,\n",
    ")\n",
    "from math import comb, exp, factorial, inf, log, prod, sqrt\n",
    "from operator import add, and_, contains, indexOf, itemgetter, mul, neg, or_, xor\n",
    "from pprint import pformat, pprint\n",
    "from typing import Callable, Iterable, Iterator, List, Tuple\n",
    "\n",
    "import matplotlib.pyplot as plt\n",
    "import networkx as nx\n",
    "import numpy as np\n",
    "from IPython.display import HTML, clear_output, display\n",
    "\n",
    "import arrays\n",
    "import bits\n",
    "import combinatorics\n",
    "import graphs\n",
    "import grid\n",
    "import lists\n",
    "import mathematics\n",
    "import matrix\n",
    "import parsing\n",
    "import search\n",
    "import sequences\n",
    "import sets\n",
    "import sorting\n",
    "import stack\n",
    "import strings\n",
    "import trees\n",
    "\n",
    "for m in (\n",
    "    arrays,\n",
    "    bits,\n",
    "    combinatorics,\n",
    "    graphs,\n",
    "    grid,\n",
    "    lists,\n",
    "    mathematics,\n",
    "    matrix,\n",
    "    parsing,\n",
    "    search,\n",
    "    sequences,\n",
    "    sets,\n",
    "    sorting,\n",
    "    stack,\n",
    "    strings,\n",
    "    trees,\n",
    "):\n",
    "    reload(m)\n",
    "\n",
    "\n",
    "from combinatorics import fib\n",
    "from mathematics import prime_numbers as primes\n",
    "from search import lower_index, upper_index\n",
    "from sequences import find_if\n",
    "from strings import splint\n",
    "\n",
    "np.set_printoptions(edgeitems=5, precision=3, linewidth=300)"
   ]
  },
  {
   "cell_type": "code",
   "execution_count": 164,
   "metadata": {},
   "outputs": [],
   "source": [
    "def balloon_coin_popping(a: list[int]) -> int:\n",
    "    a = [1, *a, 1]\n",
    "\n",
    "    @lru_cache(None)\n",
    "    def sub(i: int, j: int) -> int:\n",
    "        m = lambda k: sub(i, k) + a[i - 1] * a[k] * a[j] + sub(k + 1, j)\n",
    "        return max(map(m, range(i, j))) if i < j else 0\n",
    "\n",
    "    return sub(1, len(a) - 1)"
   ]
  },
  {
   "cell_type": "code",
   "execution_count": 179,
   "metadata": {},
   "outputs": [],
   "source": [
    "def balloon_coin_popping(a: list) -> int:\n",
    "    a = [1, *a, 1]\n",
    "\n",
    "    @lru_cache(None)\n",
    "    def sub(i: int, j: int) -> int:\n",
    "        return i < j - 1 and max(\n",
    "            sub(i, k) + a[i] * a[k] * a[j] + sub(k, j) for k in range(i + 1, j)\n",
    "        )\n",
    "\n",
    "    return sub(0, len(a) - 1)"
   ]
  },
  {
   "cell_type": "code",
   "execution_count": 180,
   "metadata": {},
   "outputs": [
    {
     "data": {
      "text/plain": [
       "60"
      ]
     },
     "execution_count": 180,
     "metadata": {},
     "output_type": "execute_result"
    }
   ],
   "source": [
    "balloon_coin_popping([5, 10])"
   ]
  },
  {
   "cell_type": "code",
   "execution_count": 181,
   "metadata": {},
   "outputs": [
    {
     "data": {
      "text/plain": [
       "167"
      ]
     },
     "execution_count": 181,
     "metadata": {},
     "output_type": "execute_result"
    }
   ],
   "source": [
    "balloon_coin_popping([3, 1, 5, 8])"
   ]
  }
 ],
 "metadata": {
  "kernelspec": {
   "display_name": "Python 3",
   "language": "python",
   "name": "python3"
  },
  "language_info": {
   "codemirror_mode": {
    "name": "ipython",
    "version": 3
   },
   "file_extension": ".py",
   "mimetype": "text/x-python",
   "name": "python",
   "nbconvert_exporter": "python",
   "pygments_lexer": "ipython3",
   "version": "3.10.12"
  }
 },
 "nbformat": 4,
 "nbformat_minor": 2
}
