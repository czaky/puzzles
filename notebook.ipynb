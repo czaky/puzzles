{
 "cells": [
  {
   "cell_type": "code",
   "execution_count": 15,
   "metadata": {},
   "outputs": [
    {
     "name": "stdout",
     "output_type": "stream",
     "text": [
      "\n"
     ]
    }
   ],
   "source": [
    "import math\n",
    "import numpy as np\n",
    "import sys\n",
    "from typing import List, Tuple\n",
    "from functools import lru_cache, reduce, cmp_to_key\n",
    "from itertools import (\n",
    "    starmap,\n",
    "    accumulate,\n",
    "    chain,\n",
    "    islice,\n",
    "    product,\n",
    "    tee,\n",
    "    pairwise,\n",
    "    combinations,\n",
    ")\n",
    "from collections import Counter, deque\n",
    "from heapq import heapify, heappushpop, heappop, heappush\n",
    "from operator import add, neg\n",
    "from bisect import bisect_right\n",
    "import matplotlib.pyplot as plt\n",
    "\n",
    "import arrays\n",
    "import trees\n",
    "import lists\n",
    "import graphs\n",
    "import search\n",
    "import strings\n",
    "from importlib import reload\n",
    "\n",
    "reload(arrays)\n",
    "reload(trees)\n",
    "reload(lists)\n",
    "reload(graphs)\n",
    "reload(search)\n",
    "import arrays as ar\n",
    "import trees as tr\n",
    "import lists as ll\n",
    "import graphs as g\n",
    "import strings as s\n",
    "from lists import Node\n",
    "\n",
    "print()"
   ]
  },
  {
   "cell_type": "code",
   "execution_count": 31,
   "metadata": {},
   "outputs": [],
   "source": [
    "def longest_palindrome(s: str) -> str:\n",
    "    \"Return longest palindrome substring from `s`.\"\n",
    "    # Uses Manacher's algorithm.\n",
    "    # Runs in O(N)\n",
    "    n = len(s) * 2 + 1\n",
    "    if n == 1:\n",
    "        return \"\"\n",
    "    lps = [0] * n\n",
    "    lps[1] = 1  # size of the first palindrome\n",
    "    c = 1  # center of the outer palindrome\n",
    "    r = 2  # right border of the outer palindrome\n",
    "    mxs, mxe = 0, 1  # borders of the largest palindrome\n",
    "    for i in range(2, n):\n",
    "        # use the mirror length if `i` is between `c` and `r`.\n",
    "        l = int(i < r and min(lps[2 * c - i], r - i))\n",
    "        # Try to expand the length (skip filler chars).\n",
    "        l += (i > l) & (i + l + 2 < n) & (i + l)\n",
    "        while i > l and i + l + 2 < n and s[(i - l - 1) // 2] == s[(i + l + 1) // 2]:\n",
    "            l += 2\n",
    "        # Store the value.\n",
    "        lps[i] = l\n",
    "        # Update the max interval.\n",
    "        if l > mxe - mxs:\n",
    "            mxs, mxe = (i - l) // 2, (i + l) // 2\n",
    "        # If the current palindrome expanded beyond the\n",
    "        # previous one, replace the old by this one.\n",
    "        if i + l > r:\n",
    "            c = i\n",
    "            r = i + l\n",
    "\n",
    "    print(mxe)\n",
    "    return s[mxs:mxe]"
   ]
  },
  {
   "cell_type": "code",
   "execution_count": 33,
   "metadata": {},
   "outputs": [
    {
     "name": "stdout",
     "output_type": "stream",
     "text": [
      "3\n"
     ]
    },
    {
     "data": {
      "text/plain": [
       "'aba'"
      ]
     },
     "execution_count": 33,
     "metadata": {},
     "output_type": "execute_result"
    }
   ],
   "source": [
    "longest_palindrome(\"aba\")"
   ]
  },
  {
   "cell_type": "code",
   "execution_count": 244,
   "metadata": {},
   "outputs": [
    {
     "data": {
      "text/plain": [
       "0"
      ]
     },
     "execution_count": 244,
     "metadata": {},
     "output_type": "execute_result"
    }
   ],
   "source": [
    "int(math.log(5, 10))"
   ]
  },
  {
   "cell_type": "code",
   "execution_count": null,
   "metadata": {},
   "outputs": [],
   "source": []
  }
 ],
 "metadata": {
  "kernelspec": {
   "display_name": "Python 3",
   "language": "python",
   "name": "python3"
  },
  "language_info": {
   "codemirror_mode": {
    "name": "ipython",
    "version": 3
   },
   "file_extension": ".py",
   "mimetype": "text/x-python",
   "name": "python",
   "nbconvert_exporter": "python",
   "pygments_lexer": "ipython3",
   "version": "3.10.12"
  }
 },
 "nbformat": 4,
 "nbformat_minor": 2
}
