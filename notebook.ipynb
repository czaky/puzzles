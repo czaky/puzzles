{
 "cells": [
  {
   "cell_type": "code",
   "execution_count": 39,
   "metadata": {},
   "outputs": [
    {
     "name": "stdout",
     "output_type": "stream",
     "text": [
      "\n"
     ]
    }
   ],
   "source": [
    "# ruff: noqa: F401, E402\n",
    "import math\n",
    "import sys\n",
    "import time\n",
    "from bisect import bisect_left, bisect_right\n",
    "from collections import Counter, deque\n",
    "from functools import cmp_to_key, lru_cache, reduce\n",
    "from heapq import heapify, heappop, heappush, heappushpop, nsmallest\n",
    "from importlib import reload\n",
    "from itertools import (\n",
    "    accumulate,\n",
    "    chain,\n",
    "    combinations,\n",
    "    islice,\n",
    "    pairwise,\n",
    "    permutations,\n",
    "    product,\n",
    "    repeat,\n",
    "    starmap,\n",
    "    tee,\n",
    ")\n",
    "from math import comb, exp, factorial, log, prod, sqrt\n",
    "from operator import add, and_, contains, indexOf, itemgetter, mul, neg, or_, xor\n",
    "from pprint import pprint\n",
    "from typing import Callable, Iterable, List, Tuple\n",
    "\n",
    "import matplotlib.pyplot as plt\n",
    "import networkx as nx\n",
    "import numpy as np\n",
    "from multiprocess import Process\n",
    "\n",
    "import arrays\n",
    "import combinatorics\n",
    "import graphs\n",
    "import lists\n",
    "import mathematics\n",
    "import matrix\n",
    "import parsing\n",
    "import search\n",
    "import sequences\n",
    "import sets\n",
    "import stack\n",
    "import strings\n",
    "import trees\n",
    "\n",
    "for m in (\n",
    "    arrays,\n",
    "    combinatorics,\n",
    "    graphs,\n",
    "    lists,\n",
    "    mathematics,\n",
    "    matrix,\n",
    "    parsing,\n",
    "    search,\n",
    "    sequences,\n",
    "    sets,\n",
    "    stack,\n",
    "    strings,\n",
    "    trees,\n",
    "):\n",
    "    reload(m)\n",
    "\n",
    "\n",
    "from binary_index_tree import BinIndexTree\n",
    "from combinatorics import fib\n",
    "from parsing import format_binop_expression, parse_binop_expression\n",
    "from sequences import find_if\n",
    "from strings import StringView, splint\n",
    "\n",
    "print()\n"
   ]
  },
  {
   "cell_type": "code",
   "execution_count": 94,
   "metadata": {},
   "outputs": [],
   "source": [
    "PRIMES_10 = [2, 3, 5, 7, 11, 13, 17, 19, 23, 29]\n",
    "PRIMES_10_BITS = 1 << len(PRIMES_10)\n",
    "PRIMES_10_MASKS = [\n",
    "    (i % 4 and i % 9 and i % 25)\n",
    "    and sum(1 << j for j, p in enumerate(PRIMES_10) if not i % p)\n",
    "    for i in range(31)\n",
    "]\n"
   ]
  },
  {
   "cell_type": "code",
   "execution_count": 132,
   "metadata": {},
   "outputs": [],
   "source": [
    "def prime_product_subset_count(a: List[int], m: int = 10**9 + 7) -> int:\n",
    "    counts = Counter(PRIMES_10_MASKS[e] for e in a)\n",
    "    dp = [0] * 10  # PRIMES_10_BITS\n",
    "    dp[0] = 1\n",
    "    print(counts)\n",
    "    for mask, cnt in counts.items():\n",
    "        if cnt and mask:\n",
    "            # Iterate over the existing 1024 prime_masks.\n",
    "            for j in range(mask, 10):  # PRIMES_10_BITS):\n",
    "                # In case mask primes are in j.\n",
    "                if j & mask == mask:\n",
    "                    if j in (2, 3):\n",
    "                        print(j, mask, j ^ mask, dp[j ^ mask], cnt)\n",
    "                    # The new count of subsets will be\n",
    "                    # `dp[j ^ mask]` * the count of the number in `a`\n",
    "                    dp[j] += dp[j ^ mask] * cnt % m\n",
    "    # Return the sum of counts for all possible sets of primes\n",
    "    # minus empty set. Multiply by 2^(count of 1s).\n",
    "    print(dp)\n",
    "    return ((sum(dp) - 1) * pow(2, a.count(1), m)) % m\n"
   ]
  },
  {
   "cell_type": "code",
   "execution_count": 158,
   "metadata": {},
   "outputs": [],
   "source": [
    "PRIMES = [2, 3, 5, 7, 11, 13, 17, 19, 23, 29]\n",
    "PRIME_MASKS = [\n",
    "    (i % 4 and i % 9 and i % 25)\n",
    "    and sum(1 << j for j, p in enumerate(PRIMES) if not i % p)\n",
    "    for i in range(31)\n",
    "]\n",
    "\n",
    "\n",
    "def prime_product_subset_count(a: list, mod: int = 10**9 + 7) -> int:\n",
    "    mcs = tuple(Counter(PRIME_MASKS[e] for e in a).items())\n",
    "    dp = [1] * (1 << len(PRIMES))\n",
    "    for j in range(1, len(dp)):\n",
    "        dp[j] = sum(dp[j ^ m] * c % mod for m, c in mcs if j ^ m < m == j & m)\n",
    "    return (sum(dp) - 1) * 2 ** a.count(1)\n"
   ]
  },
  {
   "cell_type": "code",
   "execution_count": 159,
   "metadata": {},
   "outputs": [
    {
     "data": {
      "text/plain": [
       "5"
      ]
     },
     "execution_count": 159,
     "metadata": {},
     "output_type": "execute_result"
    }
   ],
   "source": [
    "prime_product_subset_count([2, 2, 3])\n"
   ]
  },
  {
   "cell_type": "code",
   "execution_count": 160,
   "metadata": {},
   "outputs": [
    {
     "data": {
      "text/plain": [
       "4"
      ]
     },
     "execution_count": 160,
     "metadata": {},
     "output_type": "execute_result"
    }
   ],
   "source": [
    "prime_product_subset_count([10, 4, 1, 4, 10])\n"
   ]
  },
  {
   "cell_type": "code",
   "execution_count": 161,
   "metadata": {},
   "outputs": [
    {
     "data": {
      "text/plain": [
       "6"
      ]
     },
     "execution_count": 161,
     "metadata": {},
     "output_type": "execute_result"
    }
   ],
   "source": [
    "prime_product_subset_count([1, 2, 3, 4])\n"
   ]
  },
  {
   "cell_type": "code",
   "execution_count": null,
   "metadata": {},
   "outputs": [],
   "source": []
  },
  {
   "cell_type": "code",
   "execution_count": null,
   "metadata": {},
   "outputs": [],
   "source": []
  }
 ],
 "metadata": {
  "kernelspec": {
   "display_name": "Python 3",
   "language": "python",
   "name": "python3"
  },
  "language_info": {
   "codemirror_mode": {
    "name": "ipython",
    "version": 3
   },
   "file_extension": ".py",
   "mimetype": "text/x-python",
   "name": "python",
   "nbconvert_exporter": "python",
   "pygments_lexer": "ipython3",
   "version": "3.10.12"
  }
 },
 "nbformat": 4,
 "nbformat_minor": 2
}
