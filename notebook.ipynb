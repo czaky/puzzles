{
 "cells": [
  {
   "cell_type": "code",
   "execution_count": 196,
   "metadata": {},
   "outputs": [
    {
     "name": "stdout",
     "output_type": "stream",
     "text": [
      "\n"
     ]
    }
   ],
   "source": [
    "import math\n",
    "from pprint import pprint\n",
    "from math import log, factorial\n",
    "import numpy as np\n",
    "import sys\n",
    "from typing import List, Tuple, Callable, Iterable\n",
    "from functools import lru_cache, reduce, cmp_to_key\n",
    "from itertools import (\n",
    "    starmap,\n",
    "    accumulate,\n",
    "    chain,\n",
    "    islice,\n",
    "    product,\n",
    "    tee,\n",
    "    pairwise,\n",
    "    combinations,\n",
    "    permutations,\n",
    ")\n",
    "from collections import Counter, deque\n",
    "from heapq import heapify, heappushpop, heappop, heappush\n",
    "from operator import add, neg, itemgetter, xor\n",
    "from bisect import bisect_right, bisect_left\n",
    "import matplotlib.pyplot as plt\n",
    "\n",
    "import arrays\n",
    "import trees\n",
    "import lists\n",
    "import graphs\n",
    "import search\n",
    "import strings\n",
    "import sets\n",
    "import matrix\n",
    "import mathematics\n",
    "from importlib import reload\n",
    "\n",
    "for m in (arrays, trees, lists, graphs, search, strings, sets, matrix, mathematics):\n",
    "    reload(m)\n",
    "\n",
    "import arrays as ar\n",
    "import trees as tr\n",
    "import lists as ll\n",
    "import graphs as g\n",
    "import strings as s\n",
    "import sets\n",
    "import matrix as mt\n",
    "import mathematics as m\n",
    "\n",
    "print()"
   ]
  },
  {
   "cell_type": "code",
   "execution_count": 213,
   "metadata": {},
   "outputs": [],
   "source": []
  },
  {
   "cell_type": "code",
   "execution_count": 214,
   "metadata": {},
   "outputs": [
    {
     "name": "stdout",
     "output_type": "stream",
     "text": [
      "[(1, 0, 0), (2, 3, 0), (2, 2, 0), (7, 1, 0), (5, 4, 0)] => 1..7 | 1 7\n",
      "[(2, 2, 0), (2, 3, 0), (5, 4, 0), (7, 1, 0), (3, 0, 1)] => 1..7 | 2 7\n",
      "[(2, 3, 0), (3, 0, 1), (5, 4, 0), (7, 1, 0), (4, 2, 1)] => 2..7 | 2 7\n",
      "[(3, 0, 1), (3, 3, 1), (5, 4, 0), (7, 1, 0), (4, 2, 1)] => 2..7 | 3 7\n",
      "[(3, 3, 1), (4, 2, 1), (5, 4, 0), (7, 1, 0), (5, 0, 2)] => 3..7 | 3 7\n",
      "[(4, 2, 1), (5, 0, 2), (5, 4, 0), (7, 1, 0), (8, 3, 2)] => 3..7 | 4 8\n",
      "[(5, 0, 2), (6, 2, 2), (5, 4, 0), (8, 3, 2), (7, 1, 0)] => 3..7 | 5 8\n",
      "[(5, 4, 0), (6, 2, 2), (7, 1, 0), (8, 3, 2)] => 5..8 | ??? 8\n"
     ]
    },
    {
     "data": {
      "text/plain": [
       "(5, 8)"
      ]
     },
     "execution_count": 214,
     "metadata": {},
     "output_type": "execute_result"
    }
   ],
   "source": [
    "smallest_intersecting_range([[1, 3, 5], [7, 8, 9], [2, 4, 6], [2, 3, 8], [5, 7, 11]])"
   ]
  },
  {
   "cell_type": "code",
   "execution_count": 215,
   "metadata": {},
   "outputs": [
    {
     "name": "stdout",
     "output_type": "stream",
     "text": [
      "[(0, 1, 0), (1, 0, 0), (2, 2, 0)] => 0..2 | 0 2\n",
      "[(1, 0, 0), (2, 2, 0), (2, 1, 1)] => 0..2 | 1 2\n",
      "[(2, 1, 1), (2, 2, 0), (3, 0, 1)] => 1..2 | 2 3\n",
      "[(2, 2, 0), (3, 0, 1), (4, 1, 2)] => 1..2 | 2 4\n",
      "[(3, 0, 1), (4, 1, 2), (3, 2, 1)] => 1..2 | 3 4\n",
      "[(3, 2, 1), (4, 1, 2), (5, 0, 2)] => 1..2 | 3 5\n",
      "[(4, 1, 2), (5, 0, 2), (5, 2, 2)] => 1..2 | 4 5\n",
      "[(5, 0, 2), (5, 2, 2), (6, 1, 3)] => 1..2 | 5 6\n",
      "[(5, 2, 2), (6, 1, 3), (7, 0, 3)] => 1..2 | 5 7\n",
      "[(6, 1, 3), (7, 0, 3), (7, 2, 3)] => 1..2 | 6 7\n",
      "[(7, 0, 3), (7, 2, 3), (8, 1, 4)] => 1..2 | 7 8\n",
      "[(7, 2, 3), (8, 1, 4), (9, 0, 4)] => 1..2 | 7 9\n",
      "[(8, 1, 4), (9, 0, 4), (11, 2, 4)] => 1..2 | 8 11\n",
      "[(9, 0, 4), (11, 2, 4)] => 1..2 | ??? 11\n"
     ]
    },
    {
     "data": {
      "text/plain": [
       "(1, 2)"
      ]
     },
     "execution_count": 215,
     "metadata": {},
     "output_type": "execute_result"
    }
   ],
   "source": [
    "smallest_intersecting_range([[1, 3, 5, 7, 9], [0, 2, 4, 6, 8], [2, 3, 5, 7, 11]])"
   ]
  },
  {
   "cell_type": "code",
   "execution_count": null,
   "metadata": {},
   "outputs": [],
   "source": []
  }
 ],
 "metadata": {
  "kernelspec": {
   "display_name": "Python 3",
   "language": "python",
   "name": "python3"
  },
  "language_info": {
   "codemirror_mode": {
    "name": "ipython",
    "version": 3
   },
   "file_extension": ".py",
   "mimetype": "text/x-python",
   "name": "python",
   "nbconvert_exporter": "python",
   "pygments_lexer": "ipython3",
   "version": "3.10.12"
  }
 },
 "nbformat": 4,
 "nbformat_minor": 2
}
