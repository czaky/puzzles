{
 "cells": [
  {
   "cell_type": "code",
   "execution_count": 1,
   "metadata": {},
   "outputs": [
    {
     "name": "stdout",
     "output_type": "stream",
     "text": [
      "\n"
     ]
    }
   ],
   "source": [
    "# ruff: noqa: F401, E402, T201, T203, D103\n",
    "\n",
    "from __future__ import annotations\n",
    "\n",
    "import math\n",
    "import sys\n",
    "import time\n",
    "from bisect import bisect_left, bisect_right\n",
    "from collections import Counter, deque\n",
    "from functools import cmp_to_key, lru_cache, reduce\n",
    "from heapq import heapify, heappop, heappush, heappushpop, nsmallest\n",
    "from importlib import reload\n",
    "from itertools import (\n",
    "    accumulate,\n",
    "    chain,\n",
    "    combinations,\n",
    "    islice,\n",
    "    pairwise,\n",
    "    permutations,\n",
    "    product,\n",
    "    repeat,\n",
    "    starmap,\n",
    "    tee,\n",
    ")\n",
    "from math import comb, exp, factorial, inf, log, prod, sqrt\n",
    "from operator import add, and_, contains, indexOf, itemgetter, mul, neg, or_, xor\n",
    "from pprint import pprint\n",
    "from typing import Callable, Iterable, List, Tuple\n",
    "\n",
    "import matplotlib.pyplot as plt\n",
    "import networkx as nx\n",
    "import numpy as np\n",
    "from multiprocess import Process\n",
    "\n",
    "import arrays\n",
    "import combinatorics\n",
    "import graphs\n",
    "import lists\n",
    "import mathematics\n",
    "import matrix\n",
    "import parsing\n",
    "import search\n",
    "import sequences\n",
    "import sets\n",
    "import stack\n",
    "import strings\n",
    "import trees\n",
    "\n",
    "for m in (\n",
    "    arrays,\n",
    "    combinatorics,\n",
    "    graphs,\n",
    "    lists,\n",
    "    mathematics,\n",
    "    matrix,\n",
    "    parsing,\n",
    "    search,\n",
    "    sequences,\n",
    "    sets,\n",
    "    stack,\n",
    "    strings,\n",
    "    trees,\n",
    "):\n",
    "    reload(m)\n",
    "\n",
    "\n",
    "from combinatorics import fib\n",
    "from search import lower_index, upper_index\n",
    "from sequences import find_if\n",
    "from strings import splint\n",
    "\n",
    "print()\n"
   ]
  },
  {
   "cell_type": "code",
   "execution_count": 129,
   "metadata": {},
   "outputs": [],
   "source": [
    "def all_longest_common_subsequences(a: str, b: str) -> list:\n",
    "    def maxlen(x: set, y: set) -> list:\n",
    "        # print(x, y)\n",
    "        lx, ly = len(next(iter(x))), len(next(iter(y)))\n",
    "        return x if lx > ly else y if lx < ly else x | y\n",
    "\n",
    "    # determine the length of the lcs.\n",
    "    ll = [[{\"\"}, {\"\"}] for _ in range(len(a) + 1)]\n",
    "    for j, i in product(range(len(b)), range(len(a))):\n",
    "        print(ll)\n",
    "        if a[i] == b[j]:\n",
    "            ll[i + 1][j & 1] = {f\"{x}{a[i]}\" for x in ll[i][~j & 1]}\n",
    "        else:\n",
    "            ll[i + 1][j & 1] = maxlen(ll[i][j & 1], ll[i + 1][~j & 1])\n",
    "\n",
    "    return sorted(maxlen(*ll[-1]))\n"
   ]
  },
  {
   "cell_type": "code",
   "execution_count": 130,
   "metadata": {},
   "outputs": [
    {
     "name": "stdout",
     "output_type": "stream",
     "text": [
      "[[{''}, {''}], [{''}, {''}], [{''}, {''}], [{''}, {''}]]\n",
      "[[{''}, {''}], [{''}, {''}], [{''}, {''}], [{''}, {''}]]\n",
      "[[{''}, {''}], [{''}, {''}], [{''}, {''}], [{''}, {''}]]\n",
      "[[{''}, {''}], [{''}, {''}], [{''}, {''}], [{''}, {''}]]\n",
      "[[{''}, {''}], [{''}, {'c'}], [{''}, {''}], [{''}, {''}]]\n",
      "[[{''}, {''}], [{''}, {'c'}], [{''}, {'c'}], [{''}, {''}]]\n",
      "[[{''}, {''}], [{''}, {'c'}], [{''}, {'c'}], [{''}, {'c'}]]\n",
      "[[{''}, {''}], [{'c'}, {'c'}], [{''}, {'c'}], [{''}, {'c'}]]\n",
      "[[{''}, {''}], [{'c'}, {'c'}], [{'c'}, {'c'}], [{''}, {'c'}]]\n",
      "[[{''}, {''}], [{'c'}, {'c'}], [{'c'}, {'c'}], [{'c'}, {'c'}]]\n",
      "[[{''}, {''}], [{'c'}, {'c'}], [{'c'}, {'c'}], [{'c'}, {'c'}]]\n",
      "[[{''}, {''}], [{'c'}, {'c'}], [{'c'}, {'c'}], [{'c'}, {'c'}]]\n",
      "[[{''}, {''}], [{'c'}, {'c'}], [{'c'}, {'c'}], [{'c'}, {'cb'}]]\n",
      "[[{''}, {''}], [{'c'}, {'c'}], [{'c'}, {'c'}], [{'c'}, {'cb'}]]\n",
      "[[{''}, {''}], [{'c'}, {'c'}], [{'c'}, {'c'}], [{'c'}, {'cb'}]]\n"
     ]
    },
    {
     "data": {
      "text/plain": [
       "['cb']"
      ]
     },
     "execution_count": 130,
     "metadata": {},
     "output_type": "execute_result"
    }
   ],
   "source": [
    "all_longest_common_subsequences(\"cfb\", \"aceba\")\n"
   ]
  },
  {
   "cell_type": "code",
   "execution_count": 131,
   "metadata": {},
   "outputs": [
    {
     "name": "stdout",
     "output_type": "stream",
     "text": [
      "[[{''}, {''}], [{''}, {''}], [{''}, {''}], [{''}, {''}], [{''}, {''}], [{''}, {''}], [{''}, {''}], [{''}, {''}]]\n",
      "[[{''}, {''}], [{''}, {''}], [{''}, {''}], [{''}, {''}], [{''}, {''}], [{''}, {''}], [{''}, {''}], [{''}, {''}]]\n",
      "[[{''}, {''}], [{''}, {''}], [{'a'}, {''}], [{''}, {''}], [{''}, {''}], [{''}, {''}], [{''}, {''}], [{''}, {''}]]\n",
      "[[{''}, {''}], [{''}, {''}], [{'a'}, {''}], [{'a'}, {''}], [{''}, {''}], [{''}, {''}], [{''}, {''}], [{''}, {''}]]\n",
      "[[{''}, {''}], [{''}, {''}], [{'a'}, {''}], [{'a'}, {''}], [{'a'}, {''}], [{''}, {''}], [{''}, {''}], [{''}, {''}]]\n",
      "[[{''}, {''}], [{''}, {''}], [{'a'}, {''}], [{'a'}, {''}], [{'a'}, {''}], [{'a'}, {''}], [{''}, {''}], [{''}, {''}]]\n",
      "[[{''}, {''}], [{''}, {''}], [{'a'}, {''}], [{'a'}, {''}], [{'a'}, {''}], [{'a'}, {''}], [{'a'}, {''}], [{''}, {''}]]\n",
      "[[{''}, {''}], [{''}, {''}], [{'a'}, {''}], [{'a'}, {''}], [{'a'}, {''}], [{'a'}, {''}], [{'a'}, {''}], [{'a'}, {''}]]\n",
      "[[{''}, {''}], [{''}, {'b'}], [{'a'}, {''}], [{'a'}, {''}], [{'a'}, {''}], [{'a'}, {''}], [{'a'}, {''}], [{'a'}, {''}]]\n",
      "[[{''}, {''}], [{''}, {'b'}], [{'a'}, {'a', 'b'}], [{'a'}, {''}], [{'a'}, {''}], [{'a'}, {''}], [{'a'}, {''}], [{'a'}, {''}]]\n",
      "[[{''}, {''}], [{''}, {'b'}], [{'a'}, {'a', 'b'}], [{'a'}, {'a', 'b'}], [{'a'}, {''}], [{'a'}, {''}], [{'a'}, {''}], [{'a'}, {''}]]\n",
      "[[{''}, {''}], [{''}, {'b'}], [{'a'}, {'a', 'b'}], [{'a'}, {'a', 'b'}], [{'a'}, {'ab'}], [{'a'}, {''}], [{'a'}, {''}], [{'a'}, {''}]]\n",
      "[[{''}, {''}], [{''}, {'b'}], [{'a'}, {'a', 'b'}], [{'a'}, {'a', 'b'}], [{'a'}, {'ab'}], [{'a'}, {'ab'}], [{'a'}, {''}], [{'a'}, {''}]]\n",
      "[[{''}, {''}], [{''}, {'b'}], [{'a'}, {'a', 'b'}], [{'a'}, {'a', 'b'}], [{'a'}, {'ab'}], [{'a'}, {'ab'}], [{'a'}, {'ab'}], [{'a'}, {''}]]\n",
      "[[{''}, {''}], [{''}, {'b'}], [{'a'}, {'a', 'b'}], [{'a'}, {'a', 'b'}], [{'a'}, {'ab'}], [{'a'}, {'ab'}], [{'a'}, {'ab'}], [{'a'}, {'ab'}]]\n",
      "[[{''}, {''}], [{'b'}, {'b'}], [{'a'}, {'a', 'b'}], [{'a'}, {'a', 'b'}], [{'a'}, {'ab'}], [{'a'}, {'ab'}], [{'a'}, {'ab'}], [{'a'}, {'ab'}]]\n",
      "[[{''}, {''}], [{'b'}, {'b'}], [{'ba'}, {'a', 'b'}], [{'a'}, {'a', 'b'}], [{'a'}, {'ab'}], [{'a'}, {'ab'}], [{'a'}, {'ab'}], [{'a'}, {'ab'}]]\n",
      "[[{''}, {''}], [{'b'}, {'b'}], [{'ba'}, {'a', 'b'}], [{'aa', 'ba'}, {'a', 'b'}], [{'a'}, {'ab'}], [{'a'}, {'ab'}], [{'a'}, {'ab'}], [{'a'}, {'ab'}]]\n",
      "[[{''}, {''}], [{'b'}, {'b'}], [{'ba'}, {'a', 'b'}], [{'aa', 'ba'}, {'a', 'b'}], [{'aa', 'ba', 'ab'}, {'ab'}], [{'a'}, {'ab'}], [{'a'}, {'ab'}], [{'a'}, {'ab'}]]\n",
      "[[{''}, {''}], [{'b'}, {'b'}], [{'ba'}, {'a', 'b'}], [{'aa', 'ba'}, {'a', 'b'}], [{'aa', 'ba', 'ab'}, {'ab'}], [{'aba'}, {'ab'}], [{'a'}, {'ab'}], [{'a'}, {'ab'}]]\n",
      "[[{''}, {''}], [{'b'}, {'b'}], [{'ba'}, {'a', 'b'}], [{'aa', 'ba'}, {'a', 'b'}], [{'aa', 'ba', 'ab'}, {'ab'}], [{'aba'}, {'ab'}], [{'aba'}, {'ab'}], [{'a'}, {'ab'}]]\n",
      "[[{''}, {''}], [{'b'}, {'b'}], [{'ba'}, {'a', 'b'}], [{'aa', 'ba'}, {'a', 'b'}], [{'aa', 'ba', 'ab'}, {'ab'}], [{'aba'}, {'ab'}], [{'aba'}, {'ab'}], [{'aba'}, {'ab'}]]\n",
      "[[{''}, {''}], [{'b'}, {'b'}], [{'ba'}, {'a', 'b'}], [{'aa', 'ba'}, {'a', 'b'}], [{'aa', 'ba', 'ab'}, {'ab'}], [{'aba'}, {'ab'}], [{'aba'}, {'ab'}], [{'aba'}, {'ab'}]]\n",
      "[[{''}, {''}], [{'b'}, {'b'}], [{'ba'}, {'ba'}], [{'aa', 'ba'}, {'a', 'b'}], [{'aa', 'ba', 'ab'}, {'ab'}], [{'aba'}, {'ab'}], [{'aba'}, {'ab'}], [{'aba'}, {'ab'}]]\n",
      "[[{''}, {''}], [{'b'}, {'b'}], [{'ba'}, {'ba'}], [{'aa', 'ba'}, {'baa'}], [{'aa', 'ba', 'ab'}, {'ab'}], [{'aba'}, {'ab'}], [{'aba'}, {'ab'}], [{'aba'}, {'ab'}]]\n",
      "[[{''}, {''}], [{'b'}, {'b'}], [{'ba'}, {'ba'}], [{'aa', 'ba'}, {'baa'}], [{'aa', 'ba', 'ab'}, {'baa'}], [{'aba'}, {'ab'}], [{'aba'}, {'ab'}], [{'aba'}, {'ab'}]]\n",
      "[[{''}, {''}], [{'b'}, {'b'}], [{'ba'}, {'ba'}], [{'aa', 'ba'}, {'baa'}], [{'aa', 'ba', 'ab'}, {'baa'}], [{'aba'}, {'aba', 'baa', 'aaa'}], [{'aba'}, {'ab'}], [{'aba'}, {'ab'}]]\n",
      "[[{''}, {''}], [{'b'}, {'b'}], [{'ba'}, {'ba'}], [{'aa', 'ba'}, {'baa'}], [{'aa', 'ba', 'ab'}, {'baa'}], [{'aba'}, {'aba', 'baa', 'aaa'}], [{'aba'}, {'aba', 'baa', 'aaa'}], [{'aba'}, {'ab'}]]\n",
      "[[{''}, {''}], [{'b'}, {'b'}], [{'ba'}, {'ba'}], [{'aa', 'ba'}, {'baa'}], [{'aa', 'ba', 'ab'}, {'baa'}], [{'aba'}, {'aba', 'baa', 'aaa'}], [{'aba'}, {'aba', 'baa', 'aaa'}], [{'aba'}, {'abaa'}]]\n",
      "[[{''}, {''}], [{'b'}, {'b'}], [{'ba'}, {'ba'}], [{'aa', 'ba'}, {'baa'}], [{'aa', 'ba', 'ab'}, {'baa'}], [{'aba'}, {'aba', 'baa', 'aaa'}], [{'aba'}, {'aba', 'baa', 'aaa'}], [{'aba'}, {'abaa'}]]\n",
      "[[{''}, {''}], [{'b'}, {'b'}], [{'ba'}, {'ba'}], [{'aa', 'ba'}, {'baa'}], [{'aa', 'ba', 'ab'}, {'baa'}], [{'aba'}, {'aba', 'baa', 'aaa'}], [{'aba'}, {'aba', 'baa', 'aaa'}], [{'aba'}, {'abaa'}]]\n",
      "[[{''}, {''}], [{'b'}, {'b'}], [{'ba'}, {'ba'}], [{'baa'}, {'baa'}], [{'aa', 'ba', 'ab'}, {'baa'}], [{'aba'}, {'aba', 'baa', 'aaa'}], [{'aba'}, {'aba', 'baa', 'aaa'}], [{'aba'}, {'abaa'}]]\n",
      "[[{''}, {''}], [{'b'}, {'b'}], [{'ba'}, {'ba'}], [{'baa'}, {'baa'}], [{'baa'}, {'baa'}], [{'aba'}, {'aba', 'baa', 'aaa'}], [{'aba'}, {'aba', 'baa', 'aaa'}], [{'aba'}, {'abaa'}]]\n",
      "[[{''}, {''}], [{'b'}, {'b'}], [{'ba'}, {'ba'}], [{'baa'}, {'baa'}], [{'baa'}, {'baa'}], [{'baaa'}, {'aba', 'baa', 'aaa'}], [{'aba'}, {'aba', 'baa', 'aaa'}], [{'aba'}, {'abaa'}]]\n",
      "[[{''}, {''}], [{'b'}, {'b'}], [{'ba'}, {'ba'}], [{'baa'}, {'baa'}], [{'baa'}, {'baa'}], [{'baaa'}, {'aba', 'baa', 'aaa'}], [{'baaa'}, {'aba', 'baa', 'aaa'}], [{'aba'}, {'abaa'}]]\n"
     ]
    },
    {
     "data": {
      "text/plain": [
       "['aaaa', 'abaa', 'baaa']"
      ]
     },
     "execution_count": 131,
     "metadata": {},
     "output_type": "execute_result"
    }
   ],
   "source": [
    "all_longest_common_subsequences(\"baabaca\", \"abaaa\")\n"
   ]
  },
  {
   "cell_type": "code",
   "execution_count": 132,
   "metadata": {},
   "outputs": [
    {
     "name": "stdout",
     "output_type": "stream",
     "text": [
      "[[{''}, {''}], [{''}, {''}], [{''}, {''}], [{''}, {''}], [{''}, {''}], [{''}, {''}]]\n",
      "[[{''}, {''}], [{''}, {''}], [{''}, {''}], [{''}, {''}], [{''}, {''}], [{''}, {''}]]\n",
      "[[{''}, {''}], [{''}, {''}], [{'b'}, {''}], [{''}, {''}], [{''}, {''}], [{''}, {''}]]\n",
      "[[{''}, {''}], [{''}, {''}], [{'b'}, {''}], [{'b'}, {''}], [{''}, {''}], [{''}, {''}]]\n",
      "[[{''}, {''}], [{''}, {''}], [{'b'}, {''}], [{'b'}, {''}], [{'b'}, {''}], [{''}, {''}]]\n",
      "[[{''}, {''}], [{''}, {''}], [{'b'}, {''}], [{'b'}, {''}], [{'b'}, {''}], [{'b'}, {''}]]\n",
      "[[{''}, {''}], [{''}, {'a'}], [{'b'}, {''}], [{'b'}, {''}], [{'b'}, {''}], [{'b'}, {''}]]\n",
      "[[{''}, {''}], [{''}, {'a'}], [{'b'}, {'a', 'b'}], [{'b'}, {''}], [{'b'}, {''}], [{'b'}, {''}]]\n",
      "[[{''}, {''}], [{''}, {'a'}], [{'b'}, {'a', 'b'}], [{'b'}, {'ba'}], [{'b'}, {''}], [{'b'}, {''}]]\n",
      "[[{''}, {''}], [{''}, {'a'}], [{'b'}, {'a', 'b'}], [{'b'}, {'ba'}], [{'b'}, {'ba'}], [{'b'}, {''}]]\n",
      "[[{''}, {''}], [{''}, {'a'}], [{'b'}, {'a', 'b'}], [{'b'}, {'ba'}], [{'b'}, {'ba'}], [{'b'}, {'ba'}]]\n",
      "[[{''}, {''}], [{'a'}, {'a'}], [{'b'}, {'a', 'b'}], [{'b'}, {'ba'}], [{'b'}, {'ba'}], [{'b'}, {'ba'}]]\n",
      "[[{''}, {''}], [{'a'}, {'a'}], [{'a', 'b'}, {'a', 'b'}], [{'b'}, {'ba'}], [{'b'}, {'ba'}], [{'b'}, {'ba'}]]\n",
      "[[{''}, {''}], [{'a'}, {'a'}], [{'a', 'b'}, {'a', 'b'}], [{'aa', 'ba'}, {'ba'}], [{'b'}, {'ba'}], [{'b'}, {'ba'}]]\n",
      "[[{''}, {''}], [{'a'}, {'a'}], [{'a', 'b'}, {'a', 'b'}], [{'aa', 'ba'}, {'ba'}], [{'baa'}, {'ba'}], [{'b'}, {'ba'}]]\n",
      "[[{''}, {''}], [{'a'}, {'a'}], [{'a', 'b'}, {'a', 'b'}], [{'aa', 'ba'}, {'ba'}], [{'baa'}, {'ba'}], [{'baa'}, {'ba'}]]\n",
      "[[{''}, {''}], [{'a'}, {'a'}], [{'a', 'b'}, {'a', 'b'}], [{'aa', 'ba'}, {'ba'}], [{'baa'}, {'ba'}], [{'baa'}, {'ba'}]]\n",
      "[[{''}, {''}], [{'a'}, {'a'}], [{'a', 'b'}, {'ab'}], [{'aa', 'ba'}, {'ba'}], [{'baa'}, {'ba'}], [{'baa'}, {'ba'}]]\n",
      "[[{''}, {''}], [{'a'}, {'a'}], [{'a', 'b'}, {'ab'}], [{'aa', 'ba'}, {'aa', 'ba', 'ab'}], [{'baa'}, {'ba'}], [{'baa'}, {'ba'}]]\n",
      "[[{''}, {''}], [{'a'}, {'a'}], [{'a', 'b'}, {'ab'}], [{'aa', 'ba'}, {'aa', 'ba', 'ab'}], [{'baa'}, {'baa'}], [{'baa'}, {'ba'}]]\n",
      "[[{''}, {''}], [{'a'}, {'a'}], [{'a', 'b'}, {'ab'}], [{'aa', 'ba'}, {'aa', 'ba', 'ab'}], [{'baa'}, {'baa'}], [{'baa'}, {'baa'}]]\n",
      "[[{''}, {''}], [{'a'}, {'a'}], [{'a', 'b'}, {'ab'}], [{'aa', 'ba'}, {'aa', 'ba', 'ab'}], [{'baa'}, {'baa'}], [{'baa'}, {'baa'}]]\n",
      "[[{''}, {''}], [{'a'}, {'a'}], [{'ab'}, {'ab'}], [{'aa', 'ba'}, {'aa', 'ba', 'ab'}], [{'baa'}, {'baa'}], [{'baa'}, {'baa'}]]\n",
      "[[{''}, {''}], [{'a'}, {'a'}], [{'ab'}, {'ab'}], [{'aba'}, {'aa', 'ba', 'ab'}], [{'baa'}, {'baa'}], [{'baa'}, {'baa'}]]\n",
      "[[{''}, {''}], [{'a'}, {'a'}], [{'ab'}, {'ab'}], [{'aba'}, {'aa', 'ba', 'ab'}], [{'aba', 'baa', 'aaa'}, {'baa'}], [{'baa'}, {'baa'}]]\n",
      "[[{''}, {''}], [{'a'}, {'a'}], [{'ab'}, {'ab'}], [{'aba'}, {'aa', 'ba', 'ab'}], [{'aba', 'baa', 'aaa'}, {'baa'}], [{'baaa'}, {'baa'}]]\n",
      "[[{''}, {''}], [{'a'}, {'a'}], [{'ab'}, {'ab'}], [{'aba'}, {'aa', 'ba', 'ab'}], [{'aba', 'baa', 'aaa'}, {'baa'}], [{'baaa'}, {'baa'}]]\n",
      "[[{''}, {''}], [{'a'}, {'a'}], [{'ab'}, {'ab'}], [{'aba'}, {'aa', 'ba', 'ab'}], [{'aba', 'baa', 'aaa'}, {'baa'}], [{'baaa'}, {'baa'}]]\n",
      "[[{''}, {''}], [{'a'}, {'a'}], [{'ab'}, {'ab'}], [{'aba'}, {'aba'}], [{'aba', 'baa', 'aaa'}, {'baa'}], [{'baaa'}, {'baa'}]]\n",
      "[[{''}, {''}], [{'a'}, {'a'}], [{'ab'}, {'ab'}], [{'aba'}, {'aba'}], [{'aba', 'baa', 'aaa'}, {'aba', 'baa', 'aaa'}], [{'baaa'}, {'baa'}]]\n",
      "[[{''}, {''}], [{'a'}, {'a'}], [{'ab'}, {'ab'}], [{'aba'}, {'aba'}], [{'aba', 'baa', 'aaa'}, {'aba', 'baa', 'aaa'}], [{'baaa'}, {'baaa'}]]\n",
      "[[{''}, {''}], [{'a'}, {'a'}], [{'ab'}, {'ab'}], [{'aba'}, {'aba'}], [{'aba', 'baa', 'aaa'}, {'aba', 'baa', 'aaa'}], [{'baaa'}, {'baaa'}]]\n",
      "[[{''}, {''}], [{'a'}, {'a'}], [{'ab'}, {'ab'}], [{'aba'}, {'aba'}], [{'aba', 'baa', 'aaa'}, {'aba', 'baa', 'aaa'}], [{'baaa'}, {'baaa'}]]\n",
      "[[{''}, {''}], [{'a'}, {'a'}], [{'ab'}, {'ab'}], [{'aba'}, {'aba'}], [{'aba', 'baa', 'aaa'}, {'aba', 'baa', 'aaa'}], [{'baaa'}, {'baaa'}]]\n",
      "[[{''}, {''}], [{'a'}, {'a'}], [{'ab'}, {'ab'}], [{'aba'}, {'aba'}], [{'abaa'}, {'aba', 'baa', 'aaa'}], [{'baaa'}, {'baaa'}]]\n"
     ]
    },
    {
     "data": {
      "text/plain": [
       "['aaaa', 'abaa', 'baaa']"
      ]
     },
     "execution_count": 132,
     "metadata": {},
     "output_type": "execute_result"
    }
   ],
   "source": [
    "all_longest_common_subsequences(\"abaaa\", \"baabaca\")\n"
   ]
  },
  {
   "cell_type": "code",
   "execution_count": 133,
   "metadata": {},
   "outputs": [
    {
     "name": "stdout",
     "output_type": "stream",
     "text": [
      "[[{''}, {''}], [{''}, {''}], [{''}, {''}], [{''}, {''}], [{''}, {''}], [{''}, {''}]]\n",
      "[[{''}, {''}], [{'a'}, {''}], [{''}, {''}], [{''}, {''}], [{''}, {''}], [{''}, {''}]]\n",
      "[[{''}, {''}], [{'a'}, {''}], [{'a'}, {''}], [{''}, {''}], [{''}, {''}], [{''}, {''}]]\n",
      "[[{''}, {''}], [{'a'}, {''}], [{'a'}, {''}], [{'a'}, {''}], [{''}, {''}], [{''}, {''}]]\n",
      "[[{''}, {''}], [{'a'}, {''}], [{'a'}, {''}], [{'a'}, {''}], [{'a'}, {''}], [{''}, {''}]]\n",
      "[[{''}, {''}], [{'a'}, {''}], [{'a'}, {''}], [{'a'}, {''}], [{'a'}, {''}], [{'a'}, {''}]]\n",
      "[[{''}, {''}], [{'a'}, {'a'}], [{'a'}, {''}], [{'a'}, {''}], [{'a'}, {''}], [{'a'}, {''}]]\n",
      "[[{''}, {''}], [{'a'}, {'a'}], [{'a'}, {'ab'}], [{'a'}, {''}], [{'a'}, {''}], [{'a'}, {''}]]\n",
      "[[{''}, {''}], [{'a'}, {'a'}], [{'a'}, {'ab'}], [{'a'}, {'ab'}], [{'a'}, {''}], [{'a'}, {''}]]\n",
      "[[{''}, {''}], [{'a'}, {'a'}], [{'a'}, {'ab'}], [{'a'}, {'ab'}], [{'a'}, {'ab'}], [{'a'}, {''}]]\n",
      "[[{''}, {''}], [{'a'}, {'a'}], [{'a'}, {'ab'}], [{'a'}, {'ab'}], [{'a'}, {'ab'}], [{'a'}, {'ab'}]]\n",
      "[[{''}, {''}], [{'a'}, {'a'}], [{'a'}, {'ab'}], [{'a'}, {'ab'}], [{'a'}, {'ab'}], [{'a'}, {'ab'}]]\n",
      "[[{''}, {''}], [{'a'}, {'a'}], [{'ab'}, {'ab'}], [{'a'}, {'ab'}], [{'a'}, {'ab'}], [{'a'}, {'ab'}]]\n",
      "[[{''}, {''}], [{'a'}, {'a'}], [{'ab'}, {'ab'}], [{'aba'}, {'ab'}], [{'a'}, {'ab'}], [{'a'}, {'ab'}]]\n",
      "[[{''}, {''}], [{'a'}, {'a'}], [{'ab'}, {'ab'}], [{'aba'}, {'ab'}], [{'aba'}, {'ab'}], [{'a'}, {'ab'}]]\n",
      "[[{''}, {''}], [{'a'}, {'a'}], [{'ab'}, {'ab'}], [{'aba'}, {'ab'}], [{'aba'}, {'ab'}], [{'aba'}, {'ab'}]]\n",
      "[[{''}, {''}], [{'a'}, {'a'}], [{'ab'}, {'ab'}], [{'aba'}, {'ab'}], [{'aba'}, {'ab'}], [{'aba'}, {'ab'}]]\n",
      "[[{''}, {''}], [{'a'}, {'a'}], [{'ab'}, {'ab'}], [{'aba'}, {'ab'}], [{'aba'}, {'ab'}], [{'aba'}, {'ab'}]]\n",
      "[[{''}, {''}], [{'a'}, {'a'}], [{'ab'}, {'ab'}], [{'aba'}, {'aba'}], [{'aba'}, {'ab'}], [{'aba'}, {'ab'}]]\n",
      "[[{''}, {''}], [{'a'}, {'a'}], [{'ab'}, {'ab'}], [{'aba'}, {'aba'}], [{'aba'}, {'abaa'}], [{'aba'}, {'ab'}]]\n",
      "[[{''}, {''}], [{'a'}, {'a'}], [{'ab'}, {'ab'}], [{'aba'}, {'aba'}], [{'aba'}, {'abaa'}], [{'aba'}, {'abaa'}]]\n",
      "[[{''}, {''}], [{'a'}, {'a'}], [{'ab'}, {'ab'}], [{'aba'}, {'aba'}], [{'aba'}, {'abaa'}], [{'aba'}, {'abaa'}]]\n",
      "[[{''}, {''}], [{'a'}, {'a'}], [{'ab'}, {'ab'}], [{'aba'}, {'aba'}], [{'aba'}, {'abaa'}], [{'aba'}, {'abaa'}]]\n",
      "[[{''}, {''}], [{'a'}, {'a'}], [{'ab'}, {'ab'}], [{'aba'}, {'aba'}], [{'aba'}, {'abaa'}], [{'aba'}, {'abaa'}]]\n",
      "[[{''}, {''}], [{'a'}, {'a'}], [{'ab'}, {'ab'}], [{'aba'}, {'aba'}], [{'abaa'}, {'abaa'}], [{'aba'}, {'abaa'}]]\n"
     ]
    },
    {
     "data": {
      "text/plain": [
       "['abaaa']"
      ]
     },
     "execution_count": 133,
     "metadata": {},
     "output_type": "execute_result"
    }
   ],
   "source": [
    "all_longest_common_subsequences(\"abaaa\", \"abaaa\")\n"
   ]
  },
  {
   "cell_type": "code",
   "execution_count": null,
   "metadata": {},
   "outputs": [],
   "source": []
  }
 ],
 "metadata": {
  "kernelspec": {
   "display_name": "Python 3",
   "language": "python",
   "name": "python3"
  },
  "language_info": {
   "codemirror_mode": {
    "name": "ipython",
    "version": 3
   },
   "file_extension": ".py",
   "mimetype": "text/x-python",
   "name": "python",
   "nbconvert_exporter": "python",
   "pygments_lexer": "ipython3",
   "version": "3.10.12"
  }
 },
 "nbformat": 4,
 "nbformat_minor": 2
}
