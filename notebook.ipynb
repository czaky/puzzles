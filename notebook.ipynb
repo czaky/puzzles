{
 "cells": [
  {
   "cell_type": "code",
   "execution_count": 18,
   "metadata": {},
   "outputs": [
    {
     "name": "stdout",
     "output_type": "stream",
     "text": [
      "\n"
     ]
    }
   ],
   "source": [
    "import math\n",
    "import numpy as np\n",
    "import sys\n",
    "from typing import List\n",
    "from functools import lru_cache, reduce, cmp_to_key\n",
    "from itertools import starmap, accumulate, chain, islice, product, tee, pairwise\n",
    "from collections import Counter, deque\n",
    "from heapq import heapify, heappushpop, heappop, heappush\n",
    "from operator import add, neg\n",
    "from bisect import bisect_right\n",
    "import matplotlib.pyplot as plt\n",
    "\n",
    "import arrays\n",
    "import trees\n",
    "import lists\n",
    "import graphs\n",
    "import search\n",
    "from importlib import reload\n",
    "reload(arrays)\n",
    "reload(trees)\n",
    "reload(lists)\n",
    "reload(graphs)\n",
    "reload(search)\n",
    "import arrays as ar\n",
    "import trees as tr\n",
    "import lists as ls\n",
    "import graphs as g\n",
    "from lists import Node\n",
    "print()"
   ]
  },
  {
   "cell_type": "code",
   "execution_count": 246,
   "metadata": {},
   "outputs": [],
   "source": [
    "def search(lt, l, h, d):\n",
    "    while l <= h:\n",
    "        m = (l + h) // 2\n",
    "        if lt(m):\n",
    "            l = m + 1\n",
    "        else:\n",
    "            d = m\n",
    "            h = m - 1\n",
    "    return d\n",
    "\n",
    "def min_sum_split_array(a: list, k: int) -> int:\n",
    "    \"Split `a` in `k` sub-sequences. Minimize the maximum sum of every one.\"\n",
    "    acc = lambda mx: lambda a, e: (e, a[1] + 1) if a[0] + e > mx else (a[0] + e, a[1])\n",
    "    fit = lambda mx: k < reduce(acc(mx), a, (0, 1))[1]\n",
    "    return search(fit, max(a), sum(a), -1)"
   ]
  },
  {
   "cell_type": "code",
   "execution_count": 248,
   "metadata": {},
   "outputs": [
    {
     "data": {
      "text/plain": [
       "10"
      ]
     },
     "execution_count": 248,
     "metadata": {},
     "output_type": "execute_result"
    }
   ],
   "source": [
    "min_sum_split_array([1, 2, 3, 4], 1)"
   ]
  },
  {
   "cell_type": "code",
   "execution_count": null,
   "metadata": {},
   "outputs": [],
   "source": []
  }
 ],
 "metadata": {
  "kernelspec": {
   "display_name": "Python 3",
   "language": "python",
   "name": "python3"
  },
  "language_info": {
   "codemirror_mode": {
    "name": "ipython",
    "version": 3
   },
   "file_extension": ".py",
   "mimetype": "text/x-python",
   "name": "python",
   "nbconvert_exporter": "python",
   "pygments_lexer": "ipython3",
   "version": "3.10.12"
  }
 },
 "nbformat": 4,
 "nbformat_minor": 2
}
