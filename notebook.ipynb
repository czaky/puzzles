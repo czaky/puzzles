{
 "cells": [
  {
   "cell_type": "code",
   "execution_count": 2,
   "metadata": {},
   "outputs": [
    {
     "name": "stdout",
     "output_type": "stream",
     "text": [
      "\n"
     ]
    }
   ],
   "source": [
    "# ruff: noqa: F401, E402, T201\n",
    "\n",
    "from __future__ import annotations\n",
    "\n",
    "import math\n",
    "import sys\n",
    "import time\n",
    "from bisect import bisect_left, bisect_right\n",
    "from collections import Counter, deque\n",
    "from functools import cmp_to_key, lru_cache, reduce\n",
    "from heapq import heapify, heappop, heappush, heappushpop, nsmallest\n",
    "from importlib import reload\n",
    "from itertools import (\n",
    "    accumulate,\n",
    "    chain,\n",
    "    combinations,\n",
    "    islice,\n",
    "    pairwise,\n",
    "    permutations,\n",
    "    product,\n",
    "    repeat,\n",
    "    starmap,\n",
    "    tee,\n",
    ")\n",
    "from math import comb, exp, factorial, inf, log, prod, sqrt\n",
    "from operator import add, and_, contains, indexOf, itemgetter, mul, neg, or_, xor\n",
    "from pprint import pprint\n",
    "from typing import Callable, Iterable, List, Tuple\n",
    "\n",
    "import matplotlib.pyplot as plt\n",
    "import networkx as nx\n",
    "import numpy as np\n",
    "from multiprocess import Process\n",
    "\n",
    "import arrays\n",
    "import combinatorics\n",
    "import graphs\n",
    "import lists\n",
    "import mathematics\n",
    "import matrix\n",
    "import parsing\n",
    "import search\n",
    "import sequences\n",
    "import sets\n",
    "import stack\n",
    "import strings\n",
    "import trees\n",
    "\n",
    "for m in (\n",
    "    arrays,\n",
    "    combinatorics,\n",
    "    graphs,\n",
    "    lists,\n",
    "    mathematics,\n",
    "    matrix,\n",
    "    parsing,\n",
    "    search,\n",
    "    sequences,\n",
    "    sets,\n",
    "    stack,\n",
    "    strings,\n",
    "    trees,\n",
    "):\n",
    "    reload(m)\n",
    "\n",
    "\n",
    "from combinatorics import fib\n",
    "from search import lower_index, upper_index\n",
    "from sequences import find_if\n",
    "from strings import splint\n",
    "\n",
    "print()  # noqa: T201\n"
   ]
  },
  {
   "cell_type": "code",
   "execution_count": 15,
   "metadata": {},
   "outputs": [],
   "source": [
    "def partition_by_sum(\n",
    "    csum: list[int],\n",
    "    start: int = 0,\n",
    "    stop: int | None = None,\n",
    ") -> tuple[int, int]:\n",
    "    if stop is None:\n",
    "        stop = len(csum) - 1\n",
    "    l, h = start + 1, stop - 1\n",
    "    # (abs difference, min-sum)\n",
    "    mn = (csum[stop] - csum[start], csum[start])\n",
    "    while l <= h:\n",
    "        m = (l + h) // 2\n",
    "        ls = csum[m] - csum[start]\n",
    "        rs = csum[stop] - csum[m]\n",
    "        if ls < rs:\n",
    "            mn = min(mn, (rs - ls, ls))\n",
    "            l = m + 1\n",
    "        else:\n",
    "            mn = min(mn, (ls - rs, rs))\n",
    "            h = m - 1\n",
    "    return mn[1], sum(mn)\n"
   ]
  },
  {
   "cell_type": "code",
   "execution_count": 38,
   "metadata": {},
   "outputs": [],
   "source": [
    "def partition_by_sum(\n",
    "    csum: list[int],\n",
    "    start: int = 0,\n",
    "    stop: int | None = None,\n",
    ") -> tuple[int, int]:\n",
    "    if stop is None:\n",
    "        stop = len(csum) - 1\n",
    "    # This assumes that `csum` is derived from array `a` by this process:\n",
    "    #    `csum = list(accumulate(a, initial=0))`\n",
    "    # `csum` is longer than `a` by 1, with leading 0.\n",
    "    #  starting at second element, stopping at second to last.\n",
    "    print(csum)\n",
    "    c2 = csum[start] + csum[stop]\n",
    "    print(c2)\n",
    "    m = lower_index(lambda m: csum[m] << 1 >= c2, start + 1, stop - 1, stop)\n",
    "    print(m)\n",
    "    mn = (2 * csum[m] - c2, csum[stop] - csum[m])\n",
    "    print(mn)\n",
    "    if m > start + 1:\n",
    "        mn = min(mn, (c2 - 2 * csum[m - 1], csum[m - 1] - csum[start]))\n",
    "        print(mn)\n",
    "\n",
    "    return mn[1:0]\n"
   ]
  },
  {
   "cell_type": "code",
   "execution_count": 39,
   "metadata": {},
   "outputs": [
    {
     "name": "stdout",
     "output_type": "stream",
     "text": [
      "[0, 2]\n",
      "2\n",
      "1\n",
      "(2, 0)\n"
     ]
    },
    {
     "data": {
      "text/plain": [
       "()"
      ]
     },
     "execution_count": 39,
     "metadata": {},
     "output_type": "execute_result"
    }
   ],
   "source": [
    "cs = lambda a: list(accumulate(a, initial=0))\n",
    "partition_by_sum(cs([2]))\n"
   ]
  },
  {
   "cell_type": "code",
   "execution_count": 31,
   "metadata": {},
   "outputs": [
    {
     "data": {
      "text/plain": [
       "[0, 1, 4, 7, 11]"
      ]
     },
     "execution_count": 31,
     "metadata": {},
     "output_type": "execute_result"
    }
   ],
   "source": [
    "[0, *accumulate([1, 3, 3, 4])]\n"
   ]
  },
  {
   "cell_type": "code",
   "execution_count": null,
   "metadata": {},
   "outputs": [],
   "source": []
  }
 ],
 "metadata": {
  "kernelspec": {
   "display_name": "Python 3",
   "language": "python",
   "name": "python3"
  },
  "language_info": {
   "codemirror_mode": {
    "name": "ipython",
    "version": 3
   },
   "file_extension": ".py",
   "mimetype": "text/x-python",
   "name": "python",
   "nbconvert_exporter": "python",
   "pygments_lexer": "ipython3",
   "version": "3.10.12"
  }
 },
 "nbformat": 4,
 "nbformat_minor": 2
}
