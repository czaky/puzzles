{
 "cells": [
  {
   "cell_type": "code",
   "execution_count": 1,
   "metadata": {},
   "outputs": [],
   "source": [
    "import arrays\n",
    "from importlib import reload\n",
    "reload(arrays)\n",
    "import arrays as ar\n"
   ]
  },
  {
   "cell_type": "code",
   "execution_count": 26,
   "metadata": {},
   "outputs": [],
   "source": [
    "\n",
    "# largest palindrome\n",
    "\n",
    "def largest_palindrome(line: str) -> str:\n",
    "    sub = [0, 0]\n",
    "    n = len(line)\n",
    "    def is_palindrome(i, even):\n",
    "        for j in range(min(i, n-i + even -1) + 1):\n",
    "            a = i-j\n",
    "            b = i+j - even\n",
    "            if line[a] != line[b]:\n",
    "                break\n",
    "            if sub[1] - sub[0] < b - a:\n",
    "                sub[:] = [a, b]\n",
    "    for i in range(1, n):\n",
    "        is_palindrome(i, even=0)\n",
    "        is_palindrome(i, even=1)\n",
    "\n",
    "    return line[sub[0]:sub[1] + 1]\n"
   ]
  },
  {
   "cell_type": "code",
   "execution_count": 25,
   "metadata": {},
   "outputs": [
    {
     "data": {
      "text/plain": [
       "'a'"
      ]
     },
     "execution_count": 25,
     "metadata": {},
     "output_type": "execute_result"
    }
   ],
   "source": [
    "largest_palindrome(\"abc\")\n"
   ]
  },
  {
   "cell_type": "code",
   "execution_count": null,
   "metadata": {},
   "outputs": [],
   "source": []
  }
 ],
 "metadata": {
  "kernelspec": {
   "display_name": "Python 3",
   "language": "python",
   "name": "python3"
  },
  "language_info": {
   "codemirror_mode": {
    "name": "ipython",
    "version": 3
   },
   "file_extension": ".py",
   "mimetype": "text/x-python",
   "name": "python",
   "nbconvert_exporter": "python",
   "pygments_lexer": "ipython3",
   "version": "3.10.12"
  }
 },
 "nbformat": 4,
 "nbformat_minor": 2
}
