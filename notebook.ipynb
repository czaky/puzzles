{
 "cells": [
  {
   "cell_type": "code",
   "execution_count": 265,
   "metadata": {},
   "outputs": [
    {
     "name": "stdout",
     "output_type": "stream",
     "text": [
      "\n"
     ]
    }
   ],
   "source": [
    "# ruff: noqa: F401, E402, T201, T203, D103\n",
    "\n",
    "from __future__ import annotations\n",
    "\n",
    "import math\n",
    "import sys\n",
    "import time\n",
    "from bisect import bisect_left, bisect_right\n",
    "from collections import Counter, deque\n",
    "from functools import cmp_to_key, lru_cache, reduce\n",
    "from heapq import heapify, heappop, heappush, heappushpop, nsmallest\n",
    "from importlib import reload\n",
    "from itertools import (\n",
    "    accumulate,\n",
    "    chain,\n",
    "    combinations,\n",
    "    islice,\n",
    "    pairwise,\n",
    "    permutations,\n",
    "    product,\n",
    "    repeat,\n",
    "    starmap,\n",
    "    tee,\n",
    ")\n",
    "from math import comb, exp, factorial, inf, log, prod, sqrt\n",
    "from operator import add, and_, contains, indexOf, itemgetter, mul, neg, or_, xor\n",
    "from pprint import pformat, pprint\n",
    "from typing import Callable, Iterable, Iterator, List, Tuple\n",
    "\n",
    "import matplotlib.pyplot as plt\n",
    "import networkx as nx\n",
    "import numpy as np\n",
    "from IPython.display import HTML, clear_output, display\n",
    "\n",
    "import arrays\n",
    "import bits\n",
    "import combinatorics\n",
    "import graphs\n",
    "import grid\n",
    "import lists\n",
    "import mathematics\n",
    "import matrix\n",
    "import parsing\n",
    "import search\n",
    "import sequences\n",
    "import sets\n",
    "import stack\n",
    "import strings\n",
    "import trees\n",
    "\n",
    "for m in (\n",
    "    arrays,\n",
    "    bits,\n",
    "    combinatorics,\n",
    "    graphs,\n",
    "    grid,\n",
    "    lists,\n",
    "    mathematics,\n",
    "    matrix,\n",
    "    parsing,\n",
    "    search,\n",
    "    sequences,\n",
    "    sets,\n",
    "    stack,\n",
    "    strings,\n",
    "    trees,\n",
    "):\n",
    "    reload(m)\n",
    "\n",
    "\n",
    "from combinatorics import fib\n",
    "from search import lower_index, upper_index\n",
    "from sequences import find_if\n",
    "from strings import splint\n",
    "\n",
    "np.set_printoptions(linewidth=110)\n",
    "print()\n"
   ]
  },
  {
   "cell_type": "code",
   "execution_count": 18,
   "metadata": {},
   "outputs": [],
   "source": [
    "def tsp(cost: list) -> int:\n",
    "    n = len(cost)\n",
    "    c = {}\n",
    "    ss = (1 << n) - 2  # all bits except 0\n",
    "    q = deque()\n",
    "    mnc = inf\n",
    "\n",
    "    print(ss)\n",
    "    for k in range(1, n):\n",
    "        ks = ss & ~(1 << k)  # 1 bit less\n",
    "        c[(ks, k)] = cost[0][k]\n",
    "        q.append(ks)\n",
    "\n",
    "    while q:\n",
    "        print(q)\n",
    "        ps = q.popleft()\n",
    "        if ps == 0:\n",
    "            cmk = min(c.get((ps | (1 << k), k), inf) + cost[k][0] for k in range(1, n))\n",
    "            mnc = min(mnc, cmk)\n",
    "        for k, kb in bits(ps):\n",
    "            assert ps & kb != 0  # noqa: S101\n",
    "            ks = ps & ~kb  # 1 bit less\n",
    "            print(ks)\n",
    "            cmk = min(c.get((ks | b, m), inf) + cost[m][k] for m, b in bits(ks))\n",
    "            c[(ks, k)] = min(cmk, c.get((ks, k), cmk))\n",
    "            if cmk < mnc:\n",
    "                q.append(ks)\n",
    "\n",
    "    return mnc\n"
   ]
  },
  {
   "cell_type": "code",
   "execution_count": 17,
   "metadata": {},
   "outputs": [],
   "source": [
    "def tsp(cost: list) -> int:\n",
    "    @lru_cache(None)\n",
    "    def g(s: int, k: int) -> int:\n",
    "        return min(g(s & ~b, m) + cost[m][k] for m, b in bits(s)) if s else cost[0][k]\n",
    "\n",
    "    n = len(cost)\n",
    "    s = (1 << n) - 2\n",
    "    return s and min(g(s & ~(1 << k), k) + cost[k][0] for k in range(1, n)) or 0\n"
   ]
  },
  {
   "cell_type": "code",
   "execution_count": 102,
   "metadata": {},
   "outputs": [],
   "source": [
    "def tsp(cost: list) -> int:\n",
    "    n = len(cost)\n",
    "    full = (1 << n) - 1\n",
    "    memo = [[-1] * (1 << n) for _ in range(n)]\n",
    "\n",
    "    def f(i: int, mask: int) -> int:\n",
    "        if mask == full:\n",
    "            return cost[i][0]\n",
    "        if memo[i][mask] >= 0:\n",
    "            return memo[i][mask]\n",
    "\n",
    "        res = 10**9  # result of this sub-problem\n",
    "        for j in range(n):\n",
    "            if mask & (1 << j) == 0:\n",
    "                res = min(res, cost[i][j] + f(j, mask | (1 << j)))\n",
    "        memo[i][mask] = res\n",
    "        return res\n",
    "\n",
    "    res = f(0, 1)\n",
    "    print(memo)\n",
    "    return res\n"
   ]
  },
  {
   "cell_type": "code",
   "execution_count": 53,
   "metadata": {},
   "outputs": [],
   "source": [
    "def tsp(cost: list) -> int:\n",
    "    n = len(cost)\n",
    "    base = (1 << n) - 1\n",
    "\n",
    "    @lru_cache(None)\n",
    "    def g(s: int, k: int) -> int:\n",
    "        if s == base:\n",
    "            return cost[k][0]\n",
    "        r = 10**10\n",
    "        for i in range(n):\n",
    "            if s & (1 << i) == 0:\n",
    "                r = min(r, cost[k][i] + g(s | (1 << i), i))\n",
    "        return r\n",
    "\n",
    "    return g(1, 0)\n"
   ]
  },
  {
   "cell_type": "code",
   "execution_count": 272,
   "metadata": {},
   "outputs": [],
   "source": [
    "def tsp(cost: list) -> int:\n",
    "    @lru_cache(None)\n",
    "    def g(s: int, k: int) -> int:\n",
    "        return min(cost[k][i] + g(s & ~b, i) for i, b in bits.enum(s)) if s else cost[k][0]\n",
    "\n",
    "    return g((1 << len(cost)) - 2, 0)\n"
   ]
  },
  {
   "cell_type": "code",
   "execution_count": 111,
   "metadata": {},
   "outputs": [],
   "source": [
    "def tsp(cost: list) -> int:\n",
    "    n = len(cost)\n",
    "    m = [[-1] * (1 << n) for _ in range(n)]\n",
    "\n",
    "    def g(s: int, k: int) -> int:\n",
    "        if not s:\n",
    "            return cost[k][0]\n",
    "        if m[k][s] < 0:\n",
    "            m[k][s] = min(cost[k][i] + g(s & ~b, i) for i, b in bits(s))\n",
    "        return m[k][s]\n",
    "\n",
    "    r = g((1 << len(cost)) - 2, 0)\n",
    "    print(m)\n",
    "    return r\n"
   ]
  },
  {
   "cell_type": "code",
   "execution_count": 126,
   "metadata": {},
   "outputs": [],
   "source": [
    "def tsp(cost: list) -> int:\n",
    "    n = len(cost)\n",
    "    m = [[-1] * (1 << n) for _ in range(n)]\n",
    "    mask = (1 << n) - 1\n",
    "    q = []\n",
    "    for k in range(n):\n",
    "        c = m[k][0] = cost[k][0]\n",
    "        heappush(q, (c, 1 << k))\n",
    "\n",
    "    while q:\n",
    "        s = q.popleft()\n",
    "        for k, b in bits(mask & ~s):\n",
    "            if m[k][s] < 0:\n",
    "                m[k][s] = min(cost[k][i] + m[i][s & ~bit] for i, bit in bits(s))\n",
    "                q.append(s | b)\n",
    "    # print(m)\n",
    "\n",
    "    return m[0][mask - 1]\n"
   ]
  },
  {
   "cell_type": "code",
   "execution_count": 212,
   "metadata": {},
   "outputs": [],
   "source": [
    "def tsp(cost: list) -> int:\n",
    "    n = len(cost)\n",
    "    # path = [0] * n\n",
    "\n",
    "    min_out = [min(cost[i][j] for j in range(n) if j != i) for i in range(n)]\n",
    "    # min_in = [min(cost[i][j] for i in range(n) if j != i) for j in range(n)]\n",
    "\n",
    "    mn = inf\n",
    "\n",
    "    def r(lb: int, u: int, c: int, level: int, unv: int) -> None:\n",
    "        nonlocal mn\n",
    "        if level == 0:\n",
    "            mn = min(mn, c + cost[u][0])\n",
    "            return\n",
    "        for i, b in bits(unv):\n",
    "            ic = c + cost[u][i]\n",
    "            ilb = lb - min_out[i]\n",
    "            if ic + ilb <= mn:\n",
    "                # path[-level] = i\n",
    "                r(ilb, i, ic, level - 1, unv & ~b)\n",
    "\n",
    "    lb = sum(min_out[1:])\n",
    "    r(lb, 0, 0, n - 1, (1 << n) - 2)\n",
    "    return mn\n"
   ]
  },
  {
   "cell_type": "code",
   "execution_count": 268,
   "metadata": {},
   "outputs": [],
   "source": [
    "def tsp(cost: list[list[int]]) -> int:\n",
    "    \"\"\"Return the exact minimum path cost of the traveling salesman problem.\"\"\"\n",
    "    n = len(cost)\n",
    "    if n < 2:\n",
    "        return 0\n",
    "\n",
    "    # Used for the lower bound estimation.\n",
    "    min_out = [min(cost[i][j] for j in range(n) if j != i) for i in range(n)]\n",
    "\n",
    "    # The resulting minimum path cost.\n",
    "    mn: int = sum(max(cost[i][j] for j in range(n)) for i in range(n))\n",
    "    # Stack containing traversal states.\n",
    "    # lower-bound, cost, unvisited, node-index\n",
    "    s: list[tuple] = [(sum(min_out), 0, (1 << n) - 2, 0)]\n",
    "\n",
    "    while s:\n",
    "        h, c, unvisited, u = s.pop()\n",
    "        if unvisited == 0:\n",
    "            mn = min(mn, c + cost[u][0])\n",
    "            continue\n",
    "        # Cut by the best solution as early as possible.\n",
    "        if h >= mn:\n",
    "            continue\n",
    "        h -= min_out[u]\n",
    "        # Iterate over the unvisited node indexes.\n",
    "        for i, b in bits.enum(unvisited):\n",
    "            ih = h + cost[u][i]\n",
    "            # Cut by the best solution found so far.\n",
    "            if ih <= mn:\n",
    "                s.append((ih, c + cost[u][i], unvisited & ~b, i))\n",
    "\n",
    "    return mn\n"
   ]
  },
  {
   "cell_type": "code",
   "execution_count": 273,
   "metadata": {},
   "outputs": [
    {
     "data": {
      "text/plain": [
       "1708"
      ]
     },
     "execution_count": 273,
     "metadata": {},
     "output_type": "execute_result"
    }
   ],
   "source": [
    "g = grid.parse(\n",
    "    \"\"\"\\\n",
    "107 816 247 307 92 417 423 55 365 876 435 456 299 101 577 324 10 335 978 130\n",
    "94 146 382 92 570 256 895 664 574 853 571 507 301 493 250 952 584 144 319 61\n",
    "365 916 585 259 660 605 759 975 189 698 449 670 264 140 359 372 281 698 157 772\n",
    "839 860 603 100 651 676 711 572 505 120 499 423 904 389 635 431 710 234 260 866\n",
    "93 254 382 986 18 840 676 346 94 706 457 937 305 325 798 299 738 84 810 996\n",
    "539 137 723 644 620 712 389 126 490 450 594 717 646 169 856 273 495 279 57 848\n",
    "909 307 516 917 945 78 559 882 704 155 670 715 117 335 777 971 385 367 974 325\n",
    "161 969 7 347 475 973 158 601 703 693 460 307 994 174 193 519 218 352 449 227\n",
    "962 602 600 942 197 912 690 224 578 266 888 145 366 564 876 978 920 356 219 577\n",
    "441 808 949 345 914 614 407 162 239 830 76 416 28 282 137 273 856 578 643 957\n",
    "394 794 246 421 237 23 522 68 457 105 684 572 603 4 722 129 587 663 84 667\n",
    "201 295 715 818 883 274 901 816 400 515 922 104 794 844 577 73 737 692 229 660\n",
    "361 454 720 921 3 142 61 151 297 304 791 283 291 820 158 74 504 799 125 551\n",
    "211 721 293 143 690 557 984 726 212 834 989 236 469 344 822 844 462 251 494 868\n",
    "874 204 899 266 188 63 899 941 841 968 320 104 206 68 494 918 811 983 529 767\n",
    "595 677 681 160 336 341 837 145 404 991 504 440 16 335 254 851 1000 491 769 98\n",
    "333 588 694 477 675 595 858 149 972 677 761 468 970 54 991 374 68 832 783 137\n",
    "197 225 379 451 654 298 138 809 133 854 105 732 614 864 525 55 39 144 431 504\n",
    "352 39 151 380 551 218 708 865 241 898 70 322 5 110 102 369 269 89 601 704\n",
    "115 519 166 58 81 231 71 129 612 143 228 540 697 590 968 624 435 772 215 556\"\"\"\n",
    ")\n",
    "tsp(g)\n"
   ]
  },
  {
   "cell_type": "code",
   "execution_count": 253,
   "metadata": {},
   "outputs": [
    {
     "data": {
      "text/plain": [
       "19"
      ]
     },
     "execution_count": 253,
     "metadata": {},
     "output_type": "execute_result"
    }
   ],
   "source": [
    "g = grid.parse(\n",
    "    \"\"\"\\\n",
    "0 9 6 8\n",
    "4 0 3 1\n",
    "9 8 0 6\n",
    "4 7 5 0\"\"\"\n",
    ")\n",
    "tsp(g)\n"
   ]
  },
  {
   "cell_type": "code",
   "execution_count": 254,
   "metadata": {},
   "outputs": [
    {
     "data": {
      "text/plain": [
       "0"
      ]
     },
     "execution_count": 254,
     "metadata": {},
     "output_type": "execute_result"
    }
   ],
   "source": [
    "tsp([[0]])\n"
   ]
  },
  {
   "cell_type": "code",
   "execution_count": 255,
   "metadata": {},
   "outputs": [
    {
     "data": {
      "text/plain": [
       "19"
      ]
     },
     "execution_count": 255,
     "metadata": {},
     "output_type": "execute_result"
    }
   ],
   "source": [
    "g = grid.parse(\n",
    "    \"\"\"\\\n",
    "0 2 7 7\n",
    "1 0 9 9\n",
    "1 8 0 9\n",
    "5 2 10 0\"\"\"\n",
    ")\n",
    "tsp(g)\n"
   ]
  },
  {
   "cell_type": "code",
   "execution_count": 240,
   "metadata": {},
   "outputs": [
    {
     "data": {
      "text/plain": [
       "16569"
      ]
     },
     "execution_count": 240,
     "metadata": {},
     "output_type": "execute_result"
    }
   ],
   "source": [
    "g = grid.parse(\n",
    "    \"\"\"\\\n",
    "0 2167 3150 2813 8453 9303 8998 1918\n",
    "5018 0 4676 8015 1595 6768 6350 5244\n",
    "7573 9787 0 3790 547 7036 9899 8995\n",
    "1117 5451 7862 0 4295 8814 5240 1755\n",
    "3228 9558 8463 711 0 8959 5713 8069\n",
    "9601 8133 3995 1343 3068 0 347 6450\n",
    "7294 6795 164 2589 4651 5219 0 9887\n",
    "6554 4997 2876 7940 2550 7778 1101 0\"\"\"\n",
    ")\n",
    "tsp(g)\n"
   ]
  },
  {
   "cell_type": "code",
   "execution_count": 221,
   "metadata": {},
   "outputs": [
    {
     "data": {
      "text/plain": [
       "16588"
      ]
     },
     "execution_count": 221,
     "metadata": {},
     "output_type": "execute_result"
    }
   ],
   "source": [
    "g = grid.parse(\n",
    "    \"\"\"\\\n",
    "0 4430 6977 2797 9384 5713 7860 8499\n",
    "8061 0 8306 7416 545 3111 3344 6000\n",
    "1891 7812 0 5617 9606 8926 790 1251\n",
    "961 6814 6060 0 6914 4297 3065 6399\n",
    "8986 9587 1126 1090 0 5199 594 9271\n",
    "5846 15 8138 4425 7613 0 4242 3207\n",
    "4997 5408 5716 5024 1763 7331 0 5057\n",
    "4229 2391 6263 7616 8667 2987 1953 0\"\"\"\n",
    ")\n",
    "tsp(g)\n"
   ]
  },
  {
   "cell_type": "code",
   "execution_count": 222,
   "metadata": {},
   "outputs": [
    {
     "data": {
      "text/plain": [
       "223"
      ]
     },
     "execution_count": 222,
     "metadata": {},
     "output_type": "execute_result"
    }
   ],
   "source": [
    "tsp([[0, 111], [112, 0]])\n"
   ]
  },
  {
   "cell_type": "code",
   "execution_count": 223,
   "metadata": {},
   "outputs": [
    {
     "data": {
      "text/plain": [
       "3000"
      ]
     },
     "execution_count": 223,
     "metadata": {},
     "output_type": "execute_result"
    }
   ],
   "source": [
    "tsp([[0, 1000, 5000], [5000, 0, 1000], [1000, 5000, 0]])\n"
   ]
  },
  {
   "cell_type": "code",
   "execution_count": 224,
   "metadata": {},
   "outputs": [
    {
     "data": {
      "text/plain": [
       "0"
      ]
     },
     "execution_count": 224,
     "metadata": {},
     "output_type": "execute_result"
    }
   ],
   "source": [
    "tsp([[0]])\n"
   ]
  },
  {
   "cell_type": "code",
   "execution_count": 225,
   "metadata": {},
   "outputs": [
    {
     "data": {
      "text/plain": [
       "779"
      ]
     },
     "execution_count": 225,
     "metadata": {},
     "output_type": "execute_result"
    }
   ],
   "source": [
    "tsp([[0, 111, 555], [112, 0, 555], [113, 222, 0]])\n"
   ]
  },
  {
   "cell_type": "code",
   "execution_count": null,
   "metadata": {},
   "outputs": [],
   "source": []
  }
 ],
 "metadata": {
  "kernelspec": {
   "display_name": "Python 3",
   "language": "python",
   "name": "python3"
  },
  "language_info": {
   "codemirror_mode": {
    "name": "ipython",
    "version": 3
   },
   "file_extension": ".py",
   "mimetype": "text/x-python",
   "name": "python",
   "nbconvert_exporter": "python",
   "pygments_lexer": "ipython3",
   "version": "3.10.12"
  }
 },
 "nbformat": 4,
 "nbformat_minor": 2
}
