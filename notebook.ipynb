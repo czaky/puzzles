{
 "cells": [
  {
   "cell_type": "code",
   "execution_count": 30,
   "metadata": {},
   "outputs": [
    {
     "name": "stdout",
     "output_type": "stream",
     "text": [
      "\n"
     ]
    }
   ],
   "source": [
    "# ruff: noqa: F401, E402\n",
    "import math\n",
    "import sys\n",
    "from bisect import bisect_left, bisect_right\n",
    "from collections import Counter, deque\n",
    "from functools import cmp_to_key, lru_cache, reduce\n",
    "from heapq import heapify, heappop, heappush, heappushpop, nsmallest\n",
    "from importlib import reload\n",
    "from itertools import (\n",
    "    accumulate,\n",
    "    chain,\n",
    "    combinations,\n",
    "    islice,\n",
    "    pairwise,\n",
    "    permutations,\n",
    "    product,\n",
    "    starmap,\n",
    "    tee,\n",
    ")\n",
    "from math import comb, factorial, log, sqrt\n",
    "from operator import add, and_, contains, indexOf, itemgetter, neg, or_, xor\n",
    "from pprint import pprint\n",
    "from typing import Callable, Iterable, List, Tuple\n",
    "\n",
    "import matplotlib.pyplot as plt\n",
    "import numpy as np\n",
    "\n",
    "import arrays\n",
    "import graphs\n",
    "import lists\n",
    "import mathematics\n",
    "import matrix\n",
    "import parsing\n",
    "import search\n",
    "import sequences\n",
    "import sets\n",
    "import strings\n",
    "import trees\n",
    "\n",
    "for m in (\n",
    "    arrays,\n",
    "    graphs,\n",
    "    lists,\n",
    "    mathematics,\n",
    "    matrix,\n",
    "    parsing,\n",
    "    search,\n",
    "    sequences,\n",
    "    sets,\n",
    "    strings,\n",
    "    trees,\n",
    "):\n",
    "    reload(m)\n",
    "\n",
    "\n",
    "from parsing import format_binop_expression, parse_binop_expression\n",
    "from sequences import find_if\n",
    "\n",
    "print()\n"
   ]
  },
  {
   "cell_type": "code",
   "execution_count": 155,
   "metadata": {},
   "outputs": [],
   "source": [
    "# sys.setrecursionlimit(1000007)\n",
    "\n",
    "def largest_sum_cycle(edges: List[int]) -> int:\n",
    "    \"Return the max node index sum of cycles in graph defined by `edges`.\"\n",
    "    # Simplest recursive solution in `O(|E|)`.\n",
    "    # For each cycle we compute the total path sum reached so far.\n",
    "    # This allows us to remove any tangling prefix nodes from the sum.\n",
    "    # At the same time the `edges` are marked as dead-end.\n",
    "    # This allows the code to run in `O(|E|)`\n",
    "\n",
    "    # Contains the sums of the paths.\n",
    "    v = [-1] * len(edges)\n",
    "\n",
    "    def visit(i: int, s: int):\n",
    "        if edges[i] < 0:\n",
    "            return -1\n",
    "        s += i\n",
    "        if v[i] >= 0:\n",
    "            # Remove any prefix from the sum.\n",
    "            return s - v[i]\n",
    "        # Mark the cell with the sum so far.\n",
    "        v[i] = s\n",
    "        result = visit(edges[i], s)\n",
    "        # Mark the cell as dead-end to prevent revisits.\n",
    "        edges[i] = -1\n",
    "        return result\n",
    "\n",
    "    return max(visit(i, 0) for i in range(len(edges)))\n"
   ]
  },
  {
   "cell_type": "code",
   "execution_count": 156,
   "metadata": {},
   "outputs": [
    {
     "name": "stdout",
     "output_type": "stream",
     "text": [
      "[0, 3, 2, 3, 4]\n",
      "[3, -1, -1, -1, -1]\n"
     ]
    },
    {
     "data": {
      "text/plain": [
       "3"
      ]
     },
     "execution_count": 156,
     "metadata": {},
     "output_type": "execute_result"
    }
   ],
   "source": [
    "largest_sum_cycle([2, 2, 1, 2, 2])\n"
   ]
  },
  {
   "cell_type": "code",
   "execution_count": 157,
   "metadata": {},
   "outputs": [
    {
     "name": "stdout",
     "output_type": "stream",
     "text": [
      "[0, 1, 3, -1]\n",
      "[3, -1, -1, -1]\n"
     ]
    },
    {
     "data": {
      "text/plain": [
       "3"
      ]
     },
     "execution_count": 157,
     "metadata": {},
     "output_type": "execute_result"
    }
   ],
   "source": [
    "largest_sum_cycle([1, 2, 0, -1])\n"
   ]
  },
  {
   "cell_type": "code",
   "execution_count": 158,
   "metadata": {},
   "outputs": [
    {
     "name": "stdout",
     "output_type": "stream",
     "text": [
      "[0, 1, 3]\n",
      "[3, -1, -1]\n"
     ]
    },
    {
     "data": {
      "text/plain": [
       "3"
      ]
     },
     "execution_count": 158,
     "metadata": {},
     "output_type": "execute_result"
    }
   ],
   "source": [
    "largest_sum_cycle([1, 2, 1])\n"
   ]
  },
  {
   "cell_type": "code",
   "execution_count": 159,
   "metadata": {},
   "outputs": [
    {
     "name": "stdout",
     "output_type": "stream",
     "text": [
      "[0, 1, -1, 3]\n",
      "[-1, -1, -1, -1]\n"
     ]
    },
    {
     "data": {
      "text/plain": [
       "-1"
      ]
     },
     "execution_count": 159,
     "metadata": {},
     "output_type": "execute_result"
    }
   ],
   "source": [
    "largest_sum_cycle([2, 0, -1, 2])\n"
   ]
  },
  {
   "cell_type": "code",
   "execution_count": 160,
   "metadata": {},
   "outputs": [
    {
     "name": "stdout",
     "output_type": "stream",
     "text": [
      "[0, 1, -1, 4, 4, 12, 6, 7, 8, 13]\n",
      "[12, 4, -1, -1, -1, -1, -1, -1, -1, -1]\n"
     ]
    },
    {
     "data": {
      "text/plain": [
       "12"
      ]
     },
     "execution_count": 160,
     "metadata": {},
     "output_type": "execute_result"
    }
   ],
   "source": [
    "# 4->9->3->1->3 => 4\n",
    "# 0->7->5->0 => 12\n",
    "#\n",
    "#   [0  1   2  3  4  5  6  7  8  9]\n",
    "e = [7, 3, -1, 1, 9, 0, 3, 5, 5, 3]\n",
    "largest_sum_cycle(e)\n"
   ]
  },
  {
   "cell_type": "code",
   "execution_count": null,
   "metadata": {},
   "outputs": [],
   "source": []
  }
 ],
 "metadata": {
  "kernelspec": {
   "display_name": "Python 3",
   "language": "python",
   "name": "python3"
  },
  "language_info": {
   "codemirror_mode": {
    "name": "ipython",
    "version": 3
   },
   "file_extension": ".py",
   "mimetype": "text/x-python",
   "name": "python",
   "nbconvert_exporter": "python",
   "pygments_lexer": "ipython3",
   "version": "3.10.12"
  }
 },
 "nbformat": 4,
 "nbformat_minor": 2
}
