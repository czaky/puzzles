{
 "cells": [
  {
   "cell_type": "code",
   "execution_count": 3,
   "metadata": {},
   "outputs": [
    {
     "name": "stdout",
     "output_type": "stream",
     "text": [
      "\n"
     ]
    }
   ],
   "source": [
    "import math\n",
    "from pprint import pprint\n",
    "from math import log, factorial\n",
    "import numpy as np\n",
    "import sys\n",
    "from typing import List, Tuple, Callable, Iterable\n",
    "from functools import lru_cache, reduce, cmp_to_key\n",
    "from itertools import (\n",
    "    starmap,\n",
    "    accumulate,\n",
    "    chain,\n",
    "    islice,\n",
    "    product,\n",
    "    tee,\n",
    "    pairwise,\n",
    "    combinations,\n",
    "    permutations,\n",
    ")\n",
    "from collections import Counter, deque\n",
    "from heapq import heapify, heappushpop, heappop, heappush\n",
    "from operator import add, neg, itemgetter, xor, and_, or_\n",
    "from bisect import bisect_right, bisect_left\n",
    "import matplotlib.pyplot as plt\n",
    "\n",
    "import arrays\n",
    "import trees\n",
    "import lists\n",
    "import graphs\n",
    "import search\n",
    "import strings\n",
    "import sets\n",
    "import matrix\n",
    "import mathematics\n",
    "import sequences\n",
    "from importlib import reload\n",
    "\n",
    "for m in (\n",
    "    arrays,\n",
    "    trees,\n",
    "    lists,\n",
    "    graphs,\n",
    "    search,\n",
    "    strings,\n",
    "    sets,\n",
    "    sequences,\n",
    "    matrix,\n",
    "    mathematics,\n",
    "):\n",
    "    reload(m)\n",
    "\n",
    "import arrays as ar\n",
    "import trees as tr\n",
    "import lists as ll\n",
    "import graphs as g\n",
    "import strings as s\n",
    "import sets\n",
    "import matrix as mt\n",
    "import mathematics as m\n",
    "from sequences import find_if, Key\n",
    "\n",
    "print()"
   ]
  },
  {
   "cell_type": "code",
   "execution_count": 150,
   "metadata": {},
   "outputs": [],
   "source": [
    "def word_distance(words: List[str], start: str, end: str) -> int:\n",
    "    \"Return the minimum distance from `start` to `end` when using `words` intermediate steps.\"\n",
    "    if start == end:\n",
    "        return 1\n",
    "    lookup = set(words)\n",
    "    q = deque([start])\n",
    "    depth = 2\n",
    "    while q:\n",
    "        for _ in range(len(q)):\n",
    "            word = q.popleft()\n",
    "            for i in range(len(word)):\n",
    "                for rc in \"abcdefghijklmnopqrstuvwxyz\":\n",
    "                    nw = word[:i] + rc + word[i + 1 :]\n",
    "                    if nw == end:\n",
    "                        return depth\n",
    "                    if nw in lookup:\n",
    "                        lookup.remove(nw)\n",
    "                        q.append(nw)\n",
    "        depth += 1\n",
    "    return 0"
   ]
  },
  {
   "cell_type": "code",
   "execution_count": 147,
   "metadata": {},
   "outputs": [],
   "source": [
    "def word_paths(words: List[str], start: str, end: str) -> List[str]:\n",
    "    \"Return the minimum paths from `start` to `end` when using `words` intermediate steps.\"\n",
    "    lookup = set(words)\n",
    "    q = deque([[start]])\n",
    "    found = start == end\n",
    "    while q and not found:\n",
    "        used = set()\n",
    "        for _ in range(len(q)):\n",
    "            path = q.popleft()\n",
    "            word = path[-1]\n",
    "            for i in range(len(word)):\n",
    "                for rc in \"abcdefghijklmnopqrstuvwxyz\":\n",
    "                    nw = word[:i] + rc + word[i + 1 :]\n",
    "                    if nw in lookup:\n",
    "                        used.add(nw)\n",
    "                        q.append(path + [nw])\n",
    "                    found |= nw == end\n",
    "        lookup -= used\n",
    "    return [p for p in q if p[-1] == end]"
   ]
  },
  {
   "cell_type": "code",
   "execution_count": 160,
   "metadata": {},
   "outputs": [
    {
     "data": {
      "text/plain": [
       "[['der', 'dfr', 'dfs'], ['der', 'des', 'dfs']]"
      ]
     },
     "execution_count": 160,
     "metadata": {},
     "output_type": "execute_result"
    }
   ],
   "source": [
    "word_paths([\"des\", \"der\", \"dfr\", \"dgt\", \"dfs\"], \"der\", \"dfs\")"
   ]
  },
  {
   "cell_type": "code",
   "execution_count": 149,
   "metadata": {},
   "outputs": [
    {
     "data": {
      "text/plain": [
       "[['lkljl', 'ljljl', 'ljlll', 'ljkll'], ['lkljl', 'lklll', 'ljlll', 'ljkll']]"
      ]
     },
     "execution_count": 149,
     "metadata": {},
     "output_type": "execute_result"
    }
   ],
   "source": [
    "word_paths(words[:-2], \"lkljl\", \"ljkll\")"
   ]
  },
  {
   "cell_type": "code",
   "execution_count": 153,
   "metadata": {},
   "outputs": [
    {
     "data": {
      "text/plain": [
       "3"
      ]
     },
     "execution_count": 153,
     "metadata": {},
     "output_type": "execute_result"
    }
   ],
   "source": [
    "word_distance([\"des\", \"der\", \"dfr\", \"dgt\", \"dfs\"], \"dep\", \"dfs\")"
   ]
  },
  {
   "cell_type": "code",
   "execution_count": 154,
   "metadata": {},
   "outputs": [
    {
     "data": {
      "text/plain": [
       "2"
      ]
     },
     "execution_count": 154,
     "metadata": {},
     "output_type": "execute_result"
    }
   ],
   "source": [
    "word_distance([\"geek\", \"gefk\"], \"gedk\", \"geek\")"
   ]
  },
  {
   "cell_type": "code",
   "execution_count": 156,
   "metadata": {},
   "outputs": [
    {
     "data": {
      "text/plain": [
       "4"
      ]
     },
     "execution_count": 156,
     "metadata": {},
     "output_type": "execute_result"
    }
   ],
   "source": [
    "word_distance(words[:-2], \"lkljl\", \"ljkll\")"
   ]
  },
  {
   "cell_type": "code",
   "execution_count": 11,
   "metadata": {},
   "outputs": [],
   "source": [
    "words = \"\"\"\\\n",
    "ljjjk\n",
    "ljjll\n",
    "kklll\n",
    "jklkl\n",
    "lkjkk\n",
    "klklk\n",
    "llkjj\n",
    "ljlll\n",
    "kjjlk\n",
    "jljjj\n",
    "jlkjk\n",
    "kjjjk\n",
    "llklk\n",
    "lklll\n",
    "llkkj\n",
    "jkllk\n",
    "jjllk\n",
    "kkljl\n",
    "llljk\n",
    "kkkkl\n",
    "lljkj\n",
    "ljkll\n",
    "jklkj\n",
    "jklkk\n",
    "kjllj\n",
    "ljllk\n",
    "jlkjl\n",
    "jjjlj\n",
    "kjjjl\n",
    "jjlll\n",
    "jjjjj\n",
    "klllj\n",
    "kjlkj\n",
    "lkjjj\n",
    "kkjlj\n",
    "llkkl\n",
    "jjjjl\n",
    "kjkll\n",
    "jkjjk\n",
    "ljljl\n",
    "kklkj\n",
    "jjkkj\n",
    "kjkkl\n",
    "jllkj\n",
    "lkjkj\n",
    "lkjjk\n",
    "jjljl\n",
    "kjjkl\n",
    "jkjlk\n",
    "lljlk\n",
    "kkllj\n",
    "jkkkj\n",
    "ljkjj\n",
    "klkjk\n",
    "ljjjj\n",
    "kkjkj\n",
    "lkllk\n",
    "jkllj\n",
    "lljjj\n",
    "kljkk\n",
    "ljjjl\n",
    "kkllk\n",
    "kljlk\n",
    "lkklk\n",
    "jljll\n",
    "llkll\n",
    "jjkjk\n",
    "jlkkl\n",
    "llkjl\n",
    "kkjkk\n",
    "kjkkk\n",
    "kkklj\n",
    "jkkjj\n",
    "kjklk\n",
    "klkjj\n",
    "jlkkk\n",
    "lkljj\n",
    "klkkj\n",
    "jlkll\n",
    "lkljl\n",
    "jljll\"\"\".splitlines()"
   ]
  },
  {
   "cell_type": "code",
   "execution_count": 138,
   "metadata": {},
   "outputs": [
    {
     "data": {
      "text/plain": [
       "['ljjjk',\n",
       " 'ljjll',\n",
       " 'kklll',\n",
       " 'jklkl',\n",
       " 'lkjkk',\n",
       " 'klklk',\n",
       " 'llkjj',\n",
       " 'ljlll',\n",
       " 'kjjlk',\n",
       " 'jljjj',\n",
       " 'jlkjk',\n",
       " 'kjjjk',\n",
       " 'llklk',\n",
       " 'lklll',\n",
       " 'llkkj',\n",
       " 'jkllk',\n",
       " 'jjllk',\n",
       " 'kkljl',\n",
       " 'llljk',\n",
       " 'kkkkl',\n",
       " 'lljkj',\n",
       " 'ljkll',\n",
       " 'jklkj',\n",
       " 'jklkk',\n",
       " 'kjllj',\n",
       " 'ljllk',\n",
       " 'jlkjl',\n",
       " 'jjjlj',\n",
       " 'kjjjl',\n",
       " 'jjlll',\n",
       " 'jjjjj',\n",
       " 'klllj',\n",
       " 'kjlkj',\n",
       " 'lkjjj',\n",
       " 'kkjlj',\n",
       " 'llkkl',\n",
       " 'jjjjl',\n",
       " 'kjkll',\n",
       " 'jkjjk',\n",
       " 'ljljl',\n",
       " 'kklkj',\n",
       " 'jjkkj',\n",
       " 'kjkkl',\n",
       " 'jllkj',\n",
       " 'lkjkj',\n",
       " 'lkjjk',\n",
       " 'jjljl',\n",
       " 'kjjkl',\n",
       " 'jkjlk',\n",
       " 'lljlk',\n",
       " 'kkllj',\n",
       " 'jkkkj',\n",
       " 'ljkjj',\n",
       " 'klkjk',\n",
       " 'ljjjj',\n",
       " 'kkjkj',\n",
       " 'lkllk',\n",
       " 'jkllj',\n",
       " 'lljjj',\n",
       " 'kljkk',\n",
       " 'ljjjl',\n",
       " 'kkllk',\n",
       " 'kljlk',\n",
       " 'lkklk',\n",
       " 'jljll',\n",
       " 'llkll',\n",
       " 'jjkjk',\n",
       " 'jlkkl',\n",
       " 'llkjl',\n",
       " 'kkjkk',\n",
       " 'kjkkk',\n",
       " 'kkklj',\n",
       " 'jkkjj',\n",
       " 'kjklk',\n",
       " 'klkjj',\n",
       " 'jlkkk',\n",
       " 'lkljj',\n",
       " 'klkkj',\n",
       " 'jlkll']"
      ]
     },
     "execution_count": 138,
     "metadata": {},
     "output_type": "execute_result"
    }
   ],
   "source": [
    "words[:-2]"
   ]
  },
  {
   "cell_type": "code",
   "execution_count": 19,
   "metadata": {},
   "outputs": [
    {
     "ename": "TypeError",
     "evalue": "unhashable type: 'list'",
     "output_type": "error",
     "traceback": [
      "\u001b[0;31m---------------------------------------------------------------------------\u001b[0m",
      "\u001b[0;31mTypeError\u001b[0m                                 Traceback (most recent call last)",
      "\u001b[1;32m/config/workspace/puzzles/notebook.ipynb Cell 10\u001b[0m line \u001b[0;36m1\n\u001b[0;32m----> <a href='vscode-notebook-cell://localhost:9444/config/workspace/puzzles/notebook.ipynb#X54sdnNjb2RlLXJlbW90ZQ%3D%3D?line=0'>1</a>\u001b[0m \u001b[39mset\u001b[39;49m([[\u001b[39m1\u001b[39;49m, \u001b[39m2\u001b[39;49m, \u001b[39m3\u001b[39;49m], [\u001b[39m1\u001b[39;49m, \u001b[39m2\u001b[39;49m, \u001b[39m3\u001b[39;49m]])\n",
      "\u001b[0;31mTypeError\u001b[0m: unhashable type: 'list'"
     ]
    }
   ],
   "source": [
    "set([[1, 2, 3], [1, 2, 3]])"
   ]
  },
  {
   "cell_type": "code",
   "execution_count": 159,
   "metadata": {},
   "outputs": [
    {
     "data": {
      "text/plain": [
       "'aaa'"
      ]
     },
     "execution_count": 159,
     "metadata": {},
     "output_type": "execute_result"
    }
   ],
   "source": [
    "\" aaa\".strip()"
   ]
  },
  {
   "cell_type": "code",
   "execution_count": null,
   "metadata": {},
   "outputs": [],
   "source": []
  }
 ],
 "metadata": {
  "kernelspec": {
   "display_name": "Python 3",
   "language": "python",
   "name": "python3"
  },
  "language_info": {
   "codemirror_mode": {
    "name": "ipython",
    "version": 3
   },
   "file_extension": ".py",
   "mimetype": "text/x-python",
   "name": "python",
   "nbconvert_exporter": "python",
   "pygments_lexer": "ipython3",
   "version": "3.10.12"
  }
 },
 "nbformat": 4,
 "nbformat_minor": 2
}
