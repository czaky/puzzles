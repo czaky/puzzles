{
 "cells": [
  {
   "cell_type": "code",
   "execution_count": 48,
   "metadata": {},
   "outputs": [
    {
     "name": "stdout",
     "output_type": "stream",
     "text": [
      "\n"
     ]
    }
   ],
   "source": [
    "import math\n",
    "from pprint import pprint\n",
    "from math import log\n",
    "import numpy as np\n",
    "import sys\n",
    "from typing import List, Tuple, Callable, Iterable\n",
    "from functools import lru_cache, reduce, cmp_to_key\n",
    "from itertools import (\n",
    "    starmap,\n",
    "    accumulate,\n",
    "    chain,\n",
    "    islice,\n",
    "    product,\n",
    "    tee,\n",
    "    pairwise,\n",
    "    combinations,\n",
    ")\n",
    "from collections import Counter, deque\n",
    "from heapq import heapify, heappushpop, heappop, heappush\n",
    "from operator import add, neg\n",
    "from bisect import bisect_right\n",
    "import matplotlib.pyplot as plt\n",
    "\n",
    "import arrays\n",
    "import trees\n",
    "import lists\n",
    "import graphs\n",
    "import search\n",
    "import strings\n",
    "from importlib import reload\n",
    "\n",
    "reload(arrays)\n",
    "reload(trees)\n",
    "reload(lists)\n",
    "reload(graphs)\n",
    "reload(search)\n",
    "import arrays as ar\n",
    "import trees as tr\n",
    "import lists as ll\n",
    "import graphs as g\n",
    "import strings as s\n",
    "\n",
    "print()"
   ]
  },
  {
   "cell_type": "code",
   "execution_count": 45,
   "metadata": {},
   "outputs": [],
   "source": [
    "def extra_palindrome_chars(s: str) -> int:\n",
    "    n = len(s)\n",
    "    r = s[::-1]\n",
    "    pi = [0] * (n + 1)\n",
    "    k = 0\n",
    "    for q in range(n):\n",
    "        print(f\"{q}:{r[q]} \\t {k}:{s[k]}  \\t {k>0 and pi[k -1]}\")\n",
    "        while r[q] != s[k]:\n",
    "            if k == 0:\n",
    "                break\n",
    "            k = pi[k - 1]\n",
    "        else:\n",
    "            pi[q + 1] = k = k + 1\n",
    "    print(pi)\n",
    "    return n - pi[-1]"
   ]
  },
  {
   "cell_type": "code",
   "execution_count": 46,
   "metadata": {},
   "outputs": [
    {
     "name": "stdout",
     "output_type": "stream",
     "text": [
      "0:b \t 0:a  \t False\n",
      "1:a \t 0:a  \t False\n",
      "2:a \t 1:a  \t 0\n",
      "[0, 0, 1, 2]\n"
     ]
    },
    {
     "data": {
      "text/plain": [
       "1"
      ]
     },
     "execution_count": 46,
     "metadata": {},
     "output_type": "execute_result"
    }
   ],
   "source": [
    "extra_palindrome_chars(\"aab\")"
   ]
  },
  {
   "cell_type": "code",
   "execution_count": 47,
   "metadata": {},
   "outputs": [
    {
     "name": "stdout",
     "output_type": "stream",
     "text": [
      "0:a \t 0:a  \t False\n",
      "1:a \t 1:a  \t 0\n",
      "2:a \t 2:c  \t 1\n",
      "3:c \t 2:c  \t 1\n",
      "4:a \t 3:a  \t 2\n",
      "5:c \t 4:c  \t 2\n",
      "6:a \t 5:a  \t 3\n",
      "7:a \t 6:a  \t 4\n",
      "[0, 1, 2, 2, 3, 4, 5, 6, 7]\n"
     ]
    },
    {
     "data": {
      "text/plain": [
       "1"
      ]
     },
     "execution_count": 47,
     "metadata": {},
     "output_type": "execute_result"
    }
   ],
   "source": [
    "extra_palindrome_chars(\"aacacaaa\")"
   ]
  },
  {
   "cell_type": "code",
   "execution_count": 66,
   "metadata": {},
   "outputs": [
    {
     "name": "stdout",
     "output_type": "stream",
     "text": [
      "aaacaaaa#aaaacaaa\n",
      "01201233012334567\n"
     ]
    },
    {
     "data": {
      "text/plain": [
       "7"
      ]
     },
     "execution_count": 66,
     "metadata": {},
     "output_type": "execute_result"
    }
   ],
   "source": [
    "longest_prefix_suffix_length(\"aaacaaaa#aaaacaaa\")"
   ]
  },
  {
   "cell_type": "code",
   "execution_count": null,
   "metadata": {},
   "outputs": [],
   "source": []
  }
 ],
 "metadata": {
  "kernelspec": {
   "display_name": "Python 3",
   "language": "python",
   "name": "python3"
  },
  "language_info": {
   "codemirror_mode": {
    "name": "ipython",
    "version": 3
   },
   "file_extension": ".py",
   "mimetype": "text/x-python",
   "name": "python",
   "nbconvert_exporter": "python",
   "pygments_lexer": "ipython3",
   "version": "3.10.12"
  }
 },
 "nbformat": 4,
 "nbformat_minor": 2
}
