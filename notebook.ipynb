{
 "cells": [
  {
   "cell_type": "code",
   "execution_count": 3,
   "metadata": {
    "metadata": {}
   },
   "outputs": [],
   "source": [
    "# ruff: noqa: F401, E402, T201, T203, D103\n",
    "\n",
    "from __future__ import annotations\n",
    "\n",
    "import math\n",
    "import sys\n",
    "import time\n",
    "from bisect import bisect_left, bisect_right\n",
    "from collections import Counter, deque\n",
    "from functools import cmp_to_key, lru_cache, reduce\n",
    "from heapq import heapify, heappop, heappush, heappushpop, nsmallest\n",
    "from importlib import reload\n",
    "from itertools import (\n",
    "    accumulate,\n",
    "    chain,\n",
    "    combinations,\n",
    "    islice,\n",
    "    pairwise,\n",
    "    permutations,\n",
    "    product,\n",
    "    repeat,\n",
    "    starmap,\n",
    "    tee,\n",
    ")\n",
    "from math import comb, exp, factorial, inf, log, prod, sqrt\n",
    "from operator import add, and_, contains, indexOf, itemgetter, mul, neg, or_, xor\n",
    "from pprint import pformat, pprint\n",
    "from typing import Callable, Iterable, Iterator, List, Tuple\n",
    "\n",
    "import matplotlib.pyplot as plt\n",
    "import networkx as nx\n",
    "import numpy as np\n",
    "from IPython.display import HTML, clear_output, display\n",
    "\n",
    "import arrays\n",
    "import bits\n",
    "import combinatorics\n",
    "import graphs\n",
    "import grid\n",
    "import lists\n",
    "import mathematics\n",
    "import matrix\n",
    "import parsing\n",
    "import search\n",
    "import sequences\n",
    "import sets\n",
    "import sorting\n",
    "import stack\n",
    "import strings\n",
    "import trees\n",
    "\n",
    "for m in (\n",
    "    arrays,\n",
    "    bits,\n",
    "    combinatorics,\n",
    "    graphs,\n",
    "    grid,\n",
    "    lists,\n",
    "    mathematics,\n",
    "    matrix,\n",
    "    parsing,\n",
    "    search,\n",
    "    sequences,\n",
    "    sets,\n",
    "    sorting,\n",
    "    stack,\n",
    "    strings,\n",
    "    trees,\n",
    "):\n",
    "    reload(m)\n",
    "\n",
    "\n",
    "from combinatorics import fib\n",
    "from mathematics import prime_numbers as primes\n",
    "from search import lower_index, upper_index\n",
    "from sequences import find_if\n",
    "from strings import splint\n",
    "\n",
    "np.set_printoptions(edgeitems=5, precision=3, linewidth=300)"
   ]
  },
  {
   "cell_type": "code",
   "execution_count": 30,
   "metadata": {},
   "outputs": [],
   "source": [
    "def flower_gardening(a: list, k: int, w: int) -> int:\n",
    "    n = len(a)\n",
    "\n",
    "    def can_grow(h: int) -> bool:\n",
    "        aux = [0] * (n + 1)\n",
    "        days = 0\n",
    "        for i, e in enumerate(a):\n",
    "            h += aux[i]\n",
    "            diff = h - e - days\n",
    "            if diff <= 0:\n",
    "                continue\n",
    "            days += diff\n",
    "            if days > k:\n",
    "                return False\n",
    "            aux[min(i + w, n)] = diff\n",
    "        return True\n",
    "\n",
    "    return upper_index(can_grow, min(a), min(a) + k)"
   ]
  },
  {
   "cell_type": "code",
   "execution_count": 31,
   "metadata": {},
   "outputs": [
    {
     "data": {
      "text/plain": [
       "5"
      ]
     },
     "execution_count": 31,
     "metadata": {},
     "output_type": "execute_result"
    }
   ],
   "source": [
    "flower_gardening([4, 7, 6, 10, 1, 8, 1, 2], 5, 6)"
   ]
  },
  {
   "cell_type": "code",
   "execution_count": 32,
   "metadata": {},
   "outputs": [
    {
     "data": {
      "text/plain": [
       "6"
      ]
     },
     "execution_count": 32,
     "metadata": {},
     "output_type": "execute_result"
    }
   ],
   "source": [
    "flower_gardening([8, 4], 2, 2)"
   ]
  },
  {
   "cell_type": "code",
   "execution_count": 25,
   "metadata": {},
   "outputs": [
    {
     "data": {
      "text/plain": [
       "2"
      ]
     },
     "execution_count": 25,
     "metadata": {},
     "output_type": "execute_result"
    }
   ],
   "source": [
    "flower_gardening([2, 2, 2, 2, 1, 1], 2, 3)"
   ]
  },
  {
   "cell_type": "code",
   "execution_count": 26,
   "metadata": {},
   "outputs": [
    {
     "data": {
      "text/plain": [
       "9"
      ]
     },
     "execution_count": 26,
     "metadata": {},
     "output_type": "execute_result"
    }
   ],
   "source": [
    "flower_gardening([5, 8], 5, 1)"
   ]
  },
  {
   "cell_type": "code",
   "execution_count": null,
   "metadata": {},
   "outputs": [],
   "source": []
  }
 ],
 "metadata": {
  "kernelspec": {
   "display_name": ".venv",
   "language": "python",
   "name": "python3"
  },
  "language_info": {
   "codemirror_mode": {
    "name": "ipython",
    "version": 3
   },
   "file_extension": ".py",
   "mimetype": "text/x-python",
   "name": "python",
   "nbconvert_exporter": "python",
   "pygments_lexer": "ipython3",
   "version": "3.10.7"
  }
 },
 "nbformat": 4,
 "nbformat_minor": 2
}
