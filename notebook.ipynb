{
 "cells": [
  {
   "cell_type": "code",
   "execution_count": 1,
   "metadata": {},
   "outputs": [
    {
     "name": "stdout",
     "output_type": "stream",
     "text": [
      "\n"
     ]
    }
   ],
   "source": [
    "import math\n",
    "from pprint import pprint\n",
    "from math import log, factorial\n",
    "import numpy as np\n",
    "import sys\n",
    "from typing import List, Tuple, Callable, Iterable\n",
    "from functools import lru_cache, reduce, cmp_to_key\n",
    "from itertools import (\n",
    "    starmap,\n",
    "    accumulate,\n",
    "    chain,\n",
    "    islice,\n",
    "    product,\n",
    "    tee,\n",
    "    pairwise,\n",
    "    combinations,\n",
    "    permutations,\n",
    ")\n",
    "from collections import Counter, deque\n",
    "from heapq import heapify, heappushpop, heappop, heappush\n",
    "from operator import add, neg, itemgetter, xor\n",
    "from bisect import bisect_right\n",
    "import matplotlib.pyplot as plt\n",
    "\n",
    "import arrays\n",
    "import trees\n",
    "import lists\n",
    "import graphs\n",
    "import search\n",
    "import strings\n",
    "import matrix\n",
    "import mathematics\n",
    "from importlib import reload\n",
    "\n",
    "for m in (arrays, trees, lists, graphs, search, strings, matrix, mathematics):\n",
    "    reload(m)\n",
    "\n",
    "import arrays as ar\n",
    "import trees as tr\n",
    "import lists as ll\n",
    "import graphs as g\n",
    "import strings as s\n",
    "import matrix as mt\n",
    "import mathematics as m\n",
    "\n",
    "print()"
   ]
  },
  {
   "cell_type": "code",
   "execution_count": 74,
   "metadata": {},
   "outputs": [],
   "source": [
    "def digits(n: int):\n",
    "    \"Iterates over decimal digits of `n`.\"\n",
    "    while n:\n",
    "        yield n % 10\n",
    "        n //= 10\n",
    "\n",
    "\n",
    "def best_numbers(n: int, a: int, b: int, c: int, d: int) -> int:\n",
    "    \"\"\"Return a count of integers of `n` length of decimal representation that fulfill:\n",
    "    1.) The numbers are made only of digits `a` and `b`.\n",
    "    2.) Sum of the digits of the numbers contains at least one of `c` and `d`.\n",
    "    \"\"\"\n",
    "    # The idea is to find `n_a` and `n_b` split with the sum having the property 2.)\n",
    "    # Then return the number of permutations.\n",
    "\n",
    "    # A valid number (sum) contains `c` and `d` in the decimal representation.\n",
    "    cd = set([c, d])\n",
    "    if a == b:\n",
    "        # If the digit sum of the `aaa...aaa` number intersects with `cd`,\n",
    "        # then there is just one hit, else 0.\n",
    "        return int(bool(cd & set(digits(a * n))))\n",
    "\n",
    "    fac = [1] * (n + 1)\n",
    "    inv = [1] * (n + 1)\n",
    "    for i in range(1, n + 1):\n",
    "        fac[i] = fac[i - 1] * i % M\n",
    "        inv[i] = pow(fac[i], M - 2, M)\n",
    "\n",
    "    # Modulo inverse of a number is a number that:\n",
    "    #  inv(n) * n = n^(M - 2) * n = 1  (mod M)\n",
    "    # Inverse of the factorial uses the inductive property:\n",
    "    #  (f_n) ^ (M - 2) * f_n = 1\n",
    "    #  (f_n-1 * n) ^ (M - 2) * f_n = 1\n",
    "    #  (f_n-1) ^ (M - 2) * n ^ (M - 2) * f_n = 1\n",
    "    # So:\n",
    "    #  (f_n-1) ^ (M - 2)\n",
    "    #   = 1 / n ^ (M - 2) / f_n\n",
    "    #   = n / f_n\n",
    "    #   = n * (f_n) ^ (M - 2)\n",
    "    # So:\n",
    "    #  inv(f_n-1) = n * inv(f_n)\n",
    "    inv[-1] = pow(fac[-1], (M - 2), M)\n",
    "    for i in reversed(range(1, n + 1)):\n",
    "        inv[i - 1] = i * inv[i] % M\n",
    "\n",
    "    # Count of valid permuations for a number consisting of i a's and (n - i) b's.\n",
    "    return (\n",
    "        sum(\n",
    "            fac[n] * inv[i] * inv[n - i] % M\n",
    "            for i in range(n + 1)\n",
    "            if cd & set(digits(a * i + b * (n - i)))\n",
    "        )\n",
    "        % M\n",
    "    )"
   ]
  },
  {
   "cell_type": "code",
   "execution_count": 73,
   "metadata": {},
   "outputs": [
    {
     "ename": "TypeError",
     "evalue": "unsupported operand type(s) for &: 'set' and 'generator'",
     "output_type": "error",
     "traceback": [
      "\u001b[0;31m---------------------------------------------------------------------------\u001b[0m",
      "\u001b[0;31mTypeError\u001b[0m                                 Traceback (most recent call last)",
      "\u001b[1;32m/config/workspace/puzzles/notebook.ipynb Cell 3\u001b[0m line \u001b[0;36m1\n\u001b[0;32m----> <a href='vscode-notebook-cell://localhost:9444/config/workspace/puzzles/notebook.ipynb#X36sdnNjb2RlLXJlbW90ZQ%3D%3D?line=0'>1</a>\u001b[0m best_numbers(\u001b[39m16\u001b[39;49m, \u001b[39m6\u001b[39;49m, \u001b[39m2\u001b[39;49m, \u001b[39m9\u001b[39;49m, \u001b[39m1\u001b[39;49m)\n",
      "\u001b[1;32m/config/workspace/puzzles/notebook.ipynb Cell 3\u001b[0m line \u001b[0;36m3\n\u001b[1;32m     <a href='vscode-notebook-cell://localhost:9444/config/workspace/puzzles/notebook.ipynb#X36sdnNjb2RlLXJlbW90ZQ%3D%3D?line=34'>35</a>\u001b[0m     inv[i \u001b[39m-\u001b[39m \u001b[39m1\u001b[39m] \u001b[39m=\u001b[39m i \u001b[39m*\u001b[39m inv[i] \u001b[39m%\u001b[39m M\n\u001b[1;32m     <a href='vscode-notebook-cell://localhost:9444/config/workspace/puzzles/notebook.ipynb#X36sdnNjb2RlLXJlbW90ZQ%3D%3D?line=36'>37</a>\u001b[0m \u001b[39m# Count of permutations for a number\u001b[39;00m\n\u001b[1;32m     <a href='vscode-notebook-cell://localhost:9444/config/workspace/puzzles/notebook.ipynb#X36sdnNjb2RlLXJlbW90ZQ%3D%3D?line=37'>38</a>\u001b[0m \u001b[39m# consisting of i digits of `a` and (n - i) digits of `b`.\u001b[39;00m\n\u001b[0;32m---> <a href='vscode-notebook-cell://localhost:9444/config/workspace/puzzles/notebook.ipynb#X36sdnNjb2RlLXJlbW90ZQ%3D%3D?line=38'>39</a>\u001b[0m \u001b[39mreturn\u001b[39;00m \u001b[39msum\u001b[39;49m(\n\u001b[1;32m     <a href='vscode-notebook-cell://localhost:9444/config/workspace/puzzles/notebook.ipynb#X36sdnNjb2RlLXJlbW90ZQ%3D%3D?line=39'>40</a>\u001b[0m     fac[n] \u001b[39m*\u001b[39;49m inv[i] \u001b[39m*\u001b[39;49m inv[n \u001b[39m-\u001b[39;49m i] \u001b[39m%\u001b[39;49m M\n\u001b[1;32m     <a href='vscode-notebook-cell://localhost:9444/config/workspace/puzzles/notebook.ipynb#X36sdnNjb2RlLXJlbW90ZQ%3D%3D?line=40'>41</a>\u001b[0m     \u001b[39mfor\u001b[39;49;00m i \u001b[39min\u001b[39;49;00m \u001b[39mrange\u001b[39;49m(n \u001b[39m+\u001b[39;49m \u001b[39m1\u001b[39;49m)\n\u001b[1;32m     <a href='vscode-notebook-cell://localhost:9444/config/workspace/puzzles/notebook.ipynb#X36sdnNjb2RlLXJlbW90ZQ%3D%3D?line=41'>42</a>\u001b[0m     \u001b[39mif\u001b[39;49;00m valid(a \u001b[39m*\u001b[39;49m i \u001b[39m+\u001b[39;49m b \u001b[39m*\u001b[39;49m (n \u001b[39m-\u001b[39;49m i))) \u001b[39m%\u001b[39m M\n",
      "\u001b[1;32m/config/workspace/puzzles/notebook.ipynb Cell 3\u001b[0m line \u001b[0;36m4\n\u001b[1;32m     <a href='vscode-notebook-cell://localhost:9444/config/workspace/puzzles/notebook.ipynb#X36sdnNjb2RlLXJlbW90ZQ%3D%3D?line=34'>35</a>\u001b[0m     inv[i \u001b[39m-\u001b[39m \u001b[39m1\u001b[39m] \u001b[39m=\u001b[39m i \u001b[39m*\u001b[39m inv[i] \u001b[39m%\u001b[39m M\n\u001b[1;32m     <a href='vscode-notebook-cell://localhost:9444/config/workspace/puzzles/notebook.ipynb#X36sdnNjb2RlLXJlbW90ZQ%3D%3D?line=36'>37</a>\u001b[0m \u001b[39m# Count of permutations for a number\u001b[39;00m\n\u001b[1;32m     <a href='vscode-notebook-cell://localhost:9444/config/workspace/puzzles/notebook.ipynb#X36sdnNjb2RlLXJlbW90ZQ%3D%3D?line=37'>38</a>\u001b[0m \u001b[39m# consisting of i digits of `a` and (n - i) digits of `b`.\u001b[39;00m\n\u001b[1;32m     <a href='vscode-notebook-cell://localhost:9444/config/workspace/puzzles/notebook.ipynb#X36sdnNjb2RlLXJlbW90ZQ%3D%3D?line=38'>39</a>\u001b[0m \u001b[39mreturn\u001b[39;00m \u001b[39msum\u001b[39m(\n\u001b[1;32m     <a href='vscode-notebook-cell://localhost:9444/config/workspace/puzzles/notebook.ipynb#X36sdnNjb2RlLXJlbW90ZQ%3D%3D?line=39'>40</a>\u001b[0m     fac[n] \u001b[39m*\u001b[39m inv[i] \u001b[39m*\u001b[39m inv[n \u001b[39m-\u001b[39m i] \u001b[39m%\u001b[39m M\n\u001b[1;32m     <a href='vscode-notebook-cell://localhost:9444/config/workspace/puzzles/notebook.ipynb#X36sdnNjb2RlLXJlbW90ZQ%3D%3D?line=40'>41</a>\u001b[0m     \u001b[39mfor\u001b[39;00m i \u001b[39min\u001b[39;00m \u001b[39mrange\u001b[39m(n \u001b[39m+\u001b[39m \u001b[39m1\u001b[39m)\n\u001b[0;32m---> <a href='vscode-notebook-cell://localhost:9444/config/workspace/puzzles/notebook.ipynb#X36sdnNjb2RlLXJlbW90ZQ%3D%3D?line=41'>42</a>\u001b[0m     \u001b[39mif\u001b[39;00m valid(a \u001b[39m*\u001b[39;49m i \u001b[39m+\u001b[39;49m b \u001b[39m*\u001b[39;49m (n \u001b[39m-\u001b[39;49m i))) \u001b[39m%\u001b[39m M\n",
      "\u001b[1;32m/config/workspace/puzzles/notebook.ipynb Cell 3\u001b[0m line \u001b[0;36m2\n\u001b[1;32m     <a href='vscode-notebook-cell://localhost:9444/config/workspace/puzzles/notebook.ipynb#X36sdnNjb2RlLXJlbW90ZQ%3D%3D?line=16'>17</a>\u001b[0m \u001b[39m# The idea is to find `n_a` and `n_b` split with the sum having the property 2.)\u001b[39;00m\n\u001b[1;32m     <a href='vscode-notebook-cell://localhost:9444/config/workspace/puzzles/notebook.ipynb#X36sdnNjb2RlLXJlbW90ZQ%3D%3D?line=17'>18</a>\u001b[0m \u001b[39m# Then return the number of permutations.\u001b[39;00m\n\u001b[1;32m     <a href='vscode-notebook-cell://localhost:9444/config/workspace/puzzles/notebook.ipynb#X36sdnNjb2RlLXJlbW90ZQ%3D%3D?line=19'>20</a>\u001b[0m cd \u001b[39m=\u001b[39m \u001b[39mset\u001b[39m([c, d])\n\u001b[0;32m---> <a href='vscode-notebook-cell://localhost:9444/config/workspace/puzzles/notebook.ipynb#X36sdnNjb2RlLXJlbW90ZQ%3D%3D?line=20'>21</a>\u001b[0m valid \u001b[39m=\u001b[39m \u001b[39mlambda\u001b[39;00m s: \u001b[39mbool\u001b[39m(cd \u001b[39m&\u001b[39;49m digits(s))\n\u001b[1;32m     <a href='vscode-notebook-cell://localhost:9444/config/workspace/puzzles/notebook.ipynb#X36sdnNjb2RlLXJlbW90ZQ%3D%3D?line=22'>23</a>\u001b[0m \u001b[39mif\u001b[39;00m a \u001b[39m==\u001b[39m b:\n\u001b[1;32m     <a href='vscode-notebook-cell://localhost:9444/config/workspace/puzzles/notebook.ipynb#X36sdnNjb2RlLXJlbW90ZQ%3D%3D?line=23'>24</a>\u001b[0m     \u001b[39m# If the digit sum of the `aaa...aaa` number intersects with `cd`,\u001b[39;00m\n\u001b[1;32m     <a href='vscode-notebook-cell://localhost:9444/config/workspace/puzzles/notebook.ipynb#X36sdnNjb2RlLXJlbW90ZQ%3D%3D?line=24'>25</a>\u001b[0m     \u001b[39m# then there is just one hit, else 0.\u001b[39;00m\n\u001b[1;32m     <a href='vscode-notebook-cell://localhost:9444/config/workspace/puzzles/notebook.ipynb#X36sdnNjb2RlLXJlbW90ZQ%3D%3D?line=25'>26</a>\u001b[0m     \u001b[39mreturn\u001b[39;00m \u001b[39mint\u001b[39m(valid(a \u001b[39m*\u001b[39m n))\n",
      "\u001b[0;31mTypeError\u001b[0m: unsupported operand type(s) for &: 'set' and 'generator'"
     ]
    }
   ],
   "source": [
    "best_numbers(16, 6, 2, 9, 1)"
   ]
  },
  {
   "cell_type": "code",
   "execution_count": 67,
   "metadata": {},
   "outputs": [
    {
     "data": {
      "text/plain": [
       "4"
      ]
     },
     "execution_count": 67,
     "metadata": {},
     "output_type": "execute_result"
    }
   ],
   "source": [
    "best_numbers(4, 6, 7, 5, 3)"
   ]
  },
  {
   "cell_type": "code",
   "execution_count": 68,
   "metadata": {},
   "outputs": [
    {
     "data": {
      "text/plain": [
       "2"
      ]
     },
     "execution_count": 68,
     "metadata": {},
     "output_type": "execute_result"
    }
   ],
   "source": [
    "best_numbers(2, 1, 2, 3, 5)"
   ]
  },
  {
   "cell_type": "code",
   "execution_count": 69,
   "metadata": {},
   "outputs": [
    {
     "data": {
      "text/plain": [
       "0"
      ]
     },
     "execution_count": 69,
     "metadata": {},
     "output_type": "execute_result"
    }
   ],
   "source": [
    "best_numbers(1, 1, 1, 2, 3)"
   ]
  },
  {
   "cell_type": "code",
   "execution_count": 70,
   "metadata": {},
   "outputs": [
    {
     "data": {
      "text/plain": [
       "0"
      ]
     },
     "execution_count": 70,
     "metadata": {},
     "output_type": "execute_result"
    }
   ],
   "source": [
    "best_numbers(10, 1, 1, 2, 3)"
   ]
  },
  {
   "cell_type": "code",
   "execution_count": 75,
   "metadata": {},
   "outputs": [
    {
     "data": {
      "text/plain": [
       "905821643"
      ]
     },
     "execution_count": 75,
     "metadata": {},
     "output_type": "execute_result"
    }
   ],
   "source": [
    "best_numbers(100000, 1, 5, 2, 5)"
   ]
  },
  {
   "cell_type": "code",
   "execution_count": null,
   "metadata": {},
   "outputs": [],
   "source": []
  }
 ],
 "metadata": {
  "kernelspec": {
   "display_name": "Python 3",
   "language": "python",
   "name": "python3"
  },
  "language_info": {
   "codemirror_mode": {
    "name": "ipython",
    "version": 3
   },
   "file_extension": ".py",
   "mimetype": "text/x-python",
   "name": "python",
   "nbconvert_exporter": "python",
   "pygments_lexer": "ipython3",
   "version": "3.10.12"
  }
 },
 "nbformat": 4,
 "nbformat_minor": 2
}
