{
 "cells": [
  {
   "cell_type": "code",
   "execution_count": 693,
   "metadata": {},
   "outputs": [
    {
     "name": "stdout",
     "output_type": "stream",
     "text": [
      "\n"
     ]
    }
   ],
   "source": [
    "# ruff: noqa: F401, E402\n",
    "import math\n",
    "import sys\n",
    "from bisect import bisect_left, bisect_right\n",
    "from collections import Counter, deque\n",
    "from functools import cmp_to_key, lru_cache, reduce\n",
    "from heapq import heapify, heappop, heappush, heappushpop, nsmallest\n",
    "from importlib import reload\n",
    "from itertools import (\n",
    "    accumulate,\n",
    "    chain,\n",
    "    combinations,\n",
    "    islice,\n",
    "    pairwise,\n",
    "    permutations,\n",
    "    product,\n",
    "    starmap,\n",
    "    tee,\n",
    ")\n",
    "from math import comb, factorial, log, sqrt\n",
    "from operator import add, and_, contains, indexOf, itemgetter, neg, or_, xor\n",
    "from pprint import pprint\n",
    "from typing import Callable, Iterable, List, Tuple\n",
    "\n",
    "import matplotlib.pyplot as plt\n",
    "import numpy as np\n",
    "\n",
    "import arrays\n",
    "import graphs\n",
    "import lists\n",
    "import mathematics\n",
    "import matrix\n",
    "import parsing\n",
    "import search\n",
    "import sequences\n",
    "import sets\n",
    "import strings\n",
    "import trees\n",
    "\n",
    "for m in (\n",
    "    arrays,\n",
    "    graphs,\n",
    "    lists,\n",
    "    mathematics,\n",
    "    matrix,\n",
    "    parsing,\n",
    "    search,\n",
    "    sequences,\n",
    "    sets,\n",
    "    strings,\n",
    "    trees,\n",
    "):\n",
    "    reload(m)\n",
    "\n",
    "\n",
    "from parsing import format_binop_expression, parse_binop_expression\n",
    "from sequences import find_if\n",
    "from strings import StringView\n",
    "\n",
    "print()\n"
   ]
  },
  {
   "cell_type": "code",
   "execution_count": 727,
   "metadata": {},
   "outputs": [],
   "source": [
    "def distinct_palindrome_substrings(s: str) -> int:\n",
    "    \"Return the count of distinct palindromes within `s`.\"\n",
    "    # Uses Manacher's algorithm.\n",
    "    # Runs in O(N*N) :\n",
    "    #   O(N) for the Manacher's algorithm.\n",
    "    #   O(N) for cutting the string into pieces and a hash-set operation.\n",
    "    n = len(s) * 2\n",
    "    if n == 0:\n",
    "        return 0\n",
    "    pals = set()\n",
    "    lps = [StringView(\"\", 0, 0)] * n\n",
    "    lps[1] = StringView(s, 0, 1)  # View of the first palindrome\n",
    "    c = 1  # center of the outer palindrome (in s*2)\n",
    "    r = 2  # right border of the outer palindrome (in s*2)\n",
    "    for i in range(2, n):\n",
    "        if i < r:\n",
    "            # Use the mirror length if `i` is between `c` and `r`.\n",
    "            v = lps[2 * c - i]\n",
    "            l = min(len(v), r - i)\n",
    "            h = l == len(v) and hash(v)\n",
    "        else:\n",
    "            # Start from the middle.\n",
    "            l, h = 0, None\n",
    "\n",
    "        v = StringView(s, (i - l) // 2, (i + l + 1) // 2, h=h)\n",
    "        while 0 < v.start and v.stop < len(s) and s[v.start - 1] == s[v.stop]:\n",
    "            v = v.expand(-1, 1)\n",
    "            pals.add(v)\n",
    "        # Store the value.\n",
    "        lps[i] = v\n",
    "        # If the current palindrome expanded beyond the\n",
    "        # previous one, replace the old by this one.\n",
    "        if i + len(v) > r:\n",
    "            c = i\n",
    "            r = i + len(v)\n",
    "    return len(pals) + len(set(iter(s)))\n"
   ]
  },
  {
   "cell_type": "code",
   "execution_count": 728,
   "metadata": {},
   "outputs": [
    {
     "data": {
      "text/plain": [
       "10"
      ]
     },
     "execution_count": 728,
     "metadata": {},
     "output_type": "execute_result"
    }
   ],
   "source": [
    "distinct_palindrome_substrings(\"abaaaaabba\")\n"
   ]
  },
  {
   "cell_type": "code",
   "execution_count": 729,
   "metadata": {},
   "outputs": [
    {
     "data": {
      "text/plain": [
       "18"
      ]
     },
     "execution_count": 729,
     "metadata": {},
     "output_type": "execute_result"
    }
   ],
   "source": [
    "distinct_palindrome_substrings(\"cdgdcdgdcdggdcdggd\")\n"
   ]
  },
  {
   "cell_type": "code",
   "execution_count": 730,
   "metadata": {},
   "outputs": [
    {
     "data": {
      "text/plain": [
       "26"
      ]
     },
     "execution_count": 730,
     "metadata": {},
     "output_type": "execute_result"
    }
   ],
   "source": [
    "distinct_palindrome_substrings(\"mdnvznwlylygvstwarpibrfgvdhkdcrlmfgqweveqyo\")\n"
   ]
  },
  {
   "cell_type": "code",
   "execution_count": null,
   "metadata": {},
   "outputs": [],
   "source": []
  }
 ],
 "metadata": {
  "kernelspec": {
   "display_name": "Python 3",
   "language": "python",
   "name": "python3"
  },
  "language_info": {
   "codemirror_mode": {
    "name": "ipython",
    "version": 3
   },
   "file_extension": ".py",
   "mimetype": "text/x-python",
   "name": "python",
   "nbconvert_exporter": "python",
   "pygments_lexer": "ipython3",
   "version": "3.10.12"
  }
 },
 "nbformat": 4,
 "nbformat_minor": 2
}
