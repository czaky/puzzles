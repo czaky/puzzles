{
 "cells": [
  {
   "cell_type": "code",
   "execution_count": 21,
   "metadata": {},
   "outputs": [
    {
     "name": "stdout",
     "output_type": "stream",
     "text": [
      "\n"
     ]
    }
   ],
   "source": [
    "# ruff: noqa: F401, E402\n",
    "import math\n",
    "import sys\n",
    "import time\n",
    "from bisect import bisect_left, bisect_right\n",
    "from collections import Counter, deque\n",
    "from functools import cmp_to_key, lru_cache, reduce\n",
    "from heapq import heapify, heappop, heappush, heappushpop, nsmallest\n",
    "from importlib import reload\n",
    "from itertools import (\n",
    "    accumulate,\n",
    "    chain,\n",
    "    combinations,\n",
    "    islice,\n",
    "    pairwise,\n",
    "    permutations,\n",
    "    product,\n",
    "    repeat,\n",
    "    starmap,\n",
    "    tee,\n",
    ")\n",
    "from math import comb, exp, factorial, log, sqrt\n",
    "from operator import add, and_, contains, indexOf, itemgetter, neg, or_, xor\n",
    "from pprint import pprint\n",
    "from typing import Callable, Iterable, List, Tuple\n",
    "\n",
    "import matplotlib.pyplot as plt\n",
    "import networkx as nx\n",
    "import numpy as np\n",
    "from multiprocess import Process\n",
    "\n",
    "import arrays\n",
    "import combinatorics\n",
    "import graphs\n",
    "import lists\n",
    "import mathematics\n",
    "import matrix\n",
    "import parsing\n",
    "import search\n",
    "import sequences\n",
    "import sets\n",
    "import stack\n",
    "import strings\n",
    "import trees\n",
    "\n",
    "for m in (\n",
    "    arrays,\n",
    "    combinatorics,\n",
    "    graphs,\n",
    "    lists,\n",
    "    mathematics,\n",
    "    matrix,\n",
    "    parsing,\n",
    "    search,\n",
    "    sequences,\n",
    "    sets,\n",
    "    stack,\n",
    "    strings,\n",
    "    trees,\n",
    "):\n",
    "    reload(m)\n",
    "\n",
    "\n",
    "from binary_index_tree import BinTree\n",
    "from combinatorics import fib\n",
    "from parsing import format_binop_expression, parse_binop_expression\n",
    "from sequences import find_if\n",
    "from strings import StringView, splint\n",
    "\n",
    "print()\n"
   ]
  },
  {
   "cell_type": "code",
   "execution_count": 104,
   "metadata": {},
   "outputs": [],
   "source": [
    "def maximum_toys_queries(toys: List[int], queries: List[List[int]]) -> List[int]:\n",
    "    n = len(toys)\n",
    "    rix = [0] * n\n",
    "    for i, ri in enumerate(sorted(range(n), key=lambda i: toys[i])):\n",
    "        rix[ri] = i\n",
    "    toys.sort()\n",
    "    bit = BinTree(toys)\n",
    "    ones = BinTree(1 for _ in toys)\n",
    "    ans = []\n",
    "    for q in queries:\n",
    "        cost = q[0]\n",
    "        rbroken = list(rix[i - 1] for i in islice(q, 2, None))\n",
    "        for i in rbroken:\n",
    "            bit.add(i, -toys[i])\n",
    "            ones.add(i, -1)\n",
    "        tc, l, h = -1, 0, n - 1\n",
    "        while l <= h:\n",
    "            m = (l + h) // 2\n",
    "            if bit.sum(m) <= cost:\n",
    "                tc = m\n",
    "                l = m + 1\n",
    "            else:\n",
    "                h = m - 1\n",
    "        ans.append(ones.sum(tc))\n",
    "        # restore\n",
    "        for i in rbroken:\n",
    "            bit.add(i, toys[i])\n",
    "            ones.add(i, 1)\n",
    "    return ans\n"
   ]
  },
  {
   "cell_type": "code",
   "execution_count": 108,
   "metadata": {},
   "outputs": [
    {
     "data": {
      "text/plain": [
       "[1, 4, 1, 3, 2, 2, 1, 1, 2, 3]"
      ]
     },
     "execution_count": 108,
     "metadata": {},
     "output_type": "execute_result"
    }
   ],
   "source": [
    "toys = [9, 7, 2, 1, 9, 4, 2, 9, 5, 8]\n",
    "queries = [\n",
    "    [1, 2, 6, 7],\n",
    "    [9, 1, 10],\n",
    "    [5, 6, 6, 7, 3, 8, 9, 10],\n",
    "    [10, 5, 9, 1, 2, 3, 5],\n",
    "    [3, 0],\n",
    "    [4, 0],\n",
    "    [2, 2, 10, 5],\n",
    "    [9, 6, 4, 1, 2, 6, 3, 7],\n",
    "    [10, 8, 9, 3, 6, 5, 1, 2, 8, 4],\n",
    "    [10, 5, 5, 10, 4, 9, 1],\n",
    "]\n",
    "maximum_toys_queries(toys, queries)\n"
   ]
  },
  {
   "cell_type": "code",
   "execution_count": 107,
   "metadata": {},
   "outputs": [
    {
     "data": {
      "text/plain": [
       "[0, 1, 0, 1, 0, 1]"
      ]
     },
     "execution_count": 107,
     "metadata": {},
     "output_type": "execute_result"
    }
   ],
   "source": [
    "toys = [10, 8, 10, 5, 5, 7, 7, 10, 10, 6]\n",
    "queries = [\n",
    "    [4, 6, 1, 9, 3, 7, 2, 8],\n",
    "    [8, 4, 2, 4, 1, 7],\n",
    "    [6, 7, 10, 6, 4, 9, 5, 7, 1],\n",
    "    [9, 5, 4, 5, 6, 2, 1],\n",
    "    [1, 9, 10, 1, 9, 5, 4, 3, 8, 7, 2],\n",
    "    [9, 4, 7, 10, 6, 9],\n",
    "]\n",
    "maximum_toys_queries(toys, queries)\n"
   ]
  },
  {
   "cell_type": "code",
   "execution_count": 101,
   "metadata": {},
   "outputs": [
    {
     "name": "stdout",
     "output_type": "stream",
     "text": [
      "[3, 4, 1, 0, 2]\n",
      "rix: [3, 2, 4, 0, 1]\n",
      "st: [2, 5, 6, 8, 9]\n",
      "ones: [1, 2, 1, 4, 1]\n",
      "cost: 12, brk: [4, 0]\n",
      "tc: 2, ones: [0, 1, 1, 3, 0]\n",
      "cost: 30, brk: []\n",
      "tc: 4, ones: [1, 2, 1, 4, 1]\n"
     ]
    },
    {
     "data": {
      "text/plain": [
       "[2, 5]"
      ]
     },
     "execution_count": 101,
     "metadata": {},
     "output_type": "execute_result"
    }
   ],
   "source": [
    "maximum_toys_queries([8, 6, 9, 2, 5], [[12, 2, 3, 4], [30, 0]])\n"
   ]
  },
  {
   "cell_type": "code",
   "execution_count": null,
   "metadata": {},
   "outputs": [],
   "source": []
  }
 ],
 "metadata": {
  "kernelspec": {
   "display_name": "Python 3",
   "language": "python",
   "name": "python3"
  },
  "language_info": {
   "codemirror_mode": {
    "name": "ipython",
    "version": 3
   },
   "file_extension": ".py",
   "mimetype": "text/x-python",
   "name": "python",
   "nbconvert_exporter": "python",
   "pygments_lexer": "ipython3",
   "version": "3.10.12"
  }
 },
 "nbformat": 4,
 "nbformat_minor": 2
}
