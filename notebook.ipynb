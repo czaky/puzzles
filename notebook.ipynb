{
 "cells": [
  {
   "cell_type": "code",
   "execution_count": 2,
   "metadata": {},
   "outputs": [
    {
     "name": "stdout",
     "output_type": "stream",
     "text": [
      "\n"
     ]
    }
   ],
   "source": [
    "import math\n",
    "from pprint import pprint\n",
    "from math import log\n",
    "import numpy as np\n",
    "import sys\n",
    "from typing import List, Tuple, Callable, Iterable\n",
    "from functools import lru_cache, reduce, cmp_to_key\n",
    "from itertools import (\n",
    "    starmap,\n",
    "    accumulate,\n",
    "    chain,\n",
    "    islice,\n",
    "    product,\n",
    "    tee,\n",
    "    pairwise,\n",
    "    combinations,\n",
    ")\n",
    "from collections import Counter, deque\n",
    "from heapq import heapify, heappushpop, heappop, heappush\n",
    "from operator import add, neg, itemgetter\n",
    "from bisect import bisect_right\n",
    "import matplotlib.pyplot as plt\n",
    "\n",
    "import arrays\n",
    "import trees\n",
    "import lists\n",
    "import graphs\n",
    "import search\n",
    "import strings\n",
    "import matrix\n",
    "import mathematics\n",
    "from importlib import reload\n",
    "\n",
    "for m in (arrays, trees, lists, graphs, search, strings, matrix, mathematics):\n",
    "    reload(m)\n",
    "\n",
    "import arrays as ar\n",
    "import trees as tr\n",
    "import lists as ll\n",
    "import graphs as g\n",
    "import strings as s\n",
    "import matrix as mt\n",
    "import mathematics as m\n",
    "\n",
    "print()"
   ]
  },
  {
   "cell_type": "code",
   "execution_count": 8,
   "metadata": {},
   "outputs": [],
   "source": [
    "class BitTrie:\n",
    "    \"\"\"A trie sorting integers with nodes splitting for each bit.\n",
    "\n",
    "    Each node in the trie is just an array of two, with one cell for 0 and the other for 1.\n",
    "    The leaf nodes are at the same distance of max `bits`.\n",
    "    The leaf nodes also store the actual number as data.\n",
    "    \"\"\"\n",
    "\n",
    "    def __init__(self, bits: int = 32):\n",
    "        \"\"\"Initialize the `BitTrie`.\n",
    "\n",
    "        Args:\n",
    "            bits (int, optional): Maximum number of bits for integers stored. Defaults to 32.\n",
    "        \"\"\"\n",
    "        self.root = [0, 0]\n",
    "        self.bits = bits\n",
    "\n",
    "    def insert(self, num: int, data=0):\n",
    "        \"Insert `num` into the trie. Extra `data` can be stored with it.\"\n",
    "        n: list = self.root\n",
    "        for i in reversed(range(self.bits)):\n",
    "            r = (num >> i) & 1\n",
    "            n[r] = n[r] or [0, 0]\n",
    "            n = n[r]\n",
    "        # Store the `num` in the last node.\n",
    "        n[:] = [num, data]\n",
    "\n",
    "    def nearest(self, num: int):\n",
    "        \"Find the nearest number to `num`. Returns the number plus additional data.\"\n",
    "        n: list = self.root\n",
    "        for i in reversed(range(self.bits)):\n",
    "            r = (num >> i) & 1\n",
    "            # First lookup a similar bit,\n",
    "            # otherwise lookup the opposite bit\n",
    "            n = n[r] or n[1 - r]\n",
    "        # The numeric value and data are stored in the last node.\n",
    "        return n\n",
    "\n",
    "\n",
    "def max_xor_sub_array(a: list) -> Tuple[int, list]:\n",
    "    \"For an array `a` of integers, find the largest XOR value of a sub-array.\"\n",
    "    # The idea is to generate a cumulative XOR value,\n",
    "    # and find the previous cumulative value which would result in the highest\n",
    "    # XOR if applied to the current XOR value.\n",
    "    #\n",
    "    # Finding the previous XOR value can be done by maintaining a trie\n",
    "    # with values stored so far. The lookup is done using the negative\n",
    "    # current running xor value as this would give us the largest\n",
    "    # result (i.e. ~v ^ v is the largest possible result.)\n",
    "    # In the trie we look for the nearest value stored so far, descending\n",
    "    # the tree by taking path matching the bits in the `~v` if possible.\n",
    "    #\n",
    "    # Build a bit trie using the longest bit_length.\n",
    "    trie = BitTrie(bits=max(map(int.bit_length, a)))\n",
    "    # Insert 0 as the starter for the cumulative xor value.\n",
    "    trie.insert(0, -1)\n",
    "    mx = (0, 0, 0)  # maximum result so far\n",
    "    cx = 0  # cummulative xor value for the array\n",
    "    for i, e in enumerate(a):\n",
    "        cx ^= e\n",
    "        # First insert the new value.\n",
    "        trie.insert(cx, i)\n",
    "        # Then lookup the nearest `~cx` value in the trie.\n",
    "        # By xoring cx and the the nearest negative,\n",
    "        # we get the maximum result for this array prefix.\n",
    "        # We can update the maximum result `mx` for the overall array.\n",
    "        nearest = trie.nearest(~cx)\n",
    "        mx = max(mx, (cx ^ nearest[0], nearest[1]+1, i+1))\n",
    "    return mx[0], a[mx[1] : mx[2]]"
   ]
  },
  {
   "cell_type": "code",
   "execution_count": 10,
   "metadata": {},
   "outputs": [
    {
     "data": {
      "text/plain": [
       "(7, [3, 4])"
      ]
     },
     "execution_count": 10,
     "metadata": {},
     "output_type": "execute_result"
    }
   ],
   "source": [
    "max_xor_sub_array([1, 2, 3, 4, 5])"
   ]
  },
  {
   "cell_type": "code",
   "execution_count": 204,
   "metadata": {},
   "outputs": [
    {
     "data": {
      "text/plain": [
       "4"
      ]
     },
     "execution_count": 204,
     "metadata": {},
     "output_type": "execute_result"
    }
   ],
   "source": [
    "n = 10\n",
    "n.bit_length()"
   ]
  },
  {
   "cell_type": "code",
   "execution_count": null,
   "metadata": {},
   "outputs": [],
   "source": []
  }
 ],
 "metadata": {
  "kernelspec": {
   "display_name": "Python 3",
   "language": "python",
   "name": "python3"
  },
  "language_info": {
   "codemirror_mode": {
    "name": "ipython",
    "version": 3
   },
   "file_extension": ".py",
   "mimetype": "text/x-python",
   "name": "python",
   "nbconvert_exporter": "python",
   "pygments_lexer": "ipython3",
   "version": "3.10.12"
  }
 },
 "nbformat": 4,
 "nbformat_minor": 2
}
