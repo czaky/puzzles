{
 "cells": [
  {
   "cell_type": "code",
   "execution_count": 18,
   "metadata": {},
   "outputs": [
    {
     "name": "stdout",
     "output_type": "stream",
     "text": [
      "\n"
     ]
    }
   ],
   "source": [
    "import math\n",
    "import numpy as np\n",
    "import sys\n",
    "from typing import List\n",
    "from functools import lru_cache, reduce, cmp_to_key\n",
    "from itertools import starmap, accumulate, chain, islice, product, tee, pairwise\n",
    "from collections import Counter, deque\n",
    "from heapq import heapify, heappushpop, heappop, heappush\n",
    "from operator import add, neg\n",
    "from bisect import bisect_right\n",
    "import matplotlib.pyplot as plt\n",
    "\n",
    "import arrays\n",
    "import trees\n",
    "import lists\n",
    "import graphs\n",
    "import search\n",
    "from importlib import reload\n",
    "\n",
    "reload(arrays)\n",
    "reload(trees)\n",
    "reload(lists)\n",
    "reload(graphs)\n",
    "reload(search)\n",
    "import arrays as ar\n",
    "import trees as tr\n",
    "import lists as ls\n",
    "import graphs as g\n",
    "from lists import Node\n",
    "\n",
    "print()"
   ]
  },
  {
   "cell_type": "code",
   "execution_count": 185,
   "metadata": {},
   "outputs": [],
   "source": [
    "def longest_palindrome(s: str) -> str:\n",
    "    \"Return longest palindrome substring from `s`.\"\n",
    "    n = len(s) * 2 + 1\n",
    "    if n == 1:\n",
    "        return \"\"\n",
    "    lps = [0] * n\n",
    "    lps[1] = 1 # size of the first palindrome\n",
    "    c = 1  # center of the outer palindrome\n",
    "    r = 2  # right border of the outer palindrome\n",
    "    mxs, mxe = 0, 2\n",
    "    for i in range(2, n):\n",
    "        m = 2 * c - i  # mirror around center `c`\n",
    "        # use the mirror length if j is between `c` and `r`.\n",
    "        l = int(r - i > 0 and min(lps[m], r - i))\n",
    "\n",
    "        # Try to expand the length (skip filler chars).\n",
    "        l += (i + l + 2 < n) & (i - l > 0) & (i + l)\n",
    "        while (i - l > 0) & (i + l + 2 < n) and (\n",
    "            s[(i - l - 1) // 2] == s[(i + l + 1) // 2]\n",
    "        ):\n",
    "            l += 2\n",
    "\n",
    "        lps[i] = l\n",
    "\n",
    "        # update the max interval\n",
    "        if l * 2 > mxe - mxs:\n",
    "            mxs, mxe = i - l, i + l\n",
    "\n",
    "        # if the current palindrome expanded beyond the\n",
    "        # previous one, replace the old by this one.\n",
    "        if i + l > r:\n",
    "            c = i\n",
    "            r = i + l\n",
    "\n",
    "    return s[mxs // 2 : (mxe - 1) // 2 + 1]"
   ]
  },
  {
   "cell_type": "code",
   "execution_count": 187,
   "metadata": {},
   "outputs": [
    {
     "data": {
      "text/plain": [
       "'jj'"
      ]
     },
     "execution_count": 187,
     "metadata": {},
     "output_type": "execute_result"
    }
   ],
   "source": [
    "largest_palindrome(\"rfkqyuqfjkxy\")"
   ]
  },
  {
   "cell_type": "code",
   "execution_count": null,
   "metadata": {},
   "outputs": [],
   "source": []
  }
 ],
 "metadata": {
  "kernelspec": {
   "display_name": "Python 3",
   "language": "python",
   "name": "python3"
  },
  "language_info": {
   "codemirror_mode": {
    "name": "ipython",
    "version": 3
   },
   "file_extension": ".py",
   "mimetype": "text/x-python",
   "name": "python",
   "nbconvert_exporter": "python",
   "pygments_lexer": "ipython3",
   "version": "3.10.12"
  }
 },
 "nbformat": 4,
 "nbformat_minor": 2
}
