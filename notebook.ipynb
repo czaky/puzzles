{
 "cells": [
  {
   "cell_type": "code",
   "execution_count": 1,
   "metadata": {},
   "outputs": [
    {
     "name": "stdout",
     "output_type": "stream",
     "text": [
      "\n"
     ]
    }
   ],
   "source": [
    "import math\n",
    "from typing import List\n",
    "from functools import lru_cache, reduce\n",
    "from itertools import starmap, accumulate\n",
    "\n",
    "import arrays\n",
    "import trees\n",
    "from importlib import reload\n",
    "reload(arrays)\n",
    "reload(trees)\n",
    "import arrays as ar\n",
    "import trees as tr\n",
    "from trees import Node\n",
    "print()"
   ]
  },
  {
   "cell_type": "code",
   "execution_count": 33,
   "metadata": {},
   "outputs": [],
   "source": [
    "def pp(s):\n",
    "    # code here\n",
    "    n = len(s)\n",
    "    dp = [[0]*n for _ in s]\n",
    "    for i in range(n-2, -1, -1):\n",
    "        for j in range(1, i):\n",
    "            if s[i] != s[j] or dp[i+1][j-1] != 0:\n",
    "                dp[i][j] = min(dp[i][k] + dp[k+1][j] for k in range(j, i)) + 1\n",
    "    return dp[0][len(s)-1]"
   ]
  },
  {
   "cell_type": "code",
   "execution_count": 90,
   "metadata": {},
   "outputs": [],
   "source": [
    "def pp(s):\n",
    "    # code here\n",
    "    n = len(s)\n",
    "    @lru_cache(None)\n",
    "    def isp(i, j):\n",
    "        return i>=j or s[i] == s[j] and isp(i+1, j-1)\n",
    "\n",
    "    dp = [0] * n\n",
    "    for j in range(n):\n",
    "        dp[j] = int(isp(0, j)) or reduce(\n",
    "            min, map(lambda k: dp[k]+1, filter(lambda k: isp(k+1,j), range(1,j))), j+1)\n",
    "\n",
    "    return dp[n-1] -1"
   ]
  },
  {
   "cell_type": "code",
   "execution_count": 91,
   "metadata": {},
   "outputs": [
    {
     "data": {
      "text/plain": [
       "319"
      ]
     },
     "execution_count": 91,
     "metadata": {},
     "output_type": "execute_result"
    }
   ],
   "source": [
    "pp(\"mqorlzsdmxcipmicizwcjsrojktesitgajzlksrwrvgihrksshubznrialnuvidvrcjcucalzjujcebulvxnlqvldkfauiwonhshlsvkdpvfvwbjuawfrtsugxxaitqvciepdzzgqvootpxnqvsjqkfwkczuxrrzavodxqjnnzbgpauhvoqobvmnynhvfaxfvlksdtiqtlxkmtrjhhzkemxczgyeivleivymricmubwiupteytqcfqfgyfnhcankwnypwdbsezcbqvfoqvsxlzekettitgvrttgpwjjdklechlqzglxukbgrwzzpfuhyqpqobzrlnvowggvptslevrvrswhztqxlhpzir\")\n",
    "#pp(\"12aba12\")"
   ]
  },
  {
   "cell_type": "code",
   "execution_count": null,
   "metadata": {},
   "outputs": [],
   "source": []
  }
 ],
 "metadata": {
  "kernelspec": {
   "display_name": "Python 3",
   "language": "python",
   "name": "python3"
  },
  "language_info": {
   "codemirror_mode": {
    "name": "ipython",
    "version": 3
   },
   "file_extension": ".py",
   "mimetype": "text/x-python",
   "name": "python",
   "nbconvert_exporter": "python",
   "pygments_lexer": "ipython3",
   "version": "3.10.12"
  }
 },
 "nbformat": 4,
 "nbformat_minor": 2
}
