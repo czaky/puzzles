{
 "cells": [
  {
   "cell_type": "code",
   "execution_count": 2,
   "metadata": {},
   "outputs": [
    {
     "name": "stdout",
     "output_type": "stream",
     "text": [
      "\n"
     ]
    }
   ],
   "source": [
    "import math\n",
    "from pprint import pprint\n",
    "from math import log\n",
    "import numpy as np\n",
    "import sys\n",
    "from typing import List, Tuple, Callable, Iterable\n",
    "from functools import lru_cache, reduce, cmp_to_key\n",
    "from itertools import (\n",
    "    starmap,\n",
    "    accumulate,\n",
    "    chain,\n",
    "    islice,\n",
    "    product,\n",
    "    tee,\n",
    "    pairwise,\n",
    "    combinations,\n",
    ")\n",
    "from collections import Counter, deque\n",
    "from heapq import heapify, heappushpop, heappop, heappush\n",
    "from operator import add, neg, itemgetter\n",
    "from bisect import bisect_right\n",
    "import matplotlib.pyplot as plt\n",
    "\n",
    "import arrays\n",
    "import trees\n",
    "import lists\n",
    "import graphs\n",
    "import search\n",
    "import strings\n",
    "import matrix\n",
    "import mathematics\n",
    "from importlib import reload\n",
    "\n",
    "for m in (arrays, trees, lists, graphs, search, strings, matrix, mathematics):\n",
    "    reload(m)\n",
    "\n",
    "import arrays as ar\n",
    "import trees as tr\n",
    "import lists as ll\n",
    "import graphs as g\n",
    "import strings as s\n",
    "import matrix as mt\n",
    "import mathematics as m\n",
    "\n",
    "print()"
   ]
  },
  {
   "cell_type": "code",
   "execution_count": 89,
   "metadata": {},
   "outputs": [],
   "source": [
    "def grid_min_points(grid: List[List[int]]) -> int:\n",
    "    m, n = len(grid), len(grid[0])\n",
    "    v = [[0] * n for _ in range(m)]\n",
    "    v[-1][-1] = max(1 - grid[-1][-1], 1)\n",
    "\n",
    "    for j in reversed(range(n - 1)):\n",
    "        v[-1][j] = max(v[-1][j + 1] - grid[-1][j], 1)\n",
    "\n",
    "    for i in reversed(range(m - 1)):\n",
    "        v[i][-1] = max(v[i + 1][-1] - grid[i][-1], 1)\n",
    "\n",
    "    for i, j in product(reversed(range(m - 1)), reversed(range(n - 1))):\n",
    "        v[i][j] = max(min(v[i + 1][j], v[i][j + 1]) - grid[i][j], 1)\n",
    "\n",
    "    pprint(v)\n",
    "\n",
    "    return v[0][0]"
   ]
  },
  {
   "cell_type": "code",
   "execution_count": 130,
   "metadata": {},
   "outputs": [],
   "source": [
    "def grid_min_points(grid: List[List[int]]) -> int:\n",
    "    m, n = len(grid), len(grid[0])\n",
    "    v = [1] * (n + 1)\n",
    "\n",
    "    v[-1] = max(1 - grid[-1][-1], 1)\n",
    "    for j in reversed(range(n - 1)):\n",
    "        v[j] = max(v[j + 1] - grid[-1][j], 1)\n",
    "\n",
    "    for i, j in product(reversed(range(m - 1)), reversed(range(n))):\n",
    "        v[j] = max(min(v[j], v[j + (j < n - 1)]) - grid[i][j], 1)\n",
    "\n",
    "    return v[0]"
   ]
  },
  {
   "cell_type": "code",
   "execution_count": 146,
   "metadata": {},
   "outputs": [],
   "source": [
    "def grid_min_points(grid: List[List[int]]) -> int:\n",
    "    m, n = len(grid), len(grid[0])\n",
    "    v = [1] * (n + 1)\n",
    "    v[-1] = 1 - n * m * min(map(min, grid))\n",
    "    for i, j in product(reversed(range(m)), reversed(range(n))):\n",
    "        v[j] = max(min(v[j], v[j + 1]) - grid[i][j], 1)\n",
    "    return v[0]"
   ]
  },
  {
   "cell_type": "code",
   "execution_count": 75,
   "metadata": {},
   "outputs": [],
   "source": [
    "def grid_min_points(points: List[List[int]]) -> int:\n",
    "    m, n = len(points), len(points)\n",
    "    dp = [[0] * n for y in range(m)]\n",
    "\n",
    "    dp[m - 1][n - 1] = max(1 - points[m - 1][n - 1], 1)\n",
    "\n",
    "    for j in reversed(range(n - 1)):\n",
    "        dp[m - 1][j] = max(dp[m - 1][j + 1] - points[m - 1][j], 1)\n",
    "\n",
    "    for i in reversed(range(m - 1)):\n",
    "        dp[i][n - 1] = max(dp[i + 1][n - 1] - points[i][n - 1], 1)\n",
    "\n",
    "    for i in reversed(range(m - 1)):\n",
    "        for j in reversed(range(n - 1)):\n",
    "            min_points_on_exit = min(dp[i + 1][j], dp[i][j + 1])\n",
    "            dp[i][j] = max(min_points_on_exit - points[i][j], 1)\n",
    "    print(dp)\n",
    "\n",
    "    return dp[0][0]"
   ]
  },
  {
   "cell_type": "code",
   "execution_count": 147,
   "metadata": {},
   "outputs": [
    {
     "data": {
      "text/plain": [
       "7"
      ]
     },
     "execution_count": 147,
     "metadata": {},
     "output_type": "execute_result"
    }
   ],
   "source": [
    "grid_min_points([[-2, -3, 3], [-5, -10, 1], [10, 30, -5]])"
   ]
  },
  {
   "cell_type": "code",
   "execution_count": 76,
   "metadata": {},
   "outputs": [
    {
     "name": "stdout",
     "output_type": "stream",
     "text": [
      "[[5, 3, 0], [6, 10, 0], [1, 1, 6]]\n"
     ]
    },
    {
     "data": {
      "text/plain": [
       "5"
      ]
     },
     "execution_count": 76,
     "metadata": {},
     "output_type": "execute_result"
    }
   ],
   "source": [
    "grid_min_points([[-2, -3, 3], [-5, -10, 1], [10, 30, -5]])"
   ]
  },
  {
   "cell_type": "code",
   "execution_count": 39,
   "metadata": {},
   "outputs": [
    {
     "name": "stdout",
     "output_type": "stream",
     "text": [
      "[[1, 1], [1, 1], [1, 1]]\n"
     ]
    },
    {
     "data": {
      "text/plain": [
       "1"
      ]
     },
     "execution_count": 39,
     "metadata": {},
     "output_type": "execute_result"
    }
   ],
   "source": [
    "grid_min_points([[2, 3], [5, 10], [10, 30]])"
   ]
  },
  {
   "cell_type": "code",
   "execution_count": 148,
   "metadata": {},
   "outputs": [
    {
     "ename": "OverflowError",
     "evalue": "cannot convert float infinity to integer",
     "output_type": "error",
     "traceback": [
      "\u001b[0;31m---------------------------------------------------------------------------\u001b[0m",
      "\u001b[0;31mOverflowError\u001b[0m                             Traceback (most recent call last)",
      "\u001b[1;32m/config/workspace/puzzles/notebook.ipynb Cell 9\u001b[0m line \u001b[0;36m1\n\u001b[0;32m----> <a href='vscode-notebook-cell://localhost:9444/config/workspace/puzzles/notebook.ipynb#Y165sdnNjb2RlLXJlbW90ZQ%3D%3D?line=0'>1</a>\u001b[0m \u001b[39mint\u001b[39;49m(math\u001b[39m.\u001b[39;49minf)\n",
      "\u001b[0;31mOverflowError\u001b[0m: cannot convert float infinity to integer"
     ]
    }
   ],
   "source": [
    "int(math.inf)"
   ]
  },
  {
   "cell_type": "code",
   "execution_count": null,
   "metadata": {},
   "outputs": [],
   "source": []
  }
 ],
 "metadata": {
  "kernelspec": {
   "display_name": "Python 3",
   "language": "python",
   "name": "python3"
  },
  "language_info": {
   "codemirror_mode": {
    "name": "ipython",
    "version": 3
   },
   "file_extension": ".py",
   "mimetype": "text/x-python",
   "name": "python",
   "nbconvert_exporter": "python",
   "pygments_lexer": "ipython3",
   "version": "3.10.12"
  }
 },
 "nbformat": 4,
 "nbformat_minor": 2
}
