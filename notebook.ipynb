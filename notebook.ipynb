{
 "cells": [
  {
   "cell_type": "code",
   "execution_count": 3,
   "metadata": {},
   "outputs": [
    {
     "name": "stdout",
     "output_type": "stream",
     "text": [
      "\n"
     ]
    }
   ],
   "source": [
    "import math\n",
    "from pprint import pprint\n",
    "from math import log\n",
    "import numpy as np\n",
    "import sys\n",
    "from typing import List, Tuple, Callable, Iterable\n",
    "from functools import lru_cache, reduce, cmp_to_key\n",
    "from itertools import (\n",
    "    starmap,\n",
    "    accumulate,\n",
    "    chain,\n",
    "    islice,\n",
    "    product,\n",
    "    tee,\n",
    "    pairwise,\n",
    "    combinations,\n",
    ")\n",
    "from collections import Counter, deque\n",
    "from heapq import heapify, heappushpop, heappop, heappush\n",
    "from operator import add, neg, itemgetter\n",
    "from bisect import bisect_right\n",
    "import matplotlib.pyplot as plt\n",
    "\n",
    "import arrays\n",
    "import trees\n",
    "import lists\n",
    "import graphs\n",
    "import search\n",
    "import strings\n",
    "import matrix\n",
    "from importlib import reload\n",
    "\n",
    "reload(arrays)\n",
    "reload(trees)\n",
    "reload(lists)\n",
    "reload(graphs)\n",
    "reload(search)\n",
    "import arrays as ar\n",
    "import trees as tr\n",
    "import lists as ll\n",
    "import graphs as g\n",
    "import strings as s\n",
    "\n",
    "print()"
   ]
  },
  {
   "cell_type": "code",
   "execution_count": 37,
   "metadata": {},
   "outputs": [],
   "source": [
    "def critical_connection(v: int, adj: List[List[int]]) -> List[List[int]]:\n",
    "    # This uses Tarjan's Algorithm.\n",
    "    vt = [0] * len(adj)  # visited time for each node in DFS-tree order\n",
    "    ct = vt[:]  # circle time for the parent/root of the whole circle\n",
    "    o = set()\n",
    "\n",
    "    # Depth first search to determine the parent of each node\n",
    "    # and created the DFS-tree.\n",
    "    def dfs(p, n, t):\n",
    "        vt[n] = ct[n] = t  # set the times\n",
    "        for c in adj[n]:\n",
    "            if not vt[c]:  # If the child node was not visited...\n",
    "                dfs(n, c, t + 1)\n",
    "                # If the child circle time is lower than ours,\n",
    "                # it has reached another node up in the DFT-tree.\n",
    "                # This indicates that we are in a circle with the child.\n",
    "                ct[n] = min(ct[n], ct[c])\n",
    "                # If the child is in a circle later than our visit time,\n",
    "                # this means that child can only be visited through this node.\n",
    "                if ct[c] > t:\n",
    "                    o.add((n, c) if n < c else (c, n))\n",
    "            elif c != p:  # visited node before\n",
    "                # If we reached another node (but the parent) higher\n",
    "                # in the DFS-tree, update our circle time.\n",
    "                # Use the original visited time, given that\n",
    "                # the child may be in another circle.\n",
    "                ct[n] = min(ct[n], vt[c])\n",
    "\n",
    "    # Start search from the first node (== 0).\n",
    "    dfs(-1, 0, 1)\n",
    "    return sorted(o)"
   ]
  },
  {
   "cell_type": "code",
   "execution_count": 38,
   "metadata": {},
   "outputs": [
    {
     "data": {
      "text/plain": [
       "[(2, 3)]"
      ]
     },
     "execution_count": 38,
     "metadata": {},
     "output_type": "execute_result"
    }
   ],
   "source": [
    "critical_connection(4, [[1, 2], [0, 2], [0, 1, 3], [2]])"
   ]
  },
  {
   "cell_type": "code",
   "execution_count": null,
   "metadata": {},
   "outputs": [],
   "source": []
  }
 ],
 "metadata": {
  "kernelspec": {
   "display_name": "Python 3",
   "language": "python",
   "name": "python3"
  },
  "language_info": {
   "codemirror_mode": {
    "name": "ipython",
    "version": 3
   },
   "file_extension": ".py",
   "mimetype": "text/x-python",
   "name": "python",
   "nbconvert_exporter": "python",
   "pygments_lexer": "ipython3",
   "version": "3.10.12"
  }
 },
 "nbformat": 4,
 "nbformat_minor": 2
}
