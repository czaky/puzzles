{
 "cells": [
  {
   "cell_type": "code",
   "execution_count": 46,
   "metadata": {},
   "outputs": [
    {
     "name": "stdout",
     "output_type": "stream",
     "text": [
      "\n"
     ]
    }
   ],
   "source": [
    "import math\n",
    "from math import log\n",
    "import numpy as np\n",
    "import sys\n",
    "from typing import List, Tuple, Callable, Iterable\n",
    "from functools import lru_cache, reduce, cmp_to_key\n",
    "from itertools import (\n",
    "    starmap,\n",
    "    accumulate,\n",
    "    chain,\n",
    "    islice,\n",
    "    product,\n",
    "    tee,\n",
    "    pairwise,\n",
    "    combinations,\n",
    ")\n",
    "from collections import Counter, deque\n",
    "from heapq import heapify, heappushpop, heappop, heappush\n",
    "from operator import add, neg\n",
    "from bisect import bisect_right\n",
    "import matplotlib.pyplot as plt\n",
    "\n",
    "import arrays\n",
    "import trees\n",
    "import lists\n",
    "import graphs\n",
    "import search\n",
    "import strings\n",
    "from importlib import reload\n",
    "\n",
    "reload(arrays)\n",
    "reload(trees)\n",
    "reload(lists)\n",
    "reload(graphs)\n",
    "reload(search)\n",
    "import arrays as ar\n",
    "import trees as tr\n",
    "import lists as ll\n",
    "import graphs as g\n",
    "import strings as s\n",
    "\n",
    "print()"
   ]
  },
  {
   "cell_type": "code",
   "execution_count": 107,
   "metadata": {},
   "outputs": [],
   "source": [
    "def max_min_window(a: List[int]) -> List[int]:\n",
    "    \"For every window size return the maximum of the minimums.\"\n",
    "\n",
    "    def bracket(b: List[int], it: Iterable[int]) -> List[int]:\n",
    "        s = []\n",
    "        for i in it:\n",
    "            while s and a[i] <= a[s[-1]]:\n",
    "                s.pop()\n",
    "            if s:\n",
    "                b[i] = s[-1]\n",
    "            s.append(i)\n",
    "        return b\n",
    "\n",
    "    n = len(a)\n",
    "    left = bracket([-1] * n, range(n))\n",
    "    right = bracket([n] * n, reversed(range(n)))\n",
    "\n",
    "    print(left)\n",
    "    print(right)\n",
    "\n",
    "    wnd = [0] * n\n",
    "    for e, l, r in zip(a, left, right):\n",
    "        wnd[r - l - 2] = max(wnd[r - l - 2], e)\n",
    "\n",
    "    print(wnd)\n",
    "\n",
    "    for i in reversed(range(n - 1)):\n",
    "        wnd[i] = max(wnd[i], wnd[i + 1])\n",
    "\n",
    "    print(wnd)\n",
    "\n",
    "    return wnd"
   ]
  },
  {
   "cell_type": "code",
   "execution_count": 108,
   "metadata": {},
   "outputs": [
    {
     "name": "stdout",
     "output_type": "stream",
     "text": [
      "[-1, 0, 1, 2, -1, 4, 4]\n",
      "[7, 4, 4, 4, 7, 6, 7]\n",
      "[70, 30, 20, 0, 0, 0, 10]\n",
      "[70, 30, 20, 10, 10, 10, 10]\n"
     ]
    },
    {
     "data": {
      "text/plain": [
       "[70, 30, 20, 10, 10, 10, 10]"
      ]
     },
     "execution_count": 108,
     "metadata": {},
     "output_type": "execute_result"
    }
   ],
   "source": [
    "max_min_window([10, 20, 30, 50, 10, 70, 30])"
   ]
  },
  {
   "cell_type": "code",
   "execution_count": null,
   "metadata": {},
   "outputs": [],
   "source": []
  }
 ],
 "metadata": {
  "kernelspec": {
   "display_name": "Python 3",
   "language": "python",
   "name": "python3"
  },
  "language_info": {
   "codemirror_mode": {
    "name": "ipython",
    "version": 3
   },
   "file_extension": ".py",
   "mimetype": "text/x-python",
   "name": "python",
   "nbconvert_exporter": "python",
   "pygments_lexer": "ipython3",
   "version": "3.10.12"
  }
 },
 "nbformat": 4,
 "nbformat_minor": 2
}
