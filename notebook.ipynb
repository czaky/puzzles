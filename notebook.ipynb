{
 "cells": [
  {
   "cell_type": "code",
   "execution_count": 2,
   "metadata": {},
   "outputs": [
    {
     "name": "stdout",
     "output_type": "stream",
     "text": [
      "\n"
     ]
    }
   ],
   "source": [
    "import math\n",
    "from typing import List\n",
    "from functools import lru_cache, reduce\n",
    "from itertools import starmap, accumulate\n",
    "from collections import Counter\n",
    "from heapq import heapify, heappushpop, heappop, heappush\n",
    "\n",
    "import arrays\n",
    "import trees\n",
    "from importlib import reload\n",
    "reload(arrays)\n",
    "reload(trees)\n",
    "import arrays as ar\n",
    "import trees as tr\n",
    "from trees import Node\n",
    "print()"
   ]
  },
  {
   "cell_type": "code",
   "execution_count": 12,
   "metadata": {},
   "outputs": [],
   "source": [
    "def div(a:int, b:int) -> float:\n",
    "    return a/b if a%b else a//b\n",
    "\n",
    "def median2(a: List[int], b: List[int]) -> int:\n",
    "    if len(a) > len(b):\n",
    "        a, b = b, a\n",
    "    n = len(a) + len(b)\n",
    "    if n == 0:\n",
    "        return 0\n",
    "    l, h = 0, len(a)\n",
    "    p = (n+1)//2\n",
    "    if h == 0:\n",
    "        return b[p-1] if n%2 else div(b[p-1] + b[p], 2)\n",
    "\n",
    "    while l <= h:\n",
    "        ma = (l+h)//2\n",
    "        mb = p - ma\n",
    "\n",
    "        la = a[ma-1] if ma>0 else -math.inf\n",
    "        lb = b[mb-1] if mb>0 else -math.inf\n",
    "        ra = a[ma] if ma < len(a) else math.inf\n",
    "        rb = b[mb] if mb < len(b) else math.inf\n",
    "\n",
    "        if la <= rb and lb <= ra:\n",
    "            y, x = max(la, lb), min(ra, rb)\n",
    "            return y if n%2 else div(x+y, 2)\n",
    "\n",
    "        if la > rb:\n",
    "            h = ma - 1\n",
    "        else:\n",
    "            l = ma + 1\n",
    "\n",
    "    return 0\n"
   ]
  },
  {
   "cell_type": "code",
   "execution_count": 15,
   "metadata": {},
   "outputs": [
    {
     "data": {
      "text/plain": [
       "3"
      ]
     },
     "execution_count": 15,
     "metadata": {},
     "output_type": "execute_result"
    }
   ],
   "source": [
    "median2([], [3])"
   ]
  },
  {
   "cell_type": "code",
   "execution_count": null,
   "metadata": {},
   "outputs": [],
   "source": []
  }
 ],
 "metadata": {
  "kernelspec": {
   "display_name": "Python 3",
   "language": "python",
   "name": "python3"
  },
  "language_info": {
   "codemirror_mode": {
    "name": "ipython",
    "version": 3
   },
   "file_extension": ".py",
   "mimetype": "text/x-python",
   "name": "python",
   "nbconvert_exporter": "python",
   "pygments_lexer": "ipython3",
   "version": "3.10.12"
  }
 },
 "nbformat": 4,
 "nbformat_minor": 2
}
