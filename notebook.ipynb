{
 "cells": [
  {
   "cell_type": "code",
   "execution_count": 1,
   "metadata": {},
   "outputs": [
    {
     "name": "stdout",
     "output_type": "stream",
     "text": [
      "\n"
     ]
    }
   ],
   "source": [
    "import math\n",
    "import numpy as np\n",
    "import sys\n",
    "from typing import List, Tuple\n",
    "from functools import lru_cache, reduce, cmp_to_key\n",
    "from itertools import starmap, accumulate, chain, islice, product, tee, pairwise, combinations\n",
    "from collections import Counter, deque\n",
    "from heapq import heapify, heappushpop, heappop, heappush\n",
    "from operator import add, neg\n",
    "from bisect import bisect_right\n",
    "import matplotlib.pyplot as plt\n",
    "\n",
    "import arrays\n",
    "import trees\n",
    "import lists\n",
    "import graphs\n",
    "import search\n",
    "from importlib import reload\n",
    "\n",
    "reload(arrays)\n",
    "reload(trees)\n",
    "reload(lists)\n",
    "reload(graphs)\n",
    "reload(search)\n",
    "import arrays as ar\n",
    "import trees as tr\n",
    "import lists as ll\n",
    "import graphs as g\n",
    "from lists import Node\n",
    "\n",
    "print()"
   ]
  },
  {
   "cell_type": "code",
   "execution_count": 122,
   "metadata": {},
   "outputs": [],
   "source": [
    "def longest_prefix_suffix(p: str) -> List[int]:\n",
    "    n = len(p)\n",
    "    lps = [0] * n\n",
    "    i, j = 0, 1\n",
    "    while j < n:\n",
    "        if p[i] == p[j]:\n",
    "            print(f'{p[i]} == {p[j]}: {i}    \\t {j} = {i+1}   \\t {p[0:i]} == {p[j-i:j]}')\n",
    "            lps[j] = i = i + 1\n",
    "        elif i > 0:\n",
    "            print(f'{p[i]} != {p[j]}: {lps[i-1]}<-{i} \\t {j} = {lps[j]}  \\t {p[0:i]} == {p[j-i:j]}')\n",
    "            #j = j - i + 1\n",
    "            i = lps[i-1]\n",
    "            continue\n",
    "        j += 1\n",
    "    print(lps)\n",
    "    return lps[-1]\n"
   ]
  },
  {
   "cell_type": "code",
   "execution_count": 132,
   "metadata": {},
   "outputs": [
    {
     "name": "stdout",
     "output_type": "stream",
     "text": [
      "a == a: 0    \t 6 = 1   \t  == \n",
      "b != a: 0<-1 \t 7 = 0  \t a == a\n",
      "a == a: 0    \t 7 = 1   \t  == \n",
      "b != a: 0<-1 \t 8 = 0  \t a == a\n",
      "a == a: 0    \t 8 = 1   \t  == \n",
      "b == b: 1    \t 9 = 2   \t a == a\n",
      "c == c: 2    \t 10 = 3   \t ab == ab\n",
      "c == c: 3    \t 11 = 4   \t abc == abc\n",
      "c == c: 4    \t 12 = 5   \t abcc == abcc\n",
      "0 == 0: 5    \t 13 = 6   \t abccc == abccc\n",
      "a == a: 6    \t 14 = 7   \t abccc0 == abccc0\n",
      "a == a: 7    \t 15 = 8   \t abccc0a == abccc0a\n",
      "a != b: 1<-8 \t 16 = 0  \t abccc0aa == abccc0aa\n",
      "b == b: 1    \t 16 = 2   \t a == a\n",
      "c == c: 2    \t 17 = 3   \t ab == ab\n",
      "[0, 0, 0, 0, 0, 0, 1, 1, 1, 2, 3, 4, 5, 6, 7, 8, 2, 3]\n"
     ]
    },
    {
     "data": {
      "text/plain": [
       "3"
      ]
     },
     "execution_count": 132,
     "metadata": {},
     "output_type": "execute_result"
    }
   ],
   "source": [
    "longest_prefix_suffix(\"abccc0aaabccc0aabc\")"
   ]
  },
  {
   "cell_type": "code",
   "execution_count": null,
   "metadata": {},
   "outputs": [],
   "source": []
  }
 ],
 "metadata": {
  "kernelspec": {
   "display_name": "Python 3",
   "language": "python",
   "name": "python3"
  },
  "language_info": {
   "codemirror_mode": {
    "name": "ipython",
    "version": 3
   },
   "file_extension": ".py",
   "mimetype": "text/x-python",
   "name": "python",
   "nbconvert_exporter": "python",
   "pygments_lexer": "ipython3",
   "version": "3.10.12"
  }
 },
 "nbformat": 4,
 "nbformat_minor": 2
}
