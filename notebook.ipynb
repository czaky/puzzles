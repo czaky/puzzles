{
 "cells": [
  {
   "cell_type": "code",
   "execution_count": 2,
   "metadata": {},
   "outputs": [
    {
     "name": "stdout",
     "output_type": "stream",
     "text": [
      "\n"
     ]
    }
   ],
   "source": [
    "# ruff: noqa: F401, E402\n",
    "import math\n",
    "import sys\n",
    "from bisect import bisect_left, bisect_right\n",
    "from collections import Counter, deque\n",
    "from functools import cmp_to_key, lru_cache, reduce\n",
    "from heapq import heapify, heappop, heappush, heanpushpop, nsmallest\n",
    "from importlib import reload\n",
    "from itertools import (\n",
    "    accumulate,\n",
    "    chain,\n",
    "    combinations,\n",
    "    islice,\n",
    "    pairwise,\n",
    "    permutations,\n",
    "    product,\n",
    "    starmap,\n",
    "    tee,\n",
    ")\n",
    "from math import comb, factorial, log, sqrt\n",
    "from operator import add, and_, contains, indexOf, itemgetter, neg, or_, xor\n",
    "from nprint import nprint\n",
    "from typing import Callable, Iterable, List, Tuple\n",
    "\n",
    "import matplotlib.pyplot as plt\n",
    "import networkx as nx\n",
    "import numpy as np\n",
    "\n",
    "import arrays\n",
    "import graphs\n",
    "import lists\n",
    "import mathematics\n",
    "import matrix\n",
    "import parsing\n",
    "import search\n",
    "import sequences\n",
    "import sets\n",
    "import strings\n",
    "import trees\n",
    "\n",
    "for m in (\n",
    "    arrays,\n",
    "    graphs,\n",
    "    lists,\n",
    "    mathematics,\n",
    "    matrix,\n",
    "    parsing,\n",
    "    search,\n",
    "    sequences,\n",
    "    sets,\n",
    "    strings,\n",
    "    trees,\n",
    "):\n",
    "    reload(m)\n",
    "\n",
    "\n",
    "from parsing import format_binop_expression, parse_binop_expression\n",
    "from sequences import find_if\n",
    "from strings import StringView, splint\n",
    "\n",
    "print()\n"
   ]
  },
  {
   "cell_type": "code",
   "execution_count": 66,
   "metadata": {},
   "outputs": [],
   "source": [
    "def fruit_pickup_min_time(locs: List[int], types: List[int]) -> int:\n",
    "    tl = {}\n",
    "    for i, loc in enumerate(locs):\n",
    "        t = types[i]\n",
    "        tnl, txl = tl.get(t, (loc, loc))\n",
    "        tl[t] = (min(loc, tnl), max(loc, txl))\n",
    "    tsort = [(0, 0)] + [tl[i] for i in sorted(tl)] + [(0, 0)]\n",
    "    n = len(tsort)\n",
    "    print(tsort)\n",
    "\n",
    "    @lru_cache(None)\n",
    "    def pick(i: int, lr: int):\n",
    "        if i == n:\n",
    "            print(f\"[{i}] ===> 0\")\n",
    "            return 0\n",
    "        pp = tsort[i - 1][lr]\n",
    "        mn, mx = tsort[i]\n",
    "        if mx <= pp:\n",
    "            # mn ... mx , pp\n",
    "            # move all the way left (=0) to mn\n",
    "            print(f\"[{i}] {pp} \\t=> {mn} \\t+{pp - mn}\")\n",
    "            return pp - mn + pick(i + 1, 0)\n",
    "        elif pp <= mn:\n",
    "            # pp, mn ... mx\n",
    "            # move all the way right (=1) to mx\n",
    "            print(f\"[{i}] {pp} \\t=> {mx} \\t+{mx - pp}\")\n",
    "            return mx - pp + pick(i + 1, 1)\n",
    "        else:\n",
    "            # mn, pp, mx\n",
    "            # move to mx then to mn (= 0)\n",
    "            opt1 = (mx - pp) + pick(i + 1, 0)\n",
    "            # move to mn then to mx (= 1)\n",
    "            opt2 = (pp - mn) + pick(i + 1, 1)\n",
    "            print(f\"[{i}] opt1: {opt1}, opt2: {opt2}\")\n",
    "            if opt1 < opt2:\n",
    "                print(f\"[{i}] {pp} \\t=> {mn}  \\t+{mx - pp}+{mx - mn}\")\n",
    "            else:\n",
    "                print(f\"[{i}] {pp} \\t=> {mx}  \\t+{pp - mn}+{mx - mn}\")\n",
    "            return min(opt1, opt2) + (mx - mn)\n",
    "\n",
    "    return min(pick(1, 0), pick(1, 1))\n"
   ]
  },
  {
   "cell_type": "code",
   "execution_count": 14,
   "metadata": {},
   "outputs": [],
   "source": [
    "def fruit_pickup_min_time(locs: List[int], types: List[int]) -> int:\n",
    "    tl = {0: (0, 0), (max(types) + 1): (0, 0)}\n",
    "    for t, loc in zip(types, locs):\n",
    "        tnl, txl = tl.get(t) or tl.setdefault(t, [loc, loc])\n",
    "        tl[t][:] = min(loc, tnl), max(loc, txl)\n",
    "    tsort = [tl[i] for i in sorted(tl)]\n",
    "    pick = [0, 0]\n",
    "    for i in range(len(tsort) - 1):\n",
    "        mn, mx = tsort[i]\n",
    "        pl, pr = pick\n",
    "        for lr in (0, 1):\n",
    "            np = tsort[i + 1][lr]\n",
    "            if mx <= np:\n",
    "                # mn ... mx <= pp\n",
    "                # move all the way left (=0) to mn\n",
    "                pick[lr] = np - mn + pl\n",
    "            elif np <= mn:\n",
    "                # pp <= mn ... mx\n",
    "                # move all the way right (=1) to mx\n",
    "                pick[lr] = mx - np + pr\n",
    "            else:\n",
    "                # mn, pp, mx\n",
    "                # opt1: move to mx then to mn (= 0)\n",
    "                # opt2: move to mn then to mx (= 1)\n",
    "                pick[lr] = min(mx - np + pl, np - mn + pr) + (mx - mn)\n",
    "    return min(pick)\n"
   ]
  },
  {
   "cell_type": "code",
   "execution_count": 15,
   "metadata": {},
   "outputs": [
    {
     "data": {
      "text/plain": [
       "18"
      ]
     },
     "execution_count": 15,
     "metadata": {},
     "output_type": "execute_result"
    }
   ],
   "source": [
    "fruit_pickup_min_time([1, 3, 5, 7], [1, 2, 3, 1])\n"
   ]
  },
  {
   "cell_type": "code",
   "execution_count": 16,
   "metadata": {},
   "outputs": [
    {
     "data": {
      "text/plain": [
       "24"
      ]
     },
     "execution_count": 16,
     "metadata": {},
     "output_type": "execute_result"
    }
   ],
   "source": [
    "fruit_pickup_min_time([-4, -3, 1, -8], [4, 2, 4, 5])\n"
   ]
  },
  {
   "cell_type": "code",
   "execution_count": 17,
   "metadata": {},
   "outputs": [
    {
     "data": {
      "text/plain": [
       "26"
      ]
     },
     "execution_count": 17,
     "metadata": {},
     "output_type": "execute_result"
    }
   ],
   "source": [
    "fruit_pickup_min_time([1, -8, -1, 2, -2, -5], [3, 3, 3, 4, 2, 1])\n"
   ]
  },
  {
   "cell_type": "code",
   "execution_count": null,
   "metadata": {},
   "outputs": [],
   "source": []
  }
 ],
 "metadata": {
  "kernelspec": {
   "display_name": "Python 3",
   "language": "python",
   "name": "python3"
  },
  "language_info": {
   "codemirror_mode": {
    "name": "ipython",
    "version": 3
   },
   "file_extension": ".py",
   "mimetype": "text/x-python",
   "name": "python",
   "nbconvert_exporter": "python",
   "pygments_lexer": "ipython3",
   "version": "3.10.12"
  }
 },
 "nbformat": 4,
 "nbformat_minor": 2
}
