{
 "cells": [
  {
   "cell_type": "code",
   "execution_count": 113,
   "metadata": {},
   "outputs": [
    {
     "name": "stdout",
     "output_type": "stream",
     "text": [
      "\n"
     ]
    }
   ],
   "source": [
    "# ruff: noqa: F401, E402, T201, T203, D103\n",
    "\n",
    "from __future__ import annotations\n",
    "\n",
    "import math\n",
    "import sys\n",
    "import time\n",
    "from bisect import bisect_left, bisect_right\n",
    "from collections import Counter, deque\n",
    "from functools import cmp_to_key, lru_cache, reduce\n",
    "from heapq import heapify, heappop, heappush, heappushpop, nsmallest\n",
    "from importlib import reload\n",
    "from itertools import (\n",
    "    accumulate,\n",
    "    chain,\n",
    "    combinations,\n",
    "    islice,\n",
    "    pairwise,\n",
    "    permutations,\n",
    "    product,\n",
    "    repeat,\n",
    "    starmap,\n",
    "    tee,\n",
    ")\n",
    "from math import comb, exp, factorial, inf, log, prod, sqrt\n",
    "from operator import add, and_, contains, indexOf, itemgetter, mul, neg, or_, xor\n",
    "from pprint import pformat, pprint\n",
    "from typing import Callable, Iterable, Iterator, List, Tuple\n",
    "\n",
    "import matplotlib.pyplot as plt\n",
    "import networkx as nx\n",
    "import numpy as np\n",
    "from IPython.display import HTML, clear_output, display\n",
    "\n",
    "import arrays\n",
    "import bits\n",
    "import combinatorics\n",
    "import graphs\n",
    "import grid\n",
    "import lists\n",
    "import mathematics\n",
    "import matrix\n",
    "import parsing\n",
    "import search\n",
    "import sequences\n",
    "import sets\n",
    "import stack\n",
    "import strings\n",
    "import trees\n",
    "\n",
    "for m in (\n",
    "    arrays,\n",
    "    bits,\n",
    "    combinatorics,\n",
    "    graphs,\n",
    "    grid,\n",
    "    lists,\n",
    "    mathematics,\n",
    "    matrix,\n",
    "    parsing,\n",
    "    search,\n",
    "    sequences,\n",
    "    sets,\n",
    "    stack,\n",
    "    strings,\n",
    "    trees,\n",
    "):\n",
    "    reload(m)\n",
    "\n",
    "\n",
    "from combinatorics import fib\n",
    "from search import lower_index, upper_index\n",
    "from sequences import find_if\n",
    "from strings import splint\n",
    "\n",
    "np.set_printoptions(linewidth=110)\n",
    "print()"
   ]
  },
  {
   "cell_type": "code",
   "execution_count": 41,
   "metadata": {},
   "outputs": [
    {
     "data": {
      "text/plain": [
       "dtype('float128')"
      ]
     },
     "execution_count": 41,
     "metadata": {},
     "output_type": "execute_result"
    }
   ],
   "source": []
  },
  {
   "cell_type": "code",
   "execution_count": 42,
   "metadata": {},
   "outputs": [],
   "source": [
    "dd = np.longdouble\n",
    "\n",
    "LOG2_GOLDEN_RATIO = np.log2(1.0 + np.sqrt(5.0, dtype=dd), dtype=dd) - 1.0\n",
    "LOG2_SQRT5 = np.log2(5.0, dtype=dd) / 2.0\n",
    "\n",
    "\n",
    "def fib_by_rounding(n: int) -> int:\n",
    "    \"\"\"Fibonacci number: `(fib(n-1) + fib(n-2))`.\"\"\"\n",
    "    if n == 0:\n",
    "        return 1\n",
    "    # Rounding formula. Works until n == 70.\n",
    "    return round(np.power(2.0, LOG2_GOLDEN_RATIO * n - LOG2_SQRT5, dtype=np.longdouble))"
   ]
  },
  {
   "cell_type": "code",
   "execution_count": 140,
   "metadata": {},
   "outputs": [],
   "source": [
    "diffs = []\n",
    "for n in range(8000):\n",
    "    fr, f = fib_by_rounding(n) % (2**9128 + 3), fib(n, 2**9128 + 3)\n",
    "    diffs.append(abs(f - fr) / f)"
   ]
  },
  {
   "cell_type": "code",
   "execution_count": 141,
   "metadata": {},
   "outputs": [
    {
     "data": {
      "text/plain": [
       "[<matplotlib.lines.Line2D at 0x7f6affebdcc0>]"
      ]
     },
     "execution_count": 141,
     "metadata": {},
     "output_type": "execute_result"
    },
    {
     "data": {
      "image/png": "[encoded data removed]",
      "text/plain": [
       "<Figure size 640x480 with 1 Axes>"
      ]
     },
     "metadata": {},
     "output_type": "display_data"
    }
   ],
   "source": [
    "plt.yscale(\"log\")\n",
    "plt.plot(diffs)"
   ]
  },
  {
   "cell_type": "code",
   "execution_count": null,
   "metadata": {},
   "outputs": [],
   "source": []
  }
 ],
 "metadata": {
  "kernelspec": {
   "display_name": "Python 3",
   "language": "python",
   "name": "python3"
  },
  "language_info": {
   "codemirror_mode": {
    "name": "ipython",
    "version": 3
   },
   "file_extension": ".py",
   "mimetype": "text/x-python",
   "name": "python",
   "nbconvert_exporter": "python",
   "pygments_lexer": "ipython3",
   "version": "3.10.12"
  }
 },
 "nbformat": 4,
 "nbformat_minor": 2
}
