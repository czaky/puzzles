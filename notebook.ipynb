{
 "cells": [
  {
   "cell_type": "code",
   "execution_count": 442,
   "metadata": {},
   "outputs": [
    {
     "name": "stdout",
     "output_type": "stream",
     "text": [
      "\n"
     ]
    }
   ],
   "source": [
    "import math\n",
    "from pprint import pprint\n",
    "from math import log\n",
    "import numpy as np\n",
    "import sys\n",
    "from typing import List, Tuple, Callable, Iterable\n",
    "from functools import lru_cache, reduce, cmp_to_key\n",
    "from itertools import (\n",
    "    starmap,\n",
    "    accumulate,\n",
    "    chain,\n",
    "    islice,\n",
    "    product,\n",
    "    tee,\n",
    "    pairwise,\n",
    "    combinations,\n",
    ")\n",
    "from collections import Counter, deque\n",
    "from heapq import heapify, heappushpop, heappop, heappush\n",
    "from operator import add, neg, itemgetter\n",
    "from bisect import bisect_right\n",
    "import matplotlib.pyplot as plt\n",
    "\n",
    "import arrays\n",
    "import trees\n",
    "import lists\n",
    "import graphs\n",
    "import search\n",
    "import strings\n",
    "import matrix\n",
    "import mathematics\n",
    "from importlib import reload\n",
    "\n",
    "for m in (arrays, trees, lists, graphs, search, strings, matrix, mathematics):\n",
    "    reload(m)\n",
    "\n",
    "import arrays as ar\n",
    "import trees as tr\n",
    "import lists as ll\n",
    "import graphs as g\n",
    "import strings as s\n",
    "import matrix as mt\n",
    "import mathematics as m\n",
    "\n",
    "print()"
   ]
  },
  {
   "cell_type": "code",
   "execution_count": 611,
   "metadata": {},
   "outputs": [],
   "source": [
    "def word_parts(d: List[str], s: str) -> str:\n",
    "    \"Return all possible combinations of words from `d` that make up `s`.\"\n",
    "\n",
    "    @lru_cache(None)\n",
    "    def sub(j: int) -> list:\n",
    "        if j == 0:\n",
    "            return [[]]\n",
    "        o = []\n",
    "        for suffix in d:\n",
    "            i = j - len(suffix)\n",
    "            if i >= 0 and s[i:j] == suffix:\n",
    "                o.extend((x + [suffix] for x in sub(i)))\n",
    "        return o\n",
    "\n",
    "    return [\" \".join(b) for b in sub(len(s))]"
   ]
  },
  {
   "cell_type": "code",
   "execution_count": 614,
   "metadata": {},
   "outputs": [
    {
     "data": {
      "text/plain": [
       "['cats and dog', 'cat sand dog']"
      ]
     },
     "execution_count": 614,
     "metadata": {},
     "output_type": "execute_result"
    }
   ],
   "source": [
    "word_parts([\"rat\", \"cats\", \"cat\", \"and\", \"sand\", \"dog\"], \"catsanddog\")"
   ]
  },
  {
   "cell_type": "code",
   "execution_count": null,
   "metadata": {},
   "outputs": [],
   "source": []
  }
 ],
 "metadata": {
  "kernelspec": {
   "display_name": "Python 3",
   "language": "python",
   "name": "python3"
  },
  "language_info": {
   "codemirror_mode": {
    "name": "ipython",
    "version": 3
   },
   "file_extension": ".py",
   "mimetype": "text/x-python",
   "name": "python",
   "nbconvert_exporter": "python",
   "pygments_lexer": "ipython3",
   "version": "3.10.12"
  }
 },
 "nbformat": 4,
 "nbformat_minor": 2
}
