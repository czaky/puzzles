{
 "cells": [
  {
   "cell_type": "code",
   "execution_count": 2,
   "metadata": {},
   "outputs": [],
   "source": [
    "from typing import List\n",
    "from functools import lru_cache\n",
    "\n",
    "import arrays\n",
    "from importlib import reload\n",
    "reload(arrays)\n",
    "import arrays as ar\n"
   ]
  },
  {
   "cell_type": "code",
   "execution_count": 92,
   "metadata": {},
   "outputs": [],
   "source": [
    "def min_histogram_rectangle(h: list) -> int:\n",
    "    s = []\n",
    "    mx = [0]\n",
    "    def measure(j, v):\n",
    "        while s and h[s[-1]] > v:\n",
    "            t = s.pop()\n",
    "            i = s[-1] if s else -1\n",
    "            mx[0] = max(mx[0], (j - i -1) * h[t])\n",
    "\n",
    "    for j, v in enumerate(h):\n",
    "        measure(j, v)\n",
    "        s.append(j)\n",
    "    measure(len(h), 0)\n",
    "    return mx[0]\n"
   ]
  },
  {
   "cell_type": "code",
   "execution_count": 93,
   "metadata": {},
   "outputs": [
    {
     "name": "stdout",
     "output_type": "stream",
     "text": [
      "0 [] + [6] \n",
      "1 [6] + [2]  -> 6\n",
      "2 [2] + [5] \n",
      "3 [2, 5] + [4]  -> 6\n",
      "4 [2, 4] + [5] \n",
      "5 [2, 4, 5] + [1]  -> 6 -> 12 -> 12\n",
      "6 [1] + [6] \n",
      "7 [1, 6] + [0]  -> 12 -> 12\n"
     ]
    },
    {
     "data": {
      "text/plain": [
       "12"
      ]
     },
     "execution_count": 93,
     "metadata": {},
     "output_type": "execute_result"
    }
   ],
   "source": [
    "min_histogram_rectangle([6,2,5,4,5,1,6])\n"
   ]
  },
  {
   "cell_type": "code",
   "execution_count": null,
   "metadata": {},
   "outputs": [],
   "source": []
  }
 ],
 "metadata": {
  "kernelspec": {
   "display_name": "Python 3",
   "language": "python",
   "name": "python3"
  },
  "language_info": {
   "codemirror_mode": {
    "name": "ipython",
    "version": 3
   },
   "file_extension": ".py",
   "mimetype": "text/x-python",
   "name": "python",
   "nbconvert_exporter": "python",
   "pygments_lexer": "ipython3",
   "version": "3.10.12"
  }
 },
 "nbformat": 4,
 "nbformat_minor": 2
}
