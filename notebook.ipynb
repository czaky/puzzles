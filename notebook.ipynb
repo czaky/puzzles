{
 "cells": [
  {
   "cell_type": "code",
   "execution_count": 30,
   "metadata": {},
   "outputs": [
    {
     "name": "stdout",
     "output_type": "stream",
     "text": [
      "\n"
     ]
    }
   ],
   "source": [
    "# ruff: noqa: F401, E402\n",
    "import math\n",
    "import sys\n",
    "from bisect import bisect_left, bisect_right\n",
    "from collections import Counter, deque\n",
    "from functools import cmp_to_key, lru_cache, reduce\n",
    "from heapq import heapify, heappop, heappush, heappushpop, nsmallest\n",
    "from importlib import reload\n",
    "from itertools import (\n",
    "    accumulate,\n",
    "    chain,\n",
    "    combinations,\n",
    "    islice,\n",
    "    pairwise,\n",
    "    permutations,\n",
    "    product,\n",
    "    starmap,\n",
    "    tee,\n",
    ")\n",
    "from math import comb, factorial, log, sqrt\n",
    "from operator import add, and_, contains, indexOf, itemgetter, neg, or_, xor\n",
    "from pprint import pprint\n",
    "from typing import Callable, Iterable, List, Tuple\n",
    "\n",
    "import matplotlib.pyplot as plt\n",
    "import numpy as np\n",
    "\n",
    "import arrays\n",
    "import graphs\n",
    "import lists\n",
    "import mathematics\n",
    "import matrix\n",
    "import parsing\n",
    "import search\n",
    "import sequences\n",
    "import sets\n",
    "import strings\n",
    "import trees\n",
    "\n",
    "for m in (\n",
    "    arrays,\n",
    "    graphs,\n",
    "    lists,\n",
    "    mathematics,\n",
    "    matrix,\n",
    "    parsing,\n",
    "    search,\n",
    "    sequences,\n",
    "    sets,\n",
    "    strings,\n",
    "    trees,\n",
    "):\n",
    "    reload(m)\n",
    "\n",
    "\n",
    "from parsing import format_binop_expression, parse_binop_expression\n",
    "from sequences import find_if\n",
    "\n",
    "print()\n"
   ]
  },
  {
   "cell_type": "code",
   "execution_count": 45,
   "metadata": {},
   "outputs": [
    {
     "ename": "TypeError",
     "evalue": "'range' object cannot be interpreted as an integer",
     "output_type": "error",
     "traceback": [
      "\u001b[0;31m---------------------------------------------------------------------------\u001b[0m",
      "\u001b[0;31mTypeError\u001b[0m                                 Traceback (most recent call last)",
      "\u001b[1;32m/config/workspace/puzzles/notebook.ipynb Cell 2\u001b[0m line \u001b[0;36m1\n\u001b[0;32m----> <a href='vscode-notebook-cell://192.168.0.101:8443/config/workspace/puzzles/notebook.ipynb#X34sdnNjb2RlLXJlbW90ZQ%3D%3D?line=0'>1</a>\u001b[0m \u001b[39mlist\u001b[39m(combinations(\u001b[39m2\u001b[39;49m, \u001b[39mrange\u001b[39;49m(\u001b[39m3\u001b[39;49m)))\n",
      "\u001b[0;31mTypeError\u001b[0m: 'range' object cannot be interpreted as an integer"
     ]
    }
   ],
   "source": [
    "list(combinations())\n"
   ]
  },
  {
   "cell_type": "code",
   "execution_count": 60,
   "metadata": {},
   "outputs": [],
   "source": [
    "def enclosed_islands(grid: List[List[int]]) -> int:\n",
    "\n",
    "\n",
    "    n, m = len(grid), len(grid[0])\n",
    "\n",
    "    islands = [0, 0]  # index == 0 (empty), index == 1 (unexplored)\n",
    "    # safe grid access shortcut.\n",
    "    g = lambda x, y: 0 <= x < n and 0 <= y < m and grid[x][y]\n",
    "    # offset of adjacent points\n",
    "    adjacency = ((-1, 0), (0, -1), (1, 0), (0, 1))\n",
    "\n",
    "    def visit(x: int, y: int) -> int:\n",
    "        \"\"\"Visit the island at `(x, y)` and mark it with the island with a counter.\n",
    "        Return 0 if no new island has been discovered.\n",
    "        Return 1 if a new all water enclosed island has been discovered.\n",
    "        Return 2 if the island touches the edge.\"\"\"\n",
    "        if g(x, y) != 1:\n",
    "            return 0\n",
    "        # Mark the grid with the index of the island.\n",
    "        grid[x][y] = len(islands)\n",
    "        # Visit all the adjacent points.\n",
    "        closed = 1 if 1 <= x < n - 1 and 1 <= y < m - 1 else 2\n",
    "        return max(closed, max(visit(x + dx, y + dy) for dx, dy in adjacency))\n",
    "\n",
    "    # Find the islands on the grid and compute their size.\n",
    "    for x, y in product(range(n), range(m)):\n",
    "        closed = visit(x, y)\n",
    "        if closed:\n",
    "            islands.append(2 - closed)\n",
    "\n",
    "    return sum(islands)\n"
   ]
  },
  {
   "cell_type": "code",
   "execution_count": 61,
   "metadata": {},
   "outputs": [
    {
     "name": "stdout",
     "output_type": "stream",
     "text": [
      "[0, 0, 0, 1, 1, 0, 0, 0]\n"
     ]
    },
    {
     "data": {
      "text/plain": [
       "2"
      ]
     },
     "execution_count": 61,
     "metadata": {},
     "output_type": "execute_result"
    }
   ],
   "source": [
    "grid = [\n",
    "    [0, 0, 0, 0, 0, 0, 0, 1],\n",
    "    [0, 1, 1, 1, 1, 0, 0, 1],\n",
    "    [0, 1, 0, 1, 0, 0, 0, 1],\n",
    "    [0, 1, 1, 1, 1, 0, 1, 0],\n",
    "    [1, 0, 0, 0, 0, 1, 0, 1],\n",
    "]\n",
    "\n",
    "enclosed_islands(grid)\n"
   ]
  },
  {
   "cell_type": "code",
   "execution_count": 62,
   "metadata": {},
   "outputs": [
    {
     "name": "stdout",
     "output_type": "stream",
     "text": [
      "[[0, 0, 0, 0, 0, 0, 0, 2],\n",
      " [0, 3, 3, 3, 3, 0, 0, 2],\n",
      " [0, 3, 0, 3, 0, 0, 0, 2],\n",
      " [0, 3, 3, 3, 3, 0, 4, 0],\n",
      " [5, 0, 0, 0, 0, 6, 0, 7]]\n"
     ]
    }
   ],
   "source": [
    "pprint(grid)\n"
   ]
  },
  {
   "cell_type": "code",
   "execution_count": null,
   "metadata": {},
   "outputs": [],
   "source": []
  }
 ],
 "metadata": {
  "kernelspec": {
   "display_name": "Python 3",
   "language": "python",
   "name": "python3"
  },
  "language_info": {
   "codemirror_mode": {
    "name": "ipython",
    "version": 3
   },
   "file_extension": ".py",
   "mimetype": "text/x-python",
   "name": "python",
   "nbconvert_exporter": "python",
   "pygments_lexer": "ipython3",
   "version": "3.10.12"
  }
 },
 "nbformat": 4,
 "nbformat_minor": 2
}
