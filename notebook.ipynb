{
 "cells": [
  {
   "cell_type": "code",
   "execution_count": 208,
   "metadata": {},
   "outputs": [],
   "source": [
    "from typing import List\n",
    "from functools import lru_cache, reduce\n",
    "from itertools import chain, starmap, accumulate, takewhile\n",
    "\n",
    "import arrays\n",
    "from importlib import reload\n",
    "reload(arrays)\n",
    "import arrays as ar\n"
   ]
  },
  {
   "cell_type": "code",
   "execution_count": 218,
   "metadata": {},
   "outputs": [],
   "source": [
    "def max_histogram_rectangle(h: list) -> int:\n",
    "    s = []\n",
    "    def it(j, v):\n",
    "        while s and h[s[-1]] > v:\n",
    "            yield h[s.pop()] * ((j - s[-1] -1) if s else j)\n",
    "        s.append(j)\n",
    "    rect = lambda jv: reduce(max, it(*jv), 0)\n",
    "    return max(max(map(rect, enumerate(h))), rect((len(h), 0)))\n"
   ]
  },
  {
   "cell_type": "code",
   "execution_count": 219,
   "metadata": {},
   "outputs": [
    {
     "data": {
      "text/plain": [
       "12"
      ]
     },
     "execution_count": 219,
     "metadata": {},
     "output_type": "execute_result"
    }
   ],
   "source": [
    "max_histogram_rectangle([8, 6])\n"
   ]
  },
  {
   "cell_type": "code",
   "execution_count": null,
   "metadata": {},
   "outputs": [],
   "source": []
  }
 ],
 "metadata": {
  "kernelspec": {
   "display_name": "Python 3",
   "language": "python",
   "name": "python3"
  },
  "language_info": {
   "codemirror_mode": {
    "name": "ipython",
    "version": 3
   },
   "file_extension": ".py",
   "mimetype": "text/x-python",
   "name": "python",
   "nbconvert_exporter": "python",
   "pygments_lexer": "ipython3",
   "version": "3.10.12"
  }
 },
 "nbformat": 4,
 "nbformat_minor": 2
}
