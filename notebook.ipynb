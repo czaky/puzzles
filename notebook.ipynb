{
 "cells": [
  {
   "cell_type": "code",
   "execution_count": 2,
   "metadata": {},
   "outputs": [
    {
     "name": "stdout",
     "output_type": "stream",
     "text": [
      "\n"
     ]
    }
   ],
   "source": [
    "import math\n",
    "from pprint import pprint\n",
    "from math import log\n",
    "import numpy as np\n",
    "import sys\n",
    "from typing import List, Tuple, Callable, Iterable\n",
    "from functools import lru_cache, reduce, cmp_to_key\n",
    "from itertools import (\n",
    "    starmap,\n",
    "    accumulate,\n",
    "    chain,\n",
    "    islice,\n",
    "    product,\n",
    "    tee,\n",
    "    pairwise,\n",
    "    combinations,\n",
    ")\n",
    "from collections import Counter, deque\n",
    "from heapq import heapify, heappushpop, heappop, heappush\n",
    "from operator import add, neg, itemgetter\n",
    "from bisect import bisect_right\n",
    "import matplotlib.pyplot as plt\n",
    "\n",
    "import arrays\n",
    "import trees\n",
    "import lists\n",
    "import graphs\n",
    "import search\n",
    "import strings\n",
    "import matrix\n",
    "from importlib import reload\n",
    "\n",
    "reload(arrays)\n",
    "reload(trees)\n",
    "reload(lists)\n",
    "reload(graphs)\n",
    "reload(search)\n",
    "import arrays as ar\n",
    "import trees as tr\n",
    "import lists as ll\n",
    "import graphs as g\n",
    "import strings as s\n",
    "\n",
    "print()"
   ]
  },
  {
   "cell_type": "code",
   "execution_count": 3,
   "metadata": {},
   "outputs": [],
   "source": [
    "def second(seq):\n",
    "    return seq[1]\n",
    "\n",
    "\n",
    "def zero_sum_sub_array(a: List[int]) -> Tuple[int, int]:\n",
    "    \"Return the indexes of the longest sub-array of `a` which sums to zero.\"\n",
    "\n",
    "    # The idea is to compute an array of the accumulated values.\n",
    "    # If any accumulated value shows up in the array again, there is a zero sub-array.\n",
    "    # Store the accumulated values to prevent recomputation below.\n",
    "    acc = list(accumulate(a))\n",
    "\n",
    "    # Determine the first occurrence of the sum.\n",
    "    # Special care is given for an empty array with 0 having -1 as index.\n",
    "    occ = {0: -1}\n",
    "    for i, e in enumerate(acc):\n",
    "        occ.setdefault(e, i)\n",
    "    # Determine the longest span between this occurrence and the first one.\n",
    "    length, j = min(starmap(lambda j, e: (occ[e] - j, j), enumerate(acc)))\n",
    "    return j + 1 + length, j + 1\n",
    "\n",
    "\n",
    "def zero_sum_sub_matrix(m: List[List[int]]) -> List[List[int]]:\n",
    "    \"Return the largest sub-matrix of `m` that sums to zero.\"\n",
    "    # The idea is borrowed from the 2D Kadane's algorithm.\n",
    "    # We use top, bottom cutoff to accumulate the values for the columns into an array.\n",
    "    # Then we apply the `zero_sum_sub_array` above to determine the left and right brackets.\n",
    "    # Using top, bottom, left, and right we calculate the area,\n",
    "    # which is used to determine the largest matrix.\n",
    "    r, c = len(m), len(m[0])\n",
    "    mx = (0, 0, 0, 0, 0)\n",
    "    for top in range(r):\n",
    "        a = [0] * c\n",
    "        for bottom in range(top, r):\n",
    "            mb = m[bottom]\n",
    "            for k in range(c):\n",
    "                a[k] += mb[k]\n",
    "            left, right = zero_sum_sub_array(a)\n",
    "            area = (bottom + 1 - top) * (right - left)\n",
    "            x = (-area, left, right - left, top, bottom + 1)\n",
    "            mx = min(mx, x)\n",
    "\n",
    "    # `top` and `left` are inclusive, `bottom` and `right` are exclusive here.\n",
    "    (area, left, width, top, bottom) = mx\n",
    "    return [r[left : left + width] for r in m[top:bottom]] if area else []"
   ]
  },
  {
   "cell_type": "code",
   "execution_count": 4,
   "metadata": {},
   "outputs": [
    {
     "data": {
      "text/plain": [
       "[[1, 2, 3], [-3, -2, -1]]"
      ]
     },
     "execution_count": 4,
     "metadata": {},
     "output_type": "execute_result"
    }
   ],
   "source": [
    "zero_sum_sub_matrix([[1, 2, 3], [-3, -2, -1], [1, 7, 5]])"
   ]
  },
  {
   "cell_type": "code",
   "execution_count": 246,
   "metadata": {},
   "outputs": [
    {
     "data": {
      "text/plain": [
       "[[-6, -7], [8, 7], [-2, 0]]"
      ]
     },
     "execution_count": 246,
     "metadata": {},
     "output_type": "execute_result"
    }
   ],
   "source": [
    "zero_sum_sub_matrix([[9, 7, 16, 5], [1, -6, -7, 3], [1, 8, 7, 9], [7, -2, 0, 10]])"
   ]
  },
  {
   "cell_type": "code",
   "execution_count": 258,
   "metadata": {},
   "outputs": [
    {
     "name": "stdout",
     "output_type": "stream",
     "text": [
      "[[-4, 6, 6],\n",
      " [1, 7, 8],\n",
      " [0, -11, -6],\n",
      " [4, 5, -1],\n",
      " [10, -6, -7],\n",
      " [-9, -7, 0],\n",
      " [-7, 1, -2],\n",
      " [-9, 7, -2],\n",
      " [-6, -2, -8],\n",
      " [5, 5, 0],\n",
      " [1, 0, 6],\n",
      " [3, 1, 6],\n",
      " [-2, -6, -7],\n",
      " [-9, 4, 5],\n",
      " [7, -1, -3],\n",
      " [-2, -7, -11],\n",
      " [8, -11, -3],\n",
      " [-5, -4, 10],\n",
      " [1, 4, 7]]\n"
     ]
    }
   ],
   "source": [
    "m = matrix.make(\n",
    "    \"\"\"\\\n",
    "-4 6 6\n",
    "1 7 8\n",
    "0 -11 -6\n",
    "4 5 -1\n",
    "10 -6 -7\n",
    "-9 -7 0\n",
    "-7 1 -2\n",
    "-9 7 -2\n",
    "-6 -2 -8\n",
    "5 5 0\n",
    "1 0 6\n",
    "3 1 6\n",
    "-2 -6 -7\n",
    "-9 4 5\n",
    "7 -1 -3\n",
    "-2 -7 -11\n",
    "8 -11 -3\n",
    "-5 -4 10\n",
    "1 4 7\"\"\"\n",
    ")\n",
    "pprint(m)"
   ]
  },
  {
   "cell_type": "code",
   "execution_count": 278,
   "metadata": {},
   "outputs": [
    {
     "data": {
      "text/plain": [
       "[[-6, -2], [5, 5], [1, 0], [3, 1], [-2, -6], [-9, 4], [7, -1]]"
      ]
     },
     "execution_count": 278,
     "metadata": {},
     "output_type": "execute_result"
    }
   ],
   "source": [
    "zero_sum_sub_matrix(m)"
   ]
  },
  {
   "cell_type": "code",
   "execution_count": 265,
   "metadata": {},
   "outputs": [
    {
     "name": "stdout",
     "output_type": "stream",
     "text": [
      "[[-6, -2], [5, 5], [1, 0], [3, 1], [-2, -6], [-9, 4], [7, -1]]\n"
     ]
    }
   ],
   "source": [
    "m2 = matrix.make(\n",
    "    \"\"\"\\\n",
    "-6 -2\n",
    "5 5\n",
    "1 0\n",
    "3 1\n",
    "-2 -6\n",
    "-9 4\n",
    "7 -1\"\"\"\n",
    ")\n",
    "pprint(m2)"
   ]
  },
  {
   "cell_type": "code",
   "execution_count": 266,
   "metadata": {},
   "outputs": [
    {
     "data": {
      "text/plain": [
       "0"
      ]
     },
     "execution_count": 266,
     "metadata": {},
     "output_type": "execute_result"
    }
   ],
   "source": [
    "sum(sum(r) for r in m2)"
   ]
  },
  {
   "cell_type": "code",
   "execution_count": 268,
   "metadata": {},
   "outputs": [
    {
     "data": {
      "text/plain": [
       "(-14, 0, 2, 10, 20)"
      ]
     },
     "execution_count": 268,
     "metadata": {},
     "output_type": "execute_result"
    }
   ],
   "source": [
    "min((-14, 1, 2, 10, 20), (-14, 0, 2, 10, 20))"
   ]
  },
  {
   "cell_type": "code",
   "execution_count": null,
   "metadata": {},
   "outputs": [],
   "source": []
  }
 ],
 "metadata": {
  "kernelspec": {
   "display_name": "Python 3",
   "language": "python",
   "name": "python3"
  },
  "language_info": {
   "codemirror_mode": {
    "name": "ipython",
    "version": 3
   },
   "file_extension": ".py",
   "mimetype": "text/x-python",
   "name": "python",
   "nbconvert_exporter": "python",
   "pygments_lexer": "ipython3",
   "version": "3.10.12"
  }
 },
 "nbformat": 4,
 "nbformat_minor": 2
}
