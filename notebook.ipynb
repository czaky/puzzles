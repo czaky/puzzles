{
 "cells": [
  {
   "cell_type": "code",
   "execution_count": 1,
   "metadata": {},
   "outputs": [
    {
     "name": "stdout",
     "output_type": "stream",
     "text": [
      "\n"
     ]
    }
   ],
   "source": [
    "import math\n",
    "from typing import List\n",
    "from functools import lru_cache, reduce\n",
    "from itertools import starmap, accumulate\n",
    "from collections import Counter\n",
    "from heapq import heapify, heappushpop, heappop, heappush\n",
    "\n",
    "import arrays\n",
    "import trees\n",
    "from importlib import reload\n",
    "reload(arrays)\n",
    "reload(trees)\n",
    "import arrays as ar\n",
    "import trees as tr\n",
    "from trees import Node\n",
    "print()"
   ]
  },
  {
   "cell_type": "code",
   "execution_count": 8,
   "metadata": {},
   "outputs": [],
   "source": [
    "def boolean_parentheses(s: str):\n",
    "    M = {'&':[1,0], '|':[1,1], '^':[0,1] }\n",
    "    @lru_cache(None)\n",
    "    def sub(i, j):\n",
    "        if i == j - 1:\n",
    "            return int(s[i] == 'T'), int(s[i] == 'F')\n",
    "        t, f = 0, 0\n",
    "        for k in range(i+1, j-1, 2):\n",
    "            t1, f1  = sub(i, k)\n",
    "            t2, f2  = sub(k+1, j)\n",
    "            xor = t1 * f2 + f1 * t2\n",
    "            m = M[s[k]]\n",
    "            t +=   m[0] * t1*t2 +   m[1] * xor\n",
    "            f += (1-m[0])*t1*t2 + (1-m[1])*xor + f1*f2\n",
    "        return t, f\n",
    "    return sub(0, len(s))[0]"
   ]
  },
  {
   "cell_type": "code",
   "execution_count": 9,
   "metadata": {},
   "outputs": [
    {
     "data": {
      "text/plain": [
       "2"
      ]
     },
     "execution_count": 9,
     "metadata": {},
     "output_type": "execute_result"
    }
   ],
   "source": [
    "boolean_parentheses('T^F|F')"
   ]
  },
  {
   "cell_type": "code",
   "execution_count": null,
   "metadata": {},
   "outputs": [],
   "source": []
  }
 ],
 "metadata": {
  "kernelspec": {
   "display_name": "Python 3",
   "language": "python",
   "name": "python3"
  },
  "language_info": {
   "codemirror_mode": {
    "name": "ipython",
    "version": 3
   },
   "file_extension": ".py",
   "mimetype": "text/x-python",
   "name": "python",
   "nbconvert_exporter": "python",
   "pygments_lexer": "ipython3",
   "version": "3.10.12"
  }
 },
 "nbformat": 4,
 "nbformat_minor": 2
}
