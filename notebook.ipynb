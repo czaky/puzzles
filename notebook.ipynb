{
 "cells": [
  {
   "cell_type": "code",
   "execution_count": 32,
   "metadata": {},
   "outputs": [
    {
     "name": "stdout",
     "output_type": "stream",
     "text": [
      "\n"
     ]
    }
   ],
   "source": [
    "import math\n",
    "import sys\n",
    "from typing import List\n",
    "from functools import lru_cache, reduce, cmp_to_key\n",
    "from itertools import starmap, accumulate, chain, islice, product, tee, pairwise\n",
    "from collections import Counter, deque\n",
    "from heapq import heapify, heappushpop, heappop, heappush\n",
    "from operator import add, neg\n",
    "from bisect import bisect_right\n",
    "import matplotlib.pyplot as plt\n",
    "\n",
    "import arrays\n",
    "import trees\n",
    "from importlib import reload\n",
    "reload(arrays)\n",
    "reload(trees)\n",
    "import arrays as ar\n",
    "import trees as tr\n",
    "import lists as ls\n",
    "from lists import Node\n",
    "print()"
   ]
  },
  {
   "cell_type": "code",
   "execution_count": 50,
   "metadata": {},
   "outputs": [],
   "source": [
    "def queens_count(n: int) -> int:\n",
    "    if n <= 0:\n",
    "        return 0\n",
    "    solutions = 0\n",
    "    n4 = n * 4\n",
    "    def rec(r: int, invalid: int):\n",
    "        nonlocal solutions\n",
    "        place = 1 | 1 << (n+r) | 1 << (n4-r)\n",
    "        for _ in range(n):\n",
    "            if not invalid & place:\n",
    "                if r == 0:\n",
    "                    solutions += 1\n",
    "                    return\n",
    "                rec(r-1, invalid | place)\n",
    "            place <<= 1\n",
    "    rec(n-1, 0)\n",
    "    return solutions\n"
   ]
  },
  {
   "cell_type": "code",
   "execution_count": 149,
   "metadata": {},
   "outputs": [],
   "source": [
    "def next_smallest_palindrome_number(num: list) -> list:\n",
    "    n = len(num)\n",
    "    if n == 0:\n",
    "        return []\n",
    "    if all(d == 9 for d in num):\n",
    "        # 9..9 => 10..01\n",
    "        return [1] + ([0] * (n - 1)) + [1]\n",
    "\n",
    "    i, j = (n-1)//2, n//2\n",
    "    while i >= 0 and num[i] == num[j]:\n",
    "        i -= 1\n",
    "        j += 1\n",
    "    if i < 0:\n",
    "        # original is a palindrome\n",
    "        # look for the next one\n",
    "        i, j = 0, n-1\n",
    "        num[-1] += 1\n",
    "    if num[i] < num[j]:\n",
    "        # Cannot copy directly.\n",
    "        i, j = (n-1)//2, n//2\n",
    "        num[i] += 1\n",
    "    # Copy remaining digits.\n",
    "    while i >= 0:\n",
    "        if num[i] >= 10:\n",
    "            num[i] -= 10\n",
    "            num[i-1] += 1\n",
    "        num[j] = num[i]\n",
    "        i -= 1\n",
    "        j += 1\n",
    "    return num"
   ]
  },
  {
   "cell_type": "code",
   "execution_count": 150,
   "metadata": {},
   "outputs": [
    {
     "data": {
      "text/plain": [
       "[8]"
      ]
     },
     "execution_count": 150,
     "metadata": {},
     "output_type": "execute_result"
    }
   ],
   "source": [
    "next_smallest_palindrome_number([7])"
   ]
  },
  {
   "cell_type": "code",
   "execution_count": 141,
   "metadata": {},
   "outputs": [
    {
     "data": {
      "text/plain": [
       "[6, 6]"
      ]
     },
     "execution_count": 141,
     "metadata": {},
     "output_type": "execute_result"
    }
   ],
   "source": [
    "next_smallest_palindrome_number([6, 1])"
   ]
  },
  {
   "cell_type": "code",
   "execution_count": 142,
   "metadata": {},
   "outputs": [
    {
     "data": {
      "text/plain": [
       "[9, 4, 1, 8, 8, 0, 8, 8, 1, 4, 9]"
      ]
     },
     "execution_count": 142,
     "metadata": {},
     "output_type": "execute_result"
    }
   ],
   "source": [
    "next_smallest_palindrome_number([9, 4, 1, 8, 7, 9, 7, 8, 3, 2, 2])"
   ]
  },
  {
   "cell_type": "code",
   "execution_count": 152,
   "metadata": {},
   "outputs": [
    {
     "data": {
      "text/plain": [
       "[2, 3, 6, 3, 2]"
      ]
     },
     "execution_count": 152,
     "metadata": {},
     "output_type": "execute_result"
    }
   ],
   "source": [
    "next_smallest_palindrome_number([2, 3, 5, 4, 5])"
   ]
  },
  {
   "cell_type": "code",
   "execution_count": 151,
   "metadata": {},
   "outputs": [
    {
     "data": {
      "text/plain": [
       "[1, 0, 1]"
      ]
     },
     "execution_count": 151,
     "metadata": {},
     "output_type": "execute_result"
    }
   ],
   "source": [
    "next_smallest_palindrome_number([9, 9])"
   ]
  },
  {
   "cell_type": "code",
   "execution_count": 145,
   "metadata": {},
   "outputs": [
    {
     "data": {
      "text/plain": [
       "'615113362646498364289562339891196220022691198933265982463894646263311516'"
      ]
     },
     "execution_count": 145,
     "metadata": {},
     "output_type": "execute_result"
    }
   ],
   "source": [
    "input = list(map(int, '6 1 5 1 1 3 3 6 2 6 4 6 4 9 8 3 6 4 2 8 9 5 6 2 3 3 9 8 9 1 1 9 6 2 1 9 9 1 8 1 8 8 9 5 4 5 8 1 4 5 1 3 7 7 2 2 5 8 1 8 1 9 5 2 6 8 1 5 4 4 1 4'.split()))\n",
    "str(''.join(map(str,next_smallest_palindrome_number(input))))"
   ]
  },
  {
   "cell_type": "code",
   "execution_count": null,
   "metadata": {},
   "outputs": [],
   "source": []
  }
 ],
 "metadata": {
  "kernelspec": {
   "display_name": "Python 3",
   "language": "python",
   "name": "python3"
  },
  "language_info": {
   "codemirror_mode": {
    "name": "ipython",
    "version": 3
   },
   "file_extension": ".py",
   "mimetype": "text/x-python",
   "name": "python",
   "nbconvert_exporter": "python",
   "pygments_lexer": "ipython3",
   "version": "3.10.12"
  }
 },
 "nbformat": 4,
 "nbformat_minor": 2
}
