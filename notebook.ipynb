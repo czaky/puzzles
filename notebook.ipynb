{
 "cells": [
  {
   "cell_type": "code",
   "execution_count": 249,
   "metadata": {},
   "outputs": [
    {
     "name": "stdout",
     "output_type": "stream",
     "text": [
      "\n"
     ]
    }
   ],
   "source": [
    "import math\n",
    "from math import log\n",
    "import numpy as np\n",
    "import sys\n",
    "from typing import List, Tuple\n",
    "from functools import lru_cache, reduce, cmp_to_key\n",
    "from itertools import (\n",
    "    starmap,\n",
    "    accumulate,\n",
    "    chain,\n",
    "    islice,\n",
    "    product,\n",
    "    tee,\n",
    "    pairwise,\n",
    "    combinations,\n",
    ")\n",
    "from collections import Counter, deque\n",
    "from heapq import heapify, heappushpop, heappop, heappush\n",
    "from operator import add, neg\n",
    "from bisect import bisect_right\n",
    "import matplotlib.pyplot as plt\n",
    "\n",
    "import arrays\n",
    "import trees\n",
    "import lists\n",
    "import graphs\n",
    "import search\n",
    "import strings\n",
    "from importlib import reload\n",
    "\n",
    "reload(arrays)\n",
    "reload(trees)\n",
    "reload(lists)\n",
    "reload(graphs)\n",
    "reload(search)\n",
    "import arrays as ar\n",
    "import trees as tr\n",
    "import lists as ll\n",
    "import graphs as g\n",
    "import strings as s\n",
    "\n",
    "print()"
   ]
  },
  {
   "cell_type": "code",
   "execution_count": 253,
   "metadata": {},
   "outputs": [],
   "source": [
    "from trees import Node, TreeNode"
   ]
  },
  {
   "cell_type": "code",
   "execution_count": 254,
   "metadata": {},
   "outputs": [],
   "source": [
    "def update_height(n: Node):\n",
    "    n.height = 1 + max(n.left.height if n.left else 0, n.right.height if n.right else 0)\n",
    "\n",
    "\n",
    "def left_rotate(z):\n",
    "    y = z.right\n",
    "    z.right = y.left\n",
    "    y.left = z\n",
    "    update_height(z)\n",
    "    update_height(y)\n",
    "    return y\n",
    "\n",
    "\n",
    "def right_rotate(z):\n",
    "    y = z.left\n",
    "    z.left = y.right\n",
    "    y.right = z\n",
    "    update_height(z)\n",
    "    update_height(y)\n",
    "    return y"
   ]
  },
  {
   "cell_type": "code",
   "execution_count": 255,
   "metadata": {},
   "outputs": [],
   "source": [
    "def insert_node(n: Node, key: int):\n",
    "    if not n:\n",
    "        return TreeNode(key)\n",
    "    if key < n.data:\n",
    "        n.left = insert_node(n.left, key)\n",
    "    elif key > n.data:\n",
    "        n.right = insert_node(n.right, key)\n",
    "    else:\n",
    "        return n\n",
    "\n",
    "    update_height(n)\n",
    "    # Update the balance factor and balance the tree\n",
    "    lh = n.left.height if n.left else 0\n",
    "    rh = n.right.height if n.right else 0\n",
    "    bf = lh - rh\n",
    "    if bf > 1:\n",
    "        if key > n.left.data:\n",
    "            n.left = left_rotate(n.left)\n",
    "        return right_rotate(n)\n",
    "    if bf < -1:\n",
    "        if key < n.right.data:\n",
    "            n.right = right_rotate(n.right)\n",
    "        return left_rotate(n)\n",
    "\n",
    "    return n"
   ]
  },
  {
   "cell_type": "code",
   "execution_count": 273,
   "metadata": {},
   "outputs": [],
   "source": [
    "n = None\n",
    "for x in (1, 2, 3, 4, 5):\n",
    "    # print(f\"---- inserting {x} ----\")\n",
    "    n = insert_node(n, x)\n",
    "    # n.display()"
   ]
  },
  {
   "cell_type": "code",
   "execution_count": 274,
   "metadata": {},
   "outputs": [
    {
     "name": "stdout",
     "output_type": "stream",
     "text": [
      " 2_  \n",
      "/  \\ \n",
      "1  4 \n",
      "  / \\\n",
      "  3 5\n"
     ]
    }
   ],
   "source": [
    "n.display()"
   ]
  },
  {
   "cell_type": "code",
   "execution_count": 275,
   "metadata": {},
   "outputs": [
    {
     "data": {
      "text/plain": [
       "[1, 2, 3, 4, 5]"
      ]
     },
     "execution_count": 275,
     "metadata": {},
     "output_type": "execute_result"
    }
   ],
   "source": [
    "list(n.inorder())"
   ]
  },
  {
   "cell_type": "code",
   "execution_count": 276,
   "metadata": {},
   "outputs": [],
   "source": [
    "n = n.left_rotate()"
   ]
  },
  {
   "cell_type": "code",
   "execution_count": 277,
   "metadata": {},
   "outputs": [
    {
     "name": "stdout",
     "output_type": "stream",
     "text": [
      "  _4 \n",
      " /  \\\n",
      " 2  5\n",
      "/ \\  \n",
      "1 3  \n"
     ]
    }
   ],
   "source": [
    "n.display()"
   ]
  },
  {
   "cell_type": "code",
   "execution_count": 271,
   "metadata": {},
   "outputs": [
    {
     "data": {
      "text/plain": [
       "4"
      ]
     },
     "execution_count": 271,
     "metadata": {},
     "output_type": "execute_result"
    }
   ],
   "source": [
    "tr.height(n)"
   ]
  },
  {
   "cell_type": "code",
   "execution_count": 278,
   "metadata": {},
   "outputs": [
    {
     "data": {
      "text/plain": [
       "[4, 2, 5, 1, 3]"
      ]
     },
     "execution_count": 278,
     "metadata": {},
     "output_type": "execute_result"
    }
   ],
   "source": [
    "list(n)"
   ]
  },
  {
   "cell_type": "code",
   "execution_count": null,
   "metadata": {},
   "outputs": [],
   "source": []
  }
 ],
 "metadata": {
  "kernelspec": {
   "display_name": "Python 3",
   "language": "python",
   "name": "python3"
  },
  "language_info": {
   "codemirror_mode": {
    "name": "ipython",
    "version": 3
   },
   "file_extension": ".py",
   "mimetype": "text/x-python",
   "name": "python",
   "nbconvert_exporter": "python",
   "pygments_lexer": "ipython3",
   "version": "3.10.12"
  }
 },
 "nbformat": 4,
 "nbformat_minor": 2
}
