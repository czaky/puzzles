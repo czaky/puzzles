{
 "cells": [
  {
   "cell_type": "code",
   "execution_count": 1,
   "metadata": {},
   "outputs": [
    {
     "name": "stdout",
     "output_type": "stream",
     "text": [
      "\n"
     ]
    }
   ],
   "source": [
    "import math\n",
    "import numpy as np\n",
    "import sys\n",
    "from typing import List\n",
    "from functools import lru_cache, reduce, cmp_to_key\n",
    "from itertools import starmap, accumulate, chain, islice, product, tee, pairwise\n",
    "from collections import Counter, deque\n",
    "from heapq import heapify, heappushpop, heappop, heappush\n",
    "from operator import add, neg\n",
    "from bisect import bisect_right\n",
    "import matplotlib.pyplot as plt\n",
    "\n",
    "import arrays\n",
    "import trees\n",
    "import lists\n",
    "import graphs\n",
    "import search\n",
    "from importlib import reload\n",
    "reload(arrays)\n",
    "reload(trees)\n",
    "reload(lists)\n",
    "reload(graphs)\n",
    "reload(search)\n",
    "import arrays as ar\n",
    "import trees as tr\n",
    "import lists as ls\n",
    "import graphs as g\n",
    "from lists import Node\n",
    "print()"
   ]
  },
  {
   "cell_type": "code",
   "execution_count": 85,
   "metadata": {},
   "outputs": [],
   "source": [
    "def smaller_on_right_count(arr: list) -> list:\n",
    "    n = len(arr)\n",
    "    o = [0] * n\n",
    "    x = list(range(n))\n",
    "    t = x[:]\n",
    "\n",
    "    def merge(l, m, h):\n",
    "        k, i, j = l, l, m + 1\n",
    "        while i <= m and j <= h:\n",
    "            if arr[t[i]] > arr[t[j]]:\n",
    "                o[t[i]] += h - j + 1\n",
    "                x[k] = t[i]\n",
    "                i += 1\n",
    "            else:\n",
    "                x[k] = t[j]\n",
    "                j += 1\n",
    "            k += 1\n",
    "        x[k : h + 1] = i <= m and t[i : m + 1] or t[j : h + 1]\n",
    "        t[l : h + 1] = x[l: h + 1]\n",
    "\n",
    "    def split(i, j):\n",
    "        if i < j:\n",
    "            m = (i + j) // 2\n",
    "            split(i, m)\n",
    "            split(m + 1, j)\n",
    "            merge(i, m, j)\n",
    "\n",
    "    split(0, len(arr) - 1)\n",
    "\n",
    "    return o"
   ]
  },
  {
   "cell_type": "code",
   "execution_count": 86,
   "metadata": {},
   "outputs": [
    {
     "data": {
      "text/plain": [
       "[6, 1, 1, 1, 0, 1, 0]"
      ]
     },
     "execution_count": 86,
     "metadata": {},
     "output_type": "execute_result"
    }
   ],
   "source": [
    "smaller_on_right_count([12, 1, 2, 3, 0, 11, 4])"
   ]
  },
  {
   "cell_type": "code",
   "execution_count": null,
   "metadata": {},
   "outputs": [],
   "source": []
  }
 ],
 "metadata": {
  "kernelspec": {
   "display_name": "Python 3",
   "language": "python",
   "name": "python3"
  },
  "language_info": {
   "codemirror_mode": {
    "name": "ipython",
    "version": 3
   },
   "file_extension": ".py",
   "mimetype": "text/x-python",
   "name": "python",
   "nbconvert_exporter": "python",
   "pygments_lexer": "ipython3",
   "version": "3.10.12"
  }
 },
 "nbformat": 4,
 "nbformat_minor": 2
}
