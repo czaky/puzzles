{
 "cells": [
  {
   "cell_type": "code",
   "execution_count": 24,
   "metadata": {},
   "outputs": [
    {
     "name": "stdout",
     "output_type": "stream",
     "text": [
      "\n"
     ]
    }
   ],
   "source": [
    "import math\n",
    "from pprint import pprint\n",
    "from math import log, factorial\n",
    "import numpy as np\n",
    "import sys\n",
    "from typing import List, Tuple, Callable, Iterable\n",
    "from functools import lru_cache, reduce, cmp_to_key\n",
    "from itertools import (\n",
    "    starmap,\n",
    "    accumulate,\n",
    "    chain,\n",
    "    islice,\n",
    "    product,\n",
    "    tee,\n",
    "    pairwise,\n",
    "    combinations,\n",
    "    permutations,\n",
    ")\n",
    "from collections import Counter, deque\n",
    "from heapq import heapify, heappushpop, heappop, heappush\n",
    "from operator import add, neg, itemgetter, xor, and_, or_\n",
    "from bisect import bisect_right, bisect_left\n",
    "import matplotlib.pyplot as plt\n",
    "\n",
    "import arrays\n",
    "import trees\n",
    "import lists\n",
    "import graphs\n",
    "import search\n",
    "import strings\n",
    "import sets\n",
    "import matrix\n",
    "import mathematics\n",
    "from importlib import reload\n",
    "\n",
    "for m in (arrays, trees, lists, graphs, search, strings, sets, matrix, mathematics):\n",
    "    reload(m)\n",
    "\n",
    "import arrays as ar\n",
    "import trees as tr\n",
    "import lists as ll\n",
    "import graphs as g\n",
    "import strings as s\n",
    "import sets\n",
    "import matrix as mt\n",
    "import mathematics as m\n",
    "\n",
    "print()"
   ]
  },
  {
   "cell_type": "code",
   "execution_count": 35,
   "metadata": {},
   "outputs": [],
   "source": [
    "def powerset(iterable):\n",
    "    \"powerset([1,2,3]) → () (1,) (2,) (3,) (1,2) (1,3) (2,3) (1,2,3)\"\n",
    "    s = set(iterable)\n",
    "    for size in range(len(s)):\n",
    "        yield from map(set, combinations(s, size))\n",
    "    yield s"
   ]
  },
  {
   "cell_type": "code",
   "execution_count": 36,
   "metadata": {},
   "outputs": [
    {
     "data": {
      "text/plain": [
       "[set(), {0}, {1}, {2}, {0, 1}, {0, 2}, {1, 2}, {0, 1, 2}]"
      ]
     },
     "execution_count": 36,
     "metadata": {},
     "output_type": "execute_result"
    }
   ],
   "source": [
    "list(powerset(range(3)))"
   ]
  },
  {
   "cell_type": "code",
   "execution_count": 37,
   "metadata": {},
   "outputs": [],
   "source": [
    "def vertex_cover_optimal(edges: List[List[int]]) -> Tuple[int]:\n",
    "    \"Return the vertices of a minimal vertext cover.\"\n",
    "    esets = list(map(set, edges))\n",
    "    return next(s for s in powerset(set.union(*esets)) if all(e & s for e in esets))"
   ]
  },
  {
   "cell_type": "code",
   "execution_count": 38,
   "metadata": {},
   "outputs": [
    {
     "data": {
      "text/plain": [
       "{1, 2, 3}"
      ]
     },
     "execution_count": 38,
     "metadata": {},
     "output_type": "execute_result"
    }
   ],
   "source": [
    "vertex_cover_optimal([[1, 2], [4, 1], [2, 4], [3, 4], [5, 2], [1, 3]])"
   ]
  },
  {
   "cell_type": "code",
   "execution_count": 22,
   "metadata": {},
   "outputs": [
    {
     "data": {
      "text/plain": [
       "(1,)"
      ]
     },
     "execution_count": 22,
     "metadata": {},
     "output_type": "execute_result"
    }
   ],
   "source": [
    "vertex_cover_optimal([[1, 2]])"
   ]
  },
  {
   "cell_type": "code",
   "execution_count": 26,
   "metadata": {},
   "outputs": [
    {
     "ename": "TypeError",
     "evalue": "unsupported operand type(s) for &: 'set' and 'tuple'",
     "output_type": "error",
     "traceback": [
      "\u001b[0;31m---------------------------------------------------------------------------\u001b[0m",
      "\u001b[0;31mTypeError\u001b[0m                                 Traceback (most recent call last)",
      "\u001b[1;32m/config/workspace/puzzles/notebook.ipynb Cell 7\u001b[0m line \u001b[0;36m1\n\u001b[0;32m----> <a href='vscode-notebook-cell://localhost:9444/config/workspace/puzzles/notebook.ipynb#X15sdnNjb2RlLXJlbW90ZQ%3D%3D?line=0'>1</a>\u001b[0m and_(\u001b[39mset\u001b[39;49m([\u001b[39m1\u001b[39;49m, \u001b[39m2\u001b[39;49m]), (\u001b[39m2\u001b[39;49m, \u001b[39m3\u001b[39;49m))\n",
      "\u001b[0;31mTypeError\u001b[0m: unsupported operand type(s) for &: 'set' and 'tuple'"
     ]
    }
   ],
   "source": [
    "and_(set([1, 2]), (2, 3))"
   ]
  },
  {
   "cell_type": "code",
   "execution_count": null,
   "metadata": {},
   "outputs": [],
   "source": []
  }
 ],
 "metadata": {
  "kernelspec": {
   "display_name": "Python 3",
   "language": "python",
   "name": "python3"
  },
  "language_info": {
   "codemirror_mode": {
    "name": "ipython",
    "version": 3
   },
   "file_extension": ".py",
   "mimetype": "text/x-python",
   "name": "python",
   "nbconvert_exporter": "python",
   "pygments_lexer": "ipython3",
   "version": "3.10.12"
  }
 },
 "nbformat": 4,
 "nbformat_minor": 2
}
