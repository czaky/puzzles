{
 "cells": [
  {
   "cell_type": "code",
   "execution_count": 127,
   "metadata": {},
   "outputs": [
    {
     "name": "stdout",
     "output_type": "stream",
     "text": [
      "\n"
     ]
    }
   ],
   "source": [
    "import math\n",
    "from pprint import pprint\n",
    "from math import log\n",
    "import numpy as np\n",
    "import sys\n",
    "from typing import List, Tuple, Callable, Iterable\n",
    "from functools import lru_cache, reduce, cmp_to_key\n",
    "from itertools import (\n",
    "    starmap,\n",
    "    accumulate,\n",
    "    chain,\n",
    "    islice,\n",
    "    product,\n",
    "    tee,\n",
    "    pairwise,\n",
    "    combinations,\n",
    ")\n",
    "from collections import Counter, deque\n",
    "from heapq import heapify, heappushpop, heappop, heappush\n",
    "from operator import add, neg\n",
    "from bisect import bisect_right\n",
    "import matplotlib.pyplot as plt\n",
    "\n",
    "import arrays\n",
    "import trees\n",
    "import lists\n",
    "import graphs\n",
    "import search\n",
    "import strings\n",
    "from importlib import reload\n",
    "\n",
    "reload(arrays)\n",
    "reload(trees)\n",
    "reload(lists)\n",
    "reload(graphs)\n",
    "reload(search)\n",
    "import arrays as ar\n",
    "import trees as tr\n",
    "import lists as ll\n",
    "import graphs as g\n",
    "import strings as s\n",
    "\n",
    "print()"
   ]
  },
  {
   "cell_type": "code",
   "execution_count": 240,
   "metadata": {},
   "outputs": [],
   "source": [
    "ADJACENCY = ((-1, 0), (0, -1), (1, 0), (0, 1))\n",
    "\n",
    "\n",
    "def connect_islands(grid: List[List[int]]) -> int:\n",
    "    \"Return the size of the largest island that can be made with just one flip.\"\n",
    "    n = len(grid)\n",
    "    islands = [0, 0]\n",
    "    g = lambda x, y: 0 <= x < n and 0 <= y < n and grid[x][y]\n",
    "\n",
    "    def visit(x: int, y: int) -> int:\n",
    "        \"Visit the island at `(x, y)` and mark it with the island with a counter. Return size.\"\n",
    "        if g(x, y) != 1:\n",
    "            return 0\n",
    "        grid[x][y] = len(islands)\n",
    "        return 1 + sum(visit(x + dx, y + dy) for dx, dy in ADJACENCY)\n",
    "\n",
    "    # Find the islands on the grid and compute their size.\n",
    "    for x, y in product(range(n), repeat=2):\n",
    "        size = visit(x, y)\n",
    "        if size:\n",
    "            islands.append(size)\n",
    "\n",
    "    # For each empty cell on the grid determine the size\n",
    "    # of a new island if the cell is flipped to 1.\n",
    "    ms = 0\n",
    "    for x, y in product(range(n), repeat=2):\n",
    "        if grid[x][y] == 0:\n",
    "            adjacent = set(g(x + dx, y + dy) for dx, dy in ADJACENCY)\n",
    "            ms = max(ms, sum(islands[i] for i in adjacent if i) + 1)\n",
    "\n",
    "    return ms or n * n"
   ]
  },
  {
   "cell_type": "code",
   "execution_count": 245,
   "metadata": {},
   "outputs": [
    {
     "name": "stdout",
     "output_type": "stream",
     "text": [
      "[[1, 1, 1, 0, 1, 0],\n",
      " [1, 0, 1, 0, 0, 0],\n",
      " [0, 0, 1, 1, 0, 1],\n",
      " [1, 1, 0, 0, 0, 0],\n",
      " [0, 0, 1, 1, 1, 0],\n",
      " [1, 0, 1, 1, 0, 0],\n",
      " []]\n"
     ]
    }
   ],
   "source": [
    "mat = \"\"\"\\\n",
    "1 1 1 0 1 0\n",
    "1 0 1 0 0 0\n",
    "0 0 1 1 0 1\n",
    "1 1 0 0 0 0\n",
    "0 0 1 1 1 0\n",
    "1 0 1 1 0 0\n",
    "\"\"\"\n",
    "\n",
    "m = [list(map(int, l.split())) for l in mat.splitlines()]\n",
    "\n",
    "pprint(m)"
   ]
  },
  {
   "cell_type": "code",
   "execution_count": 242,
   "metadata": {},
   "outputs": [
    {
     "data": {
      "text/plain": [
       "15"
      ]
     },
     "execution_count": 242,
     "metadata": {},
     "output_type": "execute_result"
    }
   ],
   "source": [
    "connect_islands(m)"
   ]
  },
  {
   "cell_type": "code",
   "execution_count": 244,
   "metadata": {},
   "outputs": [
    {
     "data": {
      "text/plain": [
       "1"
      ]
     },
     "execution_count": 244,
     "metadata": {},
     "output_type": "execute_result"
    }
   ],
   "source": [
    "connect_islands([[0, 0], [0, 0]])"
   ]
  },
  {
   "cell_type": "code",
   "execution_count": null,
   "metadata": {},
   "outputs": [],
   "source": []
  },
  {
   "cell_type": "code",
   "execution_count": null,
   "metadata": {},
   "outputs": [],
   "source": []
  }
 ],
 "metadata": {
  "kernelspec": {
   "display_name": "Python 3",
   "language": "python",
   "name": "python3"
  },
  "language_info": {
   "codemirror_mode": {
    "name": "ipython",
    "version": 3
   },
   "file_extension": ".py",
   "mimetype": "text/x-python",
   "name": "python",
   "nbconvert_exporter": "python",
   "pygments_lexer": "ipython3",
   "version": "3.10.12"
  }
 },
 "nbformat": 4,
 "nbformat_minor": 2
}
