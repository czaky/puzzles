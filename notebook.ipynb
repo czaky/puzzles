{
 "cells": [
  {
   "cell_type": "code",
   "execution_count": 3,
   "metadata": {},
   "outputs": [
    {
     "name": "stdout",
     "output_type": "stream",
     "text": [
      "\n"
     ]
    }
   ],
   "source": [
    "import math\n",
    "from pprint import pprint\n",
    "from math import log, factorial\n",
    "import numpy as np\n",
    "import sys\n",
    "from typing import List, Tuple, Callable, Iterable\n",
    "from functools import lru_cache, reduce, cmp_to_key\n",
    "from itertools import (\n",
    "    starmap,\n",
    "    accumulate,\n",
    "    chain,\n",
    "    islice,\n",
    "    product,\n",
    "    tee,\n",
    "    pairwise,\n",
    "    combinations,\n",
    "    permutations,\n",
    ")\n",
    "from collections import Counter, deque\n",
    "from heapq import heapify, heappushpop, heappop, heappush\n",
    "from operator import add, neg, itemgetter, xor, and_, or_\n",
    "from bisect import bisect_right, bisect_left\n",
    "import matplotlib.pyplot as plt\n",
    "\n",
    "import arrays\n",
    "import trees\n",
    "import lists\n",
    "import graphs\n",
    "import search\n",
    "import strings\n",
    "import sets\n",
    "import matrix\n",
    "import mathematics\n",
    "import sequences\n",
    "from importlib import reload\n",
    "\n",
    "for m in (\n",
    "    arrays,\n",
    "    trees,\n",
    "    lists,\n",
    "    graphs,\n",
    "    search,\n",
    "    strings,\n",
    "    sets,\n",
    "    sequences,\n",
    "    matrix,\n",
    "    mathematics,\n",
    "):\n",
    "    reload(m)\n",
    "\n",
    "import arrays as ar\n",
    "import trees as tr\n",
    "import lists as ll\n",
    "import graphs as g\n",
    "import strings as s\n",
    "import sets\n",
    "import matrix as mt\n",
    "import mathematics as m\n",
    "from sequences import find_if\n",
    "\n",
    "print()"
   ]
  },
  {
   "cell_type": "code",
   "execution_count": 79,
   "metadata": {},
   "outputs": [],
   "source": [
    "def smaller_on_right_count(a: list) -> int:\n",
    "    \"Return a list counting elements smaller that each element in `a`.\"\n",
    "    # This uses merge-sort count inversion to count the unsorted elements.\n",
    "\n",
    "    t = a[:]\n",
    "\n",
    "    def merge(l, m, h) -> int:\n",
    "        o = 0\n",
    "        # k - number of sorted entries.\n",
    "        # i - index into the first half.\n",
    "        # j - index into the second half (m + 1).\n",
    "        k, i, j = l, l, m + 1\n",
    "        # Iterate through both halves.\n",
    "        while i <= m and j <= h:\n",
    "            # The elements in both halves are sorted in reverse order.\n",
    "            # IF element on the left is larger than on the right,\n",
    "            if t[i] > t[j]:\n",
    "                # then remaining elements in the right half are smaller\n",
    "                # than `arr[t[i]]` as well and the number of unsorted elements\n",
    "                # is the number of remaining elements on the right.\n",
    "                o += h - j + 1\n",
    "                # Keep track of sorted indexes.\n",
    "                a[k] = t[i]\n",
    "                i += 1\n",
    "            else:\n",
    "                # Keep track of sorted indexes.\n",
    "                a[k] = t[j]\n",
    "                j += 1\n",
    "            k += 1\n",
    "        # Fill the rest of the `x` array.\n",
    "        # If i <= m, all remaining elements on the left are smaller\n",
    "        # and all the elements on the right were sorted into `x`.\n",
    "        # Otherwise, left was sorted into `x` and all the remaining\n",
    "        # elements from the right are smaller than the rest.\n",
    "        a[k : h + 1] = t[i : m + 1] if i <= m else t[j : h + 1]\n",
    "        # Copy over this part into the temporary array.\n",
    "        t[l : h + 1] = a[l : h + 1]\n",
    "        return o\n",
    "\n",
    "    def split(i, j) -> int:\n",
    "        if i < j:\n",
    "            m = (i + j) // 2\n",
    "            return split(i, m) + split(m + 1, j) + merge(i, m, j)\n",
    "        return 0\n",
    "\n",
    "    return split(0, len(a) - 1)"
   ]
  },
  {
   "cell_type": "code",
   "execution_count": 80,
   "metadata": {},
   "outputs": [],
   "source": [
    "def count_pairs(a: List[int]):\n",
    "    return smaller_on_right_count([i * x for i, x in enumerate(a)])"
   ]
  },
  {
   "cell_type": "code",
   "execution_count": 81,
   "metadata": {},
   "outputs": [
    {
     "data": {
      "text/plain": [
       "2"
      ]
     },
     "execution_count": 81,
     "metadata": {},
     "output_type": "execute_result"
    }
   ],
   "source": [
    "count_pairs([8, 4, 2, 1])"
   ]
  },
  {
   "cell_type": "code",
   "execution_count": 82,
   "metadata": {},
   "outputs": [
    {
     "data": {
      "text/plain": [
       "5"
      ]
     },
     "execution_count": 82,
     "metadata": {},
     "output_type": "execute_result"
    }
   ],
   "source": [
    "count_pairs([5, 0, 10, 2, 4, 1, 6])"
   ]
  },
  {
   "cell_type": "code",
   "execution_count": 78,
   "metadata": {},
   "outputs": [
    {
     "data": {
      "text/plain": [
       "5"
      ]
     },
     "execution_count": 78,
     "metadata": {},
     "output_type": "execute_result"
    }
   ],
   "source": [
    "count_pairs([4, 10, 15, 4, 17, 14, 7, 7, 15])"
   ]
  },
  {
   "cell_type": "code",
   "execution_count": null,
   "metadata": {},
   "outputs": [],
   "source": []
  }
 ],
 "metadata": {
  "kernelspec": {
   "display_name": "Python 3",
   "language": "python",
   "name": "python3"
  },
  "language_info": {
   "codemirror_mode": {
    "name": "ipython",
    "version": 3
   },
   "file_extension": ".py",
   "mimetype": "text/x-python",
   "name": "python",
   "nbconvert_exporter": "python",
   "pygments_lexer": "ipython3",
   "version": "3.10.12"
  }
 },
 "nbformat": 4,
 "nbformat_minor": 2
}
