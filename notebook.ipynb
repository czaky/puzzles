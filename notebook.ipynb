{
 "cells": [
  {
   "cell_type": "code",
   "execution_count": 30,
   "metadata": {},
   "outputs": [
    {
     "name": "stdout",
     "output_type": "stream",
     "text": [
      "\n"
     ]
    }
   ],
   "source": [
    "# ruff: noqa: F401, E402\n",
    "import math\n",
    "import sys\n",
    "from bisect import bisect_left, bisect_right\n",
    "from collections import Counter, deque\n",
    "from functools import cmp_to_key, lru_cache, reduce\n",
    "from heapq import heapify, heappop, heappush, heappushpop, nsmallest\n",
    "from importlib import reload\n",
    "from itertools import (\n",
    "    accumulate,\n",
    "    chain,\n",
    "    combinations,\n",
    "    islice,\n",
    "    pairwise,\n",
    "    permutations,\n",
    "    product,\n",
    "    starmap,\n",
    "    tee,\n",
    ")\n",
    "from math import comb, factorial, log, sqrt\n",
    "from operator import add, and_, contains, indexOf, itemgetter, neg, or_, xor\n",
    "from pprint import pprint\n",
    "from typing import Callable, Iterable, List, Tuple\n",
    "\n",
    "import matplotlib.pyplot as plt\n",
    "import numpy as np\n",
    "\n",
    "import arrays\n",
    "import graphs\n",
    "import lists\n",
    "import mathematics\n",
    "import matrix\n",
    "import parsing\n",
    "import search\n",
    "import sequences\n",
    "import sets\n",
    "import strings\n",
    "import trees\n",
    "\n",
    "for m in (\n",
    "    arrays,\n",
    "    graphs,\n",
    "    lists,\n",
    "    mathematics,\n",
    "    matrix,\n",
    "    parsing,\n",
    "    search,\n",
    "    sequences,\n",
    "    sets,\n",
    "    strings,\n",
    "    trees,\n",
    "):\n",
    "    reload(m)\n",
    "\n",
    "\n",
    "from parsing import format_binop_expression, parse_binop_expression\n",
    "from sequences import find_if\n",
    "\n",
    "print()\n"
   ]
  },
  {
   "cell_type": "code",
   "execution_count": 356,
   "metadata": {},
   "outputs": [],
   "source": [
    "def distinct_palindrome_substrings(s: str) -> int:\n",
    "    \"Return the count of distinct palindromes within `s`.\"\n",
    "    n = len(s)\n",
    "\n",
    "    def expand(i, m, j, p):\n",
    "        m = j\n",
    "        while 0 <= i and j < n and s[i] == s[j]:\n",
    "            p.add(s[i : j + 1])\n",
    "            i, j = i - 1, j + 1\n",
    "\n",
    "    p1, p2 = set(), set()\n",
    "    for i in range(n):\n",
    "        expand(i, i + 1, i + 1, p1)\n",
    "        expand(i, i + 2, i + 2, p2)\n",
    "    print(p1)\n",
    "    print(p2)\n",
    "    return len(set(iter(s))) + len(p1) + len(p2)\n"
   ]
  },
  {
   "cell_type": "code",
   "execution_count": 391,
   "metadata": {},
   "outputs": [],
   "source": [
    "def distinct_palindrome_substrings(s: str) -> int:\n",
    "    \"Return the count of distinct palindromes within `s`.\"\n",
    "    # Uses Manacher's algorithm.\n",
    "    # Runs in O(N*N) :\n",
    "    #   O(N) for the Manacher's algorithm.\n",
    "    #   O(N) for cutting the string into pieces and a hash-set operation.\n",
    "    n = len(s) * 2\n",
    "    if n == 0:\n",
    "        return 0\n",
    "    pals = set()\n",
    "    lps = [0] * n\n",
    "    lps[1] = 1  # size of the first palindrome\n",
    "    c = 1  # center of the outer palindrome (in s*2)\n",
    "    r = 2  # right border of the outer palindrome (in s*2)\n",
    "    for i in range(2, n):\n",
    "        # Use the mirror length if `i` is between `c` and `r`.\n",
    "        l = int(i < r and min(lps[2 * c - i], r - i))\n",
    "        # Try to expand the length (skip filler chars).\n",
    "        l += (i + l) % 2 + 1\n",
    "        a, b = (i - l) // 2, (i + l) // 2\n",
    "        while 0 <= a and b < len(s) and s[a] == s[b]:\n",
    "            pals.add(s[a : b + 1])\n",
    "            a, b = a - 1, b + 1\n",
    "        # Store the value.\n",
    "        l = lps[i] = b - a - 1\n",
    "        # If the current palindrome expanded beyond the\n",
    "        # previous one, replace the old by this one.\n",
    "        if i + l > r:\n",
    "            c = i\n",
    "            r = i + l\n",
    "    print(lps)\n",
    "    print(pals)\n",
    "    return len(pals) + len(set(iter(s)))\n"
   ]
  },
  {
   "cell_type": "code",
   "execution_count": 392,
   "metadata": {},
   "outputs": [
    {
     "name": "stdout",
     "output_type": "stream",
     "text": [
      "[0, 1, 0, 3, 0, 1, 2, 3, 4, 7, 4, 3, 2, 1, 0, 1, 4, 1, 0, 1]\n",
      "{'aaaaa', 'aaaa', 'baaaaab', 'aa', 'abba', 'bb', 'aaa', 'aba'}\n"
     ]
    },
    {
     "data": {
      "text/plain": [
       "10"
      ]
     },
     "execution_count": 392,
     "metadata": {},
     "output_type": "execute_result"
    }
   ],
   "source": [
    "distinct_palindrome_substrings(\"abaaaaabba\")\n"
   ]
  },
  {
   "cell_type": "code",
   "execution_count": 387,
   "metadata": {},
   "outputs": [
    {
     "name": "stdout",
     "output_type": "stream",
     "text": [
      "[0, 1, 0, 3, 0, 1, 2, 3, 4, 7, 4, 3, 2, 1, 0, 1, 4, 1, 0, 1]\n",
      "{'aaaaa', 'aaaa', 'baaaaab', 'aa', 'abba', 'bb', 'aaa', 'aba'}\n"
     ]
    },
    {
     "data": {
      "text/plain": [
       "10"
      ]
     },
     "execution_count": 387,
     "metadata": {},
     "output_type": "execute_result"
    }
   ],
   "source": [
    "distinct_palindrome_substrings(\"abaaaaabba\")\n"
   ]
  },
  {
   "cell_type": "code",
   "execution_count": 388,
   "metadata": {},
   "outputs": [
    {
     "name": "stdout",
     "output_type": "stream",
     "text": [
      "[0, 1, 0, 1, 0, 5, 0, 1, 0, 9, 0, 1, 0, 9, 0, 1, 0, 5, 0, 1, 0, 1, 10, 1, 0, 1, 0, 9, 0, 1, 0, 1, 4, 1, 0, 1]\n",
      "{'gdcdgdcdg', 'dcd', 'ggdcdgg', 'dggdcdggd', 'dggd', 'cdgdcdgdc', 'cdgdc', 'dgdcdgd', 'dcdggdcd', 'gg', 'dgd', 'gdcdg', 'gdcdggdcdg', 'cdggdc', 'dcdgdcd'}\n"
     ]
    },
    {
     "data": {
      "text/plain": [
       "18"
      ]
     },
     "execution_count": 388,
     "metadata": {},
     "output_type": "execute_result"
    }
   ],
   "source": [
    "distinct_palindrome_substrings(\"cdgdcdgdcdggdcdggd\")\n"
   ]
  },
  {
   "cell_type": "code",
   "execution_count": 389,
   "metadata": {},
   "outputs": [
    {
     "name": "stdout",
     "output_type": "stream",
     "text": [
      "[0, 1, 0, 1, 0, 1, 0, 1, 0, 1, 0, 1, 0, 1, 0, 1, 0, 3, 0, 3, 0, 1, 0, 1, 0, 1, 0, 1, 0, 1, 0, 1, 0, 1, 0, 1, 0, 1, 0, 1, 0, 1, 0, 1, 0, 1, 0, 1, 0, 1, 0, 1, 0, 1, 0, 1, 0, 1, 0, 1, 0, 1, 0, 1, 0, 1, 0, 1, 0, 1, 0, 1, 0, 1, 0, 1, 0, 3, 0, 1, 0, 1, 0, 1, 0, 1]\n",
      "{'eve', 'lyl', 'yly'}\n"
     ]
    },
    {
     "data": {
      "text/plain": [
       "26"
      ]
     },
     "execution_count": 389,
     "metadata": {},
     "output_type": "execute_result"
    }
   ],
   "source": [
    "distinct_palindrome_substrings(\"mdnvznwlylygvstwarpibrfgvdhkdcrlmfgqweveqyo\")\n"
   ]
  },
  {
   "cell_type": "code",
   "execution_count": null,
   "metadata": {},
   "outputs": [],
   "source": []
  }
 ],
 "metadata": {
  "kernelspec": {
   "display_name": "Python 3",
   "language": "python",
   "name": "python3"
  },
  "language_info": {
   "codemirror_mode": {
    "name": "ipython",
    "version": 3
   },
   "file_extension": ".py",
   "mimetype": "text/x-python",
   "name": "python",
   "nbconvert_exporter": "python",
   "pygments_lexer": "ipython3",
   "version": "3.10.12"
  }
 },
 "nbformat": 4,
 "nbformat_minor": 2
}
