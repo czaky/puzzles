{
 "cells": [
  {
   "cell_type": "code",
   "execution_count": 196,
   "metadata": {},
   "outputs": [
    {
     "name": "stdout",
     "output_type": "stream",
     "text": [
      "\n"
     ]
    }
   ],
   "source": [
    "import math\n",
    "from pprint import pprint\n",
    "from math import log, factorial\n",
    "import numpy as np\n",
    "import sys\n",
    "from typing import List, Tuple, Callable, Iterable\n",
    "from functools import lru_cache, reduce, cmp_to_key\n",
    "from itertools import (\n",
    "    starmap,\n",
    "    accumulate,\n",
    "    chain,\n",
    "    islice,\n",
    "    product,\n",
    "    tee,\n",
    "    pairwise,\n",
    "    combinations,\n",
    "    permutations,\n",
    ")\n",
    "from collections import Counter, deque\n",
    "from heapq import heapify, heappushpop, heappop, heappush\n",
    "from operator import add, neg, itemgetter, xor\n",
    "from bisect import bisect_right, bisect_left\n",
    "import matplotlib.pyplot as plt\n",
    "\n",
    "import arrays\n",
    "import trees\n",
    "import lists\n",
    "import graphs\n",
    "import search\n",
    "import strings\n",
    "import sets\n",
    "import matrix\n",
    "import mathematics\n",
    "from importlib import reload\n",
    "\n",
    "for m in (arrays, trees, lists, graphs, search, strings, sets, matrix, mathematics):\n",
    "    reload(m)\n",
    "\n",
    "import arrays as ar\n",
    "import trees as tr\n",
    "import lists as ll\n",
    "import graphs as g\n",
    "import strings as s\n",
    "import sets\n",
    "import matrix as mt\n",
    "import mathematics as m\n",
    "\n",
    "print()"
   ]
  },
  {
   "cell_type": "code",
   "execution_count": 216,
   "metadata": {},
   "outputs": [],
   "source": [
    "def smallest_intersecting_range(arrays: List[List[int]]) -> Tuple[int, int]:\n",
    "    \"Return the smallest range that intersects the sorted `arrays`.\"\n",
    "    # The idea is to keep track of numbers from the `arrays` on the heap,\n",
    "    # always increasing the lowest number with the next on the same array.\n",
    "    # This approach tries to minimize the span of numbers on the heap.\n",
    "    # The heap then always has the `min` and `max` values so far, which\n",
    "    # allow us to determine the running smallest range.\n",
    "\n",
    "    # Start with the lowest number in each array.\n",
    "    h = [(a[0], a, int(1)) for a in arrays]\n",
    "    heapify(h)  # make a min-heap out of the values\n",
    "\n",
    "    # The minimum is always h[0], but we need to track the heap max.\n",
    "    h_min, a, c = heappop(h)  # heap-minimum, array, next column\n",
    "    h_max = max(h)[0]  # max value on the heap, so far\n",
    "    # The range is stored as `(<length>, <start>)`,\n",
    "    # which allows to easily run `min` on it.\n",
    "    min_range = (h_max - h_min, h_min)  # minimum range, so far\n",
    "\n",
    "    # Once we cannot add any more numbers from an array,\n",
    "    # we abort, since otherwise the range would not include\n",
    "    # numbers from that particular array and would be incorrect.\n",
    "    while c < len(a):\n",
    "        # `c` points to the next column.\n",
    "        h_max = max(h_max, a[c])\n",
    "        h_min, a, c = heappushpop(h, (a[c], a, c + 1))\n",
    "        min_range = min(min_range, (h_max - h_min, h_min))\n",
    "\n",
    "    return min_range[1], sum(min_range)"
   ]
  },
  {
   "cell_type": "code",
   "execution_count": 219,
   "metadata": {},
   "outputs": [
    {
     "data": {
      "text/plain": [
       "(5, 8)"
      ]
     },
     "execution_count": 219,
     "metadata": {},
     "output_type": "execute_result"
    }
   ],
   "source": [
    "smallest_intersecting_range([[1, 3, 5], [7, 8, 9], [2, 4, 6], [2, 3, 8], [5, 7, 11]])"
   ]
  },
  {
   "cell_type": "code",
   "execution_count": 220,
   "metadata": {},
   "outputs": [
    {
     "data": {
      "text/plain": [
       "(1, 2)"
      ]
     },
     "execution_count": 220,
     "metadata": {},
     "output_type": "execute_result"
    }
   ],
   "source": [
    "smallest_intersecting_range([[1, 3, 5, 7, 9], [0, 2, 4, 6, 8], [2, 3, 5, 7, 11]])"
   ]
  },
  {
   "cell_type": "code",
   "execution_count": null,
   "metadata": {},
   "outputs": [],
   "source": []
  }
 ],
 "metadata": {
  "kernelspec": {
   "display_name": "Python 3",
   "language": "python",
   "name": "python3"
  },
  "language_info": {
   "codemirror_mode": {
    "name": "ipython",
    "version": 3
   },
   "file_extension": ".py",
   "mimetype": "text/x-python",
   "name": "python",
   "nbconvert_exporter": "python",
   "pygments_lexer": "ipython3",
   "version": "3.10.12"
  }
 },
 "nbformat": 4,
 "nbformat_minor": 2
}
