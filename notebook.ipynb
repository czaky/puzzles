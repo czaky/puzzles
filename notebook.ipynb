{
 "cells": [
  {
   "cell_type": "code",
   "execution_count": 1,
   "metadata": {},
   "outputs": [
    {
     "name": "stdout",
     "output_type": "stream",
     "text": [
      "\n"
     ]
    }
   ],
   "source": [
    "import math\n",
    "from pprint import pprint\n",
    "from math import log, factorial, sqrt, comb\n",
    "import numpy as np\n",
    "import sys\n",
    "from typing import List, Tuple, Callable, Iterable\n",
    "from functools import lru_cache, reduce, cmp_to_key\n",
    "from itertools import (\n",
    "    starmap,\n",
    "    accumulate,\n",
    "    chain,\n",
    "    islice,\n",
    "    product,\n",
    "    tee,\n",
    "    pairwise,\n",
    "    combinations,\n",
    "    permutations,\n",
    ")\n",
    "from collections import Counter, deque\n",
    "from heapq import heapify, heappushpop, heappop, heappush\n",
    "from operator import add, neg, itemgetter, xor, and_, or_, indexOf, contains\n",
    "from bisect import bisect_right, bisect_left\n",
    "import matplotlib.pyplot as plt\n",
    "\n",
    "import arrays\n",
    "import trees\n",
    "import lists\n",
    "import graphs\n",
    "import search\n",
    "import strings\n",
    "import sets\n",
    "import matrix\n",
    "import mathematics\n",
    "import sequences\n",
    "from importlib import reload\n",
    "\n",
    "for m in (\n",
    "    arrays,\n",
    "    trees,\n",
    "    lists,\n",
    "    graphs,\n",
    "    search,\n",
    "    strings,\n",
    "    sets,\n",
    "    sequences,\n",
    "    matrix,\n",
    "    mathematics,\n",
    "):\n",
    "    reload(m)\n",
    "\n",
    "import arrays as ar\n",
    "import trees as tr\n",
    "import lists as ll\n",
    "import graphs as g\n",
    "import strings as s\n",
    "import sets\n",
    "import matrix as mt\n",
    "import mathematics as m\n",
    "from sequences import find_if\n",
    "\n",
    "print()"
   ]
  },
  {
   "cell_type": "code",
   "execution_count": 4,
   "metadata": {},
   "outputs": [],
   "source": [
    "def serialize_in_order(n, lr: str = \"()\") -> str:\n",
    "    \"Return a DFS, in-order string representation using brackets.\"\n",
    "    lb, rb = lr\n",
    "    # Iterative implementation using a stack.\n",
    "    s = []\n",
    "    v = []\n",
    "    while s or n:\n",
    "        # Descend left from node.\n",
    "        while n:\n",
    "            s.append(n)\n",
    "            s.append(n)\n",
    "            n = n.left\n",
    "        n = s.pop()\n",
    "        if s and s[-1] == n:\n",
    "            n = n.right\n",
    "        else:\n",
    "            lv = v.pop() if n.left else lr\n",
    "            rv = v.pop() if n.right else lr\n",
    "            if lv or rv:\n",
    "                v.append(f\"{lb}{lv} {str(n.data)} {rv}{rb}\")\n",
    "            else:\n",
    "                v.append(str(n.data))\n",
    "        print(f\"{n.data if n else '_'}: {s}, {v}\")\n",
    "    return v[0]"
   ]
  },
  {
   "cell_type": "code",
   "execution_count": 3,
   "metadata": {},
   "outputs": [
    {
     "name": "stdout",
     "output_type": "stream",
     "text": [
      " _1 \n",
      "/  \\\n",
      "2  4\n",
      " \\  \n",
      " 3  \n"
     ]
    }
   ],
   "source": [
    "t = tr.make(\"1 2 4 N 3\")\n",
    "t.display()\n",
    "# print(f\"ino: {serialize_in_order(t)}\")"
   ]
  },
  {
   "cell_type": "code",
   "execution_count": null,
   "metadata": {},
   "outputs": [],
   "source": []
  },
  {
   "cell_type": "code",
   "execution_count": 148,
   "metadata": {},
   "outputs": [],
   "source": [
    "def parse_arithmetic_expression(tokens: list) -> tuple:\n",
    "    \"\"\"Parses an arithmetic expression consisting of literals and operators from '+-*/()'.\n",
    "\n",
    "    The parsed expression is represented as tripples of the form:\n",
    "        (<operator>, <arg1>, <arg2>)\n",
    "\n",
    "    Parameters:\n",
    "        tokens (list): tokenized expression consisting of operators '+-*/()' and literals.\n",
    "\n",
    "    Returns:\n",
    "        tuple: the root of the parsed expression as (<operator>, <arg1>, <arg2>)\n",
    "    \"\"\"\n",
    "    # The implementation here avoids recursion and uses two stacks\n",
    "    # similar to the  Dijkstra's Shunting Yard algorithm.\n",
    "\n",
    "    # Stores the arguments and successive parsed results of the expression.\n",
    "    args = []\n",
    "    # Stores the operators seen so far.\n",
    "    # The ops arrays should contains \"+-(\" and at most one of \"*/\".\n",
    "    # Note that we start with an implicit bracket.\n",
    "    ops = [\"(\"]\n",
    "\n",
    "    def close_bracket():\n",
    "        # This is called when we close and process a (bracketed) sub-expression\n",
    "        #\n",
    "        # The remaining operators here are \"+-\".\n",
    "        # The idea is to first reverse the operators and their arguments.\n",
    "        rargs = [args.pop()]\n",
    "        rops = []\n",
    "        while ops[-1] in \"+-\":\n",
    "            rargs.append(args.pop())\n",
    "            rops.append(ops.pop())\n",
    "        # We should have arrived at the opening bracket.\n",
    "        assert ops.pop() == \"(\"\n",
    "        # Apply the operators (in reversed order) to form the expressions.\n",
    "        while rops:\n",
    "            rargs.append((rops.pop(), rargs.pop(), rargs.pop()))\n",
    "        # The final expression is moved back onto the stack.\n",
    "        args.append(rargs.pop())\n",
    "\n",
    "    for t in tokens:\n",
    "        # Push all operators onto the `ops` stack\n",
    "        # except for the closing bracket.\n",
    "        if t in \"*/+-(\":\n",
    "            ops.append(t)\n",
    "            continue\n",
    "\n",
    "        if t == \")\":\n",
    "            # Closing bracket forms on new expression on the args stack.\n",
    "            close_bracket()\n",
    "        else:\n",
    "            # Push remaining args onto the stack.\n",
    "            args.append(t)\n",
    "\n",
    "        # Given a new expression on the stack from above,\n",
    "        # we can now form any \"*/\" expressions if possible.\n",
    "        # This removes all the \"*/\" expressions from the ops stack.\n",
    "        while ops[-1] in \"*/\":\n",
    "            b, a = args.pop(), args.pop()\n",
    "            args.append((ops.pop(), a, b))\n",
    "\n",
    "    # Finally, we close the first implicit bracket.\n",
    "    close_bracket()\n",
    "    # And return the remaining only expression on the args stack.\n",
    "    assert len(args) == 1\n",
    "    return args[0]"
   ]
  },
  {
   "cell_type": "code",
   "execution_count": null,
   "metadata": {},
   "outputs": [],
   "source": [
    "def format_binary_operator_expression(e) -> str:\n",
    "    \"Format expressions consisting of (<operator>, <arg1>, <arg2>).\"\n",
    "    # This is a basic depth first algorithm.\n",
    "    o = \"\"\n",
    "\n",
    "    def dfs(c):\n",
    "        s = []\n",
    "        while s or c:\n",
    "            while c:\n",
    "                s.append(c)\n",
    "                c = type(c) != str and c[1]\n",
    "            c = s.pop()\n",
    "            yield c\n",
    "            c = type(c) != str and c[2]\n",
    "\n",
    "    def p(s):\n",
    "        if len(s) == 1:\n",
    "            return s\n",
    "        if e[0] == \"+\" or (e[0] in \"*-\" and s[0] in \"*/\"):\n",
    "            return format(s)\n",
    "        return \"(\" + format(s) + \")\"\n",
    "\n",
    "    return format(e[1]) + e[0] + p(e[2]) if len(e) == 3 else e\n",
    "\n",
    "\n",
    "def format_binary_expression(op, a, b):\n",
    "    def f(arg):\n",
    "        return arg if type(arg) == str else arg[1]\n",
    "\n",
    "    def p(arg):\n",
    "        if type(arg) == str or op == \"+\" or op in \"*-\" and arg[0] in \"*/\":\n",
    "            return f(arg)\n",
    "        return \"(\" + f(arg) + \")\"\n",
    "\n",
    "    return op, f(a) + op + p(b)"
   ]
  },
  {
   "cell_type": "code",
   "execution_count": 149,
   "metadata": {},
   "outputs": [
    {
     "data": {
      "text/plain": [
       "('-', ('-', 'a', 'b'), 'c')"
      ]
     },
     "execution_count": 149,
     "metadata": {},
     "output_type": "execute_result"
    }
   ],
   "source": [
    "parse_arithmetic_expression(\"a-b-c\")"
   ]
  },
  {
   "cell_type": "code",
   "execution_count": 136,
   "metadata": {},
   "outputs": [
    {
     "name": "stdout",
     "output_type": "stream",
     "text": [
      "A: ['A'], ['(']\n",
      "B: ['A', 'B'], ['(', '-']\n",
      "C: ['A', 'B', 'C'], ['(', '-', '-']\n",
      "): [('-', 'A-B-C')], []\n"
     ]
    },
    {
     "data": {
      "text/plain": [
       "'A-B-C'"
      ]
     },
     "execution_count": 136,
     "metadata": {},
     "output_type": "execute_result"
    }
   ],
   "source": [
    "parse(\"A-B-C\")"
   ]
  },
  {
   "cell_type": "code",
   "execution_count": 137,
   "metadata": {},
   "outputs": [
    {
     "name": "stdout",
     "output_type": "stream",
     "text": [
      "A: ['A'], ['(']\n",
      "B: ['A', 'B'], ['(', '+']\n",
      "C: ['A', ('*', 'B*C')], ['(', '+']\n",
      "): [('+', 'A+B*C')], []\n"
     ]
    },
    {
     "data": {
      "text/plain": [
       "'A+B*C'"
      ]
     },
     "execution_count": 137,
     "metadata": {},
     "output_type": "execute_result"
    }
   ],
   "source": [
    "e = parse(\"A+B*C\")\n",
    "e"
   ]
  },
  {
   "cell_type": "code",
   "execution_count": 138,
   "metadata": {},
   "outputs": [
    {
     "name": "stdout",
     "output_type": "stream",
     "text": [
      "A: ['A'], ['(', '(']\n",
      "B: ['A', 'B'], ['(', '(', '/', '(']\n",
      "C: ['A', ('*', 'B*C')], ['(', '(', '/', '(']\n",
      "): ['A', ('*', 'B*C')], ['(', '(', '/']\n",
      "): [('/', 'A/(B*C)')], ['(', '(']\n",
      "): [('/', 'A/(B*C)')], ['(']\n",
      "): [('/', 'A/(B*C)')], ['(']\n",
      "): [('/', 'A/(B*C)')], []\n"
     ]
    },
    {
     "data": {
      "text/plain": [
       "'A/(B*C)'"
      ]
     },
     "execution_count": 138,
     "metadata": {},
     "output_type": "execute_result"
    }
   ],
   "source": [
    "e = parse(\"(A/(B*C))\")\n",
    "e"
   ]
  },
  {
   "cell_type": "code",
   "execution_count": 139,
   "metadata": {},
   "outputs": [
    {
     "name": "stdout",
     "output_type": "stream",
     "text": [
      "A: ['A'], ['(']\n",
      "B: ['A', 'B'], ['(', '/', '(']\n",
      "C: ['A', ('/', 'B/C')], ['(', '/', '(']\n",
      "): ['A', ('/', 'B/C')], ['(', '/']\n",
      "): [('/', 'A/(B/C)')], ['(']\n",
      "): [('/', 'A/(B/C)')], []\n"
     ]
    },
    {
     "data": {
      "text/plain": [
       "'A/(B/C)'"
      ]
     },
     "execution_count": 139,
     "metadata": {},
     "output_type": "execute_result"
    }
   ],
   "source": [
    "e = parse(\"A/(B/C)\")\n",
    "e"
   ]
  },
  {
   "cell_type": "code",
   "execution_count": 140,
   "metadata": {},
   "outputs": [
    {
     "name": "stdout",
     "output_type": "stream",
     "text": [
      "X: ['X'], ['(']\n",
      "Y: [('/', 'X/Y')], ['(']\n",
      "Z: [('/', 'X/Y/Z')], ['(']\n",
      "A: [('/', 'X/Y/Z'), 'A'], ['(', '/', '(']\n",
      "B: [('/', 'X/Y/Z'), 'A', 'B'], ['(', '/', '(', '+']\n",
      "): [('/', 'X/Y/Z'), ('+', 'A+B')], ['(', '/']\n",
      "): [('/', 'X/Y/Z/(A+B)')], ['(']\n",
      "): [('/', 'X/Y/Z/(A+B)')], []\n"
     ]
    },
    {
     "data": {
      "text/plain": [
       "'X/Y/Z/(A+B)'"
      ]
     },
     "execution_count": 140,
     "metadata": {},
     "output_type": "execute_result"
    }
   ],
   "source": [
    "e = parse(\"X/Y/Z/(A+B)\")\n",
    "e"
   ]
  },
  {
   "cell_type": "code",
   "execution_count": 141,
   "metadata": {},
   "outputs": [
    {
     "name": "stdout",
     "output_type": "stream",
     "text": [
      "X: ['X'], ['(']\n",
      "Y: [('/', 'X/Y')], ['(']\n",
      "Z: [('/', 'X/Y'), 'Z'], ['(', '/', '(']\n",
      "A: [('/', 'X/Y'), 'Z', 'A'], ['(', '/', '(', '/', '(']\n",
      "B: [('/', 'X/Y'), 'Z', 'A', 'B'], ['(', '/', '(', '/', '(', '+']\n",
      "): [('/', 'X/Y'), 'Z', ('+', 'A+B')], ['(', '/', '(', '/']\n",
      "): [('/', 'X/Y'), ('/', 'Z/(A+B)')], ['(', '/', '(']\n",
      "): [('/', 'X/Y'), ('/', 'Z/(A+B)')], ['(', '/']\n",
      "): [('/', 'X/Y/(Z/(A+B))')], ['(']\n",
      "): [('/', 'X/Y/(Z/(A+B))')], []\n"
     ]
    },
    {
     "data": {
      "text/plain": [
       "'X/Y/(Z/(A+B))'"
      ]
     },
     "execution_count": 141,
     "metadata": {},
     "output_type": "execute_result"
    }
   ],
   "source": [
    "parse(\"X/Y/(Z/(A+B))\")"
   ]
  },
  {
   "cell_type": "code",
   "execution_count": 142,
   "metadata": {},
   "outputs": [
    {
     "name": "stdout",
     "output_type": "stream",
     "text": [
      "A: ['A'], ['(']\n",
      "B: ['A', 'B'], ['(', '-', '(']\n",
      "C: ['A', 'B', 'C'], ['(', '-', '(', '-']\n",
      "): ['A', ('-', 'B-C')], ['(', '-']\n",
      "): ['A', ('-', 'B-C')], ['(', '-']\n",
      "): [('-', 'A-(B-C)')], []\n"
     ]
    },
    {
     "data": {
      "text/plain": [
       "'A-(B-C)'"
      ]
     },
     "execution_count": 142,
     "metadata": {},
     "output_type": "execute_result"
    }
   ],
   "source": [
    "e = parse(\"A-(B-C)\")\n",
    "format(e)"
   ]
  },
  {
   "cell_type": "code",
   "execution_count": 143,
   "metadata": {},
   "outputs": [
    {
     "name": "stdout",
     "output_type": "stream",
     "text": [
      "A: ['A'], ['(']\n",
      "B: ['A', 'B'], ['(', '+', '(']\n",
      "C: ['A', 'B', 'C'], ['(', '+', '(', '-']\n",
      "): ['A', ('-', 'B-C')], ['(', '+']\n",
      "): ['A', ('-', 'B-C')], ['(', '+']\n",
      "): [('+', 'A+B-C')], []\n"
     ]
    },
    {
     "data": {
      "text/plain": [
       "'A+B-C'"
      ]
     },
     "execution_count": 143,
     "metadata": {},
     "output_type": "execute_result"
    }
   ],
   "source": [
    "e = parse(\"A+(B-C)\")\n",
    "format(e)"
   ]
  },
  {
   "cell_type": "code",
   "execution_count": null,
   "metadata": {},
   "outputs": [],
   "source": [
    "# Solution from https://auth.geeksforgeeks.org/user/husoski/practice\n",
    "\n",
    "import re\n",
    "\n",
    "\n",
    "class Solution:\n",
    "    # A very simple regex-based tokenizer:\n",
    "\n",
    "    def lexscan(self, source):\n",
    "        TOK_PAT = re.compile(\n",
    "            \"|\".join(\n",
    "                (\n",
    "                    r\"(?P<OP>[-+*/])\",\n",
    "                    r\"(?P<IDENT>[A-Z]+)\",\n",
    "                    r\"(?P<LPAR>\\()\",\n",
    "                    r\"(?P<RPAR>\\))\",\n",
    "                    r\"(?P<ERROR>.)\",\n",
    "                )\n",
    "            )\n",
    "        )\n",
    "\n",
    "        for m in TOK_PAT.finditer(source):\n",
    "            yield (m.lastgroup, m.group())\n",
    "\n",
    "    # Convert infix expression to postfix (\"reverse Polish\" form), using\n",
    "    # Dijkstra's \"shunting yard\" approach, with operator precedence:\n",
    "\n",
    "    def to_postfix(self, source):\n",
    "        precedence = {\"+\": 1, \"-\": 1, \"*\": 2, \"/\": 2, \"(\": 0}\n",
    "        op_stack = []\n",
    "        result = []\n",
    "        for ttyp, tstr in self.lexscan(source):\n",
    "            if ttyp == \"IDENT\":\n",
    "                result.append(tstr)\n",
    "            elif ttyp == \"LPAR\":\n",
    "                op_stack.append(\"(\")\n",
    "            elif ttyp == \"OP\":\n",
    "                prec = precedence[tstr]\n",
    "                while op_stack and precedence[op_stack[-1]] >= prec:\n",
    "                    result.append(op_stack.pop())\n",
    "                op_stack.append(tstr)\n",
    "            elif ttyp == \"RPAR\":\n",
    "                while op_stack and op_stack[-1] != \"(\":\n",
    "                    result.append(op_stack.pop())\n",
    "                op_stack.pop()\n",
    "            else:\n",
    "                raise RuntimeError(\"bad token: \" + tstr)\n",
    "\n",
    "        while op_stack:\n",
    "            op = op_stack.pop()\n",
    "            assert op != \"(\"\n",
    "            result.append(op)\n",
    "\n",
    "        return result\n",
    "\n",
    "    # Convert postfix (\"reverse Polish\") directly to infix.  Stack based approach since\n",
    "    # final testcase nesting is too deep for recursion using old Python 3.5 at GFG.\n",
    "    # (Increasing recursion limit leads to stack crash):\n",
    "\n",
    "    def postfix_to_infix(self, postfix):\n",
    "        # simulate evaluation of the postfix expression\n",
    "        stack = []\n",
    "        for tok in postfix:\n",
    "            if tok >= \"A\":\n",
    "                stack.append([tok, \"\"])\n",
    "            else:\n",
    "                op = tok\n",
    "                rhs, rhop = stack.pop()\n",
    "                lhs, lhop = stack.pop()\n",
    "\n",
    "                lhpar = rhpar = False  # default to no parentheses on lhs,rhs\n",
    "                if op == \"+\":\n",
    "                    if rhop == \"-\":\n",
    "                        op = \"-\"\n",
    "                elif op == \"-\":\n",
    "                    if rhop in (\"+\", \"-\"):\n",
    "                        rhpar = True\n",
    "                elif op == \"*\":\n",
    "                    if lhop in (\"+\", \"-\"):\n",
    "                        lhpar = True\n",
    "                    if rhop in (\"+\", \"-\"):\n",
    "                        rhpar = True\n",
    "                    elif rhop == \"/\":\n",
    "                        op = rhop\n",
    "                elif op == \"/\":\n",
    "                    if rhop in (\"+\", \"-\", \"*\", \"/\"):\n",
    "                        rhpar = True\n",
    "                else:\n",
    "                    0 / 0  ###TODO\n",
    "\n",
    "                if lhpar:\n",
    "                    lhs = lhs.join(\"()\")\n",
    "                if rhpar:\n",
    "                    rhs = rhs.join(\"()\")\n",
    "                stack.append([lhs + tok + rhs, op])\n",
    "\n",
    "        result, op = stack.pop()\n",
    "        assert stack == []\n",
    "        return result\n",
    "\n",
    "    def removeBrackets(self, Exp):\n",
    "        try:\n",
    "            postfix = self.to_postfix(Exp)\n",
    "            # print(*postfix)\n",
    "            result = self.postfix_to_infix(postfix)\n",
    "            return result\n",
    "\n",
    "        except:\n",
    "            import sys, traceback\n",
    "\n",
    "            _, e, tb = sys.exc_info()\n",
    "            print(e)\n",
    "            traceback.print_tb(tb, limit=2, file=sys.stdout)"
   ]
  }
 ],
 "metadata": {
  "kernelspec": {
   "display_name": "Python 3",
   "language": "python",
   "name": "python3"
  },
  "language_info": {
   "codemirror_mode": {
    "name": "ipython",
    "version": 3
   },
   "file_extension": ".py",
   "mimetype": "text/x-python",
   "name": "python",
   "nbconvert_exporter": "python",
   "pygments_lexer": "ipython3",
   "version": "3.10.12"
  }
 },
 "nbformat": 4,
 "nbformat_minor": 2
}
