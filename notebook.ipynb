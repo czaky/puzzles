{
 "cells": [
  {
   "cell_type": "code",
   "execution_count": 1,
   "metadata": {},
   "outputs": [
    {
     "name": "stdout",
     "output_type": "stream",
     "text": [
      "\n"
     ]
    }
   ],
   "source": [
    "# ruff: noqa: F401\n",
    "import math\n",
    "import sys\n",
    "from bisect import bisect_left, bisect_right\n",
    "from collections import Counter, deque\n",
    "from functools import cmp_to_key, lru_cache, reduce\n",
    "from heapq import heapify, heappop, heappush, heappushpop\n",
    "from importlib import reload\n",
    "from itertools import (\n",
    "    accumulate,\n",
    "    chain,\n",
    "    combinations,\n",
    "    islice,\n",
    "    pairwise,\n",
    "    permutations,\n",
    "    product,\n",
    "    starmap,\n",
    "    tee,\n",
    ")\n",
    "from math import comb, factorial, log, sqrt\n",
    "from operator import add, and_, contains, indexOf, itemgetter, neg, or_, xor\n",
    "from pprint import pprint\n",
    "from typing import Callable, Iterable, List, Tuple\n",
    "\n",
    "import matplotlib.pyplot as plt\n",
    "import numpy as np\n",
    "\n",
    "import arrays\n",
    "import graphs\n",
    "import lists\n",
    "import mathematics\n",
    "import matrix\n",
    "import parsing\n",
    "import search\n",
    "import sequences\n",
    "import sets\n",
    "import strings\n",
    "import trees\n",
    "from parsing import parse_arithmetic_expression\n",
    "from sequences import find_if\n",
    "\n",
    "for m in (\n",
    "    arrays,\n",
    "    trees,\n",
    "    lists,\n",
    "    graphs,\n",
    "    parsing,\n",
    "    search,\n",
    "    strings,\n",
    "    sets,\n",
    "    sequences,\n",
    "    matrix,\n",
    "    mathematics,\n",
    "):\n",
    "    reload(m)\n",
    "\n",
    "print()\n"
   ]
  },
  {
   "cell_type": "code",
   "execution_count": null,
   "metadata": {},
   "outputs": [],
   "source": [
    "def format_binary_operator_expression(e) -> str:\n",
    "    \"Format expressions consisting of (<operator>, <arg1>, <arg2>).\"\n",
    "    # This is a basic depth first algorithm.\n",
    "    # o = \"\"\n",
    "\n",
    "    def dfs(c):\n",
    "        s = []\n",
    "        while s or c:\n",
    "            while c:\n",
    "                s.append(c)\n",
    "                c = isinstance(c, str) and c[1]\n",
    "            c = s.pop()\n",
    "            yield c\n",
    "            c = isinstance(c, str) and c[2]\n",
    "\n",
    "    def p(s):\n",
    "        if len(s) == 1:\n",
    "            return s\n",
    "        if e[0] == \"+\" or (e[0] in \"*-\" and s[0] in \"*/\"):\n",
    "            return format(s)\n",
    "        return \"(\" + format(s) + \")\"\n",
    "\n",
    "    return format(e[1]) + e[0] + p(e[2]) if len(e) == 3 else e\n",
    "\n",
    "\n",
    "def format_binary_expression(op, a, b):\n",
    "    def f(arg):\n",
    "        return arg if isinstance(arg, str) else arg[1]\n",
    "\n",
    "    def p(arg):\n",
    "        if isinstance(arg, str) or op == \"+\" or op in \"*-\" and arg[0] in \"*/\":\n",
    "            return f(arg)\n",
    "        return \"(\" + f(arg) + \")\"\n",
    "\n",
    "    return op, f(a) + op + p(b)\n"
   ]
  },
  {
   "cell_type": "code",
   "execution_count": 12,
   "metadata": {},
   "outputs": [
    {
     "data": {
      "text/plain": [
       "('-', ('-', 'a', 'b'), 'c')"
      ]
     },
     "execution_count": 12,
     "metadata": {},
     "output_type": "execute_result"
    }
   ],
   "source": [
    "e = parse_arithmetic_expression(\"a-b-c\")\n",
    "e\n"
   ]
  },
  {
   "cell_type": "code",
   "execution_count": 13,
   "metadata": {},
   "outputs": [
    {
     "data": {
      "text/plain": [
       "('-', ('-', 'A', 'B'), 'C')"
      ]
     },
     "execution_count": 13,
     "metadata": {},
     "output_type": "execute_result"
    }
   ],
   "source": [
    "e = parse_arithmetic_expression(\"A-B-C\")\n",
    "e\n"
   ]
  },
  {
   "cell_type": "code",
   "execution_count": 14,
   "metadata": {},
   "outputs": [
    {
     "data": {
      "text/plain": [
       "('+', 'A', ('*', 'B', 'C'))"
      ]
     },
     "execution_count": 14,
     "metadata": {},
     "output_type": "execute_result"
    }
   ],
   "source": [
    "e = parse_arithmetic_expression(\"A+B*C\")\n",
    "e\n"
   ]
  },
  {
   "cell_type": "code",
   "execution_count": 15,
   "metadata": {},
   "outputs": [
    {
     "data": {
      "text/plain": [
       "('/', 'A', ('*', 'B', 'C'))"
      ]
     },
     "execution_count": 15,
     "metadata": {},
     "output_type": "execute_result"
    }
   ],
   "source": [
    "e = parse_arithmetic_expression(\"(A/(B*C))\")\n",
    "e\n"
   ]
  },
  {
   "cell_type": "code",
   "execution_count": 16,
   "metadata": {},
   "outputs": [
    {
     "data": {
      "text/plain": [
       "('/', 'A', ('/', 'B', 'C'))"
      ]
     },
     "execution_count": 16,
     "metadata": {},
     "output_type": "execute_result"
    }
   ],
   "source": [
    "e = parse_arithmetic_expression(\"A/(B/C)\")\n",
    "e\n"
   ]
  },
  {
   "cell_type": "code",
   "execution_count": 17,
   "metadata": {},
   "outputs": [
    {
     "data": {
      "text/plain": [
       "('/', ('/', ('/', 'X', 'Y'), 'Z'), ('+', 'A', 'B'))"
      ]
     },
     "execution_count": 17,
     "metadata": {},
     "output_type": "execute_result"
    }
   ],
   "source": [
    "e = parse_arithmetic_expression(\"X/Y/Z/(A+B)\")\n",
    "e\n"
   ]
  },
  {
   "cell_type": "code",
   "execution_count": 18,
   "metadata": {},
   "outputs": [
    {
     "data": {
      "text/plain": [
       "('/', ('/', 'X', 'Y'), ('/', 'Z', ('+', 'A', 'B')))"
      ]
     },
     "execution_count": 18,
     "metadata": {},
     "output_type": "execute_result"
    }
   ],
   "source": [
    "e = parse_arithmetic_expression(\"X/Y/(Z/(A+B))\")\n",
    "e\n"
   ]
  },
  {
   "cell_type": "code",
   "execution_count": 19,
   "metadata": {},
   "outputs": [
    {
     "data": {
      "text/plain": [
       "('-', 'A', ('-', 'B', 'C'))"
      ]
     },
     "execution_count": 19,
     "metadata": {},
     "output_type": "execute_result"
    }
   ],
   "source": [
    "e = parse_arithmetic_expression(\"A-(B-C)\")\n",
    "e\n"
   ]
  },
  {
   "cell_type": "code",
   "execution_count": 20,
   "metadata": {},
   "outputs": [
    {
     "data": {
      "text/plain": [
       "('+', 'A', ('-', 'B', 'C'))"
      ]
     },
     "execution_count": 20,
     "metadata": {},
     "output_type": "execute_result"
    }
   ],
   "source": [
    "e = parse_arithmetic_expression(\"A+(B-C)\")\n",
    "e\n"
   ]
  }
 ],
 "metadata": {
  "kernelspec": {
   "display_name": "Python 3",
   "language": "python",
   "name": "python3"
  },
  "language_info": {
   "codemirror_mode": {
    "name": "ipython",
    "version": 3
   },
   "file_extension": ".py",
   "mimetype": "text/x-python",
   "name": "python",
   "nbconvert_exporter": "python",
   "pygments_lexer": "ipython3",
   "version": "3.10.12"
  }
 },
 "nbformat": 4,
 "nbformat_minor": 2
}
