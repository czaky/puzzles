{
 "cells": [
  {
   "cell_type": "markdown",
   "metadata": {},
   "source": [
    "## Imports"
   ]
  },
  {
   "cell_type": "code",
   "execution_count": 19,
   "metadata": {
    "metadata": {}
   },
   "outputs": [
    {
     "name": "stdout",
     "output_type": "stream",
     "text": [
      "The autoreload extension is already loaded. To reload it, use:\n",
      "  %reload_ext autoreload\n",
      "\n"
     ]
    }
   ],
   "source": [
    "# ruff: noqa: F401, E402, T201, T203, D103\n",
    "from __future__ import annotations\n",
    "\n",
    "%load_ext autoreload\n",
    "%autoreload 2\n",
    "\n",
    "\n",
    "import math\n",
    "import sys\n",
    "import time\n",
    "from bisect import bisect_left, bisect_right\n",
    "from collections import Counter, deque\n",
    "from functools import cmp_to_key, lru_cache, reduce\n",
    "from heapq import heapify, heappop, heappush, heappushpop, nsmallest\n",
    "from importlib import reload\n",
    "from itertools import (\n",
    "  accumulate,\n",
    "  chain,\n",
    "  combinations,\n",
    "  islice,\n",
    "  pairwise,\n",
    "  permutations,\n",
    "  product,\n",
    "  repeat,\n",
    "  starmap,\n",
    "  tee,\n",
    ")\n",
    "from math import comb, exp, factorial, inf, log, prod, sqrt\n",
    "from operator import add, and_, contains, indexOf, itemgetter, mul, neg, or_, xor\n",
    "from pprint import pformat, pprint\n",
    "\n",
    "import matplotlib.pyplot as plt\n",
    "import networkx as nx\n",
    "import numpy as np\n",
    "from IPython.display import HTML, clear_output\n",
    "\n",
    "import arrays\n",
    "import bits\n",
    "import combinatorics\n",
    "import graphs\n",
    "import grid\n",
    "import lists\n",
    "import mathematics\n",
    "import matrix\n",
    "import parsing\n",
    "import search\n",
    "import sequences\n",
    "import sets\n",
    "import stack\n",
    "import strings\n",
    "import trees\n",
    "from combinatorics import fib\n",
    "from mathematics import prime_numbers as primes\n",
    "from sequences import find_if\n",
    "from strings import splint\n",
    "\n",
    "np.set_printoptions(linewidth=110)\n",
    "print()"
   ]
  },
  {
   "cell_type": "markdown",
   "metadata": {},
   "source": [
    "## Solutions"
   ]
  },
  {
   "cell_type": "code",
   "execution_count": 398,
   "metadata": {},
   "outputs": [],
   "source": [
    "A = splint(\"\"\"380 705 706 177 710 416 853 147 957 693 631 891 287 277 976 210 876 77 205 172 741 810 959 399 710 157 222 934 887 413 617 72 503 390 489 373 34 944 719 832 726 115 803 827 920 306 455 104 956 301 3 980 812 739 634 25 408 319 213 684 335 371 574 595 965 186 784 43 70 859 261 153 595 531 424 280 874 897 588 251 482 560 940 395 63 129 389 91 498 919 721 994 461 303 885 288 990 311 901 445 10 542 55 271 348 389 645 826 310 765 271 996 383 728 360 41 581 444 24 781 781 678 10 729 937 851 286 904 745 61 754 569 837 771 429 695 874 682 380 544 411 779 312 35 994 685 207 510 711 309 91 167 232 90 480 721 226 350 193 81 735 202 318 377 256 785 391 292 700 945 444 251 386 741 271 184 828 694 26 434 821 42 590 440 236 501 291 769 49 832 7 579 175 656 169 635 298 985 933 580 764 562 181 35 3 610 621 379 732 259 655 644 838 358 969 146 48 799 44 947 149 722 342 744 386 814 714 776 252 698 727 665 943 157 838 952 981 810 584 675 267 732 304 478 643 734 428 483 101 647 561 61 295 139 263 342 863 917 427 271 430 948 197 769 455 971 425 794 368 926 601 714 865 706 779 6 211 972 79 236 699 557 340 656 278 900 283 190 743 516 683 562 399 151 447 5 692 19 853 856 237 469 793 558 365 388 418 573 239 871 18 541 553 585 171 780 683 747\"\"\")"
   ]
  },
  {
   "cell_type": "code",
   "execution_count": 408,
   "metadata": {},
   "outputs": [],
   "source": [
    "def min_tower_diff(a: list, k: int) -> int:\n",
    "  a = sorted(a)\n",
    "  diff = a[-1] - a[0]\n",
    "  first = a[0] + k\n",
    "  last = a[-1] - k\n",
    "  start = next((i for i, v in enumerate(a) if v >= k), len(a))\n",
    "  print(start)\n",
    "  for i in range(start, len(a)):\n",
    "    mn = min(first, a[i]   - k)\n",
    "    mx = max(last,  a[i-1] + k)\n",
    "    diff = min(diff, mx - mn)\n",
    "  return diff"
   ]
  },
  {
   "cell_type": "code",
   "execution_count": 409,
   "metadata": {},
   "outputs": [
    {
     "name": "stdout",
     "output_type": "stream",
     "text": [
      "156\n"
     ]
    },
    {
     "data": {
      "text/plain": [
       "973"
      ]
     },
     "execution_count": 409,
     "metadata": {},
     "output_type": "execute_result"
    }
   ],
   "source": [
    "min_tower_diff(A, 494)"
   ]
  },
  {
   "cell_type": "code",
   "execution_count": 411,
   "metadata": {},
   "outputs": [
    {
     "name": "stdout",
     "output_type": "stream",
     "text": [
      "0\n"
     ]
    },
    {
     "data": {
      "text/plain": [
       "4"
      ]
     },
     "execution_count": 411,
     "metadata": {},
     "output_type": "execute_result"
    }
   ],
   "source": [
    "min_tower_diff([2, 5, 8, 10], 2)"
   ]
  },
  {
   "cell_type": "code",
   "execution_count": 407,
   "metadata": {},
   "outputs": [
    {
     "data": {
      "text/plain": [
       "11"
      ]
     },
     "execution_count": 407,
     "metadata": {},
     "output_type": "execute_result"
    }
   ],
   "source": [
    "min_tower_diff([3, 9, 12, 16, 20], 3)"
   ]
  },
  {
   "cell_type": "code",
   "execution_count": 377,
   "metadata": {},
   "outputs": [],
   "source": [
    "def kth_smallest_heap(a: list, k: int) -> int:\n",
    "  h = []\n",
    "  for e in a:\n",
    "    heappush(h, -e)\n",
    "    if len(h) > k:\n",
    "      heappop(h)\n",
    "  return -heappop(h)\n"
   ]
  },
  {
   "cell_type": "code",
   "execution_count": 382,
   "metadata": {},
   "outputs": [],
   "source": [
    "def kth_smallest_hash(a: list, k: int) -> int:\n",
    "  c = Counter(a)\n",
    "  mx = max(a)\n",
    "  s = 0\n",
    "  for e in range(mx + 1):\n",
    "    s += c[e]\n",
    "    if s >= k:\n",
    "      return e\n",
    "  return -1\n"
   ]
  },
  {
   "cell_type": "code",
   "execution_count": 383,
   "metadata": {},
   "outputs": [
    {
     "data": {
      "text/plain": [
       "7"
      ]
     },
     "execution_count": 383,
     "metadata": {},
     "output_type": "execute_result"
    }
   ],
   "source": [
    "kth_smallest([7, 10, 4, 3, 20, 15], 3)"
   ]
  },
  {
   "cell_type": "code",
   "execution_count": 384,
   "metadata": {},
   "outputs": [
    {
     "data": {
      "text/plain": [
       "15"
      ]
     },
     "execution_count": 384,
     "metadata": {},
     "output_type": "execute_result"
    }
   ],
   "source": [
    "kth_smallest([2, 3, 1, 20, 15], 4)"
   ]
  },
  {
   "cell_type": "code",
   "execution_count": 374,
   "metadata": {},
   "outputs": [],
   "source": [
    "def majority_element(a: list) -> int:\n",
    "  n2 = len(a) // 2\n",
    "  return next((v for v, c in Counter(a).items() if c > n2), -1)"
   ]
  },
  {
   "cell_type": "code",
   "execution_count": 376,
   "metadata": {},
   "outputs": [
    {
     "data": {
      "text/plain": [
       "7"
      ]
     },
     "execution_count": 376,
     "metadata": {},
     "output_type": "execute_result"
    }
   ],
   "source": [
    "majority_element([7, 7, 13])"
   ]
  },
  {
   "cell_type": "code",
   "execution_count": 363,
   "metadata": {},
   "outputs": [],
   "source": [
    "def min_jumps(a: list) -> int:\n",
    "  jumps = 0\n",
    "  j, k, n = 0, 0, len(a)\n",
    "  for i in range(n):\n",
    "    k = max(k, a[i] + i)\n",
    "    if i != j:\n",
    "      continue\n",
    "    jumps += 1\n",
    "    if k >= n - 1:\n",
    "      return jumps\n",
    "    if k == i:\n",
    "      return -1\n",
    "    j = k\n",
    "  return jumps"
   ]
  },
  {
   "cell_type": "code",
   "execution_count": 364,
   "metadata": {},
   "outputs": [
    {
     "data": {
      "text/plain": [
       "3"
      ]
     },
     "execution_count": 364,
     "metadata": {},
     "output_type": "execute_result"
    }
   ],
   "source": [
    "min_jumps([1, 3, 5, 8, 9, 2, 6, 7, 6, 8, 9])"
   ]
  },
  {
   "cell_type": "code",
   "execution_count": 361,
   "metadata": {},
   "outputs": [
    {
     "data": {
      "text/plain": [
       "2"
      ]
     },
     "execution_count": 361,
     "metadata": {},
     "output_type": "execute_result"
    }
   ],
   "source": [
    "min_jumps([1, 4, 3, 2, 6, 7])"
   ]
  },
  {
   "cell_type": "code",
   "execution_count": 362,
   "metadata": {},
   "outputs": [
    {
     "data": {
      "text/plain": [
       "-1"
      ]
     },
     "execution_count": 362,
     "metadata": {},
     "output_type": "execute_result"
    }
   ],
   "source": [
    "min_jumps([1, 0, 1, 4, 3, 2, 6, 7])"
   ]
  },
  {
   "cell_type": "code",
   "execution_count": null,
   "metadata": {},
   "outputs": [],
   "source": [
    "A_ = \"-3124 7857 8471 1364 -1986 -9522 -3419 2585 7452 -5980 5454 2517 972 -5808 -175 -5897 -5336 -8614 -7226 8321 1755 -6811 -5172 -7754 -6642 8594 -6916 -1680 -8412 2528 -2118 -8588 -9886 -9806 -9513 4768 -3403 3673 784 -8983 -724 -7607 -3462 -244 -4851 2285 -3781 -4900 -7769 -960 536 -8452 -4765 4125 -1484 7505 1634 -7634 -5223 5430 -7233 -660 -4911 1808 -6658 6538 282 -6235 -4543 -6202 -4615 -2967 533 -7894 -5303 -6023 -9003 3253 -7358 -2102 7664 -4368 -6546 -7676\".split()  # noqa: E501\n",
    "A = list(map(int, A_))\n"
   ]
  },
  {
   "cell_type": "code",
   "execution_count": 10,
   "metadata": {},
   "outputs": [],
   "source": [
    "def kadane(a: list[int]) -> int:\n",
    "  mx = max(a)\n",
    "  return max(accumulate(A, lambda x, y: max(0, x + y), initial=0)) if mx > 0 else mx"
   ]
  },
  {
   "cell_type": "code",
   "execution_count": 11,
   "metadata": {},
   "outputs": [
    {
     "data": {
      "text/plain": [
       "17692"
      ]
     },
     "execution_count": 11,
     "metadata": {},
     "output_type": "execute_result"
    }
   ],
   "source": [
    "kadane(A)"
   ]
  },
  {
   "cell_type": "code",
   "execution_count": 198,
   "metadata": {},
   "outputs": [],
   "source": [
    "def sub_array_sum(a: list, target: int) -> tuple:\n",
    "  s = 0\n",
    "  h = {}\n",
    "  for j in range(len(a)):\n",
    "    h[s] = j + 1\n",
    "    s += a[j]\n",
    "    i = h.get(s - target)\n",
    "    if i:\n",
    "      return i, j + 1\n",
    "  return (-1,)"
   ]
  },
  {
   "cell_type": "code",
   "execution_count": 199,
   "metadata": {},
   "outputs": [
    {
     "data": {
      "text/plain": [
       "(2, 4)"
      ]
     },
     "execution_count": 199,
     "metadata": {},
     "output_type": "execute_result"
    }
   ],
   "source": [
    "sub_array_sum([1, 2, 3, 7, 5], target=12)"
   ]
  },
  {
   "cell_type": "code",
   "execution_count": 195,
   "metadata": {},
   "outputs": [
    {
     "data": {
      "text/plain": [
       "(1, 5)"
      ]
     },
     "execution_count": 195,
     "metadata": {},
     "output_type": "execute_result"
    }
   ],
   "source": [
    "sub_array_sum([1, 2, 3, 4, 5, 6, 7, 8, 9, 10], target=15)"
   ]
  },
  {
   "cell_type": "code",
   "execution_count": 196,
   "metadata": {},
   "outputs": [
    {
     "data": {
      "text/plain": [
       "(2, 2)"
      ]
     },
     "execution_count": 196,
     "metadata": {},
     "output_type": "execute_result"
    }
   ],
   "source": [
    "sub_array_sum([7, 2, 1], target=2)"
   ]
  },
  {
   "cell_type": "code",
   "execution_count": 197,
   "metadata": {},
   "outputs": [
    {
     "data": {
      "text/plain": [
       "(2, 6)"
      ]
     },
     "execution_count": 197,
     "metadata": {},
     "output_type": "execute_result"
    }
   ],
   "source": [
    "sub_array_sum(splint(\"12 18 5 11 30 5\"), target=69)"
   ]
  }
 ],
 "metadata": {
  "kernelspec": {
   "display_name": ".venv",
   "language": "python",
   "name": "python3"
  },
  "language_info": {
   "codemirror_mode": {
    "name": "ipython",
    "version": 3
   },
   "file_extension": ".py",
   "mimetype": "text/x-python",
   "name": "python",
   "nbconvert_exporter": "python",
   "pygments_lexer": "ipython3",
   "version": "3.10.7"
  }
 },
 "nbformat": 4,
 "nbformat_minor": 2
}
