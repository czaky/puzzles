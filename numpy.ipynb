{
 "cells": [
  {
   "cell_type": "code",
   "execution_count": 45,
   "metadata": {},
   "outputs": [],
   "source": [
    "# ruff: noqa: F401, E402, T201, T203, D103, B015, B018\n",
    "from __future__ import annotations\n",
    "\n",
    "import secrets\n",
    "from typing import Any, Iterable, Sequence\n",
    "\n",
    "import matplotlib.pyplot as plt\n",
    "import networkx as nx\n",
    "import numba as nb\n",
    "import numpy as np\n",
    "import seaborn as sns\n",
    "from IPython.core.interactiveshell import InteractiveShell\n",
    "from numpy import dtype, ma, ndarray\n",
    "\n",
    "InteractiveShell.ast_node_interactivity = \"all\""
   ]
  },
  {
   "cell_type": "markdown",
   "metadata": {},
   "source": [
    "## Basics"
   ]
  },
  {
   "cell_type": "code",
   "execution_count": 6,
   "metadata": {},
   "outputs": [
    {
     "data": {
      "text/plain": [
       "array([[0., 0., 0., 0., 0.],\n",
       "       [0., 0., 0., 0., 0.],\n",
       "       [0., 0., 0., 0., 0.]])"
      ]
     },
     "execution_count": 6,
     "metadata": {},
     "output_type": "execute_result"
    },
    {
     "data": {
      "text/plain": [
       "array([[42, 42, 42, 42, 42],\n",
       "       [42, 42, 42, 42, 42],\n",
       "       [42, 42, 42, 42, 42]])"
      ]
     },
     "execution_count": 6,
     "metadata": {},
     "output_type": "execute_result"
    },
    {
     "data": {
      "text/plain": [
       "array([[0., 0., 0., 0., 0.],\n",
       "       [0., 0., 0., 0., 0.],\n",
       "       [0., 0., 0., 0., 0.]])"
      ]
     },
     "execution_count": 6,
     "metadata": {},
     "output_type": "execute_result"
    },
    {
     "data": {
      "text/plain": [
       "array([[1., 1., 1., 1., 1.],\n",
       "       [1., 1., 1., 1., 1.],\n",
       "       [1., 1., 1., 1., 1.]])"
      ]
     },
     "execution_count": 6,
     "metadata": {},
     "output_type": "execute_result"
    }
   ],
   "source": [
    "np.empty((3, 5))\n",
    "np.full((3, 5), 42)\n",
    "np.zeros((3, 5))\n",
    "np.ones((3, 5))"
   ]
  },
  {
   "cell_type": "markdown",
   "metadata": {},
   "source": [
    "## Check if vector is in the array"
   ]
  },
  {
   "cell_type": "markdown",
   "metadata": {},
   "source": [
    "### Naive"
   ]
  },
  {
   "cell_type": "code",
   "execution_count": 22,
   "metadata": {},
   "outputs": [
    {
     "data": {
      "text/plain": [
       "array([[ 0,  1,  2,  3,  4],\n",
       "       [ 5,  6,  7,  8,  9],\n",
       "       [10, 11, 12, 13, 14]])"
      ]
     },
     "execution_count": 22,
     "metadata": {},
     "output_type": "execute_result"
    },
    {
     "data": {
      "text/plain": [
       "True"
      ]
     },
     "execution_count": 22,
     "metadata": {},
     "output_type": "execute_result"
    },
    {
     "data": {
      "text/plain": [
       "True"
      ]
     },
     "execution_count": 22,
     "metadata": {},
     "output_type": "execute_result"
    },
    {
     "data": {
      "text/plain": [
       "True"
      ]
     },
     "execution_count": 22,
     "metadata": {},
     "output_type": "execute_result"
    },
    {
     "data": {
      "text/plain": [
       "False"
      ]
     },
     "execution_count": 22,
     "metadata": {},
     "output_type": "execute_result"
    },
    {
     "name": "stdout",
     "output_type": "stream",
     "text": [
      "tolist\n"
     ]
    },
    {
     "data": {
      "text/plain": [
       "True"
      ]
     },
     "execution_count": 22,
     "metadata": {},
     "output_type": "execute_result"
    },
    {
     "data": {
      "text/plain": [
       "False"
      ]
     },
     "execution_count": 22,
     "metadata": {},
     "output_type": "execute_result"
    },
    {
     "data": {
      "text/plain": [
       "False"
      ]
     },
     "execution_count": 22,
     "metadata": {},
     "output_type": "execute_result"
    }
   ],
   "source": [
    "# Determine if a vector is in NDarray\n",
    "a = np.arange(15).reshape((3, 5))\n",
    "a\n",
    "[0, 1, 2, 3, 4] in a  # Any\n",
    "(25, 1, 2, 3, 4) in a  # Any\n",
    "14 in a\n",
    "25 in a\n",
    "print(\"tolist\")\n",
    "[0, 1, 2, 3, 4] in a.tolist()\n",
    "(0, 1, 2, 3, 4) in a.tolist()\n",
    "[1, 1, 2, 3, 4] in a.tolist()"
   ]
  },
  {
   "cell_type": "markdown",
   "metadata": {},
   "source": [
    "### Rabin-Karp"
   ]
  },
  {
   "cell_type": "code",
   "execution_count": null,
   "metadata": {},
   "outputs": [],
   "source": [
    "@nb.jit\n",
    "def sum_hash(it: Iterable) -> int:\n",
    "    s: int = 0\n",
    "    for e in it:\n",
    "        s += hash(e)\n",
    "    return s\n",
    "\n",
    "@nb.jit\n",
    "def match(seq: ndarray, subseq: ndarray, start: int) -> bool:\n",
    "    return np.array_equal(seq[start : start + len(subseq)], subseq)"
   ]
  },
  {
   "cell_type": "code",
   "execution_count": null,
   "metadata": {},
   "outputs": [],
   "source": [
    "@nb.jit\n",
    "def find_rk(seq: ndarray, subseq: ndarray) -> None:\n",
    "    n: int = len(seq)\n",
    "    m: int = len(subseq)\n",
    "    h1: int = sum_hash(seq[:m])\n",
    "    h2: int = sum_hash(subseq)\n",
    "    if h1 == h2 and match(seq, subseq, 0):\n",
    "        yield 0\n",
    "    for i in range(n - m):\n",
    "        h1 += hash(seq[i + m]) - hash(seq[i])\n",
    "        if h1 == h2 and match(seq, subseq, i + 1):\n",
    "            yield i + 1"
   ]
  },
  {
   "cell_type": "code",
   "execution_count": 124,
   "metadata": {},
   "outputs": [
    {
     "data": {
      "text/plain": [
       "[1, 5, 8, 10]"
      ]
     },
     "execution_count": 124,
     "metadata": {},
     "output_type": "execute_result"
    }
   ],
   "source": [
    "seq: ndarray = np.array([[1, 2, 3, 4], [5, 2, 3, 1], [2, 3, 2, 3]]).flatten()\n",
    "list(find_rk(seq, np.array([2, 3])))"
   ]
  },
  {
   "cell_type": "markdown",
   "metadata": {},
   "source": [
    "## NA Rows / Columns"
   ]
  },
  {
   "cell_type": "code",
   "execution_count": 26,
   "metadata": {},
   "outputs": [
    {
     "data": {
      "text/plain": [
       "array([[ 0.,  1.,  2.,  3.,  4.],\n",
       "       [ 5.,  6., nan,  8.,  9.],\n",
       "       [10., 11., 12., 13., 14.]])"
      ]
     },
     "execution_count": 26,
     "metadata": {},
     "output_type": "execute_result"
    },
    {
     "data": {
      "text/plain": [
       "masked_array(\n",
       "  data=[[0.0, 1.0, 2.0, 3.0, 4.0],\n",
       "        [5.0, 6.0, --, 8.0, 9.0],\n",
       "        [10.0, 11.0, 12.0, 13.0, 14.0]],\n",
       "  mask=[[False, False, False, False, False],\n",
       "        [False, False,  True, False, False],\n",
       "        [False, False, False, False, False]],\n",
       "  fill_value=1e+20)"
      ]
     },
     "execution_count": 26,
     "metadata": {},
     "output_type": "execute_result"
    },
    {
     "data": {
      "text/plain": [
       "masked_array(\n",
       "  data=[[0.0, 1.0, 2.0, 3.0, 4.0],\n",
       "        [--, --, --, --, --],\n",
       "        [10.0, 11.0, 12.0, 13.0, 14.0]],\n",
       "  mask=[[False, False, False, False, False],\n",
       "        [ True,  True,  True,  True,  True],\n",
       "        [False, False, False, False, False]],\n",
       "  fill_value=1e+20)"
      ]
     },
     "execution_count": 26,
     "metadata": {},
     "output_type": "execute_result"
    },
    {
     "data": {
      "text/plain": [
       "array([[ 0.,  1.,  2.,  3.,  4.],\n",
       "       [10., 11., 12., 13., 14.]])"
      ]
     },
     "execution_count": 26,
     "metadata": {},
     "output_type": "execute_result"
    },
    {
     "data": {
      "text/plain": [
       "masked_array(\n",
       "  data=[[0.0, 1.0, --, 3.0, 4.0],\n",
       "        [5.0, 6.0, --, 8.0, 9.0],\n",
       "        [10.0, 11.0, --, 13.0, 14.0]],\n",
       "  mask=[[False, False,  True, False, False],\n",
       "        [False, False,  True, False, False],\n",
       "        [False, False,  True, False, False]],\n",
       "  fill_value=1e+20)"
      ]
     },
     "execution_count": 26,
     "metadata": {},
     "output_type": "execute_result"
    },
    {
     "data": {
      "text/plain": [
       "array([[ 0.,  1.,  3.,  4.],\n",
       "       [ 5.,  6.,  8.,  9.],\n",
       "       [10., 11., 13., 14.]])"
      ]
     },
     "execution_count": 26,
     "metadata": {},
     "output_type": "execute_result"
    },
    {
     "data": {
      "text/plain": [
       "masked_array(\n",
       "  data=[[0.0, 1.0, --, 3.0, 4.0],\n",
       "        [--, --, --, --, --],\n",
       "        [10.0, 11.0, --, 13.0, 14.0]],\n",
       "  mask=[[False, False,  True, False, False],\n",
       "        [ True,  True,  True,  True,  True],\n",
       "        [False, False,  True, False, False]],\n",
       "  fill_value=1e+20)"
      ]
     },
     "execution_count": 26,
     "metadata": {},
     "output_type": "execute_result"
    },
    {
     "data": {
      "text/plain": [
       "array([[ 0.,  1.,  3.,  4.],\n",
       "       [10., 11., 13., 14.]])"
      ]
     },
     "execution_count": 26,
     "metadata": {},
     "output_type": "execute_result"
    }
   ],
   "source": [
    "# Remove rows or columns with invalid (nan, inf) values\n",
    "a = np.array([[0, 1, 2, 3, 4], [5, 6, np.nan, 8, 9], [10, 11, 12, 13, 14]])\n",
    "a\n",
    "m = ma.masked_invalid(a)\n",
    "m\n",
    "r = ma.mask_rows(m)\n",
    "r\n",
    "r = ma.compress_rows(m)\n",
    "r\n",
    "c = ma.mask_cols(m)\n",
    "c\n",
    "c = ma.compress_cols(m)\n",
    "c\n",
    "rc = ma.mask_rowcols(m)\n",
    "rc\n",
    "rc = ma.compress_rowcols(m)\n",
    "rc"
   ]
  },
  {
   "cell_type": "markdown",
   "metadata": {},
   "source": [
    "## Remove dimensions of size 1"
   ]
  },
  {
   "cell_type": "code",
   "execution_count": 122,
   "metadata": {},
   "outputs": [
    {
     "data": {
      "text/plain": [
       "array([[[ 0,  1,  2,  3,  4],\n",
       "        [ 5,  6,  7,  8,  9],\n",
       "        [10, 11, 12, 13, 14]]])"
      ]
     },
     "execution_count": 122,
     "metadata": {},
     "output_type": "execute_result"
    },
    {
     "data": {
      "text/plain": [
       "array([[ 0,  1,  2,  3,  4],\n",
       "       [ 5,  6,  7,  8,  9],\n",
       "       [10, 11, 12, 13, 14]])"
      ]
     },
     "execution_count": 122,
     "metadata": {},
     "output_type": "execute_result"
    }
   ],
   "source": [
    "a = np.arange(15).reshape((1, 3, 5))\n",
    "a\n",
    "a.squeeze()"
   ]
  },
  {
   "cell_type": "markdown",
   "metadata": {},
   "source": [
    "## Most Frequent Value"
   ]
  },
  {
   "cell_type": "code",
   "execution_count": 133,
   "metadata": {},
   "outputs": [
    {
     "data": {
      "text/plain": [
       "array([[1, 2, 2, 2, 4],\n",
       "       [3, 4, 2, 5, 1],\n",
       "       [5, 2, 7, 8, 9]])"
      ]
     },
     "execution_count": 133,
     "metadata": {},
     "output_type": "execute_result"
    },
    {
     "data": {
      "text/plain": [
       "array([0, 2, 5, 1, 2, 2, 0, 1, 1, 1])"
      ]
     },
     "execution_count": 133,
     "metadata": {},
     "output_type": "execute_result"
    },
    {
     "data": {
      "text/plain": [
       "2"
      ]
     },
     "execution_count": 133,
     "metadata": {},
     "output_type": "execute_result"
    }
   ],
   "source": [
    "a: ndarray = np.array([[1, 2, 2, 2, 4], [3, 4, 2, 5, 1], [5, 2, 7, 8, 9]])\n",
    "a\n",
    "bc = np.bincount(a.flat)\n",
    "bc\n",
    "bc.argmax()"
   ]
  },
  {
   "cell_type": "markdown",
   "metadata": {},
   "source": [
    "## Combine 1D and 2D array"
   ]
  },
  {
   "cell_type": "code",
   "execution_count": null,
   "metadata": {},
   "outputs": [],
   "source": []
  }
 ],
 "metadata": {
  "kernelspec": {
   "display_name": ".venv",
   "language": "python",
   "name": "python3"
  },
  "language_info": {
   "codemirror_mode": {
    "name": "ipython",
    "version": 3
   },
   "file_extension": ".py",
   "mimetype": "text/x-python",
   "name": "python",
   "nbconvert_exporter": "python",
   "pygments_lexer": "ipython3",
   "version": "3.10.12"
  }
 },
 "nbformat": 4,
 "nbformat_minor": 2
}
